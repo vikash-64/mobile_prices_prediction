{
 "cells": [
  {
   "attachments": {},
   "cell_type": "markdown",
   "id": "ada52c3f",
   "metadata": {
    "papermill": {
     "duration": 0.008392,
     "end_time": "2023-04-13T22:17:03.685233",
     "exception": false,
     "start_time": "2023-04-13T22:17:03.676841",
     "status": "completed"
    },
    "tags": []
   },
   "source": [
    "# About the dataset \n",
    "The dataset seems to contain information about different mobile phone models along with their specifications such as price, rating, sim type, processor, RAM, battery, display, camera, memory card support, and operating syste \n"
   ]
  },
  {
   "attachments": {},
   "cell_type": "markdown",
   "id": "dbe1700c",
   "metadata": {},
   "source": [
    "# Load Required Libraries  "
   ]
  },
  {
   "cell_type": "code",
   "execution_count": 1,
   "id": "41aa3551",
   "metadata": {
    "execution": {
     "iopub.execute_input": "2023-04-13T22:17:03.722833Z",
     "iopub.status.busy": "2023-04-13T22:17:03.721742Z",
     "iopub.status.idle": "2023-04-13T22:17:07.059711Z",
     "shell.execute_reply": "2023-04-13T22:17:07.058246Z"
    },
    "papermill": {
     "duration": 3.35189,
     "end_time": "2023-04-13T22:17:07.063317",
     "exception": false,
     "start_time": "2023-04-13T22:17:03.711427",
     "status": "completed"
    },
    "tags": []
   },
   "outputs": [],
   "source": [
    "import pandas as pd\n",
    "import numpy as np\n",
    "\n",
    "import re\n",
    "\n",
    "from colorama import Style, Fore\n",
    "red = Style.BRIGHT + Fore.RED\n",
    "blu = Style.BRIGHT + Fore.BLUE\n",
    "mgt = Style.BRIGHT + Fore.MAGENTA\n",
    "grn = Style.BRIGHT + Fore.GREEN\n",
    "gld = Style.BRIGHT + Fore.YELLOW\n",
    "res = Style.RESET_ALL\n",
    "\n",
    "\n",
    "import matplotlib.pyplot as plt\n",
    "import seaborn as sns\n",
    "import plotly.express as px"
   ]
  },
  {
   "attachments": {},
   "cell_type": "markdown",
   "id": "b2c17333",
   "metadata": {},
   "source": [
    "# Color Pallets "
   ]
  },
  {
   "cell_type": "code",
   "execution_count": 2,
   "id": "fc5b37b6",
   "metadata": {
    "execution": {
     "iopub.execute_input": "2023-04-13T22:17:07.101343Z",
     "iopub.status.busy": "2023-04-13T22:17:07.100841Z",
     "iopub.status.idle": "2023-04-13T22:17:07.107584Z",
     "shell.execute_reply": "2023-04-13T22:17:07.106106Z"
    },
    "papermill": {
     "duration": 0.01982,
     "end_time": "2023-04-13T22:17:07.110586",
     "exception": false,
     "start_time": "2023-04-13T22:17:07.090766",
     "status": "completed"
    },
    "tags": []
   },
   "outputs": [],
   "source": [
    "# Colors\n",
    "\n",
    "CMAP_PALLET = ['#003f5c','#2f4b7c','#665191','#a05195','#d45087','#f95d6a','#ff7c43','#ffa600']\n",
    "\n",
    "BG_WHITE = \"#F3F1ED\"\n",
    "GREY_LIGHT = \"#b4aea9\"\n",
    "GREY50 = \"#7F7F7F\"\n",
    "BLUE_DARK = \"#1B2838\"\n",
    "BLUE = \"#2a475e\"\n",
    "BLACK = \"#282724\"\n",
    "GREY_DARK = \"#747473\"\n",
    "RED_DARK = \"#850e00\""
   ]
  },
  {
   "attachments": {},
   "cell_type": "markdown",
   "id": "c6b04f6c",
   "metadata": {},
   "source": [
    "# Load the Dataset "
   ]
  },
  {
   "cell_type": "code",
   "execution_count": 3,
   "id": "b3247eb2",
   "metadata": {
    "execution": {
     "iopub.execute_input": "2023-04-13T22:17:07.147388Z",
     "iopub.status.busy": "2023-04-13T22:17:07.146890Z",
     "iopub.status.idle": "2023-04-13T22:17:07.217248Z",
     "shell.execute_reply": "2023-04-13T22:17:07.215760Z"
    },
    "papermill": {
     "duration": 0.084692,
     "end_time": "2023-04-13T22:17:07.221039",
     "exception": false,
     "start_time": "2023-04-13T22:17:07.136347",
     "status": "completed"
    },
    "tags": []
   },
   "outputs": [
    {
     "name": "stdout",
     "output_type": "stream",
     "text": [
      "\u001b[1m\u001b[34mLOADING DATASET...\n",
      "\u001b[1m\u001b[32mDATASET LOADED!\n",
      "\u001b[1m\u001b[32mDisplaying DATASET!\n"
     ]
    },
    {
     "data": {
      "text/html": [
       "<div>\n",
       "<style scoped>\n",
       "    .dataframe tbody tr th:only-of-type {\n",
       "        vertical-align: middle;\n",
       "    }\n",
       "\n",
       "    .dataframe tbody tr th {\n",
       "        vertical-align: top;\n",
       "    }\n",
       "\n",
       "    .dataframe thead th {\n",
       "        text-align: right;\n",
       "    }\n",
       "</style>\n",
       "<table border=\"1\" class=\"dataframe\">\n",
       "  <thead>\n",
       "    <tr style=\"text-align: right;\">\n",
       "      <th></th>\n",
       "      <th>model</th>\n",
       "      <th>price</th>\n",
       "      <th>rating</th>\n",
       "      <th>sim</th>\n",
       "      <th>processor</th>\n",
       "      <th>ram</th>\n",
       "      <th>battery</th>\n",
       "      <th>display</th>\n",
       "      <th>camera</th>\n",
       "      <th>card</th>\n",
       "      <th>os</th>\n",
       "    </tr>\n",
       "  </thead>\n",
       "  <tbody>\n",
       "    <tr>\n",
       "      <th>0</th>\n",
       "      <td>OnePlus 11 5G</td>\n",
       "      <td>₹54,999</td>\n",
       "      <td>89.0</td>\n",
       "      <td>Dual Sim, 3G, 4G, 5G, VoLTE, Wi-Fi, NFC</td>\n",
       "      <td>Snapdragon 8 Gen2, Octa Core, 3.2 GHz Processor</td>\n",
       "      <td>12 GB RAM, 256 GB inbuilt</td>\n",
       "      <td>5000 mAh Battery with 100W Fast Charging</td>\n",
       "      <td>6.7 inches, 1440 x 3216 px, 120 Hz Display wit...</td>\n",
       "      <td>50 MP + 48 MP + 32 MP Triple Rear &amp; 16 MP Fron...</td>\n",
       "      <td>Memory Card Not Supported</td>\n",
       "      <td>Android v13</td>\n",
       "    </tr>\n",
       "    <tr>\n",
       "      <th>1</th>\n",
       "      <td>OnePlus Nord CE 2 Lite 5G</td>\n",
       "      <td>₹19,989</td>\n",
       "      <td>81.0</td>\n",
       "      <td>Dual Sim, 3G, 4G, 5G, VoLTE, Wi-Fi</td>\n",
       "      <td>Snapdragon 695, Octa Core, 2.2 GHz Processor</td>\n",
       "      <td>6 GB RAM, 128 GB inbuilt</td>\n",
       "      <td>5000 mAh Battery with 33W Fast Charging</td>\n",
       "      <td>6.59 inches, 1080 x 2412 px, 120 Hz Display wi...</td>\n",
       "      <td>64 MP + 2 MP + 2 MP Triple Rear &amp; 16 MP Front ...</td>\n",
       "      <td>Memory Card (Hybrid), upto 1 TB</td>\n",
       "      <td>Android v12</td>\n",
       "    </tr>\n",
       "    <tr>\n",
       "      <th>2</th>\n",
       "      <td>Samsung Galaxy A14 5G</td>\n",
       "      <td>₹16,499</td>\n",
       "      <td>75.0</td>\n",
       "      <td>Dual Sim, 3G, 4G, 5G, VoLTE, Wi-Fi</td>\n",
       "      <td>Exynos 1330, Octa Core, 2.4 GHz Processor</td>\n",
       "      <td>4 GB RAM, 64 GB inbuilt</td>\n",
       "      <td>5000 mAh Battery with 15W Fast Charging</td>\n",
       "      <td>6.6 inches, 1080 x 2408 px, 90 Hz Display with...</td>\n",
       "      <td>50 MP + 2 MP + 2 MP Triple Rear &amp; 13 MP Front ...</td>\n",
       "      <td>Memory Card Supported, upto 1 TB</td>\n",
       "      <td>Android v13</td>\n",
       "    </tr>\n",
       "    <tr>\n",
       "      <th>3</th>\n",
       "      <td>Motorola Moto G62 5G</td>\n",
       "      <td>₹14,999</td>\n",
       "      <td>81.0</td>\n",
       "      <td>Dual Sim, 3G, 4G, 5G, VoLTE, Wi-Fi</td>\n",
       "      <td>Snapdragon  695, Octa Core, 2.2 GHz Processor</td>\n",
       "      <td>6 GB RAM, 128 GB inbuilt</td>\n",
       "      <td>5000 mAh Battery with Fast Charging</td>\n",
       "      <td>6.55 inches, 1080 x 2400 px, 120 Hz Display wi...</td>\n",
       "      <td>50 MP + 8 MP + 2 MP Triple Rear &amp; 16 MP Front ...</td>\n",
       "      <td>Memory Card (Hybrid), upto 1 TB</td>\n",
       "      <td>Android v12</td>\n",
       "    </tr>\n",
       "    <tr>\n",
       "      <th>4</th>\n",
       "      <td>Realme 10 Pro Plus</td>\n",
       "      <td>₹24,999</td>\n",
       "      <td>82.0</td>\n",
       "      <td>Dual Sim, 3G, 4G, 5G, VoLTE, Wi-Fi</td>\n",
       "      <td>Dimensity 1080, Octa Core, 2.6 GHz Processor</td>\n",
       "      <td>6 GB RAM, 128 GB inbuilt</td>\n",
       "      <td>5000 mAh Battery with 67W Fast Charging</td>\n",
       "      <td>6.7 inches, 1080 x 2412 px, 120 Hz Display wit...</td>\n",
       "      <td>108 MP + 8 MP + 2 MP Triple Rear &amp; 16 MP Front...</td>\n",
       "      <td>Memory Card Not Supported</td>\n",
       "      <td>Android v13</td>\n",
       "    </tr>\n",
       "  </tbody>\n",
       "</table>\n",
       "</div>"
      ],
      "text/plain": [
       "                       model    price  rating  \\\n",
       "0              OnePlus 11 5G  ₹54,999    89.0   \n",
       "1  OnePlus Nord CE 2 Lite 5G  ₹19,989    81.0   \n",
       "2      Samsung Galaxy A14 5G  ₹16,499    75.0   \n",
       "3       Motorola Moto G62 5G  ₹14,999    81.0   \n",
       "4         Realme 10 Pro Plus  ₹24,999    82.0   \n",
       "\n",
       "                                       sim  \\\n",
       "0  Dual Sim, 3G, 4G, 5G, VoLTE, Wi-Fi, NFC   \n",
       "1       Dual Sim, 3G, 4G, 5G, VoLTE, Wi-Fi   \n",
       "2       Dual Sim, 3G, 4G, 5G, VoLTE, Wi-Fi   \n",
       "3       Dual Sim, 3G, 4G, 5G, VoLTE, Wi-Fi   \n",
       "4       Dual Sim, 3G, 4G, 5G, VoLTE, Wi-Fi   \n",
       "\n",
       "                                         processor                        ram  \\\n",
       "0  Snapdragon 8 Gen2, Octa Core, 3.2 GHz Processor  12 GB RAM, 256 GB inbuilt   \n",
       "1     Snapdragon 695, Octa Core, 2.2 GHz Processor   6 GB RAM, 128 GB inbuilt   \n",
       "2        Exynos 1330, Octa Core, 2.4 GHz Processor    4 GB RAM, 64 GB inbuilt   \n",
       "3    Snapdragon  695, Octa Core, 2.2 GHz Processor   6 GB RAM, 128 GB inbuilt   \n",
       "4     Dimensity 1080, Octa Core, 2.6 GHz Processor   6 GB RAM, 128 GB inbuilt   \n",
       "\n",
       "                                    battery  \\\n",
       "0  5000 mAh Battery with 100W Fast Charging   \n",
       "1   5000 mAh Battery with 33W Fast Charging   \n",
       "2   5000 mAh Battery with 15W Fast Charging   \n",
       "3       5000 mAh Battery with Fast Charging   \n",
       "4   5000 mAh Battery with 67W Fast Charging   \n",
       "\n",
       "                                             display  \\\n",
       "0  6.7 inches, 1440 x 3216 px, 120 Hz Display wit...   \n",
       "1  6.59 inches, 1080 x 2412 px, 120 Hz Display wi...   \n",
       "2  6.6 inches, 1080 x 2408 px, 90 Hz Display with...   \n",
       "3  6.55 inches, 1080 x 2400 px, 120 Hz Display wi...   \n",
       "4  6.7 inches, 1080 x 2412 px, 120 Hz Display wit...   \n",
       "\n",
       "                                              camera  \\\n",
       "0  50 MP + 48 MP + 32 MP Triple Rear & 16 MP Fron...   \n",
       "1  64 MP + 2 MP + 2 MP Triple Rear & 16 MP Front ...   \n",
       "2  50 MP + 2 MP + 2 MP Triple Rear & 13 MP Front ...   \n",
       "3  50 MP + 8 MP + 2 MP Triple Rear & 16 MP Front ...   \n",
       "4  108 MP + 8 MP + 2 MP Triple Rear & 16 MP Front...   \n",
       "\n",
       "                               card           os  \n",
       "0         Memory Card Not Supported  Android v13  \n",
       "1   Memory Card (Hybrid), upto 1 TB  Android v12  \n",
       "2  Memory Card Supported, upto 1 TB  Android v13  \n",
       "3   Memory Card (Hybrid), upto 1 TB  Android v12  \n",
       "4         Memory Card Not Supported  Android v13  "
      ]
     },
     "execution_count": 3,
     "metadata": {},
     "output_type": "execute_result"
    }
   ],
   "source": [
    "print(f'{blu}LOADING DATASET...')\n",
    "\n",
    "data = pd.read_csv('sp.csv')\n",
    "\n",
    "print(f'{grn}DATASET LOADED!')\n",
    "print(f'{grn}Displaying DATASET!')\n",
    "data.head()"
   ]
  },
  {
   "cell_type": "code",
   "execution_count": 4,
   "id": "0e088410",
   "metadata": {
    "execution": {
     "iopub.execute_input": "2023-04-13T22:17:07.241617Z",
     "iopub.status.busy": "2023-04-13T22:17:07.241088Z",
     "iopub.status.idle": "2023-04-13T22:17:07.270963Z",
     "shell.execute_reply": "2023-04-13T22:17:07.269309Z"
    },
    "papermill": {
     "duration": 0.043066,
     "end_time": "2023-04-13T22:17:07.273589",
     "exception": false,
     "start_time": "2023-04-13T22:17:07.230523",
     "status": "completed"
    },
    "tags": []
   },
   "outputs": [
    {
     "name": "stdout",
     "output_type": "stream",
     "text": [
      "<class 'pandas.core.frame.DataFrame'>\n",
      "RangeIndex: 1020 entries, 0 to 1019\n",
      "Data columns (total 11 columns):\n",
      " #   Column     Non-Null Count  Dtype  \n",
      "---  ------     --------------  -----  \n",
      " 0   model      1020 non-null   object \n",
      " 1   price      1020 non-null   object \n",
      " 2   rating     879 non-null    float64\n",
      " 3   sim        1020 non-null   object \n",
      " 4   processor  1020 non-null   object \n",
      " 5   ram        1020 non-null   object \n",
      " 6   battery    1020 non-null   object \n",
      " 7   display    1020 non-null   object \n",
      " 8   camera     1019 non-null   object \n",
      " 9   card       1013 non-null   object \n",
      " 10  os         1003 non-null   object \n",
      "dtypes: float64(1), object(10)\n",
      "memory usage: 87.8+ KB\n"
     ]
    }
   ],
   "source": [
    "data.info()"
   ]
  },
  {
   "cell_type": "code",
   "execution_count": 5,
   "id": "ace0d57d",
   "metadata": {
    "execution": {
     "iopub.execute_input": "2023-04-13T22:17:07.294342Z",
     "iopub.status.busy": "2023-04-13T22:17:07.293821Z",
     "iopub.status.idle": "2023-04-13T22:17:07.300595Z",
     "shell.execute_reply": "2023-04-13T22:17:07.299623Z"
    },
    "papermill": {
     "duration": 0.020104,
     "end_time": "2023-04-13T22:17:07.302900",
     "exception": false,
     "start_time": "2023-04-13T22:17:07.282796",
     "status": "completed"
    },
    "tags": []
   },
   "outputs": [
    {
     "data": {
      "text/plain": [
       "(1020, 11)"
      ]
     },
     "execution_count": 5,
     "metadata": {},
     "output_type": "execute_result"
    }
   ],
   "source": [
    "data.shape"
   ]
  },
  {
   "attachments": {},
   "cell_type": "markdown",
   "id": "b5e0002e",
   "metadata": {
    "papermill": {
     "duration": 0.008661,
     "end_time": "2023-04-13T22:17:07.320692",
     "exception": false,
     "start_time": "2023-04-13T22:17:07.312031",
     "status": "completed"
    },
    "tags": []
   },
   "source": [
    "# Insight\n",
    "    - 1 numeric columns: Rating,  \n",
    "    - 10 categorical columns "
   ]
  },
  {
   "attachments": {},
   "cell_type": "markdown",
   "id": "c856af54",
   "metadata": {},
   "source": [
    "# Idea  \n",
    " Rather than working with categorical data, I would like to preprocess above dataframe to turn in into a simple, easy to use dataframe, \n",
    "- Lets start by creating some helper functions  "
   ]
  },
  {
   "attachments": {},
   "cell_type": "markdown",
   "id": "efe7e299",
   "metadata": {},
   "source": [
    "# Helper Function "
   ]
  },
  {
   "cell_type": "code",
   "execution_count": 6,
   "id": "8b36b8d5",
   "metadata": {
    "execution": {
     "iopub.execute_input": "2023-04-13T22:17:07.377818Z",
     "iopub.status.busy": "2023-04-13T22:17:07.376885Z",
     "iopub.status.idle": "2023-04-13T22:17:07.391983Z",
     "shell.execute_reply": "2023-04-13T22:17:07.390401Z"
    },
    "papermill": {
     "duration": 0.028607,
     "end_time": "2023-04-13T22:17:07.394703",
     "exception": false,
     "start_time": "2023-04-13T22:17:07.366096",
     "status": "completed"
    },
    "tags": []
   },
   "outputs": [
    {
     "name": "stdout",
     "output_type": "stream",
     "text": [
      "\u001b[1m\u001b[34mLOADING HELPER FUNCTIONS...\n",
      "\u001b[1m\u001b[32mHELPER FUNCTION LOADED!\n"
     ]
    }
   ],
   "source": [
    "print(f'{blu}LOADING HELPER FUNCTIONS...')\n",
    "\n",
    "# Extract ROM\n",
    "def rom(s):\n",
    "    pattern = r\"\\d+\\D+(\\d+)\"\n",
    "    match = re.search(pattern, s)  # find a sequence of digits followed by a non-digit and capture the second sequence of digits\n",
    "    if match:\n",
    "        number = match.group(1)   # extract the captured second sequence of digits as a string\n",
    "        return int(number)\n",
    "    \n",
    "# Extract RAM   \n",
    "def ram(s):\n",
    "    pattern = r\"\\d+\"\n",
    "    match = re.search(pattern, s)  # find a sequence of digits followed by a non-digit and capture the second sequence of digits\n",
    "    if match:\n",
    "        number = match.group()   # extract the captured second sequence of digits as a string\n",
    "        return int(number) \n",
    "\n",
    "# Extract battery power\n",
    "def battery(s):\n",
    "    pattern = r\"\\d+\\D+(\\d+)\"\n",
    "    match = re.search(pattern, s)  # find a sequence of digits followed by a non-digit and capture the second sequence of digits\n",
    "    if match:\n",
    "        number = match.group(1)   # extract the captured second sequence of digits as a string\n",
    "        return int(number)  \n",
    "\n",
    "# Extract screen size\n",
    "def screen_size(s):\n",
    "    pattern = r\"(\\d+\\.\\d+) inches\"\n",
    "    match = re.search(pattern, s)\n",
    "    if match:\n",
    "        screen_size = float(match.group(1))\n",
    "        return int(screen_size)\n",
    "\n",
    "# Extract screen resolution width \n",
    "def width(s):\n",
    "    pattern = r\"(\\d+) x (\\d+) px\"\n",
    "    match = re.search(pattern, s)\n",
    "    if match:\n",
    "        width = int(match.group(1))\n",
    "        return width\n",
    "\n",
    "# Extract screen resolution height    \n",
    "def height(s):\n",
    "    pattern = r\"(\\d+) x (\\d+) px\"\n",
    "    match = re.search(pattern, s)\n",
    "    if match:\n",
    "        height = int(match.group(2))\n",
    "        return height\n",
    "\n",
    "# Extract Frequency\n",
    "def frequency(s):\n",
    "    pattern = r\"\\b\\d+\\b(?=\\s*Hz)\"\n",
    "    match = re.search(pattern, s)  # find a sequence of digits before the string \" Hz\"\n",
    "    if match:\n",
    "        number = match.group()  # extract the matched sequence of digits as a string\n",
    "        return int(number)  \n",
    "\n",
    "# Exercise\n",
    "def android_version(s):\n",
    "    pass\n",
    "# complete this function and add android version column\n",
    "\n",
    "print(f'{grn}HELPER FUNCTION LOADED!')\n"
   ]
  },
  {
   "attachments": {},
   "cell_type": "markdown",
   "id": "a2f5929d",
   "metadata": {},
   "source": [
    "# Newly Created DataFrame"
   ]
  },
  {
   "cell_type": "code",
   "execution_count": 7,
   "id": "4152d00c",
   "metadata": {
    "execution": {
     "iopub.execute_input": "2023-04-13T22:17:07.435353Z",
     "iopub.status.busy": "2023-04-13T22:17:07.434230Z",
     "iopub.status.idle": "2023-04-13T22:17:07.499900Z",
     "shell.execute_reply": "2023-04-13T22:17:07.498810Z"
    },
    "papermill": {
     "duration": 0.080125,
     "end_time": "2023-04-13T22:17:07.502479",
     "exception": false,
     "start_time": "2023-04-13T22:17:07.422354",
     "status": "completed"
    },
    "tags": []
   },
   "outputs": [
    {
     "name": "stdout",
     "output_type": "stream",
     "text": [
      "\u001b[1m\u001b[34mCreating a New Dataframe\n",
      "\u001b[1m\u001b[32mData Preprocessed and new dataframe is created!\n",
      "\u001b[1m\u001b[32mDisplaying Newly Created Dataframe!\n"
     ]
    },
    {
     "data": {
      "text/html": [
       "<div>\n",
       "<style scoped>\n",
       "    .dataframe tbody tr th:only-of-type {\n",
       "        vertical-align: middle;\n",
       "    }\n",
       "\n",
       "    .dataframe tbody tr th {\n",
       "        vertical-align: top;\n",
       "    }\n",
       "\n",
       "    .dataframe thead th {\n",
       "        text-align: right;\n",
       "    }\n",
       "</style>\n",
       "<table border=\"1\" class=\"dataframe\">\n",
       "  <thead>\n",
       "    <tr style=\"text-align: right;\">\n",
       "      <th></th>\n",
       "      <th>company</th>\n",
       "      <th>price</th>\n",
       "      <th>rating</th>\n",
       "      <th>processor</th>\n",
       "      <th>ram</th>\n",
       "      <th>battery</th>\n",
       "      <th>screen_size</th>\n",
       "      <th>width</th>\n",
       "      <th>height</th>\n",
       "      <th>frequency</th>\n",
       "      <th>rom</th>\n",
       "    </tr>\n",
       "  </thead>\n",
       "  <tbody>\n",
       "    <tr>\n",
       "      <th>0</th>\n",
       "      <td>OnePlus</td>\n",
       "      <td>54999</td>\n",
       "      <td>89.0</td>\n",
       "      <td>Snapdragon</td>\n",
       "      <td>12.0</td>\n",
       "      <td>100.0</td>\n",
       "      <td>6.0</td>\n",
       "      <td>1440.0</td>\n",
       "      <td>3216.0</td>\n",
       "      <td>120.0</td>\n",
       "      <td>256.0</td>\n",
       "    </tr>\n",
       "    <tr>\n",
       "      <th>1</th>\n",
       "      <td>OnePlus</td>\n",
       "      <td>19989</td>\n",
       "      <td>81.0</td>\n",
       "      <td>Snapdragon</td>\n",
       "      <td>6.0</td>\n",
       "      <td>33.0</td>\n",
       "      <td>6.0</td>\n",
       "      <td>1080.0</td>\n",
       "      <td>2412.0</td>\n",
       "      <td>120.0</td>\n",
       "      <td>128.0</td>\n",
       "    </tr>\n",
       "    <tr>\n",
       "      <th>2</th>\n",
       "      <td>Samsung</td>\n",
       "      <td>16499</td>\n",
       "      <td>75.0</td>\n",
       "      <td>Exynos</td>\n",
       "      <td>4.0</td>\n",
       "      <td>15.0</td>\n",
       "      <td>6.0</td>\n",
       "      <td>1080.0</td>\n",
       "      <td>2408.0</td>\n",
       "      <td>90.0</td>\n",
       "      <td>64.0</td>\n",
       "    </tr>\n",
       "    <tr>\n",
       "      <th>3</th>\n",
       "      <td>Motorola</td>\n",
       "      <td>14999</td>\n",
       "      <td>81.0</td>\n",
       "      <td>Snapdragon</td>\n",
       "      <td>6.0</td>\n",
       "      <td>NaN</td>\n",
       "      <td>6.0</td>\n",
       "      <td>1080.0</td>\n",
       "      <td>2400.0</td>\n",
       "      <td>120.0</td>\n",
       "      <td>128.0</td>\n",
       "    </tr>\n",
       "    <tr>\n",
       "      <th>4</th>\n",
       "      <td>Realme</td>\n",
       "      <td>24999</td>\n",
       "      <td>82.0</td>\n",
       "      <td>Dimensity</td>\n",
       "      <td>6.0</td>\n",
       "      <td>67.0</td>\n",
       "      <td>6.0</td>\n",
       "      <td>1080.0</td>\n",
       "      <td>2412.0</td>\n",
       "      <td>120.0</td>\n",
       "      <td>128.0</td>\n",
       "    </tr>\n",
       "  </tbody>\n",
       "</table>\n",
       "</div>"
      ],
      "text/plain": [
       "    company  price  rating   processor   ram  battery  screen_size   width  \\\n",
       "0   OnePlus  54999    89.0  Snapdragon  12.0    100.0          6.0  1440.0   \n",
       "1   OnePlus  19989    81.0  Snapdragon   6.0     33.0          6.0  1080.0   \n",
       "2   Samsung  16499    75.0      Exynos   4.0     15.0          6.0  1080.0   \n",
       "3  Motorola  14999    81.0  Snapdragon   6.0      NaN          6.0  1080.0   \n",
       "4    Realme  24999    82.0   Dimensity   6.0     67.0          6.0  1080.0   \n",
       "\n",
       "   height  frequency    rom  \n",
       "0  3216.0      120.0  256.0  \n",
       "1  2412.0      120.0  128.0  \n",
       "2  2408.0       90.0   64.0  \n",
       "3  2400.0      120.0  128.0  \n",
       "4  2412.0      120.0  128.0  "
      ]
     },
     "execution_count": 7,
     "metadata": {},
     "output_type": "execute_result"
    }
   ],
   "source": [
    "print(f'{blu}Creating a New Dataframe')\n",
    "df = pd.DataFrame()\n",
    "df['company'] = data['model'].apply(lambda x:x.split()[0])\n",
    "df['price'] = data['price'].apply(lambda x: int(''.join(x[1:].split(','))))\n",
    "df['rating'] = data['rating']\n",
    "df['processor'] = data['processor'].apply(lambda x:x.split()[0])\n",
    "df['ram'] = data['ram'].apply(ram)\n",
    "df['battery'] = data['battery'].apply(battery)\n",
    "df['screen_size'] = data['display'].apply(screen_size)\n",
    "df['width'] = data['display'].apply(width)\n",
    "df['height'] = data['display'].apply(height)\n",
    "df['frequency'] = data['display'].apply(frequency)\n",
    "df['rom'] = data['ram'].apply(rom)\n",
    "# df['android_version']                     ----------------------------exercise-------------------------------------------\n",
    "\n",
    "print(f'{grn}Data Preprocessed and new dataframe is created!')\n",
    "print(f'{grn}Displaying Newly Created Dataframe!')\n",
    "\n",
    "df.head()"
   ]
  },
  {
   "cell_type": "code",
   "execution_count": 8,
   "id": "3f446dcf",
   "metadata": {
    "execution": {
     "iopub.execute_input": "2023-04-13T22:17:07.524320Z",
     "iopub.status.busy": "2023-04-13T22:17:07.523772Z",
     "iopub.status.idle": "2023-04-13T22:17:07.544327Z",
     "shell.execute_reply": "2023-04-13T22:17:07.542839Z"
    },
    "papermill": {
     "duration": 0.035582,
     "end_time": "2023-04-13T22:17:07.547782",
     "exception": false,
     "start_time": "2023-04-13T22:17:07.512200",
     "status": "completed"
    },
    "tags": []
   },
   "outputs": [],
   "source": [
    "df.to_csv('Mobile Prices data Preprocessed.csv')"
   ]
  },
  {
   "attachments": {},
   "cell_type": "markdown",
   "id": "04d5a9f1",
   "metadata": {},
   "source": [
    "# Outcome \n",
    "Now we have only 2 categorical columns and rest are numerical columns, if you want to remove the null data, feel free to do so. "
   ]
  },
  {
   "cell_type": "code",
   "execution_count": 9,
   "id": "8927a6ce",
   "metadata": {
    "execution": {
     "iopub.execute_input": "2023-04-13T22:17:07.590711Z",
     "iopub.status.busy": "2023-04-13T22:17:07.590163Z",
     "iopub.status.idle": "2023-04-13T22:17:07.609227Z",
     "shell.execute_reply": "2023-04-13T22:17:07.607712Z"
    },
    "papermill": {
     "duration": 0.033989,
     "end_time": "2023-04-13T22:17:07.612312",
     "exception": false,
     "start_time": "2023-04-13T22:17:07.578323",
     "status": "completed"
    },
    "tags": []
   },
   "outputs": [
    {
     "name": "stdout",
     "output_type": "stream",
     "text": [
      "\u001b[1m\u001b[32m About DATA\n",
      "\u001b[0m\n",
      "<class 'pandas.core.frame.DataFrame'>\n",
      "RangeIndex: 1020 entries, 0 to 1019\n",
      "Data columns (total 11 columns):\n",
      " #   Column       Non-Null Count  Dtype  \n",
      "---  ------       --------------  -----  \n",
      " 0   company      1020 non-null   object \n",
      " 1   price        1020 non-null   int64  \n",
      " 2   rating       879 non-null    float64\n",
      " 3   processor    1020 non-null   object \n",
      " 4   ram          1019 non-null   float64\n",
      " 5   battery      801 non-null    float64\n",
      " 6   screen_size  967 non-null    float64\n",
      " 7   width        987 non-null    float64\n",
      " 8   height       987 non-null    float64\n",
      " 9   frequency    611 non-null    float64\n",
      " 10  rom          997 non-null    float64\n",
      "dtypes: float64(8), int64(1), object(2)\n",
      "memory usage: 87.8+ KB\n"
     ]
    }
   ],
   "source": [
    "print(f'{grn} About DATA')\n",
    "print(f'{res}')\n",
    "df.info()"
   ]
  },
  {
   "attachments": {},
   "cell_type": "markdown",
   "id": "ecc5ddee",
   "metadata": {},
   "source": [
    "# EDA  "
   ]
  },
  {
   "cell_type": "code",
   "execution_count": 10,
   "id": "094d87ac",
   "metadata": {
    "execution": {
     "iopub.execute_input": "2023-04-13T22:17:07.656343Z",
     "iopub.status.busy": "2023-04-13T22:17:07.655442Z",
     "iopub.status.idle": "2023-04-13T22:17:09.976644Z",
     "shell.execute_reply": "2023-04-13T22:17:09.975235Z"
    },
    "papermill": {
     "duration": 2.336581,
     "end_time": "2023-04-13T22:17:09.979688",
     "exception": false,
     "start_time": "2023-04-13T22:17:07.643107",
     "status": "completed"
    },
    "tags": []
   },
   "outputs": [
    {
     "data": {
      "application/vnd.plotly.v1+json": {
       "config": {
        "plotlyServerURL": "https://plot.ly"
       },
       "data": [
        {
         "alignmentgroup": "True",
         "hovertemplate": "color=Xiaomi<br>x=%{x}<br>y=%{y}<br>text=%{text}<extra></extra>",
         "legendgroup": "Xiaomi",
         "marker": {
          "color": "rgb(255,247,251)",
          "pattern": {
           "shape": ""
          }
         },
         "name": "Xiaomi",
         "offsetgroup": "Xiaomi",
         "orientation": "v",
         "showlegend": true,
         "text": [
          135
         ],
         "textposition": "auto",
         "type": "bar",
         "x": [
          "Xiaomi"
         ],
         "xaxis": "x",
         "y": [
          135
         ],
         "yaxis": "y"
        },
        {
         "alignmentgroup": "True",
         "hovertemplate": "color=Samsung<br>x=%{x}<br>y=%{y}<br>text=%{text}<extra></extra>",
         "legendgroup": "Samsung",
         "marker": {
          "color": "rgb(236,226,240)",
          "pattern": {
           "shape": ""
          }
         },
         "name": "Samsung",
         "offsetgroup": "Samsung",
         "orientation": "v",
         "showlegend": true,
         "text": [
          135
         ],
         "textposition": "auto",
         "type": "bar",
         "x": [
          "Samsung"
         ],
         "xaxis": "x",
         "y": [
          135
         ],
         "yaxis": "y"
        },
        {
         "alignmentgroup": "True",
         "hovertemplate": "color=Vivo<br>x=%{x}<br>y=%{y}<br>text=%{text}<extra></extra>",
         "legendgroup": "Vivo",
         "marker": {
          "color": "rgb(208,209,230)",
          "pattern": {
           "shape": ""
          }
         },
         "name": "Vivo",
         "offsetgroup": "Vivo",
         "orientation": "v",
         "showlegend": true,
         "text": [
          111
         ],
         "textposition": "auto",
         "type": "bar",
         "x": [
          "Vivo"
         ],
         "xaxis": "x",
         "y": [
          111
         ],
         "yaxis": "y"
        },
        {
         "alignmentgroup": "True",
         "hovertemplate": "color=Realme<br>x=%{x}<br>y=%{y}<br>text=%{text}<extra></extra>",
         "legendgroup": "Realme",
         "marker": {
          "color": "rgb(166,189,219)",
          "pattern": {
           "shape": ""
          }
         },
         "name": "Realme",
         "offsetgroup": "Realme",
         "orientation": "v",
         "showlegend": true,
         "text": [
          97
         ],
         "textposition": "auto",
         "type": "bar",
         "x": [
          "Realme"
         ],
         "xaxis": "x",
         "y": [
          97
         ],
         "yaxis": "y"
        },
        {
         "alignmentgroup": "True",
         "hovertemplate": "color=OPPO<br>x=%{x}<br>y=%{y}<br>text=%{text}<extra></extra>",
         "legendgroup": "OPPO",
         "marker": {
          "color": "rgb(103,169,207)",
          "pattern": {
           "shape": ""
          }
         },
         "name": "OPPO",
         "offsetgroup": "OPPO",
         "orientation": "v",
         "showlegend": true,
         "text": [
          62
         ],
         "textposition": "auto",
         "type": "bar",
         "x": [
          "OPPO"
         ],
         "xaxis": "x",
         "y": [
          62
         ],
         "yaxis": "y"
        },
        {
         "alignmentgroup": "True",
         "hovertemplate": "color=Motorola<br>x=%{x}<br>y=%{y}<br>text=%{text}<extra></extra>",
         "legendgroup": "Motorola",
         "marker": {
          "color": "rgb(54,144,192)",
          "pattern": {
           "shape": ""
          }
         },
         "name": "Motorola",
         "offsetgroup": "Motorola",
         "orientation": "v",
         "showlegend": true,
         "text": [
          53
         ],
         "textposition": "auto",
         "type": "bar",
         "x": [
          "Motorola"
         ],
         "xaxis": "x",
         "y": [
          53
         ],
         "yaxis": "y"
        },
        {
         "alignmentgroup": "True",
         "hovertemplate": "color=Apple<br>x=%{x}<br>y=%{y}<br>text=%{text}<extra></extra>",
         "legendgroup": "Apple",
         "marker": {
          "color": "rgb(2,129,138)",
          "pattern": {
           "shape": ""
          }
         },
         "name": "Apple",
         "offsetgroup": "Apple",
         "orientation": "v",
         "showlegend": true,
         "text": [
          47
         ],
         "textposition": "auto",
         "type": "bar",
         "x": [
          "Apple"
         ],
         "xaxis": "x",
         "y": [
          47
         ],
         "yaxis": "y"
        },
        {
         "alignmentgroup": "True",
         "hovertemplate": "color=OnePlus<br>x=%{x}<br>y=%{y}<br>text=%{text}<extra></extra>",
         "legendgroup": "OnePlus",
         "marker": {
          "color": "rgb(1,108,89)",
          "pattern": {
           "shape": ""
          }
         },
         "name": "OnePlus",
         "offsetgroup": "OnePlus",
         "orientation": "v",
         "showlegend": true,
         "text": [
          42
         ],
         "textposition": "auto",
         "type": "bar",
         "x": [
          "OnePlus"
         ],
         "xaxis": "x",
         "y": [
          42
         ],
         "yaxis": "y"
        },
        {
         "alignmentgroup": "True",
         "hovertemplate": "color=Tecno<br>x=%{x}<br>y=%{y}<br>text=%{text}<extra></extra>",
         "legendgroup": "Tecno",
         "marker": {
          "color": "rgb(1,70,54)",
          "pattern": {
           "shape": ""
          }
         },
         "name": "Tecno",
         "offsetgroup": "Tecno",
         "orientation": "v",
         "showlegend": true,
         "text": [
          33
         ],
         "textposition": "auto",
         "type": "bar",
         "x": [
          "Tecno"
         ],
         "xaxis": "x",
         "y": [
          33
         ],
         "yaxis": "y"
        },
        {
         "alignmentgroup": "True",
         "hovertemplate": "color=iQOO<br>x=%{x}<br>y=%{y}<br>text=%{text}<extra></extra>",
         "legendgroup": "iQOO",
         "marker": {
          "color": "rgb(255,247,251)",
          "pattern": {
           "shape": ""
          }
         },
         "name": "iQOO",
         "offsetgroup": "iQOO",
         "orientation": "v",
         "showlegend": true,
         "text": [
          32
         ],
         "textposition": "auto",
         "type": "bar",
         "x": [
          "iQOO"
         ],
         "xaxis": "x",
         "y": [
          32
         ],
         "yaxis": "y"
        },
        {
         "alignmentgroup": "True",
         "hovertemplate": "color=Nokia<br>x=%{x}<br>y=%{y}<br>text=%{text}<extra></extra>",
         "legendgroup": "Nokia",
         "marker": {
          "color": "rgb(236,226,240)",
          "pattern": {
           "shape": ""
          }
         },
         "name": "Nokia",
         "offsetgroup": "Nokia",
         "orientation": "v",
         "showlegend": true,
         "text": [
          30
         ],
         "textposition": "auto",
         "type": "bar",
         "x": [
          "Nokia"
         ],
         "xaxis": "x",
         "y": [
          30
         ],
         "yaxis": "y"
        },
        {
         "alignmentgroup": "True",
         "hovertemplate": "color=Infinix<br>x=%{x}<br>y=%{y}<br>text=%{text}<extra></extra>",
         "legendgroup": "Infinix",
         "marker": {
          "color": "rgb(208,209,230)",
          "pattern": {
           "shape": ""
          }
         },
         "name": "Infinix",
         "offsetgroup": "Infinix",
         "orientation": "v",
         "showlegend": true,
         "text": [
          29
         ],
         "textposition": "auto",
         "type": "bar",
         "x": [
          "Infinix"
         ],
         "xaxis": "x",
         "y": [
          29
         ],
         "yaxis": "y"
        },
        {
         "alignmentgroup": "True",
         "hovertemplate": "color=Poco<br>x=%{x}<br>y=%{y}<br>text=%{text}<extra></extra>",
         "legendgroup": "Poco",
         "marker": {
          "color": "rgb(166,189,219)",
          "pattern": {
           "shape": ""
          }
         },
         "name": "Poco",
         "offsetgroup": "Poco",
         "orientation": "v",
         "showlegend": true,
         "text": [
          28
         ],
         "textposition": "auto",
         "type": "bar",
         "x": [
          "Poco"
         ],
         "xaxis": "x",
         "y": [
          28
         ],
         "yaxis": "y"
        },
        {
         "alignmentgroup": "True",
         "hovertemplate": "color=Oppo<br>x=%{x}<br>y=%{y}<br>text=%{text}<extra></extra>",
         "legendgroup": "Oppo",
         "marker": {
          "color": "rgb(103,169,207)",
          "pattern": {
           "shape": ""
          }
         },
         "name": "Oppo",
         "offsetgroup": "Oppo",
         "orientation": "v",
         "showlegend": true,
         "text": [
          26
         ],
         "textposition": "auto",
         "type": "bar",
         "x": [
          "Oppo"
         ],
         "xaxis": "x",
         "y": [
          26
         ],
         "yaxis": "y"
        },
        {
         "alignmentgroup": "True",
         "hovertemplate": "color=Huawei<br>x=%{x}<br>y=%{y}<br>text=%{text}<extra></extra>",
         "legendgroup": "Huawei",
         "marker": {
          "color": "rgb(54,144,192)",
          "pattern": {
           "shape": ""
          }
         },
         "name": "Huawei",
         "offsetgroup": "Huawei",
         "orientation": "v",
         "showlegend": true,
         "text": [
          16
         ],
         "textposition": "auto",
         "type": "bar",
         "x": [
          "Huawei"
         ],
         "xaxis": "x",
         "y": [
          16
         ],
         "yaxis": "y"
        },
        {
         "alignmentgroup": "True",
         "hovertemplate": "color=Google<br>x=%{x}<br>y=%{y}<br>text=%{text}<extra></extra>",
         "legendgroup": "Google",
         "marker": {
          "color": "rgb(2,129,138)",
          "pattern": {
           "shape": ""
          }
         },
         "name": "Google",
         "offsetgroup": "Google",
         "orientation": "v",
         "showlegend": true,
         "text": [
          14
         ],
         "textposition": "auto",
         "type": "bar",
         "x": [
          "Google"
         ],
         "xaxis": "x",
         "y": [
          14
         ],
         "yaxis": "y"
        },
        {
         "alignmentgroup": "True",
         "hovertemplate": "color=POCO<br>x=%{x}<br>y=%{y}<br>text=%{text}<extra></extra>",
         "legendgroup": "POCO",
         "marker": {
          "color": "rgb(1,108,89)",
          "pattern": {
           "shape": ""
          }
         },
         "name": "POCO",
         "offsetgroup": "POCO",
         "orientation": "v",
         "showlegend": true,
         "text": [
          13
         ],
         "textposition": "auto",
         "type": "bar",
         "x": [
          "POCO"
         ],
         "xaxis": "x",
         "y": [
          13
         ],
         "yaxis": "y"
        },
        {
         "alignmentgroup": "True",
         "hovertemplate": "color=Honor<br>x=%{x}<br>y=%{y}<br>text=%{text}<extra></extra>",
         "legendgroup": "Honor",
         "marker": {
          "color": "rgb(1,70,54)",
          "pattern": {
           "shape": ""
          }
         },
         "name": "Honor",
         "offsetgroup": "Honor",
         "orientation": "v",
         "showlegend": true,
         "text": [
          13
         ],
         "textposition": "auto",
         "type": "bar",
         "x": [
          "Honor"
         ],
         "xaxis": "x",
         "y": [
          13
         ],
         "yaxis": "y"
        },
        {
         "alignmentgroup": "True",
         "hovertemplate": "color=itel<br>x=%{x}<br>y=%{y}<br>text=%{text}<extra></extra>",
         "legendgroup": "itel",
         "marker": {
          "color": "rgb(255,247,251)",
          "pattern": {
           "shape": ""
          }
         },
         "name": "itel",
         "offsetgroup": "itel",
         "orientation": "v",
         "showlegend": true,
         "text": [
          11
         ],
         "textposition": "auto",
         "type": "bar",
         "x": [
          "itel"
         ],
         "xaxis": "x",
         "y": [
          11
         ],
         "yaxis": "y"
        },
        {
         "alignmentgroup": "True",
         "hovertemplate": "color=Sony<br>x=%{x}<br>y=%{y}<br>text=%{text}<extra></extra>",
         "legendgroup": "Sony",
         "marker": {
          "color": "rgb(236,226,240)",
          "pattern": {
           "shape": ""
          }
         },
         "name": "Sony",
         "offsetgroup": "Sony",
         "orientation": "v",
         "showlegend": true,
         "text": [
          9
         ],
         "textposition": "auto",
         "type": "bar",
         "x": [
          "Sony"
         ],
         "xaxis": "x",
         "y": [
          9
         ],
         "yaxis": "y"
        },
        {
         "alignmentgroup": "True",
         "hovertemplate": "color=Asus<br>x=%{x}<br>y=%{y}<br>text=%{text}<extra></extra>",
         "legendgroup": "Asus",
         "marker": {
          "color": "rgb(208,209,230)",
          "pattern": {
           "shape": ""
          }
         },
         "name": "Asus",
         "offsetgroup": "Asus",
         "orientation": "v",
         "showlegend": true,
         "text": [
          7
         ],
         "textposition": "auto",
         "type": "bar",
         "x": [
          "Asus"
         ],
         "xaxis": "x",
         "y": [
          7
         ],
         "yaxis": "y"
        },
        {
         "alignmentgroup": "True",
         "hovertemplate": "color=Nubia<br>x=%{x}<br>y=%{y}<br>text=%{text}<extra></extra>",
         "legendgroup": "Nubia",
         "marker": {
          "color": "rgb(166,189,219)",
          "pattern": {
           "shape": ""
          }
         },
         "name": "Nubia",
         "offsetgroup": "Nubia",
         "orientation": "v",
         "showlegend": true,
         "text": [
          6
         ],
         "textposition": "auto",
         "type": "bar",
         "x": [
          "Nubia"
         ],
         "xaxis": "x",
         "y": [
          6
         ],
         "yaxis": "y"
        },
        {
         "alignmentgroup": "True",
         "hovertemplate": "color=Jio<br>x=%{x}<br>y=%{y}<br>text=%{text}<extra></extra>",
         "legendgroup": "Jio",
         "marker": {
          "color": "rgb(103,169,207)",
          "pattern": {
           "shape": ""
          }
         },
         "name": "Jio",
         "offsetgroup": "Jio",
         "orientation": "v",
         "showlegend": true,
         "text": [
          5
         ],
         "textposition": "auto",
         "type": "bar",
         "x": [
          "Jio"
         ],
         "xaxis": "x",
         "y": [
          5
         ],
         "yaxis": "y"
        },
        {
         "alignmentgroup": "True",
         "hovertemplate": "color=Nothing<br>x=%{x}<br>y=%{y}<br>text=%{text}<extra></extra>",
         "legendgroup": "Nothing",
         "marker": {
          "color": "rgb(54,144,192)",
          "pattern": {
           "shape": ""
          }
         },
         "name": "Nothing",
         "offsetgroup": "Nothing",
         "orientation": "v",
         "showlegend": true,
         "text": [
          5
         ],
         "textposition": "auto",
         "type": "bar",
         "x": [
          "Nothing"
         ],
         "xaxis": "x",
         "y": [
          5
         ],
         "yaxis": "y"
        },
        {
         "alignmentgroup": "True",
         "hovertemplate": "color=LG<br>x=%{x}<br>y=%{y}<br>text=%{text}<extra></extra>",
         "legendgroup": "LG",
         "marker": {
          "color": "rgb(2,129,138)",
          "pattern": {
           "shape": ""
          }
         },
         "name": "LG",
         "offsetgroup": "LG",
         "orientation": "v",
         "showlegend": true,
         "text": [
          4
         ],
         "textposition": "auto",
         "type": "bar",
         "x": [
          "LG"
         ],
         "xaxis": "x",
         "y": [
          4
         ],
         "yaxis": "y"
        },
        {
         "alignmentgroup": "True",
         "hovertemplate": "color=iKall<br>x=%{x}<br>y=%{y}<br>text=%{text}<extra></extra>",
         "legendgroup": "iKall",
         "marker": {
          "color": "rgb(1,108,89)",
          "pattern": {
           "shape": ""
          }
         },
         "name": "iKall",
         "offsetgroup": "iKall",
         "orientation": "v",
         "showlegend": true,
         "text": [
          4
         ],
         "textposition": "auto",
         "type": "bar",
         "x": [
          "iKall"
         ],
         "xaxis": "x",
         "y": [
          4
         ],
         "yaxis": "y"
        },
        {
         "alignmentgroup": "True",
         "hovertemplate": "color=Lava<br>x=%{x}<br>y=%{y}<br>text=%{text}<extra></extra>",
         "legendgroup": "Lava",
         "marker": {
          "color": "rgb(1,70,54)",
          "pattern": {
           "shape": ""
          }
         },
         "name": "Lava",
         "offsetgroup": "Lava",
         "orientation": "v",
         "showlegend": true,
         "text": [
          4
         ],
         "textposition": "auto",
         "type": "bar",
         "x": [
          "Lava"
         ],
         "xaxis": "x",
         "y": [
          4
         ],
         "yaxis": "y"
        },
        {
         "alignmentgroup": "True",
         "hovertemplate": "color=Eunity<br>x=%{x}<br>y=%{y}<br>text=%{text}<extra></extra>",
         "legendgroup": "Eunity",
         "marker": {
          "color": "rgb(255,247,251)",
          "pattern": {
           "shape": ""
          }
         },
         "name": "Eunity",
         "offsetgroup": "Eunity",
         "orientation": "v",
         "showlegend": true,
         "text": [
          3
         ],
         "textposition": "auto",
         "type": "bar",
         "x": [
          "Eunity"
         ],
         "xaxis": "x",
         "y": [
          3
         ],
         "yaxis": "y"
        },
        {
         "alignmentgroup": "True",
         "hovertemplate": "color=Micromax<br>x=%{x}<br>y=%{y}<br>text=%{text}<extra></extra>",
         "legendgroup": "Micromax",
         "marker": {
          "color": "rgb(236,226,240)",
          "pattern": {
           "shape": ""
          }
         },
         "name": "Micromax",
         "offsetgroup": "Micromax",
         "orientation": "v",
         "showlegend": true,
         "text": [
          3
         ],
         "textposition": "auto",
         "type": "bar",
         "x": [
          "Micromax"
         ],
         "xaxis": "x",
         "y": [
          3
         ],
         "yaxis": "y"
        },
        {
         "alignmentgroup": "True",
         "hovertemplate": "color=Itel<br>x=%{x}<br>y=%{y}<br>text=%{text}<extra></extra>",
         "legendgroup": "Itel",
         "marker": {
          "color": "rgb(208,209,230)",
          "pattern": {
           "shape": ""
          }
         },
         "name": "Itel",
         "offsetgroup": "Itel",
         "orientation": "v",
         "showlegend": true,
         "text": [
          3
         ],
         "textposition": "auto",
         "type": "bar",
         "x": [
          "Itel"
         ],
         "xaxis": "x",
         "y": [
          3
         ],
         "yaxis": "y"
        },
        {
         "alignmentgroup": "True",
         "hovertemplate": "color=Lyf<br>x=%{x}<br>y=%{y}<br>text=%{text}<extra></extra>",
         "legendgroup": "Lyf",
         "marker": {
          "color": "rgb(166,189,219)",
          "pattern": {
           "shape": ""
          }
         },
         "name": "Lyf",
         "offsetgroup": "Lyf",
         "orientation": "v",
         "showlegend": true,
         "text": [
          3
         ],
         "textposition": "auto",
         "type": "bar",
         "x": [
          "Lyf"
         ],
         "xaxis": "x",
         "y": [
          3
         ],
         "yaxis": "y"
        },
        {
         "alignmentgroup": "True",
         "hovertemplate": "color=Oukitel<br>x=%{x}<br>y=%{y}<br>text=%{text}<extra></extra>",
         "legendgroup": "Oukitel",
         "marker": {
          "color": "rgb(103,169,207)",
          "pattern": {
           "shape": ""
          }
         },
         "name": "Oukitel",
         "offsetgroup": "Oukitel",
         "orientation": "v",
         "showlegend": true,
         "text": [
          3
         ],
         "textposition": "auto",
         "type": "bar",
         "x": [
          "Oukitel"
         ],
         "xaxis": "x",
         "y": [
          3
         ],
         "yaxis": "y"
        },
        {
         "alignmentgroup": "True",
         "hovertemplate": "color=Redmi<br>x=%{x}<br>y=%{y}<br>text=%{text}<extra></extra>",
         "legendgroup": "Redmi",
         "marker": {
          "color": "rgb(54,144,192)",
          "pattern": {
           "shape": ""
          }
         },
         "name": "Redmi",
         "offsetgroup": "Redmi",
         "orientation": "v",
         "showlegend": true,
         "text": [
          3
         ],
         "textposition": "auto",
         "type": "bar",
         "x": [
          "Redmi"
         ],
         "xaxis": "x",
         "y": [
          3
         ],
         "yaxis": "y"
        },
        {
         "alignmentgroup": "True",
         "hovertemplate": "color=Gionee<br>x=%{x}<br>y=%{y}<br>text=%{text}<extra></extra>",
         "legendgroup": "Gionee",
         "marker": {
          "color": "rgb(2,129,138)",
          "pattern": {
           "shape": ""
          }
         },
         "name": "Gionee",
         "offsetgroup": "Gionee",
         "orientation": "v",
         "showlegend": true,
         "text": [
          3
         ],
         "textposition": "auto",
         "type": "bar",
         "x": [
          "Gionee"
         ],
         "xaxis": "x",
         "y": [
          3
         ],
         "yaxis": "y"
        },
        {
         "alignmentgroup": "True",
         "hovertemplate": "color=Letv<br>x=%{x}<br>y=%{y}<br>text=%{text}<extra></extra>",
         "legendgroup": "Letv",
         "marker": {
          "color": "rgb(1,108,89)",
          "pattern": {
           "shape": ""
          }
         },
         "name": "Letv",
         "offsetgroup": "Letv",
         "orientation": "v",
         "showlegend": true,
         "text": [
          3
         ],
         "textposition": "auto",
         "type": "bar",
         "x": [
          "Letv"
         ],
         "xaxis": "x",
         "y": [
          3
         ],
         "yaxis": "y"
        },
        {
         "alignmentgroup": "True",
         "hovertemplate": "color=Doogee<br>x=%{x}<br>y=%{y}<br>text=%{text}<extra></extra>",
         "legendgroup": "Doogee",
         "marker": {
          "color": "rgb(1,70,54)",
          "pattern": {
           "shape": ""
          }
         },
         "name": "Doogee",
         "offsetgroup": "Doogee",
         "orientation": "v",
         "showlegend": true,
         "text": [
          2
         ],
         "textposition": "auto",
         "type": "bar",
         "x": [
          "Doogee"
         ],
         "xaxis": "x",
         "y": [
          2
         ],
         "yaxis": "y"
        },
        {
         "alignmentgroup": "True",
         "hovertemplate": "color=Lenovo<br>x=%{x}<br>y=%{y}<br>text=%{text}<extra></extra>",
         "legendgroup": "Lenovo",
         "marker": {
          "color": "rgb(255,247,251)",
          "pattern": {
           "shape": ""
          }
         },
         "name": "Lenovo",
         "offsetgroup": "Lenovo",
         "orientation": "v",
         "showlegend": true,
         "text": [
          2
         ],
         "textposition": "auto",
         "type": "bar",
         "x": [
          "Lenovo"
         ],
         "xaxis": "x",
         "y": [
          2
         ],
         "yaxis": "y"
        },
        {
         "alignmentgroup": "True",
         "hovertemplate": "color=ZTE<br>x=%{x}<br>y=%{y}<br>text=%{text}<extra></extra>",
         "legendgroup": "ZTE",
         "marker": {
          "color": "rgb(236,226,240)",
          "pattern": {
           "shape": ""
          }
         },
         "name": "ZTE",
         "offsetgroup": "ZTE",
         "orientation": "v",
         "showlegend": true,
         "text": [
          2
         ],
         "textposition": "auto",
         "type": "bar",
         "x": [
          "ZTE"
         ],
         "xaxis": "x",
         "y": [
          2
         ],
         "yaxis": "y"
        },
        {
         "alignmentgroup": "True",
         "hovertemplate": "color=Royole<br>x=%{x}<br>y=%{y}<br>text=%{text}<extra></extra>",
         "legendgroup": "Royole",
         "marker": {
          "color": "rgb(208,209,230)",
          "pattern": {
           "shape": ""
          }
         },
         "name": "Royole",
         "offsetgroup": "Royole",
         "orientation": "v",
         "showlegend": true,
         "text": [
          2
         ],
         "textposition": "auto",
         "type": "bar",
         "x": [
          "Royole"
         ],
         "xaxis": "x",
         "y": [
          2
         ],
         "yaxis": "y"
        },
        {
         "alignmentgroup": "True",
         "hovertemplate": "color=LeEco<br>x=%{x}<br>y=%{y}<br>text=%{text}<extra></extra>",
         "legendgroup": "LeEco",
         "marker": {
          "color": "rgb(166,189,219)",
          "pattern": {
           "shape": ""
          }
         },
         "name": "LeEco",
         "offsetgroup": "LeEco",
         "orientation": "v",
         "showlegend": true,
         "text": [
          1
         ],
         "textposition": "auto",
         "type": "bar",
         "x": [
          "LeEco"
         ],
         "xaxis": "x",
         "y": [
          1
         ],
         "yaxis": "y"
        },
        {
         "alignmentgroup": "True",
         "hovertemplate": "color=CAT<br>x=%{x}<br>y=%{y}<br>text=%{text}<extra></extra>",
         "legendgroup": "CAT",
         "marker": {
          "color": "rgb(103,169,207)",
          "pattern": {
           "shape": ""
          }
         },
         "name": "CAT",
         "offsetgroup": "CAT",
         "orientation": "v",
         "showlegend": true,
         "text": [
          1
         ],
         "textposition": "auto",
         "type": "bar",
         "x": [
          "CAT"
         ],
         "xaxis": "x",
         "y": [
          1
         ],
         "yaxis": "y"
        },
        {
         "alignmentgroup": "True",
         "hovertemplate": "color=Blackview<br>x=%{x}<br>y=%{y}<br>text=%{text}<extra></extra>",
         "legendgroup": "Blackview",
         "marker": {
          "color": "rgb(54,144,192)",
          "pattern": {
           "shape": ""
          }
         },
         "name": "Blackview",
         "offsetgroup": "Blackview",
         "orientation": "v",
         "showlegend": true,
         "text": [
          1
         ],
         "textposition": "auto",
         "type": "bar",
         "x": [
          "Blackview"
         ],
         "xaxis": "x",
         "y": [
          1
         ],
         "yaxis": "y"
        },
        {
         "alignmentgroup": "True",
         "hovertemplate": "color=Sharp<br>x=%{x}<br>y=%{y}<br>text=%{text}<extra></extra>",
         "legendgroup": "Sharp",
         "marker": {
          "color": "rgb(2,129,138)",
          "pattern": {
           "shape": ""
          }
         },
         "name": "Sharp",
         "offsetgroup": "Sharp",
         "orientation": "v",
         "showlegend": true,
         "text": [
          1
         ],
         "textposition": "auto",
         "type": "bar",
         "x": [
          "Sharp"
         ],
         "xaxis": "x",
         "y": [
          1
         ],
         "yaxis": "y"
        },
        {
         "alignmentgroup": "True",
         "hovertemplate": "color=TCL<br>x=%{x}<br>y=%{y}<br>text=%{text}<extra></extra>",
         "legendgroup": "TCL",
         "marker": {
          "color": "rgb(1,108,89)",
          "pattern": {
           "shape": ""
          }
         },
         "name": "TCL",
         "offsetgroup": "TCL",
         "orientation": "v",
         "showlegend": true,
         "text": [
          1
         ],
         "textposition": "auto",
         "type": "bar",
         "x": [
          "TCL"
         ],
         "xaxis": "x",
         "y": [
          1
         ],
         "yaxis": "y"
        },
        {
         "alignmentgroup": "True",
         "hovertemplate": "color=BLU<br>x=%{x}<br>y=%{y}<br>text=%{text}<extra></extra>",
         "legendgroup": "BLU",
         "marker": {
          "color": "rgb(1,70,54)",
          "pattern": {
           "shape": ""
          }
         },
         "name": "BLU",
         "offsetgroup": "BLU",
         "orientation": "v",
         "showlegend": true,
         "text": [
          1
         ],
         "textposition": "auto",
         "type": "bar",
         "x": [
          "BLU"
         ],
         "xaxis": "x",
         "y": [
          1
         ],
         "yaxis": "y"
        },
        {
         "alignmentgroup": "True",
         "hovertemplate": "color=BlackZone<br>x=%{x}<br>y=%{y}<br>text=%{text}<extra></extra>",
         "legendgroup": "BlackZone",
         "marker": {
          "color": "rgb(255,247,251)",
          "pattern": {
           "shape": ""
          }
         },
         "name": "BlackZone",
         "offsetgroup": "BlackZone",
         "orientation": "v",
         "showlegend": true,
         "text": [
          1
         ],
         "textposition": "auto",
         "type": "bar",
         "x": [
          "BlackZone"
         ],
         "xaxis": "x",
         "y": [
          1
         ],
         "yaxis": "y"
        },
        {
         "alignmentgroup": "True",
         "hovertemplate": "color=DIZO<br>x=%{x}<br>y=%{y}<br>text=%{text}<extra></extra>",
         "legendgroup": "DIZO",
         "marker": {
          "color": "rgb(236,226,240)",
          "pattern": {
           "shape": ""
          }
         },
         "name": "DIZO",
         "offsetgroup": "DIZO",
         "orientation": "v",
         "showlegend": true,
         "text": [
          1
         ],
         "textposition": "auto",
         "type": "bar",
         "x": [
          "DIZO"
         ],
         "xaxis": "x",
         "y": [
          1
         ],
         "yaxis": "y"
        },
        {
         "alignmentgroup": "True",
         "hovertemplate": "color=Leitz<br>x=%{x}<br>y=%{y}<br>text=%{text}<extra></extra>",
         "legendgroup": "Leitz",
         "marker": {
          "color": "rgb(208,209,230)",
          "pattern": {
           "shape": ""
          }
         },
         "name": "Leitz",
         "offsetgroup": "Leitz",
         "orientation": "v",
         "showlegend": true,
         "text": [
          1
         ],
         "textposition": "auto",
         "type": "bar",
         "x": [
          "Leitz"
         ],
         "xaxis": "x",
         "y": [
          1
         ],
         "yaxis": "y"
        },
        {
         "alignmentgroup": "True",
         "hovertemplate": "color=Duoqin<br>x=%{x}<br>y=%{y}<br>text=%{text}<extra></extra>",
         "legendgroup": "Duoqin",
         "marker": {
          "color": "rgb(166,189,219)",
          "pattern": {
           "shape": ""
          }
         },
         "name": "Duoqin",
         "offsetgroup": "Duoqin",
         "orientation": "v",
         "showlegend": true,
         "text": [
          1
         ],
         "textposition": "auto",
         "type": "bar",
         "x": [
          "Duoqin"
         ],
         "xaxis": "x",
         "y": [
          1
         ],
         "yaxis": "y"
        },
        {
         "alignmentgroup": "True",
         "hovertemplate": "color=Karbonn<br>x=%{x}<br>y=%{y}<br>text=%{text}<extra></extra>",
         "legendgroup": "Karbonn",
         "marker": {
          "color": "rgb(103,169,207)",
          "pattern": {
           "shape": ""
          }
         },
         "name": "Karbonn",
         "offsetgroup": "Karbonn",
         "orientation": "v",
         "showlegend": true,
         "text": [
          1
         ],
         "textposition": "auto",
         "type": "bar",
         "x": [
          "Karbonn"
         ],
         "xaxis": "x",
         "y": [
          1
         ],
         "yaxis": "y"
        },
        {
         "alignmentgroup": "True",
         "hovertemplate": "color=Zanco<br>x=%{x}<br>y=%{y}<br>text=%{text}<extra></extra>",
         "legendgroup": "Zanco",
         "marker": {
          "color": "rgb(54,144,192)",
          "pattern": {
           "shape": ""
          }
         },
         "name": "Zanco",
         "offsetgroup": "Zanco",
         "orientation": "v",
         "showlegend": true,
         "text": [
          1
         ],
         "textposition": "auto",
         "type": "bar",
         "x": [
          "Zanco"
         ],
         "xaxis": "x",
         "y": [
          1
         ],
         "yaxis": "y"
        },
        {
         "alignmentgroup": "True",
         "hovertemplate": "color=Vertu<br>x=%{x}<br>y=%{y}<br>text=%{text}<extra></extra>",
         "legendgroup": "Vertu",
         "marker": {
          "color": "rgb(2,129,138)",
          "pattern": {
           "shape": ""
          }
         },
         "name": "Vertu",
         "offsetgroup": "Vertu",
         "orientation": "v",
         "showlegend": true,
         "text": [
          1
         ],
         "textposition": "auto",
         "type": "bar",
         "x": [
          "Vertu"
         ],
         "xaxis": "x",
         "y": [
          1
         ],
         "yaxis": "y"
        },
        {
         "alignmentgroup": "True",
         "hovertemplate": "color=Tesla<br>x=%{x}<br>y=%{y}<br>text=%{text}<extra></extra>",
         "legendgroup": "Tesla",
         "marker": {
          "color": "rgb(1,108,89)",
          "pattern": {
           "shape": ""
          }
         },
         "name": "Tesla",
         "offsetgroup": "Tesla",
         "orientation": "v",
         "showlegend": true,
         "text": [
          1
         ],
         "textposition": "auto",
         "type": "bar",
         "x": [
          "Tesla"
         ],
         "xaxis": "x",
         "y": [
          1
         ],
         "yaxis": "y"
        },
        {
         "alignmentgroup": "True",
         "hovertemplate": "color=Namotel<br>x=%{x}<br>y=%{y}<br>text=%{text}<extra></extra>",
         "legendgroup": "Namotel",
         "marker": {
          "color": "rgb(1,70,54)",
          "pattern": {
           "shape": ""
          }
         },
         "name": "Namotel",
         "offsetgroup": "Namotel",
         "orientation": "v",
         "showlegend": true,
         "text": [
          1
         ],
         "textposition": "auto",
         "type": "bar",
         "x": [
          "Namotel"
         ],
         "xaxis": "x",
         "y": [
          1
         ],
         "yaxis": "y"
        },
        {
         "alignmentgroup": "True",
         "hovertemplate": "color=Cola<br>x=%{x}<br>y=%{y}<br>text=%{text}<extra></extra>",
         "legendgroup": "Cola",
         "marker": {
          "color": "rgb(255,247,251)",
          "pattern": {
           "shape": ""
          }
         },
         "name": "Cola",
         "offsetgroup": "Cola",
         "orientation": "v",
         "showlegend": true,
         "text": [
          1
         ],
         "textposition": "auto",
         "type": "bar",
         "x": [
          "Cola"
         ],
         "xaxis": "x",
         "y": [
          1
         ],
         "yaxis": "y"
        },
        {
         "alignmentgroup": "True",
         "hovertemplate": "color=XTouch<br>x=%{x}<br>y=%{y}<br>text=%{text}<extra></extra>",
         "legendgroup": "XTouch",
         "marker": {
          "color": "rgb(236,226,240)",
          "pattern": {
           "shape": ""
          }
         },
         "name": "XTouch",
         "offsetgroup": "XTouch",
         "orientation": "v",
         "showlegend": true,
         "text": [
          1
         ],
         "textposition": "auto",
         "type": "bar",
         "x": [
          "XTouch"
         ],
         "xaxis": "x",
         "y": [
          1
         ],
         "yaxis": "y"
        }
       ],
       "layout": {
        "barmode": "relative",
        "font": {
         "family": "Franklin Gothic",
         "size": 17
        },
        "height": 500,
        "legend": {
         "title": {
          "text": "color"
         },
         "tracegroupgap": 0
        },
        "template": {
         "data": {
          "bar": [
           {
            "error_x": {
             "color": "#f2f5fa"
            },
            "error_y": {
             "color": "#f2f5fa"
            },
            "marker": {
             "line": {
              "color": "rgb(17,17,17)",
              "width": 0.5
             },
             "pattern": {
              "fillmode": "overlay",
              "size": 10,
              "solidity": 0.2
             }
            },
            "type": "bar"
           }
          ],
          "barpolar": [
           {
            "marker": {
             "line": {
              "color": "rgb(17,17,17)",
              "width": 0.5
             },
             "pattern": {
              "fillmode": "overlay",
              "size": 10,
              "solidity": 0.2
             }
            },
            "type": "barpolar"
           }
          ],
          "carpet": [
           {
            "aaxis": {
             "endlinecolor": "#A2B1C6",
             "gridcolor": "#506784",
             "linecolor": "#506784",
             "minorgridcolor": "#506784",
             "startlinecolor": "#A2B1C6"
            },
            "baxis": {
             "endlinecolor": "#A2B1C6",
             "gridcolor": "#506784",
             "linecolor": "#506784",
             "minorgridcolor": "#506784",
             "startlinecolor": "#A2B1C6"
            },
            "type": "carpet"
           }
          ],
          "choropleth": [
           {
            "colorbar": {
             "outlinewidth": 0,
             "ticks": ""
            },
            "type": "choropleth"
           }
          ],
          "contour": [
           {
            "colorbar": {
             "outlinewidth": 0,
             "ticks": ""
            },
            "colorscale": [
             [
              0,
              "#0d0887"
             ],
             [
              0.1111111111111111,
              "#46039f"
             ],
             [
              0.2222222222222222,
              "#7201a8"
             ],
             [
              0.3333333333333333,
              "#9c179e"
             ],
             [
              0.4444444444444444,
              "#bd3786"
             ],
             [
              0.5555555555555556,
              "#d8576b"
             ],
             [
              0.6666666666666666,
              "#ed7953"
             ],
             [
              0.7777777777777778,
              "#fb9f3a"
             ],
             [
              0.8888888888888888,
              "#fdca26"
             ],
             [
              1,
              "#f0f921"
             ]
            ],
            "type": "contour"
           }
          ],
          "contourcarpet": [
           {
            "colorbar": {
             "outlinewidth": 0,
             "ticks": ""
            },
            "type": "contourcarpet"
           }
          ],
          "heatmap": [
           {
            "colorbar": {
             "outlinewidth": 0,
             "ticks": ""
            },
            "colorscale": [
             [
              0,
              "#0d0887"
             ],
             [
              0.1111111111111111,
              "#46039f"
             ],
             [
              0.2222222222222222,
              "#7201a8"
             ],
             [
              0.3333333333333333,
              "#9c179e"
             ],
             [
              0.4444444444444444,
              "#bd3786"
             ],
             [
              0.5555555555555556,
              "#d8576b"
             ],
             [
              0.6666666666666666,
              "#ed7953"
             ],
             [
              0.7777777777777778,
              "#fb9f3a"
             ],
             [
              0.8888888888888888,
              "#fdca26"
             ],
             [
              1,
              "#f0f921"
             ]
            ],
            "type": "heatmap"
           }
          ],
          "heatmapgl": [
           {
            "colorbar": {
             "outlinewidth": 0,
             "ticks": ""
            },
            "colorscale": [
             [
              0,
              "#0d0887"
             ],
             [
              0.1111111111111111,
              "#46039f"
             ],
             [
              0.2222222222222222,
              "#7201a8"
             ],
             [
              0.3333333333333333,
              "#9c179e"
             ],
             [
              0.4444444444444444,
              "#bd3786"
             ],
             [
              0.5555555555555556,
              "#d8576b"
             ],
             [
              0.6666666666666666,
              "#ed7953"
             ],
             [
              0.7777777777777778,
              "#fb9f3a"
             ],
             [
              0.8888888888888888,
              "#fdca26"
             ],
             [
              1,
              "#f0f921"
             ]
            ],
            "type": "heatmapgl"
           }
          ],
          "histogram": [
           {
            "marker": {
             "pattern": {
              "fillmode": "overlay",
              "size": 10,
              "solidity": 0.2
             }
            },
            "type": "histogram"
           }
          ],
          "histogram2d": [
           {
            "colorbar": {
             "outlinewidth": 0,
             "ticks": ""
            },
            "colorscale": [
             [
              0,
              "#0d0887"
             ],
             [
              0.1111111111111111,
              "#46039f"
             ],
             [
              0.2222222222222222,
              "#7201a8"
             ],
             [
              0.3333333333333333,
              "#9c179e"
             ],
             [
              0.4444444444444444,
              "#bd3786"
             ],
             [
              0.5555555555555556,
              "#d8576b"
             ],
             [
              0.6666666666666666,
              "#ed7953"
             ],
             [
              0.7777777777777778,
              "#fb9f3a"
             ],
             [
              0.8888888888888888,
              "#fdca26"
             ],
             [
              1,
              "#f0f921"
             ]
            ],
            "type": "histogram2d"
           }
          ],
          "histogram2dcontour": [
           {
            "colorbar": {
             "outlinewidth": 0,
             "ticks": ""
            },
            "colorscale": [
             [
              0,
              "#0d0887"
             ],
             [
              0.1111111111111111,
              "#46039f"
             ],
             [
              0.2222222222222222,
              "#7201a8"
             ],
             [
              0.3333333333333333,
              "#9c179e"
             ],
             [
              0.4444444444444444,
              "#bd3786"
             ],
             [
              0.5555555555555556,
              "#d8576b"
             ],
             [
              0.6666666666666666,
              "#ed7953"
             ],
             [
              0.7777777777777778,
              "#fb9f3a"
             ],
             [
              0.8888888888888888,
              "#fdca26"
             ],
             [
              1,
              "#f0f921"
             ]
            ],
            "type": "histogram2dcontour"
           }
          ],
          "mesh3d": [
           {
            "colorbar": {
             "outlinewidth": 0,
             "ticks": ""
            },
            "type": "mesh3d"
           }
          ],
          "parcoords": [
           {
            "line": {
             "colorbar": {
              "outlinewidth": 0,
              "ticks": ""
             }
            },
            "type": "parcoords"
           }
          ],
          "pie": [
           {
            "automargin": true,
            "type": "pie"
           }
          ],
          "scatter": [
           {
            "marker": {
             "line": {
              "color": "#283442"
             }
            },
            "type": "scatter"
           }
          ],
          "scatter3d": [
           {
            "line": {
             "colorbar": {
              "outlinewidth": 0,
              "ticks": ""
             }
            },
            "marker": {
             "colorbar": {
              "outlinewidth": 0,
              "ticks": ""
             }
            },
            "type": "scatter3d"
           }
          ],
          "scattercarpet": [
           {
            "marker": {
             "colorbar": {
              "outlinewidth": 0,
              "ticks": ""
             }
            },
            "type": "scattercarpet"
           }
          ],
          "scattergeo": [
           {
            "marker": {
             "colorbar": {
              "outlinewidth": 0,
              "ticks": ""
             }
            },
            "type": "scattergeo"
           }
          ],
          "scattergl": [
           {
            "marker": {
             "line": {
              "color": "#283442"
             }
            },
            "type": "scattergl"
           }
          ],
          "scattermapbox": [
           {
            "marker": {
             "colorbar": {
              "outlinewidth": 0,
              "ticks": ""
             }
            },
            "type": "scattermapbox"
           }
          ],
          "scatterpolar": [
           {
            "marker": {
             "colorbar": {
              "outlinewidth": 0,
              "ticks": ""
             }
            },
            "type": "scatterpolar"
           }
          ],
          "scatterpolargl": [
           {
            "marker": {
             "colorbar": {
              "outlinewidth": 0,
              "ticks": ""
             }
            },
            "type": "scatterpolargl"
           }
          ],
          "scatterternary": [
           {
            "marker": {
             "colorbar": {
              "outlinewidth": 0,
              "ticks": ""
             }
            },
            "type": "scatterternary"
           }
          ],
          "surface": [
           {
            "colorbar": {
             "outlinewidth": 0,
             "ticks": ""
            },
            "colorscale": [
             [
              0,
              "#0d0887"
             ],
             [
              0.1111111111111111,
              "#46039f"
             ],
             [
              0.2222222222222222,
              "#7201a8"
             ],
             [
              0.3333333333333333,
              "#9c179e"
             ],
             [
              0.4444444444444444,
              "#bd3786"
             ],
             [
              0.5555555555555556,
              "#d8576b"
             ],
             [
              0.6666666666666666,
              "#ed7953"
             ],
             [
              0.7777777777777778,
              "#fb9f3a"
             ],
             [
              0.8888888888888888,
              "#fdca26"
             ],
             [
              1,
              "#f0f921"
             ]
            ],
            "type": "surface"
           }
          ],
          "table": [
           {
            "cells": {
             "fill": {
              "color": "#506784"
             },
             "line": {
              "color": "rgb(17,17,17)"
             }
            },
            "header": {
             "fill": {
              "color": "#2a3f5f"
             },
             "line": {
              "color": "rgb(17,17,17)"
             }
            },
            "type": "table"
           }
          ]
         },
         "layout": {
          "annotationdefaults": {
           "arrowcolor": "#f2f5fa",
           "arrowhead": 0,
           "arrowwidth": 1
          },
          "autotypenumbers": "strict",
          "coloraxis": {
           "colorbar": {
            "outlinewidth": 0,
            "ticks": ""
           }
          },
          "colorscale": {
           "diverging": [
            [
             0,
             "#8e0152"
            ],
            [
             0.1,
             "#c51b7d"
            ],
            [
             0.2,
             "#de77ae"
            ],
            [
             0.3,
             "#f1b6da"
            ],
            [
             0.4,
             "#fde0ef"
            ],
            [
             0.5,
             "#f7f7f7"
            ],
            [
             0.6,
             "#e6f5d0"
            ],
            [
             0.7,
             "#b8e186"
            ],
            [
             0.8,
             "#7fbc41"
            ],
            [
             0.9,
             "#4d9221"
            ],
            [
             1,
             "#276419"
            ]
           ],
           "sequential": [
            [
             0,
             "#0d0887"
            ],
            [
             0.1111111111111111,
             "#46039f"
            ],
            [
             0.2222222222222222,
             "#7201a8"
            ],
            [
             0.3333333333333333,
             "#9c179e"
            ],
            [
             0.4444444444444444,
             "#bd3786"
            ],
            [
             0.5555555555555556,
             "#d8576b"
            ],
            [
             0.6666666666666666,
             "#ed7953"
            ],
            [
             0.7777777777777778,
             "#fb9f3a"
            ],
            [
             0.8888888888888888,
             "#fdca26"
            ],
            [
             1,
             "#f0f921"
            ]
           ],
           "sequentialminus": [
            [
             0,
             "#0d0887"
            ],
            [
             0.1111111111111111,
             "#46039f"
            ],
            [
             0.2222222222222222,
             "#7201a8"
            ],
            [
             0.3333333333333333,
             "#9c179e"
            ],
            [
             0.4444444444444444,
             "#bd3786"
            ],
            [
             0.5555555555555556,
             "#d8576b"
            ],
            [
             0.6666666666666666,
             "#ed7953"
            ],
            [
             0.7777777777777778,
             "#fb9f3a"
            ],
            [
             0.8888888888888888,
             "#fdca26"
            ],
            [
             1,
             "#f0f921"
            ]
           ]
          },
          "colorway": [
           "#636efa",
           "#EF553B",
           "#00cc96",
           "#ab63fa",
           "#FFA15A",
           "#19d3f3",
           "#FF6692",
           "#B6E880",
           "#FF97FF",
           "#FECB52"
          ],
          "font": {
           "color": "#f2f5fa"
          },
          "geo": {
           "bgcolor": "rgb(17,17,17)",
           "lakecolor": "rgb(17,17,17)",
           "landcolor": "rgb(17,17,17)",
           "showlakes": true,
           "showland": true,
           "subunitcolor": "#506784"
          },
          "hoverlabel": {
           "align": "left"
          },
          "hovermode": "closest",
          "mapbox": {
           "style": "dark"
          },
          "paper_bgcolor": "rgb(17,17,17)",
          "plot_bgcolor": "rgb(17,17,17)",
          "polar": {
           "angularaxis": {
            "gridcolor": "#506784",
            "linecolor": "#506784",
            "ticks": ""
           },
           "bgcolor": "rgb(17,17,17)",
           "radialaxis": {
            "gridcolor": "#506784",
            "linecolor": "#506784",
            "ticks": ""
           }
          },
          "scene": {
           "xaxis": {
            "backgroundcolor": "rgb(17,17,17)",
            "gridcolor": "#506784",
            "gridwidth": 2,
            "linecolor": "#506784",
            "showbackground": true,
            "ticks": "",
            "zerolinecolor": "#C8D4E3"
           },
           "yaxis": {
            "backgroundcolor": "rgb(17,17,17)",
            "gridcolor": "#506784",
            "gridwidth": 2,
            "linecolor": "#506784",
            "showbackground": true,
            "ticks": "",
            "zerolinecolor": "#C8D4E3"
           },
           "zaxis": {
            "backgroundcolor": "rgb(17,17,17)",
            "gridcolor": "#506784",
            "gridwidth": 2,
            "linecolor": "#506784",
            "showbackground": true,
            "ticks": "",
            "zerolinecolor": "#C8D4E3"
           }
          },
          "shapedefaults": {
           "line": {
            "color": "#f2f5fa"
           }
          },
          "sliderdefaults": {
           "bgcolor": "#C8D4E3",
           "bordercolor": "rgb(17,17,17)",
           "borderwidth": 1,
           "tickwidth": 0
          },
          "ternary": {
           "aaxis": {
            "gridcolor": "#506784",
            "linecolor": "#506784",
            "ticks": ""
           },
           "baxis": {
            "gridcolor": "#506784",
            "linecolor": "#506784",
            "ticks": ""
           },
           "bgcolor": "rgb(17,17,17)",
           "caxis": {
            "gridcolor": "#506784",
            "linecolor": "#506784",
            "ticks": ""
           }
          },
          "title": {
           "x": 0.05
          },
          "updatemenudefaults": {
           "bgcolor": "#506784",
           "borderwidth": 0
          },
          "xaxis": {
           "automargin": true,
           "gridcolor": "#283442",
           "linecolor": "#506784",
           "ticks": "",
           "title": {
            "standoff": 15
           },
           "zerolinecolor": "#283442",
           "zerolinewidth": 2
          },
          "yaxis": {
           "automargin": true,
           "gridcolor": "#283442",
           "linecolor": "#506784",
           "ticks": "",
           "title": {
            "standoff": 15
           },
           "zerolinecolor": "#283442",
           "zerolinewidth": 2
          }
         }
        },
        "title": {
         "text": "Company distribution"
        },
        "width": 1500,
        "xaxis": {
         "anchor": "y",
         "domain": [
          0,
          1
         ],
         "title": {
          "text": "Company"
         }
        },
        "yaxis": {
         "anchor": "x",
         "domain": [
          0,
          1
         ],
         "title": {
          "text": "count"
         }
        }
       }
      }
     },
     "metadata": {},
     "output_type": "display_data"
    }
   ],
   "source": [
    "import plotly.express as px\n",
    "\n",
    "Company = df['company'].value_counts()\n",
    "\n",
    "fig = px.bar(\n",
    "    y=Company.values, \n",
    "    x=Company.index, \n",
    "    color=Company.index,\n",
    "    color_discrete_sequence=px.colors.sequential.PuBuGn,\n",
    "    text=Company.values,\n",
    "    title='Company distribution',\n",
    "    template='plotly_dark',\n",
    "    width=1500,\n",
    "    height=500\n",
    ")\n",
    "\n",
    "fig.update_layout(\n",
    "    xaxis_title=\"Company\",\n",
    "    yaxis_title=\"count\",\n",
    "    font=dict(size=17, family=\"Franklin Gothic\")\n",
    ")\n",
    "\n",
    "fig.show()\n"
   ]
  },
  {
   "attachments": {},
   "cell_type": "markdown",
   "id": "381e4cc8",
   "metadata": {},
   "source": [
    "# NOTE  \n",
    "Xiaomi and Samsung have the same count, followed by vivo and realme"
   ]
  },
  {
   "cell_type": "code",
   "execution_count": 11,
   "id": "54608db6",
   "metadata": {
    "execution": {
     "iopub.execute_input": "2023-04-13T22:17:10.026489Z",
     "iopub.status.busy": "2023-04-13T22:17:10.025357Z",
     "iopub.status.idle": "2023-04-13T22:17:10.280049Z",
     "shell.execute_reply": "2023-04-13T22:17:10.278421Z"
    },
    "papermill": {
     "duration": 0.271741,
     "end_time": "2023-04-13T22:17:10.284157",
     "exception": false,
     "start_time": "2023-04-13T22:17:10.012416",
     "status": "completed"
    },
    "tags": []
   },
   "outputs": [
    {
     "data": {
      "application/vnd.plotly.v1+json": {
       "config": {
        "plotlyServerURL": "https://plot.ly"
       },
       "data": [
        {
         "alignmentgroup": "True",
         "hovertemplate": "color=Snapdragon<br>x=%{x}<br>y=%{y}<br>text=%{text}<extra></extra>",
         "legendgroup": "Snapdragon",
         "marker": {
          "color": "rgb(255,247,251)",
          "pattern": {
           "shape": ""
          }
         },
         "name": "Snapdragon",
         "offsetgroup": "Snapdragon",
         "orientation": "v",
         "showlegend": true,
         "text": [
          411
         ],
         "textposition": "auto",
         "type": "bar",
         "x": [
          "Snapdragon"
         ],
         "xaxis": "x",
         "y": [
          411
         ],
         "yaxis": "y"
        },
        {
         "alignmentgroup": "True",
         "hovertemplate": "color=Helio<br>x=%{x}<br>y=%{y}<br>text=%{text}<extra></extra>",
         "legendgroup": "Helio",
         "marker": {
          "color": "rgb(236,226,240)",
          "pattern": {
           "shape": ""
          }
         },
         "name": "Helio",
         "offsetgroup": "Helio",
         "orientation": "v",
         "showlegend": true,
         "text": [
          200
         ],
         "textposition": "auto",
         "type": "bar",
         "x": [
          "Helio"
         ],
         "xaxis": "x",
         "y": [
          200
         ],
         "yaxis": "y"
        },
        {
         "alignmentgroup": "True",
         "hovertemplate": "color=Dimensity<br>x=%{x}<br>y=%{y}<br>text=%{text}<extra></extra>",
         "legendgroup": "Dimensity",
         "marker": {
          "color": "rgb(208,209,230)",
          "pattern": {
           "shape": ""
          }
         },
         "name": "Dimensity",
         "offsetgroup": "Dimensity",
         "orientation": "v",
         "showlegend": true,
         "text": [
          177
         ],
         "textposition": "auto",
         "type": "bar",
         "x": [
          "Dimensity"
         ],
         "xaxis": "x",
         "y": [
          177
         ],
         "yaxis": "y"
        },
        {
         "alignmentgroup": "True",
         "hovertemplate": "color=Exynos<br>x=%{x}<br>y=%{y}<br>text=%{text}<extra></extra>",
         "legendgroup": "Exynos",
         "marker": {
          "color": "rgb(166,189,219)",
          "pattern": {
           "shape": ""
          }
         },
         "name": "Exynos",
         "offsetgroup": "Exynos",
         "orientation": "v",
         "showlegend": true,
         "text": [
          49
         ],
         "textposition": "auto",
         "type": "bar",
         "x": [
          "Exynos"
         ],
         "xaxis": "x",
         "y": [
          49
         ],
         "yaxis": "y"
        },
        {
         "alignmentgroup": "True",
         "hovertemplate": "color=Bionic<br>x=%{x}<br>y=%{y}<br>text=%{text}<extra></extra>",
         "legendgroup": "Bionic",
         "marker": {
          "color": "rgb(103,169,207)",
          "pattern": {
           "shape": ""
          }
         },
         "name": "Bionic",
         "offsetgroup": "Bionic",
         "orientation": "v",
         "showlegend": true,
         "text": [
          39
         ],
         "textposition": "auto",
         "type": "bar",
         "x": [
          "Bionic"
         ],
         "xaxis": "x",
         "y": [
          39
         ],
         "yaxis": "y"
        },
        {
         "alignmentgroup": "True",
         "hovertemplate": "color=Unisoc<br>x=%{x}<br>y=%{y}<br>text=%{text}<extra></extra>",
         "legendgroup": "Unisoc",
         "marker": {
          "color": "rgb(54,144,192)",
          "pattern": {
           "shape": ""
          }
         },
         "name": "Unisoc",
         "offsetgroup": "Unisoc",
         "orientation": "v",
         "showlegend": true,
         "text": [
          27
         ],
         "textposition": "auto",
         "type": "bar",
         "x": [
          "Unisoc"
         ],
         "xaxis": "x",
         "y": [
          27
         ],
         "yaxis": "y"
        },
        {
         "alignmentgroup": "True",
         "hovertemplate": "color=Tiger<br>x=%{x}<br>y=%{y}<br>text=%{text}<extra></extra>",
         "legendgroup": "Tiger",
         "marker": {
          "color": "rgb(2,129,138)",
          "pattern": {
           "shape": ""
          }
         },
         "name": "Tiger",
         "offsetgroup": "Tiger",
         "orientation": "v",
         "showlegend": true,
         "text": [
          24
         ],
         "textposition": "auto",
         "type": "bar",
         "x": [
          "Tiger"
         ],
         "xaxis": "x",
         "y": [
          24
         ],
         "yaxis": "y"
        },
        {
         "alignmentgroup": "True",
         "hovertemplate": "color=Octa<br>x=%{x}<br>y=%{y}<br>text=%{text}<extra></extra>",
         "legendgroup": "Octa",
         "marker": {
          "color": "rgb(1,108,89)",
          "pattern": {
           "shape": ""
          }
         },
         "name": "Octa",
         "offsetgroup": "Octa",
         "orientation": "v",
         "showlegend": true,
         "text": [
          14
         ],
         "textposition": "auto",
         "type": "bar",
         "x": [
          "Octa"
         ],
         "xaxis": "x",
         "y": [
          14
         ],
         "yaxis": "y"
        },
        {
         "alignmentgroup": "True",
         "hovertemplate": "color=No<br>x=%{x}<br>y=%{y}<br>text=%{text}<extra></extra>",
         "legendgroup": "No",
         "marker": {
          "color": "rgb(1,70,54)",
          "pattern": {
           "shape": ""
          }
         },
         "name": "No",
         "offsetgroup": "No",
         "orientation": "v",
         "showlegend": true,
         "text": [
          13
         ],
         "textposition": "auto",
         "type": "bar",
         "x": [
          "No"
         ],
         "xaxis": "x",
         "y": [
          13
         ],
         "yaxis": "y"
        },
        {
         "alignmentgroup": "True",
         "hovertemplate": "color=Google<br>x=%{x}<br>y=%{y}<br>text=%{text}<extra></extra>",
         "legendgroup": "Google",
         "marker": {
          "color": "rgb(255,247,251)",
          "pattern": {
           "shape": ""
          }
         },
         "name": "Google",
         "offsetgroup": "Google",
         "orientation": "v",
         "showlegend": true,
         "text": [
          9
         ],
         "textposition": "auto",
         "type": "bar",
         "x": [
          "Google"
         ],
         "xaxis": "x",
         "y": [
          9
         ],
         "yaxis": "y"
        },
        {
         "alignmentgroup": "True",
         "hovertemplate": "color=Kirin<br>x=%{x}<br>y=%{y}<br>text=%{text}<extra></extra>",
         "legendgroup": "Kirin",
         "marker": {
          "color": "rgb(236,226,240)",
          "pattern": {
           "shape": ""
          }
         },
         "name": "Kirin",
         "offsetgroup": "Kirin",
         "orientation": "v",
         "showlegend": true,
         "text": [
          7
         ],
         "textposition": "auto",
         "type": "bar",
         "x": [
          "Kirin"
         ],
         "xaxis": "x",
         "y": [
          7
         ],
         "yaxis": "y"
        },
        {
         "alignmentgroup": "True",
         "hovertemplate": "color=Quad<br>x=%{x}<br>y=%{y}<br>text=%{text}<extra></extra>",
         "legendgroup": "Quad",
         "marker": {
          "color": "rgb(208,209,230)",
          "pattern": {
           "shape": ""
          }
         },
         "name": "Quad",
         "offsetgroup": "Quad",
         "orientation": "v",
         "showlegend": true,
         "text": [
          6
         ],
         "textposition": "auto",
         "type": "bar",
         "x": [
          "Quad"
         ],
         "xaxis": "x",
         "y": [
          6
         ],
         "yaxis": "y"
        },
        {
         "alignmentgroup": "True",
         "hovertemplate": "color=Qualcomm<br>x=%{x}<br>y=%{y}<br>text=%{text}<extra></extra>",
         "legendgroup": "Qualcomm",
         "marker": {
          "color": "rgb(166,189,219)",
          "pattern": {
           "shape": ""
          }
         },
         "name": "Qualcomm",
         "offsetgroup": "Qualcomm",
         "orientation": "v",
         "showlegend": true,
         "text": [
          5
         ],
         "textposition": "auto",
         "type": "bar",
         "x": [
          "Qualcomm"
         ],
         "xaxis": "x",
         "y": [
          5
         ],
         "yaxis": "y"
        },
        {
         "alignmentgroup": "True",
         "hovertemplate": "color=A13<br>x=%{x}<br>y=%{y}<br>text=%{text}<extra></extra>",
         "legendgroup": "A13",
         "marker": {
          "color": "rgb(103,169,207)",
          "pattern": {
           "shape": ""
          }
         },
         "name": "A13",
         "offsetgroup": "A13",
         "orientation": "v",
         "showlegend": true,
         "text": [
          5
         ],
         "textposition": "auto",
         "type": "bar",
         "x": [
          "A13"
         ],
         "xaxis": "x",
         "y": [
          5
         ],
         "yaxis": "y"
        },
        {
         "alignmentgroup": "True",
         "hovertemplate": "color=Spreadtrum<br>x=%{x}<br>y=%{y}<br>text=%{text}<extra></extra>",
         "legendgroup": "Spreadtrum",
         "marker": {
          "color": "rgb(54,144,192)",
          "pattern": {
           "shape": ""
          }
         },
         "name": "Spreadtrum",
         "offsetgroup": "Spreadtrum",
         "orientation": "v",
         "showlegend": true,
         "text": [
          4
         ],
         "textposition": "auto",
         "type": "bar",
         "x": [
          "Spreadtrum"
         ],
         "xaxis": "x",
         "y": [
          4
         ],
         "yaxis": "y"
        },
        {
         "alignmentgroup": "True",
         "hovertemplate": "color=1<br>x=%{x}<br>y=%{y}<br>text=%{text}<extra></extra>",
         "legendgroup": "1",
         "marker": {
          "color": "rgb(2,129,138)",
          "pattern": {
           "shape": ""
          }
         },
         "name": "1",
         "offsetgroup": "1",
         "orientation": "v",
         "showlegend": true,
         "text": [
          3
         ],
         "textposition": "auto",
         "type": "bar",
         "x": [
          "1"
         ],
         "xaxis": "x",
         "y": [
          3
         ],
         "yaxis": "y"
        },
        {
         "alignmentgroup": "True",
         "hovertemplate": "color=4<br>x=%{x}<br>y=%{y}<br>text=%{text}<extra></extra>",
         "legendgroup": "4",
         "marker": {
          "color": "rgb(1,108,89)",
          "pattern": {
           "shape": ""
          }
         },
         "name": "4",
         "offsetgroup": "4",
         "orientation": "v",
         "showlegend": true,
         "text": [
          3
         ],
         "textposition": "auto",
         "type": "bar",
         "x": [
          "4"
         ],
         "xaxis": "x",
         "y": [
          3
         ],
         "yaxis": "y"
        },
        {
         "alignmentgroup": "True",
         "hovertemplate": "color=SC9863A,<br>x=%{x}<br>y=%{y}<br>text=%{text}<extra></extra>",
         "legendgroup": "SC9863A,",
         "marker": {
          "color": "rgb(1,70,54)",
          "pattern": {
           "shape": ""
          }
         },
         "name": "SC9863A,",
         "offsetgroup": "SC9863A,",
         "orientation": "v",
         "showlegend": true,
         "text": [
          2
         ],
         "textposition": "auto",
         "type": "bar",
         "x": [
          "SC9863A,"
         ],
         "xaxis": "x",
         "y": [
          2
         ],
         "yaxis": "y"
        },
        {
         "alignmentgroup": "True",
         "hovertemplate": "color=Helio,<br>x=%{x}<br>y=%{y}<br>text=%{text}<extra></extra>",
         "legendgroup": "Helio,",
         "marker": {
          "color": "rgb(255,247,251)",
          "pattern": {
           "shape": ""
          }
         },
         "name": "Helio,",
         "offsetgroup": "Helio,",
         "orientation": "v",
         "showlegend": true,
         "text": [
          2
         ],
         "textposition": "auto",
         "type": "bar",
         "x": [
          "Helio,"
         ],
         "xaxis": "x",
         "y": [
          2
         ],
         "yaxis": "y"
        },
        {
         "alignmentgroup": "True",
         "hovertemplate": "color=32<br>x=%{x}<br>y=%{y}<br>text=%{text}<extra></extra>",
         "legendgroup": "32",
         "marker": {
          "color": "rgb(236,226,240)",
          "pattern": {
           "shape": ""
          }
         },
         "name": "32",
         "offsetgroup": "32",
         "orientation": "v",
         "showlegend": true,
         "text": [
          2
         ],
         "textposition": "auto",
         "type": "bar",
         "x": [
          "32"
         ],
         "xaxis": "x",
         "y": [
          2
         ],
         "yaxis": "y"
        },
        {
         "alignmentgroup": "True",
         "hovertemplate": "color=1.77<br>x=%{x}<br>y=%{y}<br>text=%{text}<extra></extra>",
         "legendgroup": "1.77",
         "marker": {
          "color": "rgb(208,209,230)",
          "pattern": {
           "shape": ""
          }
         },
         "name": "1.77",
         "offsetgroup": "1.77",
         "orientation": "v",
         "showlegend": true,
         "text": [
          2
         ],
         "textposition": "auto",
         "type": "bar",
         "x": [
          "1.77"
         ],
         "xaxis": "x",
         "y": [
          2
         ],
         "yaxis": "y"
        },
        {
         "alignmentgroup": "True",
         "hovertemplate": "color=52<br>x=%{x}<br>y=%{y}<br>text=%{text}<extra></extra>",
         "legendgroup": "52",
         "marker": {
          "color": "rgb(166,189,219)",
          "pattern": {
           "shape": ""
          }
         },
         "name": "52",
         "offsetgroup": "52",
         "orientation": "v",
         "showlegend": true,
         "text": [
          1
         ],
         "textposition": "auto",
         "type": "bar",
         "x": [
          "52"
         ],
         "xaxis": "x",
         "y": [
          1
         ],
         "yaxis": "y"
        },
        {
         "alignmentgroup": "True",
         "hovertemplate": "color=48<br>x=%{x}<br>y=%{y}<br>text=%{text}<extra></extra>",
         "legendgroup": "48",
         "marker": {
          "color": "rgb(103,169,207)",
          "pattern": {
           "shape": ""
          }
         },
         "name": "48",
         "offsetgroup": "48",
         "orientation": "v",
         "showlegend": true,
         "text": [
          1
         ],
         "textposition": "auto",
         "type": "bar",
         "x": [
          "48"
         ],
         "xaxis": "x",
         "y": [
          1
         ],
         "yaxis": "y"
        },
        {
         "alignmentgroup": "True",
         "hovertemplate": "color=256<br>x=%{x}<br>y=%{y}<br>text=%{text}<extra></extra>",
         "legendgroup": "256",
         "marker": {
          "color": "rgb(54,144,192)",
          "pattern": {
           "shape": ""
          }
         },
         "name": "256",
         "offsetgroup": "256",
         "orientation": "v",
         "showlegend": true,
         "text": [
          1
         ],
         "textposition": "auto",
         "type": "bar",
         "x": [
          "256"
         ],
         "xaxis": "x",
         "y": [
          1
         ],
         "yaxis": "y"
        },
        {
         "alignmentgroup": "True",
         "hovertemplate": "color=Single<br>x=%{x}<br>y=%{y}<br>text=%{text}<extra></extra>",
         "legendgroup": "Single",
         "marker": {
          "color": "rgb(2,129,138)",
          "pattern": {
           "shape": ""
          }
         },
         "name": "Single",
         "offsetgroup": "Single",
         "orientation": "v",
         "showlegend": true,
         "text": [
          1
         ],
         "textposition": "auto",
         "type": "bar",
         "x": [
          "Single"
         ],
         "xaxis": "x",
         "y": [
          1
         ],
         "yaxis": "y"
        },
        {
         "alignmentgroup": "True",
         "hovertemplate": "color=Samsung<br>x=%{x}<br>y=%{y}<br>text=%{text}<extra></extra>",
         "legendgroup": "Samsung",
         "marker": {
          "color": "rgb(1,108,89)",
          "pattern": {
           "shape": ""
          }
         },
         "name": "Samsung",
         "offsetgroup": "Samsung",
         "orientation": "v",
         "showlegend": true,
         "text": [
          1
         ],
         "textposition": "auto",
         "type": "bar",
         "x": [
          "Samsung"
         ],
         "xaxis": "x",
         "y": [
          1
         ],
         "yaxis": "y"
        },
        {
         "alignmentgroup": "True",
         "hovertemplate": "color=(28<br>x=%{x}<br>y=%{y}<br>text=%{text}<extra></extra>",
         "legendgroup": "(28",
         "marker": {
          "color": "rgb(1,70,54)",
          "pattern": {
           "shape": ""
          }
         },
         "name": "(28",
         "offsetgroup": "(28",
         "orientation": "v",
         "showlegend": true,
         "text": [
          1
         ],
         "textposition": "auto",
         "type": "bar",
         "x": [
          "(28"
         ],
         "xaxis": "x",
         "y": [
          1
         ],
         "yaxis": "y"
        },
        {
         "alignmentgroup": "True",
         "hovertemplate": "color=SC6531E,<br>x=%{x}<br>y=%{y}<br>text=%{text}<extra></extra>",
         "legendgroup": "SC6531E,",
         "marker": {
          "color": "rgb(255,247,251)",
          "pattern": {
           "shape": ""
          }
         },
         "name": "SC6531E,",
         "offsetgroup": "SC6531E,",
         "orientation": "v",
         "showlegend": true,
         "text": [
          1
         ],
         "textposition": "auto",
         "type": "bar",
         "x": [
          "SC6531E,"
         ],
         "xaxis": "x",
         "y": [
          1
         ],
         "yaxis": "y"
        },
        {
         "alignmentgroup": "True",
         "hovertemplate": "color=Dual<br>x=%{x}<br>y=%{y}<br>text=%{text}<extra></extra>",
         "legendgroup": "Dual",
         "marker": {
          "color": "rgb(236,226,240)",
          "pattern": {
           "shape": ""
          }
         },
         "name": "Dual",
         "offsetgroup": "Dual",
         "orientation": "v",
         "showlegend": true,
         "text": [
          1
         ],
         "textposition": "auto",
         "type": "bar",
         "x": [
          "Dual"
         ],
         "xaxis": "x",
         "y": [
          1
         ],
         "yaxis": "y"
        },
        {
         "alignmentgroup": "True",
         "hovertemplate": "color=2000<br>x=%{x}<br>y=%{y}<br>text=%{text}<extra></extra>",
         "legendgroup": "2000",
         "marker": {
          "color": "rgb(208,209,230)",
          "pattern": {
           "shape": ""
          }
         },
         "name": "2000",
         "offsetgroup": "2000",
         "orientation": "v",
         "showlegend": true,
         "text": [
          1
         ],
         "textposition": "auto",
         "type": "bar",
         "x": [
          "2000"
         ],
         "xaxis": "x",
         "y": [
          1
         ],
         "yaxis": "y"
        },
        {
         "alignmentgroup": "True",
         "hovertemplate": "color=800<br>x=%{x}<br>y=%{y}<br>text=%{text}<extra></extra>",
         "legendgroup": "800",
         "marker": {
          "color": "rgb(166,189,219)",
          "pattern": {
           "shape": ""
          }
         },
         "name": "800",
         "offsetgroup": "800",
         "orientation": "v",
         "showlegend": true,
         "text": [
          1
         ],
         "textposition": "auto",
         "type": "bar",
         "x": [
          "800"
         ],
         "xaxis": "x",
         "y": [
          1
         ],
         "yaxis": "y"
        },
        {
         "alignmentgroup": "True",
         "hovertemplate": "color=1450<br>x=%{x}<br>y=%{y}<br>text=%{text}<extra></extra>",
         "legendgroup": "1450",
         "marker": {
          "color": "rgb(103,169,207)",
          "pattern": {
           "shape": ""
          }
         },
         "name": "1450",
         "offsetgroup": "1450",
         "orientation": "v",
         "showlegend": true,
         "text": [
          1
         ],
         "textposition": "auto",
         "type": "bar",
         "x": [
          "1450"
         ],
         "xaxis": "x",
         "y": [
          1
         ],
         "yaxis": "y"
        },
        {
         "alignmentgroup": "True",
         "hovertemplate": "color=Fusion<br>x=%{x}<br>y=%{y}<br>text=%{text}<extra></extra>",
         "legendgroup": "Fusion",
         "marker": {
          "color": "rgb(54,144,192)",
          "pattern": {
           "shape": ""
          }
         },
         "name": "Fusion",
         "offsetgroup": "Fusion",
         "orientation": "v",
         "showlegend": true,
         "text": [
          1
         ],
         "textposition": "auto",
         "type": "bar",
         "x": [
          "Fusion"
         ],
         "xaxis": "x",
         "y": [
          1
         ],
         "yaxis": "y"
        },
        {
         "alignmentgroup": "True",
         "hovertemplate": "color=Sanpdragon<br>x=%{x}<br>y=%{y}<br>text=%{text}<extra></extra>",
         "legendgroup": "Sanpdragon",
         "marker": {
          "color": "rgb(2,129,138)",
          "pattern": {
           "shape": ""
          }
         },
         "name": "Sanpdragon",
         "offsetgroup": "Sanpdragon",
         "orientation": "v",
         "showlegend": true,
         "text": [
          1
         ],
         "textposition": "auto",
         "type": "bar",
         "x": [
          "Sanpdragon"
         ],
         "xaxis": "x",
         "y": [
          1
         ],
         "yaxis": "y"
        },
        {
         "alignmentgroup": "True",
         "hovertemplate": "color=Unisoc,<br>x=%{x}<br>y=%{y}<br>text=%{text}<extra></extra>",
         "legendgroup": "Unisoc,",
         "marker": {
          "color": "rgb(1,108,89)",
          "pattern": {
           "shape": ""
          }
         },
         "name": "Unisoc,",
         "offsetgroup": "Unisoc,",
         "orientation": "v",
         "showlegend": true,
         "text": [
          1
         ],
         "textposition": "auto",
         "type": "bar",
         "x": [
          "Unisoc,"
         ],
         "xaxis": "x",
         "y": [
          1
         ],
         "yaxis": "y"
        },
        {
         "alignmentgroup": "True",
         "hovertemplate": "color=Apple<br>x=%{x}<br>y=%{y}<br>text=%{text}<extra></extra>",
         "legendgroup": "Apple",
         "marker": {
          "color": "rgb(1,70,54)",
          "pattern": {
           "shape": ""
          }
         },
         "name": "Apple",
         "offsetgroup": "Apple",
         "orientation": "v",
         "showlegend": true,
         "text": [
          1
         ],
         "textposition": "auto",
         "type": "bar",
         "x": [
          "Apple"
         ],
         "xaxis": "x",
         "y": [
          1
         ],
         "yaxis": "y"
        },
        {
         "alignmentgroup": "True",
         "hovertemplate": "color=8<br>x=%{x}<br>y=%{y}<br>text=%{text}<extra></extra>",
         "legendgroup": "8",
         "marker": {
          "color": "rgb(255,247,251)",
          "pattern": {
           "shape": ""
          }
         },
         "name": "8",
         "offsetgroup": "8",
         "orientation": "v",
         "showlegend": true,
         "text": [
          1
         ],
         "textposition": "auto",
         "type": "bar",
         "x": [
          "8"
         ],
         "xaxis": "x",
         "y": [
          1
         ],
         "yaxis": "y"
        }
       ],
       "layout": {
        "barmode": "relative",
        "font": {
         "family": "Franklin Gothic",
         "size": 17
        },
        "height": 500,
        "legend": {
         "title": {
          "text": "color"
         },
         "tracegroupgap": 0
        },
        "template": {
         "data": {
          "bar": [
           {
            "error_x": {
             "color": "#f2f5fa"
            },
            "error_y": {
             "color": "#f2f5fa"
            },
            "marker": {
             "line": {
              "color": "rgb(17,17,17)",
              "width": 0.5
             },
             "pattern": {
              "fillmode": "overlay",
              "size": 10,
              "solidity": 0.2
             }
            },
            "type": "bar"
           }
          ],
          "barpolar": [
           {
            "marker": {
             "line": {
              "color": "rgb(17,17,17)",
              "width": 0.5
             },
             "pattern": {
              "fillmode": "overlay",
              "size": 10,
              "solidity": 0.2
             }
            },
            "type": "barpolar"
           }
          ],
          "carpet": [
           {
            "aaxis": {
             "endlinecolor": "#A2B1C6",
             "gridcolor": "#506784",
             "linecolor": "#506784",
             "minorgridcolor": "#506784",
             "startlinecolor": "#A2B1C6"
            },
            "baxis": {
             "endlinecolor": "#A2B1C6",
             "gridcolor": "#506784",
             "linecolor": "#506784",
             "minorgridcolor": "#506784",
             "startlinecolor": "#A2B1C6"
            },
            "type": "carpet"
           }
          ],
          "choropleth": [
           {
            "colorbar": {
             "outlinewidth": 0,
             "ticks": ""
            },
            "type": "choropleth"
           }
          ],
          "contour": [
           {
            "colorbar": {
             "outlinewidth": 0,
             "ticks": ""
            },
            "colorscale": [
             [
              0,
              "#0d0887"
             ],
             [
              0.1111111111111111,
              "#46039f"
             ],
             [
              0.2222222222222222,
              "#7201a8"
             ],
             [
              0.3333333333333333,
              "#9c179e"
             ],
             [
              0.4444444444444444,
              "#bd3786"
             ],
             [
              0.5555555555555556,
              "#d8576b"
             ],
             [
              0.6666666666666666,
              "#ed7953"
             ],
             [
              0.7777777777777778,
              "#fb9f3a"
             ],
             [
              0.8888888888888888,
              "#fdca26"
             ],
             [
              1,
              "#f0f921"
             ]
            ],
            "type": "contour"
           }
          ],
          "contourcarpet": [
           {
            "colorbar": {
             "outlinewidth": 0,
             "ticks": ""
            },
            "type": "contourcarpet"
           }
          ],
          "heatmap": [
           {
            "colorbar": {
             "outlinewidth": 0,
             "ticks": ""
            },
            "colorscale": [
             [
              0,
              "#0d0887"
             ],
             [
              0.1111111111111111,
              "#46039f"
             ],
             [
              0.2222222222222222,
              "#7201a8"
             ],
             [
              0.3333333333333333,
              "#9c179e"
             ],
             [
              0.4444444444444444,
              "#bd3786"
             ],
             [
              0.5555555555555556,
              "#d8576b"
             ],
             [
              0.6666666666666666,
              "#ed7953"
             ],
             [
              0.7777777777777778,
              "#fb9f3a"
             ],
             [
              0.8888888888888888,
              "#fdca26"
             ],
             [
              1,
              "#f0f921"
             ]
            ],
            "type": "heatmap"
           }
          ],
          "heatmapgl": [
           {
            "colorbar": {
             "outlinewidth": 0,
             "ticks": ""
            },
            "colorscale": [
             [
              0,
              "#0d0887"
             ],
             [
              0.1111111111111111,
              "#46039f"
             ],
             [
              0.2222222222222222,
              "#7201a8"
             ],
             [
              0.3333333333333333,
              "#9c179e"
             ],
             [
              0.4444444444444444,
              "#bd3786"
             ],
             [
              0.5555555555555556,
              "#d8576b"
             ],
             [
              0.6666666666666666,
              "#ed7953"
             ],
             [
              0.7777777777777778,
              "#fb9f3a"
             ],
             [
              0.8888888888888888,
              "#fdca26"
             ],
             [
              1,
              "#f0f921"
             ]
            ],
            "type": "heatmapgl"
           }
          ],
          "histogram": [
           {
            "marker": {
             "pattern": {
              "fillmode": "overlay",
              "size": 10,
              "solidity": 0.2
             }
            },
            "type": "histogram"
           }
          ],
          "histogram2d": [
           {
            "colorbar": {
             "outlinewidth": 0,
             "ticks": ""
            },
            "colorscale": [
             [
              0,
              "#0d0887"
             ],
             [
              0.1111111111111111,
              "#46039f"
             ],
             [
              0.2222222222222222,
              "#7201a8"
             ],
             [
              0.3333333333333333,
              "#9c179e"
             ],
             [
              0.4444444444444444,
              "#bd3786"
             ],
             [
              0.5555555555555556,
              "#d8576b"
             ],
             [
              0.6666666666666666,
              "#ed7953"
             ],
             [
              0.7777777777777778,
              "#fb9f3a"
             ],
             [
              0.8888888888888888,
              "#fdca26"
             ],
             [
              1,
              "#f0f921"
             ]
            ],
            "type": "histogram2d"
           }
          ],
          "histogram2dcontour": [
           {
            "colorbar": {
             "outlinewidth": 0,
             "ticks": ""
            },
            "colorscale": [
             [
              0,
              "#0d0887"
             ],
             [
              0.1111111111111111,
              "#46039f"
             ],
             [
              0.2222222222222222,
              "#7201a8"
             ],
             [
              0.3333333333333333,
              "#9c179e"
             ],
             [
              0.4444444444444444,
              "#bd3786"
             ],
             [
              0.5555555555555556,
              "#d8576b"
             ],
             [
              0.6666666666666666,
              "#ed7953"
             ],
             [
              0.7777777777777778,
              "#fb9f3a"
             ],
             [
              0.8888888888888888,
              "#fdca26"
             ],
             [
              1,
              "#f0f921"
             ]
            ],
            "type": "histogram2dcontour"
           }
          ],
          "mesh3d": [
           {
            "colorbar": {
             "outlinewidth": 0,
             "ticks": ""
            },
            "type": "mesh3d"
           }
          ],
          "parcoords": [
           {
            "line": {
             "colorbar": {
              "outlinewidth": 0,
              "ticks": ""
             }
            },
            "type": "parcoords"
           }
          ],
          "pie": [
           {
            "automargin": true,
            "type": "pie"
           }
          ],
          "scatter": [
           {
            "marker": {
             "line": {
              "color": "#283442"
             }
            },
            "type": "scatter"
           }
          ],
          "scatter3d": [
           {
            "line": {
             "colorbar": {
              "outlinewidth": 0,
              "ticks": ""
             }
            },
            "marker": {
             "colorbar": {
              "outlinewidth": 0,
              "ticks": ""
             }
            },
            "type": "scatter3d"
           }
          ],
          "scattercarpet": [
           {
            "marker": {
             "colorbar": {
              "outlinewidth": 0,
              "ticks": ""
             }
            },
            "type": "scattercarpet"
           }
          ],
          "scattergeo": [
           {
            "marker": {
             "colorbar": {
              "outlinewidth": 0,
              "ticks": ""
             }
            },
            "type": "scattergeo"
           }
          ],
          "scattergl": [
           {
            "marker": {
             "line": {
              "color": "#283442"
             }
            },
            "type": "scattergl"
           }
          ],
          "scattermapbox": [
           {
            "marker": {
             "colorbar": {
              "outlinewidth": 0,
              "ticks": ""
             }
            },
            "type": "scattermapbox"
           }
          ],
          "scatterpolar": [
           {
            "marker": {
             "colorbar": {
              "outlinewidth": 0,
              "ticks": ""
             }
            },
            "type": "scatterpolar"
           }
          ],
          "scatterpolargl": [
           {
            "marker": {
             "colorbar": {
              "outlinewidth": 0,
              "ticks": ""
             }
            },
            "type": "scatterpolargl"
           }
          ],
          "scatterternary": [
           {
            "marker": {
             "colorbar": {
              "outlinewidth": 0,
              "ticks": ""
             }
            },
            "type": "scatterternary"
           }
          ],
          "surface": [
           {
            "colorbar": {
             "outlinewidth": 0,
             "ticks": ""
            },
            "colorscale": [
             [
              0,
              "#0d0887"
             ],
             [
              0.1111111111111111,
              "#46039f"
             ],
             [
              0.2222222222222222,
              "#7201a8"
             ],
             [
              0.3333333333333333,
              "#9c179e"
             ],
             [
              0.4444444444444444,
              "#bd3786"
             ],
             [
              0.5555555555555556,
              "#d8576b"
             ],
             [
              0.6666666666666666,
              "#ed7953"
             ],
             [
              0.7777777777777778,
              "#fb9f3a"
             ],
             [
              0.8888888888888888,
              "#fdca26"
             ],
             [
              1,
              "#f0f921"
             ]
            ],
            "type": "surface"
           }
          ],
          "table": [
           {
            "cells": {
             "fill": {
              "color": "#506784"
             },
             "line": {
              "color": "rgb(17,17,17)"
             }
            },
            "header": {
             "fill": {
              "color": "#2a3f5f"
             },
             "line": {
              "color": "rgb(17,17,17)"
             }
            },
            "type": "table"
           }
          ]
         },
         "layout": {
          "annotationdefaults": {
           "arrowcolor": "#f2f5fa",
           "arrowhead": 0,
           "arrowwidth": 1
          },
          "autotypenumbers": "strict",
          "coloraxis": {
           "colorbar": {
            "outlinewidth": 0,
            "ticks": ""
           }
          },
          "colorscale": {
           "diverging": [
            [
             0,
             "#8e0152"
            ],
            [
             0.1,
             "#c51b7d"
            ],
            [
             0.2,
             "#de77ae"
            ],
            [
             0.3,
             "#f1b6da"
            ],
            [
             0.4,
             "#fde0ef"
            ],
            [
             0.5,
             "#f7f7f7"
            ],
            [
             0.6,
             "#e6f5d0"
            ],
            [
             0.7,
             "#b8e186"
            ],
            [
             0.8,
             "#7fbc41"
            ],
            [
             0.9,
             "#4d9221"
            ],
            [
             1,
             "#276419"
            ]
           ],
           "sequential": [
            [
             0,
             "#0d0887"
            ],
            [
             0.1111111111111111,
             "#46039f"
            ],
            [
             0.2222222222222222,
             "#7201a8"
            ],
            [
             0.3333333333333333,
             "#9c179e"
            ],
            [
             0.4444444444444444,
             "#bd3786"
            ],
            [
             0.5555555555555556,
             "#d8576b"
            ],
            [
             0.6666666666666666,
             "#ed7953"
            ],
            [
             0.7777777777777778,
             "#fb9f3a"
            ],
            [
             0.8888888888888888,
             "#fdca26"
            ],
            [
             1,
             "#f0f921"
            ]
           ],
           "sequentialminus": [
            [
             0,
             "#0d0887"
            ],
            [
             0.1111111111111111,
             "#46039f"
            ],
            [
             0.2222222222222222,
             "#7201a8"
            ],
            [
             0.3333333333333333,
             "#9c179e"
            ],
            [
             0.4444444444444444,
             "#bd3786"
            ],
            [
             0.5555555555555556,
             "#d8576b"
            ],
            [
             0.6666666666666666,
             "#ed7953"
            ],
            [
             0.7777777777777778,
             "#fb9f3a"
            ],
            [
             0.8888888888888888,
             "#fdca26"
            ],
            [
             1,
             "#f0f921"
            ]
           ]
          },
          "colorway": [
           "#636efa",
           "#EF553B",
           "#00cc96",
           "#ab63fa",
           "#FFA15A",
           "#19d3f3",
           "#FF6692",
           "#B6E880",
           "#FF97FF",
           "#FECB52"
          ],
          "font": {
           "color": "#f2f5fa"
          },
          "geo": {
           "bgcolor": "rgb(17,17,17)",
           "lakecolor": "rgb(17,17,17)",
           "landcolor": "rgb(17,17,17)",
           "showlakes": true,
           "showland": true,
           "subunitcolor": "#506784"
          },
          "hoverlabel": {
           "align": "left"
          },
          "hovermode": "closest",
          "mapbox": {
           "style": "dark"
          },
          "paper_bgcolor": "rgb(17,17,17)",
          "plot_bgcolor": "rgb(17,17,17)",
          "polar": {
           "angularaxis": {
            "gridcolor": "#506784",
            "linecolor": "#506784",
            "ticks": ""
           },
           "bgcolor": "rgb(17,17,17)",
           "radialaxis": {
            "gridcolor": "#506784",
            "linecolor": "#506784",
            "ticks": ""
           }
          },
          "scene": {
           "xaxis": {
            "backgroundcolor": "rgb(17,17,17)",
            "gridcolor": "#506784",
            "gridwidth": 2,
            "linecolor": "#506784",
            "showbackground": true,
            "ticks": "",
            "zerolinecolor": "#C8D4E3"
           },
           "yaxis": {
            "backgroundcolor": "rgb(17,17,17)",
            "gridcolor": "#506784",
            "gridwidth": 2,
            "linecolor": "#506784",
            "showbackground": true,
            "ticks": "",
            "zerolinecolor": "#C8D4E3"
           },
           "zaxis": {
            "backgroundcolor": "rgb(17,17,17)",
            "gridcolor": "#506784",
            "gridwidth": 2,
            "linecolor": "#506784",
            "showbackground": true,
            "ticks": "",
            "zerolinecolor": "#C8D4E3"
           }
          },
          "shapedefaults": {
           "line": {
            "color": "#f2f5fa"
           }
          },
          "sliderdefaults": {
           "bgcolor": "#C8D4E3",
           "bordercolor": "rgb(17,17,17)",
           "borderwidth": 1,
           "tickwidth": 0
          },
          "ternary": {
           "aaxis": {
            "gridcolor": "#506784",
            "linecolor": "#506784",
            "ticks": ""
           },
           "baxis": {
            "gridcolor": "#506784",
            "linecolor": "#506784",
            "ticks": ""
           },
           "bgcolor": "rgb(17,17,17)",
           "caxis": {
            "gridcolor": "#506784",
            "linecolor": "#506784",
            "ticks": ""
           }
          },
          "title": {
           "x": 0.05
          },
          "updatemenudefaults": {
           "bgcolor": "#506784",
           "borderwidth": 0
          },
          "xaxis": {
           "automargin": true,
           "gridcolor": "#283442",
           "linecolor": "#506784",
           "ticks": "",
           "title": {
            "standoff": 15
           },
           "zerolinecolor": "#283442",
           "zerolinewidth": 2
          },
          "yaxis": {
           "automargin": true,
           "gridcolor": "#283442",
           "linecolor": "#506784",
           "ticks": "",
           "title": {
            "standoff": 15
           },
           "zerolinecolor": "#283442",
           "zerolinewidth": 2
          }
         }
        },
        "title": {
         "text": "Processor distribution"
        },
        "width": 1500,
        "xaxis": {
         "anchor": "y",
         "domain": [
          0,
          1
         ],
         "title": {
          "text": "Processor"
         }
        },
        "yaxis": {
         "anchor": "x",
         "domain": [
          0,
          1
         ],
         "title": {
          "text": "count"
         }
        }
       }
      }
     },
     "metadata": {},
     "output_type": "display_data"
    }
   ],
   "source": [
    "Processor = df['processor'].value_counts()\n",
    "fig = px.bar(y=Processor.values, \n",
    "             x=Processor.index, \n",
    "             color = Processor.index,\n",
    "             color_discrete_sequence=px.colors.sequential.PuBuGn,\n",
    "             text=Processor.values,\n",
    "             title= 'Processor distribution',\n",
    "             template= 'plotly_dark',\n",
    "             width=1500, height=500)\n",
    "fig.update_layout(\n",
    "    xaxis_title=\"Processor\",\n",
    "    yaxis_title=\"count\",\n",
    "    font = dict(size=17,family=\"Franklin Gothic\"))\n",
    "\n",
    "fig.show()"
   ]
  },
  {
   "attachments": {},
   "cell_type": "markdown",
   "id": "c64290d7",
   "metadata": {
    "papermill": {
     "duration": 0.011895,
     "end_time": "2023-04-13T22:17:10.307258",
     "exception": false,
     "start_time": "2023-04-13T22:17:10.295363",
     "status": "completed"
    },
    "tags": []
   },
   "source": [
    "# NOTE \n",
    "\n",
    "Snapdragon Processor is widely used\n"
   ]
  },
  {
   "cell_type": "code",
   "execution_count": 12,
   "id": "9b137839",
   "metadata": {
    "execution": {
     "iopub.execute_input": "2023-04-13T22:17:10.332896Z",
     "iopub.status.busy": "2023-04-13T22:17:10.332441Z",
     "iopub.status.idle": "2023-04-13T22:17:10.439423Z",
     "shell.execute_reply": "2023-04-13T22:17:10.437668Z"
    },
    "papermill": {
     "duration": 0.122716,
     "end_time": "2023-04-13T22:17:10.442571",
     "exception": false,
     "start_time": "2023-04-13T22:17:10.319855",
     "status": "completed"
    },
    "tags": []
   },
   "outputs": [
    {
     "data": {
      "application/vnd.plotly.v1+json": {
       "config": {
        "plotlyServerURL": "https://plot.ly"
       },
       "data": [
        {
         "alignmentgroup": "True",
         "hovertemplate": "x=%{x}<br>y=%{y}<br>text=%{text}<br>color=%{marker.color}<extra></extra>",
         "legendgroup": "",
         "marker": {
          "color": [
           84,
           82,
           83,
           75,
           85,
           80,
           86,
           79,
           77,
           78,
           81,
           89,
           87,
           74,
           76,
           88,
           71,
           72,
           69,
           73,
           66,
           61,
           65,
           70,
           68,
           67,
           60,
           62,
           64,
           63
          ],
          "coloraxis": "coloraxis",
          "pattern": {
           "shape": ""
          }
         },
         "name": "",
         "offsetgroup": "",
         "orientation": "v",
         "showlegend": false,
         "text": [
          60,
          58,
          55,
          53,
          50,
          49,
          47,
          45,
          38,
          36,
          35,
          35,
          33,
          30,
          29,
          26,
          21,
          18,
          18,
          16,
          15,
          15,
          14,
          14,
          13,
          13,
          12,
          11,
          10,
          10
         ],
         "textposition": "auto",
         "type": "bar",
         "x": [
          84,
          82,
          83,
          75,
          85,
          80,
          86,
          79,
          77,
          78,
          81,
          89,
          87,
          74,
          76,
          88,
          71,
          72,
          69,
          73,
          66,
          61,
          65,
          70,
          68,
          67,
          60,
          62,
          64,
          63
         ],
         "xaxis": "x",
         "y": [
          60,
          58,
          55,
          53,
          50,
          49,
          47,
          45,
          38,
          36,
          35,
          35,
          33,
          30,
          29,
          26,
          21,
          18,
          18,
          16,
          15,
          15,
          14,
          14,
          13,
          13,
          12,
          11,
          10,
          10
         ],
         "yaxis": "y"
        }
       ],
       "layout": {
        "barmode": "relative",
        "coloraxis": {
         "colorbar": {
          "title": {
           "text": "color"
          }
         },
         "colorscale": [
          [
           0,
           "#0d0887"
          ],
          [
           0.1111111111111111,
           "#46039f"
          ],
          [
           0.2222222222222222,
           "#7201a8"
          ],
          [
           0.3333333333333333,
           "#9c179e"
          ],
          [
           0.4444444444444444,
           "#bd3786"
          ],
          [
           0.5555555555555556,
           "#d8576b"
          ],
          [
           0.6666666666666666,
           "#ed7953"
          ],
          [
           0.7777777777777778,
           "#fb9f3a"
          ],
          [
           0.8888888888888888,
           "#fdca26"
          ],
          [
           1,
           "#f0f921"
          ]
         ]
        },
        "font": {
         "family": "Franklin Gothic",
         "size": 17
        },
        "height": 500,
        "legend": {
         "tracegroupgap": 0
        },
        "template": {
         "data": {
          "bar": [
           {
            "error_x": {
             "color": "#f2f5fa"
            },
            "error_y": {
             "color": "#f2f5fa"
            },
            "marker": {
             "line": {
              "color": "rgb(17,17,17)",
              "width": 0.5
             },
             "pattern": {
              "fillmode": "overlay",
              "size": 10,
              "solidity": 0.2
             }
            },
            "type": "bar"
           }
          ],
          "barpolar": [
           {
            "marker": {
             "line": {
              "color": "rgb(17,17,17)",
              "width": 0.5
             },
             "pattern": {
              "fillmode": "overlay",
              "size": 10,
              "solidity": 0.2
             }
            },
            "type": "barpolar"
           }
          ],
          "carpet": [
           {
            "aaxis": {
             "endlinecolor": "#A2B1C6",
             "gridcolor": "#506784",
             "linecolor": "#506784",
             "minorgridcolor": "#506784",
             "startlinecolor": "#A2B1C6"
            },
            "baxis": {
             "endlinecolor": "#A2B1C6",
             "gridcolor": "#506784",
             "linecolor": "#506784",
             "minorgridcolor": "#506784",
             "startlinecolor": "#A2B1C6"
            },
            "type": "carpet"
           }
          ],
          "choropleth": [
           {
            "colorbar": {
             "outlinewidth": 0,
             "ticks": ""
            },
            "type": "choropleth"
           }
          ],
          "contour": [
           {
            "colorbar": {
             "outlinewidth": 0,
             "ticks": ""
            },
            "colorscale": [
             [
              0,
              "#0d0887"
             ],
             [
              0.1111111111111111,
              "#46039f"
             ],
             [
              0.2222222222222222,
              "#7201a8"
             ],
             [
              0.3333333333333333,
              "#9c179e"
             ],
             [
              0.4444444444444444,
              "#bd3786"
             ],
             [
              0.5555555555555556,
              "#d8576b"
             ],
             [
              0.6666666666666666,
              "#ed7953"
             ],
             [
              0.7777777777777778,
              "#fb9f3a"
             ],
             [
              0.8888888888888888,
              "#fdca26"
             ],
             [
              1,
              "#f0f921"
             ]
            ],
            "type": "contour"
           }
          ],
          "contourcarpet": [
           {
            "colorbar": {
             "outlinewidth": 0,
             "ticks": ""
            },
            "type": "contourcarpet"
           }
          ],
          "heatmap": [
           {
            "colorbar": {
             "outlinewidth": 0,
             "ticks": ""
            },
            "colorscale": [
             [
              0,
              "#0d0887"
             ],
             [
              0.1111111111111111,
              "#46039f"
             ],
             [
              0.2222222222222222,
              "#7201a8"
             ],
             [
              0.3333333333333333,
              "#9c179e"
             ],
             [
              0.4444444444444444,
              "#bd3786"
             ],
             [
              0.5555555555555556,
              "#d8576b"
             ],
             [
              0.6666666666666666,
              "#ed7953"
             ],
             [
              0.7777777777777778,
              "#fb9f3a"
             ],
             [
              0.8888888888888888,
              "#fdca26"
             ],
             [
              1,
              "#f0f921"
             ]
            ],
            "type": "heatmap"
           }
          ],
          "heatmapgl": [
           {
            "colorbar": {
             "outlinewidth": 0,
             "ticks": ""
            },
            "colorscale": [
             [
              0,
              "#0d0887"
             ],
             [
              0.1111111111111111,
              "#46039f"
             ],
             [
              0.2222222222222222,
              "#7201a8"
             ],
             [
              0.3333333333333333,
              "#9c179e"
             ],
             [
              0.4444444444444444,
              "#bd3786"
             ],
             [
              0.5555555555555556,
              "#d8576b"
             ],
             [
              0.6666666666666666,
              "#ed7953"
             ],
             [
              0.7777777777777778,
              "#fb9f3a"
             ],
             [
              0.8888888888888888,
              "#fdca26"
             ],
             [
              1,
              "#f0f921"
             ]
            ],
            "type": "heatmapgl"
           }
          ],
          "histogram": [
           {
            "marker": {
             "pattern": {
              "fillmode": "overlay",
              "size": 10,
              "solidity": 0.2
             }
            },
            "type": "histogram"
           }
          ],
          "histogram2d": [
           {
            "colorbar": {
             "outlinewidth": 0,
             "ticks": ""
            },
            "colorscale": [
             [
              0,
              "#0d0887"
             ],
             [
              0.1111111111111111,
              "#46039f"
             ],
             [
              0.2222222222222222,
              "#7201a8"
             ],
             [
              0.3333333333333333,
              "#9c179e"
             ],
             [
              0.4444444444444444,
              "#bd3786"
             ],
             [
              0.5555555555555556,
              "#d8576b"
             ],
             [
              0.6666666666666666,
              "#ed7953"
             ],
             [
              0.7777777777777778,
              "#fb9f3a"
             ],
             [
              0.8888888888888888,
              "#fdca26"
             ],
             [
              1,
              "#f0f921"
             ]
            ],
            "type": "histogram2d"
           }
          ],
          "histogram2dcontour": [
           {
            "colorbar": {
             "outlinewidth": 0,
             "ticks": ""
            },
            "colorscale": [
             [
              0,
              "#0d0887"
             ],
             [
              0.1111111111111111,
              "#46039f"
             ],
             [
              0.2222222222222222,
              "#7201a8"
             ],
             [
              0.3333333333333333,
              "#9c179e"
             ],
             [
              0.4444444444444444,
              "#bd3786"
             ],
             [
              0.5555555555555556,
              "#d8576b"
             ],
             [
              0.6666666666666666,
              "#ed7953"
             ],
             [
              0.7777777777777778,
              "#fb9f3a"
             ],
             [
              0.8888888888888888,
              "#fdca26"
             ],
             [
              1,
              "#f0f921"
             ]
            ],
            "type": "histogram2dcontour"
           }
          ],
          "mesh3d": [
           {
            "colorbar": {
             "outlinewidth": 0,
             "ticks": ""
            },
            "type": "mesh3d"
           }
          ],
          "parcoords": [
           {
            "line": {
             "colorbar": {
              "outlinewidth": 0,
              "ticks": ""
             }
            },
            "type": "parcoords"
           }
          ],
          "pie": [
           {
            "automargin": true,
            "type": "pie"
           }
          ],
          "scatter": [
           {
            "marker": {
             "line": {
              "color": "#283442"
             }
            },
            "type": "scatter"
           }
          ],
          "scatter3d": [
           {
            "line": {
             "colorbar": {
              "outlinewidth": 0,
              "ticks": ""
             }
            },
            "marker": {
             "colorbar": {
              "outlinewidth": 0,
              "ticks": ""
             }
            },
            "type": "scatter3d"
           }
          ],
          "scattercarpet": [
           {
            "marker": {
             "colorbar": {
              "outlinewidth": 0,
              "ticks": ""
             }
            },
            "type": "scattercarpet"
           }
          ],
          "scattergeo": [
           {
            "marker": {
             "colorbar": {
              "outlinewidth": 0,
              "ticks": ""
             }
            },
            "type": "scattergeo"
           }
          ],
          "scattergl": [
           {
            "marker": {
             "line": {
              "color": "#283442"
             }
            },
            "type": "scattergl"
           }
          ],
          "scattermapbox": [
           {
            "marker": {
             "colorbar": {
              "outlinewidth": 0,
              "ticks": ""
             }
            },
            "type": "scattermapbox"
           }
          ],
          "scatterpolar": [
           {
            "marker": {
             "colorbar": {
              "outlinewidth": 0,
              "ticks": ""
             }
            },
            "type": "scatterpolar"
           }
          ],
          "scatterpolargl": [
           {
            "marker": {
             "colorbar": {
              "outlinewidth": 0,
              "ticks": ""
             }
            },
            "type": "scatterpolargl"
           }
          ],
          "scatterternary": [
           {
            "marker": {
             "colorbar": {
              "outlinewidth": 0,
              "ticks": ""
             }
            },
            "type": "scatterternary"
           }
          ],
          "surface": [
           {
            "colorbar": {
             "outlinewidth": 0,
             "ticks": ""
            },
            "colorscale": [
             [
              0,
              "#0d0887"
             ],
             [
              0.1111111111111111,
              "#46039f"
             ],
             [
              0.2222222222222222,
              "#7201a8"
             ],
             [
              0.3333333333333333,
              "#9c179e"
             ],
             [
              0.4444444444444444,
              "#bd3786"
             ],
             [
              0.5555555555555556,
              "#d8576b"
             ],
             [
              0.6666666666666666,
              "#ed7953"
             ],
             [
              0.7777777777777778,
              "#fb9f3a"
             ],
             [
              0.8888888888888888,
              "#fdca26"
             ],
             [
              1,
              "#f0f921"
             ]
            ],
            "type": "surface"
           }
          ],
          "table": [
           {
            "cells": {
             "fill": {
              "color": "#506784"
             },
             "line": {
              "color": "rgb(17,17,17)"
             }
            },
            "header": {
             "fill": {
              "color": "#2a3f5f"
             },
             "line": {
              "color": "rgb(17,17,17)"
             }
            },
            "type": "table"
           }
          ]
         },
         "layout": {
          "annotationdefaults": {
           "arrowcolor": "#f2f5fa",
           "arrowhead": 0,
           "arrowwidth": 1
          },
          "autotypenumbers": "strict",
          "coloraxis": {
           "colorbar": {
            "outlinewidth": 0,
            "ticks": ""
           }
          },
          "colorscale": {
           "diverging": [
            [
             0,
             "#8e0152"
            ],
            [
             0.1,
             "#c51b7d"
            ],
            [
             0.2,
             "#de77ae"
            ],
            [
             0.3,
             "#f1b6da"
            ],
            [
             0.4,
             "#fde0ef"
            ],
            [
             0.5,
             "#f7f7f7"
            ],
            [
             0.6,
             "#e6f5d0"
            ],
            [
             0.7,
             "#b8e186"
            ],
            [
             0.8,
             "#7fbc41"
            ],
            [
             0.9,
             "#4d9221"
            ],
            [
             1,
             "#276419"
            ]
           ],
           "sequential": [
            [
             0,
             "#0d0887"
            ],
            [
             0.1111111111111111,
             "#46039f"
            ],
            [
             0.2222222222222222,
             "#7201a8"
            ],
            [
             0.3333333333333333,
             "#9c179e"
            ],
            [
             0.4444444444444444,
             "#bd3786"
            ],
            [
             0.5555555555555556,
             "#d8576b"
            ],
            [
             0.6666666666666666,
             "#ed7953"
            ],
            [
             0.7777777777777778,
             "#fb9f3a"
            ],
            [
             0.8888888888888888,
             "#fdca26"
            ],
            [
             1,
             "#f0f921"
            ]
           ],
           "sequentialminus": [
            [
             0,
             "#0d0887"
            ],
            [
             0.1111111111111111,
             "#46039f"
            ],
            [
             0.2222222222222222,
             "#7201a8"
            ],
            [
             0.3333333333333333,
             "#9c179e"
            ],
            [
             0.4444444444444444,
             "#bd3786"
            ],
            [
             0.5555555555555556,
             "#d8576b"
            ],
            [
             0.6666666666666666,
             "#ed7953"
            ],
            [
             0.7777777777777778,
             "#fb9f3a"
            ],
            [
             0.8888888888888888,
             "#fdca26"
            ],
            [
             1,
             "#f0f921"
            ]
           ]
          },
          "colorway": [
           "#636efa",
           "#EF553B",
           "#00cc96",
           "#ab63fa",
           "#FFA15A",
           "#19d3f3",
           "#FF6692",
           "#B6E880",
           "#FF97FF",
           "#FECB52"
          ],
          "font": {
           "color": "#f2f5fa"
          },
          "geo": {
           "bgcolor": "rgb(17,17,17)",
           "lakecolor": "rgb(17,17,17)",
           "landcolor": "rgb(17,17,17)",
           "showlakes": true,
           "showland": true,
           "subunitcolor": "#506784"
          },
          "hoverlabel": {
           "align": "left"
          },
          "hovermode": "closest",
          "mapbox": {
           "style": "dark"
          },
          "paper_bgcolor": "rgb(17,17,17)",
          "plot_bgcolor": "rgb(17,17,17)",
          "polar": {
           "angularaxis": {
            "gridcolor": "#506784",
            "linecolor": "#506784",
            "ticks": ""
           },
           "bgcolor": "rgb(17,17,17)",
           "radialaxis": {
            "gridcolor": "#506784",
            "linecolor": "#506784",
            "ticks": ""
           }
          },
          "scene": {
           "xaxis": {
            "backgroundcolor": "rgb(17,17,17)",
            "gridcolor": "#506784",
            "gridwidth": 2,
            "linecolor": "#506784",
            "showbackground": true,
            "ticks": "",
            "zerolinecolor": "#C8D4E3"
           },
           "yaxis": {
            "backgroundcolor": "rgb(17,17,17)",
            "gridcolor": "#506784",
            "gridwidth": 2,
            "linecolor": "#506784",
            "showbackground": true,
            "ticks": "",
            "zerolinecolor": "#C8D4E3"
           },
           "zaxis": {
            "backgroundcolor": "rgb(17,17,17)",
            "gridcolor": "#506784",
            "gridwidth": 2,
            "linecolor": "#506784",
            "showbackground": true,
            "ticks": "",
            "zerolinecolor": "#C8D4E3"
           }
          },
          "shapedefaults": {
           "line": {
            "color": "#f2f5fa"
           }
          },
          "sliderdefaults": {
           "bgcolor": "#C8D4E3",
           "bordercolor": "rgb(17,17,17)",
           "borderwidth": 1,
           "tickwidth": 0
          },
          "ternary": {
           "aaxis": {
            "gridcolor": "#506784",
            "linecolor": "#506784",
            "ticks": ""
           },
           "baxis": {
            "gridcolor": "#506784",
            "linecolor": "#506784",
            "ticks": ""
           },
           "bgcolor": "rgb(17,17,17)",
           "caxis": {
            "gridcolor": "#506784",
            "linecolor": "#506784",
            "ticks": ""
           }
          },
          "title": {
           "x": 0.05
          },
          "updatemenudefaults": {
           "bgcolor": "#506784",
           "borderwidth": 0
          },
          "xaxis": {
           "automargin": true,
           "gridcolor": "#283442",
           "linecolor": "#506784",
           "ticks": "",
           "title": {
            "standoff": 15
           },
           "zerolinecolor": "#283442",
           "zerolinewidth": 2
          },
          "yaxis": {
           "automargin": true,
           "gridcolor": "#283442",
           "linecolor": "#506784",
           "ticks": "",
           "title": {
            "standoff": 15
           },
           "zerolinecolor": "#283442",
           "zerolinewidth": 2
          }
         }
        },
        "title": {
         "text": "Rating distribution"
        },
        "width": 1500,
        "xaxis": {
         "anchor": "y",
         "domain": [
          0,
          1
         ],
         "title": {
          "text": "Rating"
         }
        },
        "yaxis": {
         "anchor": "x",
         "domain": [
          0,
          1
         ],
         "title": {
          "text": "count"
         }
        }
       }
      }
     },
     "metadata": {},
     "output_type": "display_data"
    }
   ],
   "source": [
    "Rating = df['rating'].value_counts()\n",
    "fig = px.bar(y=Rating.values, \n",
    "             x=Rating.index, \n",
    "             color = Rating.index,\n",
    "             color_discrete_sequence=px.colors.sequential.PuBuGn,\n",
    "             text=Rating.values,\n",
    "             title= 'Rating distribution',\n",
    "             template= 'plotly_dark',\n",
    "             width=1500, height=500)\n",
    "fig.update_layout(\n",
    "    xaxis_title=\"Rating\",\n",
    "    yaxis_title=\"count\",\n",
    "    font = dict(size=17,family=\"Franklin Gothic\"))\n",
    "fig.show()"
   ]
  },
  {
   "attachments": {},
   "cell_type": "markdown",
   "id": "edd5f5a3",
   "metadata": {},
   "source": [
    "# Note  \n",
    "Ratings distribution is quite skewed towards left"
   ]
  },
  {
   "cell_type": "code",
   "execution_count": 13,
   "id": "060a62d8",
   "metadata": {
    "execution": {
     "iopub.execute_input": "2023-04-13T22:17:10.490024Z",
     "iopub.status.busy": "2023-04-13T22:17:10.489561Z",
     "iopub.status.idle": "2023-04-13T22:17:10.843235Z",
     "shell.execute_reply": "2023-04-13T22:17:10.841692Z"
    },
    "papermill": {
     "duration": 0.369439,
     "end_time": "2023-04-13T22:17:10.846333",
     "exception": false,
     "start_time": "2023-04-13T22:17:10.476894",
     "status": "completed"
    },
    "tags": []
   },
   "outputs": [
    {
     "data": {
      "application/vnd.plotly.v1+json": {
       "config": {
        "plotlyServerURL": "https://plot.ly"
       },
       "data": [
        {
         "alignmentgroup": "True",
         "hovertemplate": "company=%{x}<br>price=%{y}<extra></extra>",
         "legendgroup": "OnePlus",
         "marker": {
          "color": "darkred"
         },
         "name": "OnePlus",
         "notched": false,
         "offsetgroup": "OnePlus",
         "orientation": "v",
         "showlegend": true,
         "type": "box",
         "x": [
          "OnePlus",
          "OnePlus",
          "OnePlus",
          "OnePlus",
          "OnePlus",
          "OnePlus",
          "OnePlus",
          "OnePlus",
          "OnePlus",
          "OnePlus",
          "OnePlus",
          "OnePlus",
          "OnePlus",
          "OnePlus",
          "OnePlus",
          "OnePlus",
          "OnePlus",
          "OnePlus",
          "OnePlus",
          "OnePlus",
          "OnePlus",
          "OnePlus",
          "OnePlus",
          "OnePlus",
          "OnePlus",
          "OnePlus",
          "OnePlus",
          "OnePlus",
          "OnePlus",
          "OnePlus",
          "OnePlus",
          "OnePlus",
          "OnePlus",
          "OnePlus",
          "OnePlus",
          "OnePlus",
          "OnePlus",
          "OnePlus",
          "OnePlus",
          "OnePlus",
          "OnePlus",
          "OnePlus"
         ],
         "x0": " ",
         "xaxis": "x",
         "y": [
          54999,
          19989,
          28999,
          32999,
          39999,
          21995,
          69999,
          21999,
          60999,
          44999,
          22990,
          36999,
          33900,
          24999,
          14999,
          27999,
          18999,
          65499,
          34999,
          55999,
          42999,
          64800,
          20990,
          50999,
          16990,
          74999,
          27999,
          69999,
          35389,
          29990,
          19999,
          22999,
          34999,
          25595,
          18990,
          29999,
          28990,
          44999,
          19999,
          16990,
          47990,
          24999
         ],
         "y0": " ",
         "yaxis": "y"
        },
        {
         "alignmentgroup": "True",
         "hovertemplate": "company=%{x}<br>price=%{y}<extra></extra>",
         "legendgroup": "Samsung",
         "marker": {
          "color": "fuchsia"
         },
         "name": "Samsung",
         "notched": false,
         "offsetgroup": "Samsung",
         "orientation": "v",
         "showlegend": true,
         "type": "box",
         "x": [
          "Samsung",
          "Samsung",
          "Samsung",
          "Samsung",
          "Samsung",
          "Samsung",
          "Samsung",
          "Samsung",
          "Samsung",
          "Samsung",
          "Samsung",
          "Samsung",
          "Samsung",
          "Samsung",
          "Samsung",
          "Samsung",
          "Samsung",
          "Samsung",
          "Samsung",
          "Samsung",
          "Samsung",
          "Samsung",
          "Samsung",
          "Samsung",
          "Samsung",
          "Samsung",
          "Samsung",
          "Samsung",
          "Samsung",
          "Samsung",
          "Samsung",
          "Samsung",
          "Samsung",
          "Samsung",
          "Samsung",
          "Samsung",
          "Samsung",
          "Samsung",
          "Samsung",
          "Samsung",
          "Samsung",
          "Samsung",
          "Samsung",
          "Samsung",
          "Samsung",
          "Samsung",
          "Samsung",
          "Samsung",
          "Samsung",
          "Samsung",
          "Samsung",
          "Samsung",
          "Samsung",
          "Samsung",
          "Samsung",
          "Samsung",
          "Samsung",
          "Samsung",
          "Samsung",
          "Samsung",
          "Samsung",
          "Samsung",
          "Samsung",
          "Samsung",
          "Samsung",
          "Samsung",
          "Samsung",
          "Samsung",
          "Samsung",
          "Samsung",
          "Samsung",
          "Samsung",
          "Samsung",
          "Samsung",
          "Samsung",
          "Samsung",
          "Samsung",
          "Samsung",
          "Samsung",
          "Samsung",
          "Samsung",
          "Samsung",
          "Samsung",
          "Samsung",
          "Samsung",
          "Samsung",
          "Samsung",
          "Samsung",
          "Samsung",
          "Samsung",
          "Samsung",
          "Samsung",
          "Samsung",
          "Samsung",
          "Samsung",
          "Samsung",
          "Samsung",
          "Samsung",
          "Samsung",
          "Samsung",
          "Samsung",
          "Samsung",
          "Samsung",
          "Samsung",
          "Samsung",
          "Samsung",
          "Samsung",
          "Samsung",
          "Samsung",
          "Samsung",
          "Samsung",
          "Samsung",
          "Samsung",
          "Samsung",
          "Samsung",
          "Samsung",
          "Samsung",
          "Samsung",
          "Samsung",
          "Samsung",
          "Samsung",
          "Samsung",
          "Samsung",
          "Samsung",
          "Samsung",
          "Samsung",
          "Samsung",
          "Samsung",
          "Samsung",
          "Samsung",
          "Samsung",
          "Samsung",
          "Samsung",
          "Samsung",
          "Samsung"
         ],
         "x0": " ",
         "xaxis": "x",
         "y": [
          16499,
          16999,
          114990,
          31239,
          23790,
          39999,
          91999,
          17478,
          42999,
          18999,
          84990,
          18499,
          15999,
          24999,
          20999,
          13999,
          22999,
          41999,
          49999,
          31999,
          25289,
          70990,
          19499,
          25999,
          8499,
          16999,
          10999,
          14999,
          34999,
          8499,
          14450,
          34999,
          9299,
          44999,
          51999,
          64449,
          36499,
          16499,
          19990,
          12999,
          24999,
          69999,
          14999,
          33499,
          118999,
          12944,
          154998,
          27499,
          105999,
          41990,
          6499,
          11999,
          119990,
          43999,
          35489,
          42999,
          48900,
          22494,
          12990,
          12120,
          17990,
          104999,
          7249,
          14859,
          22494,
          16499,
          9499,
          11499,
          11999,
          12364,
          39990,
          21999,
          15990,
          89999,
          14490,
          15490,
          10630,
          14990,
          1949,
          57999,
          41999,
          24499,
          110999,
          24990,
          9950,
          16499,
          17990,
          99999,
          11499,
          86000,
          11999,
          99990,
          39990,
          13999,
          39999,
          92999,
          14499,
          17999,
          1850,
          11725,
          15990,
          58999,
          74999,
          11499,
          88999,
          13499,
          8499,
          59450,
          83000,
          34999,
          12999,
          54999,
          24990,
          14999,
          23999,
          4999,
          17990,
          78990,
          47990,
          101999,
          10999,
          85990,
          1685,
          163980,
          22999,
          12990,
          22999,
          18499,
          10499,
          19999,
          17499,
          9990,
          39990,
          21490,
          24990
         ],
         "y0": " ",
         "yaxis": "y"
        },
        {
         "alignmentgroup": "True",
         "hovertemplate": "company=%{x}<br>price=%{y}<extra></extra>",
         "legendgroup": "Motorola",
         "marker": {
          "color": "green"
         },
         "name": "Motorola",
         "notched": false,
         "offsetgroup": "Motorola",
         "orientation": "v",
         "showlegend": true,
         "type": "box",
         "x": [
          "Motorola",
          "Motorola",
          "Motorola",
          "Motorola",
          "Motorola",
          "Motorola",
          "Motorola",
          "Motorola",
          "Motorola",
          "Motorola",
          "Motorola",
          "Motorola",
          "Motorola",
          "Motorola",
          "Motorola",
          "Motorola",
          "Motorola",
          "Motorola",
          "Motorola",
          "Motorola",
          "Motorola",
          "Motorola",
          "Motorola",
          "Motorola",
          "Motorola",
          "Motorola",
          "Motorola",
          "Motorola",
          "Motorola",
          "Motorola",
          "Motorola",
          "Motorola",
          "Motorola",
          "Motorola",
          "Motorola",
          "Motorola",
          "Motorola",
          "Motorola",
          "Motorola",
          "Motorola",
          "Motorola",
          "Motorola",
          "Motorola",
          "Motorola",
          "Motorola",
          "Motorola",
          "Motorola",
          "Motorola",
          "Motorola",
          "Motorola",
          "Motorola",
          "Motorola",
          "Motorola"
         ],
         "x0": " ",
         "xaxis": "x",
         "y": [
          14999,
          18999,
          18999,
          10499,
          15999,
          22999,
          16499,
          23990,
          34999,
          10999,
          7999,
          11999,
          39999,
          20499,
          39999,
          54999,
          12999,
          24999,
          25999,
          9999,
          19999,
          59999,
          12999,
          16999,
          15999,
          21999,
          9499,
          19990,
          41990,
          8999,
          15999,
          10499,
          8859,
          11999,
          23990,
          7990,
          59990,
          57999,
          1339,
          19499,
          19990,
          31990,
          22490,
          16999,
          34999,
          11490,
          14499,
          9022,
          59990,
          42990,
          49990,
          34990,
          19990
         ],
         "y0": " ",
         "yaxis": "y"
        },
        {
         "alignmentgroup": "True",
         "hovertemplate": "company=%{x}<br>price=%{y}<extra></extra>",
         "legendgroup": "Realme",
         "marker": {
          "color": "red"
         },
         "name": "Realme",
         "notched": false,
         "offsetgroup": "Realme",
         "orientation": "v",
         "showlegend": true,
         "type": "box",
         "x": [
          "Realme",
          "Realme",
          "Realme",
          "Realme",
          "Realme",
          "Realme",
          "Realme",
          "Realme",
          "Realme",
          "Realme",
          "Realme",
          "Realme",
          "Realme",
          "Realme",
          "Realme",
          "Realme",
          "Realme",
          "Realme",
          "Realme",
          "Realme",
          "Realme",
          "Realme",
          "Realme",
          "Realme",
          "Realme",
          "Realme",
          "Realme",
          "Realme",
          "Realme",
          "Realme",
          "Realme",
          "Realme",
          "Realme",
          "Realme",
          "Realme",
          "Realme",
          "Realme",
          "Realme",
          "Realme",
          "Realme",
          "Realme",
          "Realme",
          "Realme",
          "Realme",
          "Realme",
          "Realme",
          "Realme",
          "Realme",
          "Realme",
          "Realme",
          "Realme",
          "Realme",
          "Realme",
          "Realme",
          "Realme",
          "Realme",
          "Realme",
          "Realme",
          "Realme",
          "Realme",
          "Realme",
          "Realme",
          "Realme",
          "Realme",
          "Realme",
          "Realme",
          "Realme",
          "Realme",
          "Realme",
          "Realme",
          "Realme",
          "Realme",
          "Realme",
          "Realme",
          "Realme",
          "Realme",
          "Realme",
          "Realme",
          "Realme",
          "Realme",
          "Realme",
          "Realme",
          "Realme",
          "Realme",
          "Realme",
          "Realme",
          "Realme",
          "Realme",
          "Realme",
          "Realme",
          "Realme",
          "Realme",
          "Realme",
          "Realme",
          "Realme",
          "Realme",
          "Realme"
         ],
         "x0": " ",
         "xaxis": "x",
         "y": [
          24999,
          18999,
          19999,
          27999,
          8950,
          13999,
          14965,
          13999,
          9999,
          12499,
          12999,
          13999,
          5299,
          28999,
          14999,
          16999,
          20490,
          10999,
          14499,
          3499,
          11828,
          15499,
          18999,
          25900,
          16999,
          17999,
          24999,
          8999,
          7749,
          6299,
          22998,
          7145,
          15999,
          24999,
          28994,
          22994,
          14999,
          18499,
          20999,
          34999,
          13999,
          18999,
          27999,
          12787,
          6490,
          14999,
          8299,
          15499,
          14990,
          24494,
          49959,
          17499,
          17999,
          15999,
          11499,
          27999,
          31994,
          8999,
          21999,
          22999,
          13999,
          6999,
          26499,
          8990,
          26999,
          16499,
          13499,
          8999,
          9499,
          14999,
          13279,
          46999,
          16999,
          14490,
          29999,
          28499,
          7999,
          11399,
          32990,
          10990,
          9999,
          12989,
          11879,
          31999,
          7999,
          17999,
          19999,
          24999,
          8999,
          40990,
          12499,
          6499,
          30994,
          10499,
          6490,
          6999,
          8720
         ],
         "y0": " ",
         "yaxis": "y"
        },
        {
         "alignmentgroup": "True",
         "hovertemplate": "company=%{x}<br>price=%{y}<extra></extra>",
         "legendgroup": "Apple",
         "marker": {
          "color": "lightblue"
         },
         "name": "Apple",
         "notched": false,
         "offsetgroup": "Apple",
         "orientation": "v",
         "showlegend": true,
         "type": "box",
         "x": [
          "Apple",
          "Apple",
          "Apple",
          "Apple",
          "Apple",
          "Apple",
          "Apple",
          "Apple",
          "Apple",
          "Apple",
          "Apple",
          "Apple",
          "Apple",
          "Apple",
          "Apple",
          "Apple",
          "Apple",
          "Apple",
          "Apple",
          "Apple",
          "Apple",
          "Apple",
          "Apple",
          "Apple",
          "Apple",
          "Apple",
          "Apple",
          "Apple",
          "Apple",
          "Apple",
          "Apple",
          "Apple",
          "Apple",
          "Apple",
          "Apple",
          "Apple",
          "Apple",
          "Apple",
          "Apple",
          "Apple",
          "Apple",
          "Apple",
          "Apple",
          "Apple",
          "Apple",
          "Apple",
          "Apple"
         ],
         "x0": " ",
         "xaxis": "x",
         "y": [
          65999,
          62999,
          129990,
          38999,
          74999,
          119900,
          119990,
          51999,
          46999,
          40999,
          142990,
          129900,
          29990,
          139990,
          75999,
          71999,
          64900,
          69990,
          182999,
          55999,
          84999,
          72999,
          45999,
          149900,
          129990,
          43900,
          130990,
          129900,
          109900,
          52990,
          139900,
          95999,
          39900,
          139900,
          82990,
          18900,
          49990,
          169900,
          179900,
          104999,
          172999,
          91999,
          119900,
          55999,
          67999,
          84990,
          147900
         ],
         "y0": " ",
         "yaxis": "y"
        },
        {
         "alignmentgroup": "True",
         "hovertemplate": "company=%{x}<br>price=%{y}<extra></extra>",
         "legendgroup": "Xiaomi",
         "marker": {
          "color": "darkorchid"
         },
         "name": "Xiaomi",
         "notched": false,
         "offsetgroup": "Xiaomi",
         "orientation": "v",
         "showlegend": true,
         "type": "box",
         "x": [
          "Xiaomi",
          "Xiaomi",
          "Xiaomi",
          "Xiaomi",
          "Xiaomi",
          "Xiaomi",
          "Xiaomi",
          "Xiaomi",
          "Xiaomi",
          "Xiaomi",
          "Xiaomi",
          "Xiaomi",
          "Xiaomi",
          "Xiaomi",
          "Xiaomi",
          "Xiaomi",
          "Xiaomi",
          "Xiaomi",
          "Xiaomi",
          "Xiaomi",
          "Xiaomi",
          "Xiaomi",
          "Xiaomi",
          "Xiaomi",
          "Xiaomi",
          "Xiaomi",
          "Xiaomi",
          "Xiaomi",
          "Xiaomi",
          "Xiaomi",
          "Xiaomi",
          "Xiaomi",
          "Xiaomi",
          "Xiaomi",
          "Xiaomi",
          "Xiaomi",
          "Xiaomi",
          "Xiaomi",
          "Xiaomi",
          "Xiaomi",
          "Xiaomi",
          "Xiaomi",
          "Xiaomi",
          "Xiaomi",
          "Xiaomi",
          "Xiaomi",
          "Xiaomi",
          "Xiaomi",
          "Xiaomi",
          "Xiaomi",
          "Xiaomi",
          "Xiaomi",
          "Xiaomi",
          "Xiaomi",
          "Xiaomi",
          "Xiaomi",
          "Xiaomi",
          "Xiaomi",
          "Xiaomi",
          "Xiaomi",
          "Xiaomi",
          "Xiaomi",
          "Xiaomi",
          "Xiaomi",
          "Xiaomi",
          "Xiaomi",
          "Xiaomi",
          "Xiaomi",
          "Xiaomi",
          "Xiaomi",
          "Xiaomi",
          "Xiaomi",
          "Xiaomi",
          "Xiaomi",
          "Xiaomi",
          "Xiaomi",
          "Xiaomi",
          "Xiaomi",
          "Xiaomi",
          "Xiaomi",
          "Xiaomi",
          "Xiaomi",
          "Xiaomi",
          "Xiaomi",
          "Xiaomi",
          "Xiaomi",
          "Xiaomi",
          "Xiaomi",
          "Xiaomi",
          "Xiaomi",
          "Xiaomi",
          "Xiaomi",
          "Xiaomi",
          "Xiaomi",
          "Xiaomi",
          "Xiaomi",
          "Xiaomi",
          "Xiaomi",
          "Xiaomi",
          "Xiaomi",
          "Xiaomi",
          "Xiaomi",
          "Xiaomi",
          "Xiaomi",
          "Xiaomi",
          "Xiaomi",
          "Xiaomi",
          "Xiaomi",
          "Xiaomi",
          "Xiaomi",
          "Xiaomi",
          "Xiaomi",
          "Xiaomi",
          "Xiaomi",
          "Xiaomi",
          "Xiaomi",
          "Xiaomi",
          "Xiaomi",
          "Xiaomi",
          "Xiaomi",
          "Xiaomi",
          "Xiaomi",
          "Xiaomi",
          "Xiaomi",
          "Xiaomi",
          "Xiaomi",
          "Xiaomi",
          "Xiaomi",
          "Xiaomi",
          "Xiaomi",
          "Xiaomi",
          "Xiaomi",
          "Xiaomi",
          "Xiaomi",
          "Xiaomi"
         ],
         "x0": " ",
         "xaxis": "x",
         "y": [
          29999,
          24762,
          17859,
          32999,
          19999,
          11936,
          10999,
          17990,
          32999,
          13999,
          8388,
          14290,
          19999,
          58990,
          22999,
          6171,
          13466,
          9999,
          22999,
          9589,
          19988,
          11999,
          20499,
          11999,
          71999,
          27994,
          29990,
          12188,
          11999,
          106990,
          24999,
          16999,
          17990,
          15990,
          22700,
          50990,
          12999,
          26999,
          19999,
          13999,
          46990,
          7499,
          25999,
          11999,
          21890,
          17999,
          14590,
          7499,
          7499,
          38999,
          9999,
          59990,
          18499,
          11999,
          14990,
          16999,
          23499,
          23890,
          10850,
          69990,
          34990,
          13990,
          15824,
          6999,
          26999,
          12390,
          199990,
          22999,
          11999,
          11600,
          7289,
          26990,
          13999,
          14990,
          51880,
          19980,
          25999,
          16490,
          13990,
          24820,
          10499,
          9990,
          12490,
          13999,
          19990,
          15499,
          14999,
          38999,
          8999,
          13990,
          16999,
          25990,
          16499,
          19999,
          23500,
          1799,
          12990,
          29990,
          48990,
          12999,
          27990,
          29999,
          12999,
          54990,
          24990,
          6499,
          75999,
          10990,
          109990,
          11499,
          28999,
          17990,
          13774,
          39999,
          13990,
          17999,
          12499,
          42990,
          18699,
          30990,
          9299,
          11989,
          11490,
          10300,
          15999,
          14439,
          480000,
          16999,
          8399,
          29999,
          26999,
          10990,
          54999,
          54999,
          32990
         ],
         "y0": " ",
         "yaxis": "y"
        },
        {
         "alignmentgroup": "True",
         "hovertemplate": "company=%{x}<br>price=%{y}<extra></extra>",
         "legendgroup": "Nothing",
         "marker": {
          "color": "gold"
         },
         "name": "Nothing",
         "notched": false,
         "offsetgroup": "Nothing",
         "orientation": "v",
         "showlegend": true,
         "type": "box",
         "x": [
          "Nothing",
          "Nothing",
          "Nothing",
          "Nothing",
          "Nothing"
         ],
         "x0": " ",
         "xaxis": "x",
         "y": [
          26749,
          28249,
          35999,
          39990,
          24990
         ],
         "y0": " ",
         "yaxis": "y"
        },
        {
         "alignmentgroup": "True",
         "hovertemplate": "company=%{x}<br>price=%{y}<extra></extra>",
         "legendgroup": "Oppo",
         "marker": {
          "color": "palegreen"
         },
         "name": "Oppo",
         "notched": false,
         "offsetgroup": "Oppo",
         "orientation": "v",
         "showlegend": true,
         "type": "box",
         "x": [
          "Oppo",
          "Oppo",
          "Oppo",
          "Oppo",
          "Oppo",
          "Oppo",
          "Oppo",
          "Oppo",
          "Oppo",
          "Oppo",
          "Oppo",
          "Oppo",
          "Oppo",
          "Oppo",
          "Oppo",
          "Oppo",
          "Oppo",
          "Oppo",
          "Oppo",
          "Oppo",
          "Oppo",
          "Oppo",
          "Oppo",
          "Oppo",
          "Oppo",
          "Oppo"
         ],
         "x0": " ",
         "xaxis": "x",
         "y": [
          18999,
          29990,
          99990,
          30990,
          94990,
          58990,
          77990,
          21990,
          42990,
          12999,
          19999,
          16990,
          92249,
          17990,
          50990,
          19990,
          79990,
          11490,
          29990,
          12490,
          22990,
          38700,
          9990,
          29990,
          22990,
          69990
         ],
         "y0": " ",
         "yaxis": "y"
        },
        {
         "alignmentgroup": "True",
         "hovertemplate": "company=%{x}<br>price=%{y}<extra></extra>",
         "legendgroup": "Vivo",
         "marker": {
          "color": "darkred"
         },
         "name": "Vivo",
         "notched": false,
         "offsetgroup": "Vivo",
         "orientation": "v",
         "showlegend": true,
         "type": "box",
         "x": [
          "Vivo",
          "Vivo",
          "Vivo",
          "Vivo",
          "Vivo",
          "Vivo",
          "Vivo",
          "Vivo",
          "Vivo",
          "Vivo",
          "Vivo",
          "Vivo",
          "Vivo",
          "Vivo",
          "Vivo",
          "Vivo",
          "Vivo",
          "Vivo",
          "Vivo",
          "Vivo",
          "Vivo",
          "Vivo",
          "Vivo",
          "Vivo",
          "Vivo",
          "Vivo",
          "Vivo",
          "Vivo",
          "Vivo",
          "Vivo",
          "Vivo",
          "Vivo",
          "Vivo",
          "Vivo",
          "Vivo",
          "Vivo",
          "Vivo",
          "Vivo",
          "Vivo",
          "Vivo",
          "Vivo",
          "Vivo",
          "Vivo",
          "Vivo",
          "Vivo",
          "Vivo",
          "Vivo",
          "Vivo",
          "Vivo",
          "Vivo",
          "Vivo",
          "Vivo",
          "Vivo",
          "Vivo",
          "Vivo",
          "Vivo",
          "Vivo",
          "Vivo",
          "Vivo",
          "Vivo",
          "Vivo",
          "Vivo",
          "Vivo",
          "Vivo",
          "Vivo",
          "Vivo",
          "Vivo",
          "Vivo",
          "Vivo",
          "Vivo",
          "Vivo",
          "Vivo",
          "Vivo",
          "Vivo",
          "Vivo",
          "Vivo",
          "Vivo",
          "Vivo",
          "Vivo",
          "Vivo",
          "Vivo",
          "Vivo",
          "Vivo",
          "Vivo",
          "Vivo",
          "Vivo",
          "Vivo",
          "Vivo",
          "Vivo",
          "Vivo",
          "Vivo",
          "Vivo",
          "Vivo",
          "Vivo",
          "Vivo",
          "Vivo",
          "Vivo",
          "Vivo",
          "Vivo",
          "Vivo",
          "Vivo",
          "Vivo",
          "Vivo",
          "Vivo",
          "Vivo",
          "Vivo",
          "Vivo",
          "Vivo",
          "Vivo",
          "Vivo",
          "Vivo"
         ],
         "x0": " ",
         "xaxis": "x",
         "y": [
          16990,
          9999,
          14499,
          35999,
          42990,
          27999,
          27990,
          18499,
          12489,
          29990,
          16499,
          35499,
          27994,
          19990,
          13489,
          73999,
          106990,
          15990,
          43999,
          15999,
          24994,
          41990,
          21990,
          31999,
          39999,
          31994,
          8999,
          11999,
          14499,
          10499,
          19990,
          24999,
          8990,
          21994,
          7790,
          29990,
          14999,
          56999,
          18000,
          14990,
          32999,
          8990,
          23999,
          79999,
          36994,
          54999,
          15490,
          24990,
          7499,
          113990,
          12990,
          12999,
          17990,
          8499,
          24990,
          7999,
          19990,
          23269,
          20990,
          25000,
          13990,
          24999,
          28990,
          17999,
          23994,
          12490,
          16685,
          16990,
          19990,
          13999,
          7999,
          14990,
          12500,
          29999,
          31990,
          29999,
          82990,
          27000,
          27990,
          9990,
          11000,
          49990,
          18990,
          82990,
          8499,
          15990,
          12499,
          11990,
          26990,
          9490,
          25000,
          15000,
          20990,
          11999,
          59999,
          29990,
          19990,
          15499,
          8199,
          20000,
          11990,
          32990,
          10490,
          21999,
          22990,
          118990,
          9999,
          19000,
          9990,
          13490,
          119990
         ],
         "y0": " ",
         "yaxis": "y"
        },
        {
         "alignmentgroup": "True",
         "hovertemplate": "company=%{x}<br>price=%{y}<extra></extra>",
         "legendgroup": "OPPO",
         "marker": {
          "color": "fuchsia"
         },
         "name": "OPPO",
         "notched": false,
         "offsetgroup": "OPPO",
         "orientation": "v",
         "showlegend": true,
         "type": "box",
         "x": [
          "OPPO",
          "OPPO",
          "OPPO",
          "OPPO",
          "OPPO",
          "OPPO",
          "OPPO",
          "OPPO",
          "OPPO",
          "OPPO",
          "OPPO",
          "OPPO",
          "OPPO",
          "OPPO",
          "OPPO",
          "OPPO",
          "OPPO",
          "OPPO",
          "OPPO",
          "OPPO",
          "OPPO",
          "OPPO",
          "OPPO",
          "OPPO",
          "OPPO",
          "OPPO",
          "OPPO",
          "OPPO",
          "OPPO",
          "OPPO",
          "OPPO",
          "OPPO",
          "OPPO",
          "OPPO",
          "OPPO",
          "OPPO",
          "OPPO",
          "OPPO",
          "OPPO",
          "OPPO",
          "OPPO",
          "OPPO",
          "OPPO",
          "OPPO",
          "OPPO",
          "OPPO",
          "OPPO",
          "OPPO",
          "OPPO",
          "OPPO",
          "OPPO",
          "OPPO",
          "OPPO",
          "OPPO",
          "OPPO",
          "OPPO",
          "OPPO",
          "OPPO",
          "OPPO",
          "OPPO",
          "OPPO",
          "OPPO"
         ],
         "x0": " ",
         "xaxis": "x",
         "y": [
          45999,
          28499,
          9499,
          27660,
          16999,
          12499,
          19990,
          29340,
          13490,
          39999,
          25969,
          15490,
          45999,
          17999,
          45999,
          18990,
          26990,
          13969,
          21899,
          20990,
          31994,
          25895,
          25994,
          19990,
          15499,
          89990,
          20999,
          14990,
          70990,
          36760,
          26380,
          14700,
          8999,
          42990,
          17999,
          16490,
          16990,
          27990,
          8999,
          32999,
          15998,
          10999,
          13499,
          11999,
          17990,
          22990,
          17999,
          23990,
          15988,
          17994,
          134999,
          18990,
          44990,
          11990,
          12199,
          11990,
          9999,
          15990,
          32990,
          14999,
          13990,
          13990
         ],
         "y0": " ",
         "yaxis": "y"
        },
        {
         "alignmentgroup": "True",
         "hovertemplate": "company=%{x}<br>price=%{y}<extra></extra>",
         "legendgroup": "Poco",
         "marker": {
          "color": "green"
         },
         "name": "Poco",
         "notched": false,
         "offsetgroup": "Poco",
         "orientation": "v",
         "showlegend": true,
         "type": "box",
         "x": [
          "Poco",
          "Poco",
          "Poco",
          "Poco",
          "Poco",
          "Poco",
          "Poco",
          "Poco",
          "Poco",
          "Poco",
          "Poco",
          "Poco",
          "Poco",
          "Poco",
          "Poco",
          "Poco",
          "Poco",
          "Poco",
          "Poco",
          "Poco",
          "Poco",
          "Poco",
          "Poco",
          "Poco",
          "Poco",
          "Poco",
          "Poco",
          "Poco"
         ],
         "x0": " ",
         "xaxis": "x",
         "y": [
          14999,
          20999,
          14999,
          16499,
          12999,
          17999,
          11499,
          13499,
          15999,
          25999,
          29999,
          13499,
          6499,
          34990,
          19650,
          10799,
          14999,
          29999,
          27999,
          19990,
          10890,
          11499,
          7299,
          19999,
          14499,
          14990,
          32999,
          7999
         ],
         "y0": " ",
         "yaxis": "y"
        },
        {
         "alignmentgroup": "True",
         "hovertemplate": "company=%{x}<br>price=%{y}<extra></extra>",
         "legendgroup": "iQOO",
         "marker": {
          "color": "red"
         },
         "name": "iQOO",
         "notched": false,
         "offsetgroup": "iQOO",
         "orientation": "v",
         "showlegend": true,
         "type": "box",
         "x": [
          "iQOO",
          "iQOO",
          "iQOO",
          "iQOO",
          "iQOO",
          "iQOO",
          "iQOO",
          "iQOO",
          "iQOO",
          "iQOO",
          "iQOO",
          "iQOO",
          "iQOO",
          "iQOO",
          "iQOO",
          "iQOO",
          "iQOO",
          "iQOO",
          "iQOO",
          "iQOO",
          "iQOO",
          "iQOO",
          "iQOO",
          "iQOO",
          "iQOO",
          "iQOO",
          "iQOO",
          "iQOO",
          "iQOO",
          "iQOO",
          "iQOO",
          "iQOO"
         ],
         "x0": " ",
         "xaxis": "x",
         "y": [
          29999,
          13989,
          59999,
          21788,
          28999,
          15499,
          24990,
          30990,
          15499,
          58990,
          16940,
          24990,
          64999,
          23399,
          34990,
          18498,
          34949,
          15999,
          33749,
          14489,
          35990,
          27999,
          22990,
          59990,
          47990,
          32990,
          24999,
          19990,
          39990,
          14999,
          17999,
          39990
         ],
         "y0": " ",
         "yaxis": "y"
        },
        {
         "alignmentgroup": "True",
         "hovertemplate": "company=%{x}<br>price=%{y}<extra></extra>",
         "legendgroup": "Jio",
         "marker": {
          "color": "lightblue"
         },
         "name": "Jio",
         "notched": false,
         "offsetgroup": "Jio",
         "orientation": "v",
         "showlegend": true,
         "type": "box",
         "x": [
          "Jio",
          "Jio",
          "Jio",
          "Jio",
          "Jio"
         ],
         "x0": " ",
         "xaxis": "x",
         "y": [
          11990,
          4499,
          4649,
          2999,
          7499
         ],
         "y0": " ",
         "yaxis": "y"
        },
        {
         "alignmentgroup": "True",
         "hovertemplate": "company=%{x}<br>price=%{y}<extra></extra>",
         "legendgroup": "Gionee",
         "marker": {
          "color": "darkorchid"
         },
         "name": "Gionee",
         "notched": false,
         "offsetgroup": "Gionee",
         "orientation": "v",
         "showlegend": true,
         "type": "box",
         "x": [
          "Gionee",
          "Gionee",
          "Gionee"
         ],
         "x0": " ",
         "xaxis": "x",
         "y": [
          6190,
          7499,
          6999
         ],
         "y0": " ",
         "yaxis": "y"
        },
        {
         "alignmentgroup": "True",
         "hovertemplate": "company=%{x}<br>price=%{y}<extra></extra>",
         "legendgroup": "Tecno",
         "marker": {
          "color": "gold"
         },
         "name": "Tecno",
         "notched": false,
         "offsetgroup": "Tecno",
         "orientation": "v",
         "showlegend": true,
         "type": "box",
         "x": [
          "Tecno",
          "Tecno",
          "Tecno",
          "Tecno",
          "Tecno",
          "Tecno",
          "Tecno",
          "Tecno",
          "Tecno",
          "Tecno",
          "Tecno",
          "Tecno",
          "Tecno",
          "Tecno",
          "Tecno",
          "Tecno",
          "Tecno",
          "Tecno",
          "Tecno",
          "Tecno",
          "Tecno",
          "Tecno",
          "Tecno",
          "Tecno",
          "Tecno",
          "Tecno",
          "Tecno",
          "Tecno",
          "Tecno",
          "Tecno",
          "Tecno",
          "Tecno",
          "Tecno"
         ],
         "x0": " ",
         "xaxis": "x",
         "y": [
          39999,
          6999,
          11999,
          9999,
          49999,
          15499,
          13799,
          8999,
          21999,
          7999,
          8890,
          17999,
          25999,
          8799,
          6299,
          15999,
          9999,
          17990,
          8968,
          14746,
          8999,
          6999,
          15499,
          6249,
          14999,
          13990,
          11499,
          22999,
          7999,
          10999,
          20999,
          8390,
          7399
         ],
         "y0": " ",
         "yaxis": "y"
        },
        {
         "alignmentgroup": "True",
         "hovertemplate": "company=%{x}<br>price=%{y}<extra></extra>",
         "legendgroup": "Tesla",
         "marker": {
          "color": "palegreen"
         },
         "name": "Tesla",
         "notched": false,
         "offsetgroup": "Tesla",
         "orientation": "v",
         "showlegend": true,
         "type": "box",
         "x": [
          "Tesla"
         ],
         "x0": " ",
         "xaxis": "x",
         "y": [
          69999
         ],
         "y0": " ",
         "yaxis": "y"
        },
        {
         "alignmentgroup": "True",
         "hovertemplate": "company=%{x}<br>price=%{y}<extra></extra>",
         "legendgroup": "Google",
         "marker": {
          "color": "darkred"
         },
         "name": "Google",
         "notched": false,
         "offsetgroup": "Google",
         "orientation": "v",
         "showlegend": true,
         "type": "box",
         "x": [
          "Google",
          "Google",
          "Google",
          "Google",
          "Google",
          "Google",
          "Google",
          "Google",
          "Google",
          "Google",
          "Google",
          "Google",
          "Google",
          "Google"
         ],
         "x0": " ",
         "xaxis": "x",
         "y": [
          29999,
          34990,
          81999,
          53100,
          54300,
          40480,
          20120,
          15990,
          36000,
          79700,
          53990,
          15999,
          32999,
          70990
         ],
         "y0": " ",
         "yaxis": "y"
        },
        {
         "alignmentgroup": "True",
         "hovertemplate": "company=%{x}<br>price=%{y}<extra></extra>",
         "legendgroup": "Infinix",
         "marker": {
          "color": "fuchsia"
         },
         "name": "Infinix",
         "notched": false,
         "offsetgroup": "Infinix",
         "orientation": "v",
         "showlegend": true,
         "type": "box",
         "x": [
          "Infinix",
          "Infinix",
          "Infinix",
          "Infinix",
          "Infinix",
          "Infinix",
          "Infinix",
          "Infinix",
          "Infinix",
          "Infinix",
          "Infinix",
          "Infinix",
          "Infinix",
          "Infinix",
          "Infinix",
          "Infinix",
          "Infinix",
          "Infinix",
          "Infinix",
          "Infinix",
          "Infinix",
          "Infinix",
          "Infinix",
          "Infinix",
          "Infinix",
          "Infinix",
          "Infinix",
          "Infinix",
          "Infinix"
         ],
         "x0": " ",
         "xaxis": "x",
         "y": [
          18999,
          19499,
          17999,
          36999,
          17999,
          15999,
          9999,
          16900,
          19999,
          8999,
          11700,
          6999,
          9999,
          8910,
          21990,
          12340,
          10850,
          7320,
          16999,
          8299,
          15999,
          12999,
          12999,
          16999,
          9690,
          19999,
          9999,
          14999,
          12799
         ],
         "y0": " ",
         "yaxis": "y"
        },
        {
         "alignmentgroup": "True",
         "hovertemplate": "company=%{x}<br>price=%{y}<extra></extra>",
         "legendgroup": "Nokia",
         "marker": {
          "color": "green"
         },
         "name": "Nokia",
         "notched": false,
         "offsetgroup": "Nokia",
         "orientation": "v",
         "showlegend": true,
         "type": "box",
         "x": [
          "Nokia",
          "Nokia",
          "Nokia",
          "Nokia",
          "Nokia",
          "Nokia",
          "Nokia",
          "Nokia",
          "Nokia",
          "Nokia",
          "Nokia",
          "Nokia",
          "Nokia",
          "Nokia",
          "Nokia",
          "Nokia",
          "Nokia",
          "Nokia",
          "Nokia",
          "Nokia",
          "Nokia",
          "Nokia",
          "Nokia",
          "Nokia",
          "Nokia",
          "Nokia",
          "Nokia",
          "Nokia",
          "Nokia",
          "Nokia"
         ],
         "x0": " ",
         "xaxis": "x",
         "y": [
          4990,
          46999,
          6199,
          4649,
          34999,
          10499,
          1762,
          6899,
          9499,
          17990,
          49990,
          1299,
          28498,
          3749,
          13499,
          3589,
          1299,
          5490,
          11999,
          5249,
          3290,
          8999,
          3099,
          41990,
          1599,
          4799,
          2499,
          3999,
          39990,
          3399
         ],
         "y0": " ",
         "yaxis": "y"
        },
        {
         "alignmentgroup": "True",
         "hovertemplate": "company=%{x}<br>price=%{y}<extra></extra>",
         "legendgroup": "Cola",
         "marker": {
          "color": "red"
         },
         "name": "Cola",
         "notched": false,
         "offsetgroup": "Cola",
         "orientation": "v",
         "showlegend": true,
         "type": "box",
         "x": [
          "Cola"
         ],
         "x0": " ",
         "xaxis": "x",
         "y": [
          14999
         ],
         "y0": " ",
         "yaxis": "y"
        },
        {
         "alignmentgroup": "True",
         "hovertemplate": "company=%{x}<br>price=%{y}<extra></extra>",
         "legendgroup": "Letv",
         "marker": {
          "color": "lightblue"
         },
         "name": "Letv",
         "notched": false,
         "offsetgroup": "Letv",
         "orientation": "v",
         "showlegend": true,
         "type": "box",
         "x": [
          "Letv",
          "Letv",
          "Letv"
         ],
         "x0": " ",
         "xaxis": "x",
         "y": [
          5499,
          6999,
          5999
         ],
         "y0": " ",
         "yaxis": "y"
        },
        {
         "alignmentgroup": "True",
         "hovertemplate": "company=%{x}<br>price=%{y}<extra></extra>",
         "legendgroup": "POCO",
         "marker": {
          "color": "darkorchid"
         },
         "name": "POCO",
         "notched": false,
         "offsetgroup": "POCO",
         "orientation": "v",
         "showlegend": true,
         "type": "box",
         "x": [
          "POCO",
          "POCO",
          "POCO",
          "POCO",
          "POCO",
          "POCO",
          "POCO",
          "POCO",
          "POCO",
          "POCO",
          "POCO",
          "POCO",
          "POCO"
         ],
         "x0": " ",
         "xaxis": "x",
         "y": [
          11999,
          7499,
          6499,
          29990,
          12999,
          24990,
          15999,
          13999,
          14799,
          39999,
          12799,
          42999,
          28990
         ],
         "y0": " ",
         "yaxis": "y"
        },
        {
         "alignmentgroup": "True",
         "hovertemplate": "company=%{x}<br>price=%{y}<extra></extra>",
         "legendgroup": "iKall",
         "marker": {
          "color": "gold"
         },
         "name": "iKall",
         "notched": false,
         "offsetgroup": "iKall",
         "orientation": "v",
         "showlegend": true,
         "type": "box",
         "x": [
          "iKall",
          "iKall",
          "iKall",
          "iKall"
         ],
         "x0": " ",
         "xaxis": "x",
         "y": [
          8099,
          7999,
          2099,
          6799
         ],
         "y0": " ",
         "yaxis": "y"
        },
        {
         "alignmentgroup": "True",
         "hovertemplate": "company=%{x}<br>price=%{y}<extra></extra>",
         "legendgroup": "LeEco",
         "marker": {
          "color": "palegreen"
         },
         "name": "LeEco",
         "notched": false,
         "offsetgroup": "LeEco",
         "orientation": "v",
         "showlegend": true,
         "type": "box",
         "x": [
          "LeEco"
         ],
         "x0": " ",
         "xaxis": "x",
         "y": [
          10999
         ],
         "y0": " ",
         "yaxis": "y"
        },
        {
         "alignmentgroup": "True",
         "hovertemplate": "company=%{x}<br>price=%{y}<extra></extra>",
         "legendgroup": "Duoqin",
         "marker": {
          "color": "darkred"
         },
         "name": "Duoqin",
         "notched": false,
         "offsetgroup": "Duoqin",
         "orientation": "v",
         "showlegend": true,
         "type": "box",
         "x": [
          "Duoqin"
         ],
         "x0": " ",
         "xaxis": "x",
         "y": [
          9990
         ],
         "y0": " ",
         "yaxis": "y"
        },
        {
         "alignmentgroup": "True",
         "hovertemplate": "company=%{x}<br>price=%{y}<extra></extra>",
         "legendgroup": "Lava",
         "marker": {
          "color": "fuchsia"
         },
         "name": "Lava",
         "notched": false,
         "offsetgroup": "Lava",
         "orientation": "v",
         "showlegend": true,
         "type": "box",
         "x": [
          "Lava",
          "Lava",
          "Lava",
          "Lava"
         ],
         "x0": " ",
         "xaxis": "x",
         "y": [
          10999,
          17990,
          8999,
          6999
         ],
         "y0": " ",
         "yaxis": "y"
        },
        {
         "alignmentgroup": "True",
         "hovertemplate": "company=%{x}<br>price=%{y}<extra></extra>",
         "legendgroup": "Honor",
         "marker": {
          "color": "green"
         },
         "name": "Honor",
         "notched": false,
         "offsetgroup": "Honor",
         "orientation": "v",
         "showlegend": true,
         "type": "box",
         "x": [
          "Honor",
          "Honor",
          "Honor",
          "Honor",
          "Honor",
          "Honor",
          "Honor",
          "Honor",
          "Honor",
          "Honor",
          "Honor",
          "Honor",
          "Honor"
         ],
         "x0": " ",
         "xaxis": "x",
         "y": [
          27999,
          16999,
          39990,
          24990,
          30990,
          94990,
          9999,
          54990,
          16999,
          13999,
          32990,
          13999,
          14990
         ],
         "y0": " ",
         "yaxis": "y"
        },
        {
         "alignmentgroup": "True",
         "hovertemplate": "company=%{x}<br>price=%{y}<extra></extra>",
         "legendgroup": "Nubia",
         "marker": {
          "color": "red"
         },
         "name": "Nubia",
         "notched": false,
         "offsetgroup": "Nubia",
         "orientation": "v",
         "showlegend": true,
         "type": "box",
         "x": [
          "Nubia",
          "Nubia",
          "Nubia",
          "Nubia",
          "Nubia",
          "Nubia"
         ],
         "x0": " ",
         "xaxis": "x",
         "y": [
          46990,
          34999,
          60990,
          60999,
          49990,
          44999
         ],
         "y0": " ",
         "yaxis": "y"
        },
        {
         "alignmentgroup": "True",
         "hovertemplate": "company=%{x}<br>price=%{y}<extra></extra>",
         "legendgroup": "Redmi",
         "marker": {
          "color": "lightblue"
         },
         "name": "Redmi",
         "notched": false,
         "offsetgroup": "Redmi",
         "orientation": "v",
         "showlegend": true,
         "type": "box",
         "x": [
          "Redmi",
          "Redmi",
          "Redmi"
         ],
         "x0": " ",
         "xaxis": "x",
         "y": [
          18999,
          19999,
          7999
         ],
         "y0": " ",
         "yaxis": "y"
        },
        {
         "alignmentgroup": "True",
         "hovertemplate": "company=%{x}<br>price=%{y}<extra></extra>",
         "legendgroup": "Asus",
         "marker": {
          "color": "darkorchid"
         },
         "name": "Asus",
         "notched": false,
         "offsetgroup": "Asus",
         "orientation": "v",
         "showlegend": true,
         "type": "box",
         "x": [
          "Asus",
          "Asus",
          "Asus",
          "Asus",
          "Asus",
          "Asus",
          "Asus"
         ],
         "x0": " ",
         "xaxis": "x",
         "y": [
          89999,
          75990,
          72999,
          63990,
          39999,
          71999,
          107990
         ],
         "y0": " ",
         "yaxis": "y"
        },
        {
         "alignmentgroup": "True",
         "hovertemplate": "company=%{x}<br>price=%{y}<extra></extra>",
         "legendgroup": "itel",
         "marker": {
          "color": "gold"
         },
         "name": "itel",
         "notched": false,
         "offsetgroup": "itel",
         "orientation": "v",
         "showlegend": true,
         "type": "box",
         "x": [
          "itel",
          "itel",
          "itel",
          "itel",
          "itel",
          "itel",
          "itel",
          "itel",
          "itel",
          "itel",
          "itel"
         ],
         "x0": " ",
         "xaxis": "x",
         "y": [
          6990,
          6490,
          2399,
          958,
          6699,
          5785,
          5990,
          5490,
          2239,
          5890,
          4787
         ],
         "y0": " ",
         "yaxis": "y"
        },
        {
         "alignmentgroup": "True",
         "hovertemplate": "company=%{x}<br>price=%{y}<extra></extra>",
         "legendgroup": "Royole",
         "marker": {
          "color": "palegreen"
         },
         "name": "Royole",
         "notched": false,
         "offsetgroup": "Royole",
         "orientation": "v",
         "showlegend": true,
         "type": "box",
         "x": [
          "Royole",
          "Royole"
         ],
         "x0": " ",
         "xaxis": "x",
         "y": [
          109999,
          149999
         ],
         "y0": " ",
         "yaxis": "y"
        },
        {
         "alignmentgroup": "True",
         "hovertemplate": "company=%{x}<br>price=%{y}<extra></extra>",
         "legendgroup": "Sony",
         "marker": {
          "color": "darkred"
         },
         "name": "Sony",
         "notched": false,
         "offsetgroup": "Sony",
         "orientation": "v",
         "showlegend": true,
         "type": "box",
         "x": [
          "Sony",
          "Sony",
          "Sony",
          "Sony",
          "Sony",
          "Sony",
          "Sony",
          "Sony",
          "Sony"
         ],
         "x0": " ",
         "xaxis": "x",
         "y": [
          134999,
          15990,
          69990,
          92980,
          19990,
          69999,
          82199,
          27999,
          30990
         ],
         "y0": " ",
         "yaxis": "y"
        },
        {
         "alignmentgroup": "True",
         "hovertemplate": "company=%{x}<br>price=%{y}<extra></extra>",
         "legendgroup": "Oukitel",
         "marker": {
          "color": "fuchsia"
         },
         "name": "Oukitel",
         "notched": false,
         "offsetgroup": "Oukitel",
         "orientation": "v",
         "showlegend": true,
         "type": "box",
         "x": [
          "Oukitel",
          "Oukitel",
          "Oukitel"
         ],
         "x0": " ",
         "xaxis": "x",
         "y": [
          29990,
          22990,
          25899
         ],
         "y0": " ",
         "yaxis": "y"
        },
        {
         "alignmentgroup": "True",
         "hovertemplate": "company=%{x}<br>price=%{y}<extra></extra>",
         "legendgroup": "Vertu",
         "marker": {
          "color": "green"
         },
         "name": "Vertu",
         "notched": false,
         "offsetgroup": "Vertu",
         "orientation": "v",
         "showlegend": true,
         "type": "box",
         "x": [
          "Vertu"
         ],
         "x0": " ",
         "xaxis": "x",
         "y": [
          650000
         ],
         "y0": " ",
         "yaxis": "y"
        },
        {
         "alignmentgroup": "True",
         "hovertemplate": "company=%{x}<br>price=%{y}<extra></extra>",
         "legendgroup": "BLU",
         "marker": {
          "color": "red"
         },
         "name": "BLU",
         "notched": false,
         "offsetgroup": "BLU",
         "orientation": "v",
         "showlegend": true,
         "type": "box",
         "x": [
          "BLU"
         ],
         "x0": " ",
         "xaxis": "x",
         "y": [
          14990
         ],
         "y0": " ",
         "yaxis": "y"
        },
        {
         "alignmentgroup": "True",
         "hovertemplate": "company=%{x}<br>price=%{y}<extra></extra>",
         "legendgroup": "Lyf",
         "marker": {
          "color": "lightblue"
         },
         "name": "Lyf",
         "notched": false,
         "offsetgroup": "Lyf",
         "orientation": "v",
         "showlegend": true,
         "type": "box",
         "x": [
          "Lyf",
          "Lyf",
          "Lyf"
         ],
         "x0": " ",
         "xaxis": "x",
         "y": [
          3990,
          1999,
          3890
         ],
         "y0": " ",
         "yaxis": "y"
        },
        {
         "alignmentgroup": "True",
         "hovertemplate": "company=%{x}<br>price=%{y}<extra></extra>",
         "legendgroup": "Itel",
         "marker": {
          "color": "darkorchid"
         },
         "name": "Itel",
         "notched": false,
         "offsetgroup": "Itel",
         "orientation": "v",
         "showlegend": true,
         "type": "box",
         "x": [
          "Itel",
          "Itel",
          "Itel"
         ],
         "x0": " ",
         "xaxis": "x",
         "y": [
          5990,
          2799,
          3999
         ],
         "y0": " ",
         "yaxis": "y"
        },
        {
         "alignmentgroup": "True",
         "hovertemplate": "company=%{x}<br>price=%{y}<extra></extra>",
         "legendgroup": "Huawei",
         "marker": {
          "color": "gold"
         },
         "name": "Huawei",
         "notched": false,
         "offsetgroup": "Huawei",
         "orientation": "v",
         "showlegend": true,
         "type": "box",
         "x": [
          "Huawei",
          "Huawei",
          "Huawei",
          "Huawei",
          "Huawei",
          "Huawei",
          "Huawei",
          "Huawei",
          "Huawei",
          "Huawei",
          "Huawei",
          "Huawei",
          "Huawei",
          "Huawei",
          "Huawei",
          "Huawei"
         ],
         "x0": " ",
         "xaxis": "x",
         "y": [
          239999,
          23999,
          19990,
          69990,
          99990,
          162990,
          29990,
          60999,
          82990,
          21990,
          10949,
          21990,
          29990,
          22990,
          214990,
          169000
         ],
         "y0": " ",
         "yaxis": "y"
        },
        {
         "alignmentgroup": "True",
         "hovertemplate": "company=%{x}<br>price=%{y}<extra></extra>",
         "legendgroup": "ZTE",
         "marker": {
          "color": "palegreen"
         },
         "name": "ZTE",
         "notched": false,
         "offsetgroup": "ZTE",
         "orientation": "v",
         "showlegend": true,
         "type": "box",
         "x": [
          "ZTE",
          "ZTE"
         ],
         "x0": " ",
         "xaxis": "x",
         "y": [
          61990,
          19999
         ],
         "y0": " ",
         "yaxis": "y"
        },
        {
         "alignmentgroup": "True",
         "hovertemplate": "company=%{x}<br>price=%{y}<extra></extra>",
         "legendgroup": "Lenovo",
         "marker": {
          "color": "darkred"
         },
         "name": "Lenovo",
         "notched": false,
         "offsetgroup": "Lenovo",
         "orientation": "v",
         "showlegend": true,
         "type": "box",
         "x": [
          "Lenovo",
          "Lenovo"
         ],
         "x0": " ",
         "xaxis": "x",
         "y": [
          46990,
          59999
         ],
         "y0": " ",
         "yaxis": "y"
        },
        {
         "alignmentgroup": "True",
         "hovertemplate": "company=%{x}<br>price=%{y}<extra></extra>",
         "legendgroup": "LG",
         "marker": {
          "color": "fuchsia"
         },
         "name": "LG",
         "notched": false,
         "offsetgroup": "LG",
         "orientation": "v",
         "showlegend": true,
         "type": "box",
         "x": [
          "LG",
          "LG",
          "LG",
          "LG"
         ],
         "x0": " ",
         "xaxis": "x",
         "y": [
          54999,
          54999,
          79990,
          11999
         ],
         "y0": " ",
         "yaxis": "y"
        },
        {
         "alignmentgroup": "True",
         "hovertemplate": "company=%{x}<br>price=%{y}<extra></extra>",
         "legendgroup": "Namotel",
         "marker": {
          "color": "green"
         },
         "name": "Namotel",
         "notched": false,
         "offsetgroup": "Namotel",
         "orientation": "v",
         "showlegend": true,
         "type": "box",
         "x": [
          "Namotel"
         ],
         "x0": " ",
         "xaxis": "x",
         "y": [
          99
         ],
         "y0": " ",
         "yaxis": "y"
        },
        {
         "alignmentgroup": "True",
         "hovertemplate": "company=%{x}<br>price=%{y}<extra></extra>",
         "legendgroup": "Eunity",
         "marker": {
          "color": "red"
         },
         "name": "Eunity",
         "notched": false,
         "offsetgroup": "Eunity",
         "orientation": "v",
         "showlegend": true,
         "type": "box",
         "x": [
          "Eunity",
          "Eunity",
          "Eunity"
         ],
         "x0": " ",
         "xaxis": "x",
         "y": [
          699,
          599,
          649
         ],
         "y0": " ",
         "yaxis": "y"
        },
        {
         "alignmentgroup": "True",
         "hovertemplate": "company=%{x}<br>price=%{y}<extra></extra>",
         "legendgroup": "Micromax",
         "marker": {
          "color": "lightblue"
         },
         "name": "Micromax",
         "notched": false,
         "offsetgroup": "Micromax",
         "orientation": "v",
         "showlegend": true,
         "type": "box",
         "x": [
          "Micromax",
          "Micromax",
          "Micromax"
         ],
         "x0": " ",
         "xaxis": "x",
         "y": [
          6999,
          5999,
          7790
         ],
         "y0": " ",
         "yaxis": "y"
        },
        {
         "alignmentgroup": "True",
         "hovertemplate": "company=%{x}<br>price=%{y}<extra></extra>",
         "legendgroup": "Zanco",
         "marker": {
          "color": "darkorchid"
         },
         "name": "Zanco",
         "notched": false,
         "offsetgroup": "Zanco",
         "orientation": "v",
         "showlegend": true,
         "type": "box",
         "x": [
          "Zanco"
         ],
         "x0": " ",
         "xaxis": "x",
         "y": [
          2799
         ],
         "y0": " ",
         "yaxis": "y"
        },
        {
         "alignmentgroup": "True",
         "hovertemplate": "company=%{x}<br>price=%{y}<extra></extra>",
         "legendgroup": "Karbonn",
         "marker": {
          "color": "gold"
         },
         "name": "Karbonn",
         "notched": false,
         "offsetgroup": "Karbonn",
         "orientation": "v",
         "showlegend": true,
         "type": "box",
         "x": [
          "Karbonn"
         ],
         "x0": " ",
         "xaxis": "x",
         "y": [
          995
         ],
         "y0": " ",
         "yaxis": "y"
        },
        {
         "alignmentgroup": "True",
         "hovertemplate": "company=%{x}<br>price=%{y}<extra></extra>",
         "legendgroup": "Leitz",
         "marker": {
          "color": "palegreen"
         },
         "name": "Leitz",
         "notched": false,
         "offsetgroup": "Leitz",
         "orientation": "v",
         "showlegend": true,
         "type": "box",
         "x": [
          "Leitz"
         ],
         "x0": " ",
         "xaxis": "x",
         "y": [
          124990
         ],
         "y0": " ",
         "yaxis": "y"
        },
        {
         "alignmentgroup": "True",
         "hovertemplate": "company=%{x}<br>price=%{y}<extra></extra>",
         "legendgroup": "CAT",
         "marker": {
          "color": "darkred"
         },
         "name": "CAT",
         "notched": false,
         "offsetgroup": "CAT",
         "orientation": "v",
         "showlegend": true,
         "type": "box",
         "x": [
          "CAT"
         ],
         "x0": " ",
         "xaxis": "x",
         "y": [
          14999
         ],
         "y0": " ",
         "yaxis": "y"
        },
        {
         "alignmentgroup": "True",
         "hovertemplate": "company=%{x}<br>price=%{y}<extra></extra>",
         "legendgroup": "DIZO",
         "marker": {
          "color": "fuchsia"
         },
         "name": "DIZO",
         "notched": false,
         "offsetgroup": "DIZO",
         "orientation": "v",
         "showlegend": true,
         "type": "box",
         "x": [
          "DIZO"
         ],
         "x0": " ",
         "xaxis": "x",
         "y": [
          1749
         ],
         "y0": " ",
         "yaxis": "y"
        },
        {
         "alignmentgroup": "True",
         "hovertemplate": "company=%{x}<br>price=%{y}<extra></extra>",
         "legendgroup": "BlackZone",
         "marker": {
          "color": "green"
         },
         "name": "BlackZone",
         "notched": false,
         "offsetgroup": "BlackZone",
         "orientation": "v",
         "showlegend": true,
         "type": "box",
         "x": [
          "BlackZone"
         ],
         "x0": " ",
         "xaxis": "x",
         "y": [
          1899
         ],
         "y0": " ",
         "yaxis": "y"
        },
        {
         "alignmentgroup": "True",
         "hovertemplate": "company=%{x}<br>price=%{y}<extra></extra>",
         "legendgroup": "Doogee",
         "marker": {
          "color": "red"
         },
         "name": "Doogee",
         "notched": false,
         "offsetgroup": "Doogee",
         "orientation": "v",
         "showlegend": true,
         "type": "box",
         "x": [
          "Doogee",
          "Doogee"
         ],
         "x0": " ",
         "xaxis": "x",
         "y": [
          45999,
          14999
         ],
         "y0": " ",
         "yaxis": "y"
        },
        {
         "alignmentgroup": "True",
         "hovertemplate": "company=%{x}<br>price=%{y}<extra></extra>",
         "legendgroup": "TCL",
         "marker": {
          "color": "lightblue"
         },
         "name": "TCL",
         "notched": false,
         "offsetgroup": "TCL",
         "orientation": "v",
         "showlegend": true,
         "type": "box",
         "x": [
          "TCL"
         ],
         "x0": " ",
         "xaxis": "x",
         "y": [
          8990
         ],
         "y0": " ",
         "yaxis": "y"
        },
        {
         "alignmentgroup": "True",
         "hovertemplate": "company=%{x}<br>price=%{y}<extra></extra>",
         "legendgroup": "Sharp",
         "marker": {
          "color": "darkorchid"
         },
         "name": "Sharp",
         "notched": false,
         "offsetgroup": "Sharp",
         "orientation": "v",
         "showlegend": true,
         "type": "box",
         "x": [
          "Sharp"
         ],
         "x0": " ",
         "xaxis": "x",
         "y": [
          59990
         ],
         "y0": " ",
         "yaxis": "y"
        },
        {
         "alignmentgroup": "True",
         "hovertemplate": "company=%{x}<br>price=%{y}<extra></extra>",
         "legendgroup": "Blackview",
         "marker": {
          "color": "gold"
         },
         "name": "Blackview",
         "notched": false,
         "offsetgroup": "Blackview",
         "orientation": "v",
         "showlegend": true,
         "type": "box",
         "x": [
          "Blackview"
         ],
         "x0": " ",
         "xaxis": "x",
         "y": [
          8990
         ],
         "y0": " ",
         "yaxis": "y"
        },
        {
         "alignmentgroup": "True",
         "hovertemplate": "company=%{x}<br>price=%{y}<extra></extra>",
         "legendgroup": "XTouch",
         "marker": {
          "color": "palegreen"
         },
         "name": "XTouch",
         "notched": false,
         "offsetgroup": "XTouch",
         "orientation": "v",
         "showlegend": true,
         "type": "box",
         "x": [
          "XTouch"
         ],
         "x0": " ",
         "xaxis": "x",
         "y": [
          1999
         ],
         "y0": " ",
         "yaxis": "y"
        }
       ],
       "layout": {
        "boxmode": "overlay",
        "height": 500,
        "legend": {
         "title": {
          "text": "company"
         },
         "tracegroupgap": 0
        },
        "margin": {
         "t": 60
        },
        "template": {
         "data": {
          "bar": [
           {
            "error_x": {
             "color": "#f2f5fa"
            },
            "error_y": {
             "color": "#f2f5fa"
            },
            "marker": {
             "line": {
              "color": "rgb(17,17,17)",
              "width": 0.5
             },
             "pattern": {
              "fillmode": "overlay",
              "size": 10,
              "solidity": 0.2
             }
            },
            "type": "bar"
           }
          ],
          "barpolar": [
           {
            "marker": {
             "line": {
              "color": "rgb(17,17,17)",
              "width": 0.5
             },
             "pattern": {
              "fillmode": "overlay",
              "size": 10,
              "solidity": 0.2
             }
            },
            "type": "barpolar"
           }
          ],
          "carpet": [
           {
            "aaxis": {
             "endlinecolor": "#A2B1C6",
             "gridcolor": "#506784",
             "linecolor": "#506784",
             "minorgridcolor": "#506784",
             "startlinecolor": "#A2B1C6"
            },
            "baxis": {
             "endlinecolor": "#A2B1C6",
             "gridcolor": "#506784",
             "linecolor": "#506784",
             "minorgridcolor": "#506784",
             "startlinecolor": "#A2B1C6"
            },
            "type": "carpet"
           }
          ],
          "choropleth": [
           {
            "colorbar": {
             "outlinewidth": 0,
             "ticks": ""
            },
            "type": "choropleth"
           }
          ],
          "contour": [
           {
            "colorbar": {
             "outlinewidth": 0,
             "ticks": ""
            },
            "colorscale": [
             [
              0,
              "#0d0887"
             ],
             [
              0.1111111111111111,
              "#46039f"
             ],
             [
              0.2222222222222222,
              "#7201a8"
             ],
             [
              0.3333333333333333,
              "#9c179e"
             ],
             [
              0.4444444444444444,
              "#bd3786"
             ],
             [
              0.5555555555555556,
              "#d8576b"
             ],
             [
              0.6666666666666666,
              "#ed7953"
             ],
             [
              0.7777777777777778,
              "#fb9f3a"
             ],
             [
              0.8888888888888888,
              "#fdca26"
             ],
             [
              1,
              "#f0f921"
             ]
            ],
            "type": "contour"
           }
          ],
          "contourcarpet": [
           {
            "colorbar": {
             "outlinewidth": 0,
             "ticks": ""
            },
            "type": "contourcarpet"
           }
          ],
          "heatmap": [
           {
            "colorbar": {
             "outlinewidth": 0,
             "ticks": ""
            },
            "colorscale": [
             [
              0,
              "#0d0887"
             ],
             [
              0.1111111111111111,
              "#46039f"
             ],
             [
              0.2222222222222222,
              "#7201a8"
             ],
             [
              0.3333333333333333,
              "#9c179e"
             ],
             [
              0.4444444444444444,
              "#bd3786"
             ],
             [
              0.5555555555555556,
              "#d8576b"
             ],
             [
              0.6666666666666666,
              "#ed7953"
             ],
             [
              0.7777777777777778,
              "#fb9f3a"
             ],
             [
              0.8888888888888888,
              "#fdca26"
             ],
             [
              1,
              "#f0f921"
             ]
            ],
            "type": "heatmap"
           }
          ],
          "heatmapgl": [
           {
            "colorbar": {
             "outlinewidth": 0,
             "ticks": ""
            },
            "colorscale": [
             [
              0,
              "#0d0887"
             ],
             [
              0.1111111111111111,
              "#46039f"
             ],
             [
              0.2222222222222222,
              "#7201a8"
             ],
             [
              0.3333333333333333,
              "#9c179e"
             ],
             [
              0.4444444444444444,
              "#bd3786"
             ],
             [
              0.5555555555555556,
              "#d8576b"
             ],
             [
              0.6666666666666666,
              "#ed7953"
             ],
             [
              0.7777777777777778,
              "#fb9f3a"
             ],
             [
              0.8888888888888888,
              "#fdca26"
             ],
             [
              1,
              "#f0f921"
             ]
            ],
            "type": "heatmapgl"
           }
          ],
          "histogram": [
           {
            "marker": {
             "pattern": {
              "fillmode": "overlay",
              "size": 10,
              "solidity": 0.2
             }
            },
            "type": "histogram"
           }
          ],
          "histogram2d": [
           {
            "colorbar": {
             "outlinewidth": 0,
             "ticks": ""
            },
            "colorscale": [
             [
              0,
              "#0d0887"
             ],
             [
              0.1111111111111111,
              "#46039f"
             ],
             [
              0.2222222222222222,
              "#7201a8"
             ],
             [
              0.3333333333333333,
              "#9c179e"
             ],
             [
              0.4444444444444444,
              "#bd3786"
             ],
             [
              0.5555555555555556,
              "#d8576b"
             ],
             [
              0.6666666666666666,
              "#ed7953"
             ],
             [
              0.7777777777777778,
              "#fb9f3a"
             ],
             [
              0.8888888888888888,
              "#fdca26"
             ],
             [
              1,
              "#f0f921"
             ]
            ],
            "type": "histogram2d"
           }
          ],
          "histogram2dcontour": [
           {
            "colorbar": {
             "outlinewidth": 0,
             "ticks": ""
            },
            "colorscale": [
             [
              0,
              "#0d0887"
             ],
             [
              0.1111111111111111,
              "#46039f"
             ],
             [
              0.2222222222222222,
              "#7201a8"
             ],
             [
              0.3333333333333333,
              "#9c179e"
             ],
             [
              0.4444444444444444,
              "#bd3786"
             ],
             [
              0.5555555555555556,
              "#d8576b"
             ],
             [
              0.6666666666666666,
              "#ed7953"
             ],
             [
              0.7777777777777778,
              "#fb9f3a"
             ],
             [
              0.8888888888888888,
              "#fdca26"
             ],
             [
              1,
              "#f0f921"
             ]
            ],
            "type": "histogram2dcontour"
           }
          ],
          "mesh3d": [
           {
            "colorbar": {
             "outlinewidth": 0,
             "ticks": ""
            },
            "type": "mesh3d"
           }
          ],
          "parcoords": [
           {
            "line": {
             "colorbar": {
              "outlinewidth": 0,
              "ticks": ""
             }
            },
            "type": "parcoords"
           }
          ],
          "pie": [
           {
            "automargin": true,
            "type": "pie"
           }
          ],
          "scatter": [
           {
            "marker": {
             "line": {
              "color": "#283442"
             }
            },
            "type": "scatter"
           }
          ],
          "scatter3d": [
           {
            "line": {
             "colorbar": {
              "outlinewidth": 0,
              "ticks": ""
             }
            },
            "marker": {
             "colorbar": {
              "outlinewidth": 0,
              "ticks": ""
             }
            },
            "type": "scatter3d"
           }
          ],
          "scattercarpet": [
           {
            "marker": {
             "colorbar": {
              "outlinewidth": 0,
              "ticks": ""
             }
            },
            "type": "scattercarpet"
           }
          ],
          "scattergeo": [
           {
            "marker": {
             "colorbar": {
              "outlinewidth": 0,
              "ticks": ""
             }
            },
            "type": "scattergeo"
           }
          ],
          "scattergl": [
           {
            "marker": {
             "line": {
              "color": "#283442"
             }
            },
            "type": "scattergl"
           }
          ],
          "scattermapbox": [
           {
            "marker": {
             "colorbar": {
              "outlinewidth": 0,
              "ticks": ""
             }
            },
            "type": "scattermapbox"
           }
          ],
          "scatterpolar": [
           {
            "marker": {
             "colorbar": {
              "outlinewidth": 0,
              "ticks": ""
             }
            },
            "type": "scatterpolar"
           }
          ],
          "scatterpolargl": [
           {
            "marker": {
             "colorbar": {
              "outlinewidth": 0,
              "ticks": ""
             }
            },
            "type": "scatterpolargl"
           }
          ],
          "scatterternary": [
           {
            "marker": {
             "colorbar": {
              "outlinewidth": 0,
              "ticks": ""
             }
            },
            "type": "scatterternary"
           }
          ],
          "surface": [
           {
            "colorbar": {
             "outlinewidth": 0,
             "ticks": ""
            },
            "colorscale": [
             [
              0,
              "#0d0887"
             ],
             [
              0.1111111111111111,
              "#46039f"
             ],
             [
              0.2222222222222222,
              "#7201a8"
             ],
             [
              0.3333333333333333,
              "#9c179e"
             ],
             [
              0.4444444444444444,
              "#bd3786"
             ],
             [
              0.5555555555555556,
              "#d8576b"
             ],
             [
              0.6666666666666666,
              "#ed7953"
             ],
             [
              0.7777777777777778,
              "#fb9f3a"
             ],
             [
              0.8888888888888888,
              "#fdca26"
             ],
             [
              1,
              "#f0f921"
             ]
            ],
            "type": "surface"
           }
          ],
          "table": [
           {
            "cells": {
             "fill": {
              "color": "#506784"
             },
             "line": {
              "color": "rgb(17,17,17)"
             }
            },
            "header": {
             "fill": {
              "color": "#2a3f5f"
             },
             "line": {
              "color": "rgb(17,17,17)"
             }
            },
            "type": "table"
           }
          ]
         },
         "layout": {
          "annotationdefaults": {
           "arrowcolor": "#f2f5fa",
           "arrowhead": 0,
           "arrowwidth": 1
          },
          "autotypenumbers": "strict",
          "coloraxis": {
           "colorbar": {
            "outlinewidth": 0,
            "ticks": ""
           }
          },
          "colorscale": {
           "diverging": [
            [
             0,
             "#8e0152"
            ],
            [
             0.1,
             "#c51b7d"
            ],
            [
             0.2,
             "#de77ae"
            ],
            [
             0.3,
             "#f1b6da"
            ],
            [
             0.4,
             "#fde0ef"
            ],
            [
             0.5,
             "#f7f7f7"
            ],
            [
             0.6,
             "#e6f5d0"
            ],
            [
             0.7,
             "#b8e186"
            ],
            [
             0.8,
             "#7fbc41"
            ],
            [
             0.9,
             "#4d9221"
            ],
            [
             1,
             "#276419"
            ]
           ],
           "sequential": [
            [
             0,
             "#0d0887"
            ],
            [
             0.1111111111111111,
             "#46039f"
            ],
            [
             0.2222222222222222,
             "#7201a8"
            ],
            [
             0.3333333333333333,
             "#9c179e"
            ],
            [
             0.4444444444444444,
             "#bd3786"
            ],
            [
             0.5555555555555556,
             "#d8576b"
            ],
            [
             0.6666666666666666,
             "#ed7953"
            ],
            [
             0.7777777777777778,
             "#fb9f3a"
            ],
            [
             0.8888888888888888,
             "#fdca26"
            ],
            [
             1,
             "#f0f921"
            ]
           ],
           "sequentialminus": [
            [
             0,
             "#0d0887"
            ],
            [
             0.1111111111111111,
             "#46039f"
            ],
            [
             0.2222222222222222,
             "#7201a8"
            ],
            [
             0.3333333333333333,
             "#9c179e"
            ],
            [
             0.4444444444444444,
             "#bd3786"
            ],
            [
             0.5555555555555556,
             "#d8576b"
            ],
            [
             0.6666666666666666,
             "#ed7953"
            ],
            [
             0.7777777777777778,
             "#fb9f3a"
            ],
            [
             0.8888888888888888,
             "#fdca26"
            ],
            [
             1,
             "#f0f921"
            ]
           ]
          },
          "colorway": [
           "#636efa",
           "#EF553B",
           "#00cc96",
           "#ab63fa",
           "#FFA15A",
           "#19d3f3",
           "#FF6692",
           "#B6E880",
           "#FF97FF",
           "#FECB52"
          ],
          "font": {
           "color": "#f2f5fa"
          },
          "geo": {
           "bgcolor": "rgb(17,17,17)",
           "lakecolor": "rgb(17,17,17)",
           "landcolor": "rgb(17,17,17)",
           "showlakes": true,
           "showland": true,
           "subunitcolor": "#506784"
          },
          "hoverlabel": {
           "align": "left"
          },
          "hovermode": "closest",
          "mapbox": {
           "style": "dark"
          },
          "paper_bgcolor": "rgb(17,17,17)",
          "plot_bgcolor": "rgb(17,17,17)",
          "polar": {
           "angularaxis": {
            "gridcolor": "#506784",
            "linecolor": "#506784",
            "ticks": ""
           },
           "bgcolor": "rgb(17,17,17)",
           "radialaxis": {
            "gridcolor": "#506784",
            "linecolor": "#506784",
            "ticks": ""
           }
          },
          "scene": {
           "xaxis": {
            "backgroundcolor": "rgb(17,17,17)",
            "gridcolor": "#506784",
            "gridwidth": 2,
            "linecolor": "#506784",
            "showbackground": true,
            "ticks": "",
            "zerolinecolor": "#C8D4E3"
           },
           "yaxis": {
            "backgroundcolor": "rgb(17,17,17)",
            "gridcolor": "#506784",
            "gridwidth": 2,
            "linecolor": "#506784",
            "showbackground": true,
            "ticks": "",
            "zerolinecolor": "#C8D4E3"
           },
           "zaxis": {
            "backgroundcolor": "rgb(17,17,17)",
            "gridcolor": "#506784",
            "gridwidth": 2,
            "linecolor": "#506784",
            "showbackground": true,
            "ticks": "",
            "zerolinecolor": "#C8D4E3"
           }
          },
          "shapedefaults": {
           "line": {
            "color": "#f2f5fa"
           }
          },
          "sliderdefaults": {
           "bgcolor": "#C8D4E3",
           "bordercolor": "rgb(17,17,17)",
           "borderwidth": 1,
           "tickwidth": 0
          },
          "ternary": {
           "aaxis": {
            "gridcolor": "#506784",
            "linecolor": "#506784",
            "ticks": ""
           },
           "baxis": {
            "gridcolor": "#506784",
            "linecolor": "#506784",
            "ticks": ""
           },
           "bgcolor": "rgb(17,17,17)",
           "caxis": {
            "gridcolor": "#506784",
            "linecolor": "#506784",
            "ticks": ""
           }
          },
          "title": {
           "x": 0.05
          },
          "updatemenudefaults": {
           "bgcolor": "#506784",
           "borderwidth": 0
          },
          "xaxis": {
           "automargin": true,
           "gridcolor": "#283442",
           "linecolor": "#506784",
           "ticks": "",
           "title": {
            "standoff": 15
           },
           "zerolinecolor": "#283442",
           "zerolinewidth": 2
          },
          "yaxis": {
           "automargin": true,
           "gridcolor": "#283442",
           "linecolor": "#506784",
           "ticks": "",
           "title": {
            "standoff": 15
           },
           "zerolinecolor": "#283442",
           "zerolinewidth": 2
          }
         }
        },
        "width": 1500,
        "xaxis": {
         "anchor": "y",
         "categoryarray": [
          "OnePlus",
          "Samsung",
          "Motorola",
          "Realme",
          "Apple",
          "Xiaomi",
          "Nothing",
          "Oppo",
          "Vivo",
          "OPPO",
          "Poco",
          "iQOO",
          "Jio",
          "Gionee",
          "Tecno",
          "Tesla",
          "Google",
          "Infinix",
          "Nokia",
          "Cola",
          "Letv",
          "POCO",
          "iKall",
          "LeEco",
          "Duoqin",
          "Lava",
          "Honor",
          "Nubia",
          "Redmi",
          "Asus",
          "itel",
          "Royole",
          "Sony",
          "Oukitel",
          "Vertu",
          "BLU",
          "Lyf",
          "Itel",
          "Huawei",
          "ZTE",
          "Lenovo",
          "LG",
          "Namotel",
          "Eunity",
          "Micromax",
          "Zanco",
          "Karbonn",
          "Leitz",
          "CAT",
          "DIZO",
          "BlackZone",
          "Doogee",
          "TCL",
          "Sharp",
          "Blackview",
          "XTouch"
         ],
         "categoryorder": "array",
         "domain": [
          0,
          1
         ],
         "title": {
          "text": "company"
         }
        },
        "yaxis": {
         "anchor": "x",
         "domain": [
          0,
          1
         ],
         "title": {
          "text": "price"
         }
        }
       }
      }
     },
     "metadata": {},
     "output_type": "display_data"
    }
   ],
   "source": [
    "fig=px.box(data_frame=df,y=\"price\",x=\"company\",color=\"company\",color_discrete_sequence=[\"darkred\",\"fuchsia\",\"green\",\"red\",\"lightblue\",\"darkorchid\",\"gold\",\"palegreen\"],\n",
    "          width=1500, height=500)\n",
    "fig.update_layout(template=\"plotly_dark\") \n",
    "fig.show()"
   ]
  },
  {
   "cell_type": "code",
   "execution_count": 14,
   "id": "f5836c82",
   "metadata": {
    "execution": {
     "iopub.execute_input": "2023-04-13T22:17:10.872684Z",
     "iopub.status.busy": "2023-04-13T22:17:10.872222Z",
     "iopub.status.idle": "2023-04-13T22:17:11.083205Z",
     "shell.execute_reply": "2023-04-13T22:17:11.081790Z"
    },
    "papermill": {
     "duration": 0.228012,
     "end_time": "2023-04-13T22:17:11.086387",
     "exception": false,
     "start_time": "2023-04-13T22:17:10.858375",
     "status": "completed"
    },
    "tags": []
   },
   "outputs": [
    {
     "data": {
      "application/vnd.plotly.v1+json": {
       "config": {
        "plotlyServerURL": "https://plot.ly"
       },
       "data": [
        {
         "alignmentgroup": "True",
         "hovertemplate": "processor=%{x}<br>price=%{y}<extra></extra>",
         "legendgroup": "Snapdragon",
         "marker": {
          "color": "darkred"
         },
         "name": "Snapdragon",
         "notched": false,
         "offsetgroup": "Snapdragon",
         "orientation": "v",
         "showlegend": true,
         "type": "box",
         "x": [
          "Snapdragon",
          "Snapdragon",
          "Snapdragon",
          "Snapdragon",
          "Snapdragon",
          "Snapdragon",
          "Snapdragon",
          "Snapdragon",
          "Snapdragon",
          "Snapdragon",
          "Snapdragon",
          "Snapdragon",
          "Snapdragon",
          "Snapdragon",
          "Snapdragon",
          "Snapdragon",
          "Snapdragon",
          "Snapdragon",
          "Snapdragon",
          "Snapdragon",
          "Snapdragon",
          "Snapdragon",
          "Snapdragon",
          "Snapdragon",
          "Snapdragon",
          "Snapdragon",
          "Snapdragon",
          "Snapdragon",
          "Snapdragon",
          "Snapdragon",
          "Snapdragon",
          "Snapdragon",
          "Snapdragon",
          "Snapdragon",
          "Snapdragon",
          "Snapdragon",
          "Snapdragon",
          "Snapdragon",
          "Snapdragon",
          "Snapdragon",
          "Snapdragon",
          "Snapdragon",
          "Snapdragon",
          "Snapdragon",
          "Snapdragon",
          "Snapdragon",
          "Snapdragon",
          "Snapdragon",
          "Snapdragon",
          "Snapdragon",
          "Snapdragon",
          "Snapdragon",
          "Snapdragon",
          "Snapdragon",
          "Snapdragon",
          "Snapdragon",
          "Snapdragon",
          "Snapdragon",
          "Snapdragon",
          "Snapdragon",
          "Snapdragon",
          "Snapdragon",
          "Snapdragon",
          "Snapdragon",
          "Snapdragon",
          "Snapdragon",
          "Snapdragon",
          "Snapdragon",
          "Snapdragon",
          "Snapdragon",
          "Snapdragon",
          "Snapdragon",
          "Snapdragon",
          "Snapdragon",
          "Snapdragon",
          "Snapdragon",
          "Snapdragon",
          "Snapdragon",
          "Snapdragon",
          "Snapdragon",
          "Snapdragon",
          "Snapdragon",
          "Snapdragon",
          "Snapdragon",
          "Snapdragon",
          "Snapdragon",
          "Snapdragon",
          "Snapdragon",
          "Snapdragon",
          "Snapdragon",
          "Snapdragon",
          "Snapdragon",
          "Snapdragon",
          "Snapdragon",
          "Snapdragon",
          "Snapdragon",
          "Snapdragon",
          "Snapdragon",
          "Snapdragon",
          "Snapdragon",
          "Snapdragon",
          "Snapdragon",
          "Snapdragon",
          "Snapdragon",
          "Snapdragon",
          "Snapdragon",
          "Snapdragon",
          "Snapdragon",
          "Snapdragon",
          "Snapdragon",
          "Snapdragon",
          "Snapdragon",
          "Snapdragon",
          "Snapdragon",
          "Snapdragon",
          "Snapdragon",
          "Snapdragon",
          "Snapdragon",
          "Snapdragon",
          "Snapdragon",
          "Snapdragon",
          "Snapdragon",
          "Snapdragon",
          "Snapdragon",
          "Snapdragon",
          "Snapdragon",
          "Snapdragon",
          "Snapdragon",
          "Snapdragon",
          "Snapdragon",
          "Snapdragon",
          "Snapdragon",
          "Snapdragon",
          "Snapdragon",
          "Snapdragon",
          "Snapdragon",
          "Snapdragon",
          "Snapdragon",
          "Snapdragon",
          "Snapdragon",
          "Snapdragon",
          "Snapdragon",
          "Snapdragon",
          "Snapdragon",
          "Snapdragon",
          "Snapdragon",
          "Snapdragon",
          "Snapdragon",
          "Snapdragon",
          "Snapdragon",
          "Snapdragon",
          "Snapdragon",
          "Snapdragon",
          "Snapdragon",
          "Snapdragon",
          "Snapdragon",
          "Snapdragon",
          "Snapdragon",
          "Snapdragon",
          "Snapdragon",
          "Snapdragon",
          "Snapdragon",
          "Snapdragon",
          "Snapdragon",
          "Snapdragon",
          "Snapdragon",
          "Snapdragon",
          "Snapdragon",
          "Snapdragon",
          "Snapdragon",
          "Snapdragon",
          "Snapdragon",
          "Snapdragon",
          "Snapdragon",
          "Snapdragon",
          "Snapdragon",
          "Snapdragon",
          "Snapdragon",
          "Snapdragon",
          "Snapdragon",
          "Snapdragon",
          "Snapdragon",
          "Snapdragon",
          "Snapdragon",
          "Snapdragon",
          "Snapdragon",
          "Snapdragon",
          "Snapdragon",
          "Snapdragon",
          "Snapdragon",
          "Snapdragon",
          "Snapdragon",
          "Snapdragon",
          "Snapdragon",
          "Snapdragon",
          "Snapdragon",
          "Snapdragon",
          "Snapdragon",
          "Snapdragon",
          "Snapdragon",
          "Snapdragon",
          "Snapdragon",
          "Snapdragon",
          "Snapdragon",
          "Snapdragon",
          "Snapdragon",
          "Snapdragon",
          "Snapdragon",
          "Snapdragon",
          "Snapdragon",
          "Snapdragon",
          "Snapdragon",
          "Snapdragon",
          "Snapdragon",
          "Snapdragon",
          "Snapdragon",
          "Snapdragon",
          "Snapdragon",
          "Snapdragon",
          "Snapdragon",
          "Snapdragon",
          "Snapdragon",
          "Snapdragon",
          "Snapdragon",
          "Snapdragon",
          "Snapdragon",
          "Snapdragon",
          "Snapdragon",
          "Snapdragon",
          "Snapdragon",
          "Snapdragon",
          "Snapdragon",
          "Snapdragon",
          "Snapdragon",
          "Snapdragon",
          "Snapdragon",
          "Snapdragon",
          "Snapdragon",
          "Snapdragon",
          "Snapdragon",
          "Snapdragon",
          "Snapdragon",
          "Snapdragon",
          "Snapdragon",
          "Snapdragon",
          "Snapdragon",
          "Snapdragon",
          "Snapdragon",
          "Snapdragon",
          "Snapdragon",
          "Snapdragon",
          "Snapdragon",
          "Snapdragon",
          "Snapdragon",
          "Snapdragon",
          "Snapdragon",
          "Snapdragon",
          "Snapdragon",
          "Snapdragon",
          "Snapdragon",
          "Snapdragon",
          "Snapdragon",
          "Snapdragon",
          "Snapdragon",
          "Snapdragon",
          "Snapdragon",
          "Snapdragon",
          "Snapdragon",
          "Snapdragon",
          "Snapdragon",
          "Snapdragon",
          "Snapdragon",
          "Snapdragon",
          "Snapdragon",
          "Snapdragon",
          "Snapdragon",
          "Snapdragon",
          "Snapdragon",
          "Snapdragon",
          "Snapdragon",
          "Snapdragon",
          "Snapdragon",
          "Snapdragon",
          "Snapdragon",
          "Snapdragon",
          "Snapdragon",
          "Snapdragon",
          "Snapdragon",
          "Snapdragon",
          "Snapdragon",
          "Snapdragon",
          "Snapdragon",
          "Snapdragon",
          "Snapdragon",
          "Snapdragon",
          "Snapdragon",
          "Snapdragon",
          "Snapdragon",
          "Snapdragon",
          "Snapdragon",
          "Snapdragon",
          "Snapdragon",
          "Snapdragon",
          "Snapdragon",
          "Snapdragon",
          "Snapdragon",
          "Snapdragon",
          "Snapdragon",
          "Snapdragon",
          "Snapdragon",
          "Snapdragon",
          "Snapdragon",
          "Snapdragon",
          "Snapdragon",
          "Snapdragon",
          "Snapdragon",
          "Snapdragon",
          "Snapdragon",
          "Snapdragon",
          "Snapdragon",
          "Snapdragon",
          "Snapdragon",
          "Snapdragon",
          "Snapdragon",
          "Snapdragon",
          "Snapdragon",
          "Snapdragon",
          "Snapdragon",
          "Snapdragon",
          "Snapdragon",
          "Snapdragon",
          "Snapdragon",
          "Snapdragon",
          "Snapdragon",
          "Snapdragon",
          "Snapdragon",
          "Snapdragon",
          "Snapdragon",
          "Snapdragon",
          "Snapdragon",
          "Snapdragon",
          "Snapdragon",
          "Snapdragon",
          "Snapdragon",
          "Snapdragon",
          "Snapdragon",
          "Snapdragon",
          "Snapdragon",
          "Snapdragon",
          "Snapdragon",
          "Snapdragon",
          "Snapdragon",
          "Snapdragon",
          "Snapdragon",
          "Snapdragon",
          "Snapdragon",
          "Snapdragon",
          "Snapdragon",
          "Snapdragon",
          "Snapdragon",
          "Snapdragon",
          "Snapdragon",
          "Snapdragon",
          "Snapdragon",
          "Snapdragon",
          "Snapdragon",
          "Snapdragon",
          "Snapdragon",
          "Snapdragon",
          "Snapdragon",
          "Snapdragon",
          "Snapdragon",
          "Snapdragon",
          "Snapdragon",
          "Snapdragon",
          "Snapdragon",
          "Snapdragon",
          "Snapdragon",
          "Snapdragon",
          "Snapdragon",
          "Snapdragon",
          "Snapdragon",
          "Snapdragon",
          "Snapdragon",
          "Snapdragon",
          "Snapdragon",
          "Snapdragon",
          "Snapdragon",
          "Snapdragon",
          "Snapdragon",
          "Snapdragon",
          "Snapdragon",
          "Snapdragon",
          "Snapdragon",
          "Snapdragon",
          "Snapdragon",
          "Snapdragon",
          "Snapdragon",
          "Snapdragon",
          "Snapdragon",
          "Snapdragon",
          "Snapdragon",
          "Snapdragon",
          "Snapdragon",
          "Snapdragon",
          "Snapdragon",
          "Snapdragon",
          "Snapdragon",
          "Snapdragon",
          "Snapdragon",
          "Snapdragon"
         ],
         "x0": " ",
         "xaxis": "x",
         "y": [
          54999,
          19989,
          14999,
          16999,
          26749,
          18999,
          16990,
          114990,
          45999,
          39999,
          14999,
          17859,
          31239,
          21995,
          69999,
          19999,
          20999,
          29990,
          91999,
          32999,
          28499,
          21999,
          19999,
          18499,
          11936,
          42999,
          11990,
          18999,
          84990,
          10499,
          29990,
          18499,
          60999,
          15999,
          99990,
          13989,
          44999,
          27660,
          19990,
          22999,
          22999,
          14290,
          41999,
          16499,
          73999,
          12499,
          59999,
          106990,
          15990,
          19999,
          23990,
          58990,
          49999,
          15999,
          21788,
          70990,
          34999,
          10999,
          24999,
          9999,
          28249,
          16499,
          22999,
          13490,
          28999,
          15499,
          14999,
          24990,
          9589,
          19988,
          11999,
          30990,
          4990,
          25969,
          28999,
          94990,
          14999,
          58990,
          30990,
          20499,
          15490,
          15499,
          39999,
          14999,
          20499,
          34999,
          46999,
          39999,
          18999,
          17999,
          17999,
          54999,
          71999,
          12999,
          35999,
          18999,
          27999,
          29990,
          24999,
          12188,
          24999,
          65499,
          58990,
          11999,
          11999,
          14499,
          106990,
          26990,
          44999,
          24999,
          21899,
          46990,
          16940,
          17990,
          20990,
          64449,
          8990,
          34999,
          18999,
          39990,
          6199,
          22700,
          50990,
          89999,
          19990,
          19999,
          24999,
          59999,
          25895,
          46990,
          12999,
          11999,
          21890,
          69999,
          55999,
          42999,
          118999,
          16999,
          16999,
          64999,
          154998,
          109999,
          17999,
          14999,
          19990,
          23399,
          41990,
          22998,
          25999,
          15999,
          64800,
          20990,
          77990,
          21999,
          38999,
          14990,
          29999,
          15999,
          59990,
          34990,
          119990,
          50999,
          134999,
          32999,
          13499,
          20120,
          20999,
          28994,
          22494,
          18498,
          23999,
          14999,
          14990,
          20999,
          11999,
          34999,
          104999,
          13999,
          79999,
          75990,
          21990,
          18999,
          16990,
          23890,
          27999,
          19999,
          19990,
          41990,
          69990,
          39990,
          74999,
          34990,
          34999,
          13990,
          650000,
          34990,
          22494,
          19650,
          63990,
          34949,
          199990,
          34999,
          24990,
          17999,
          22999,
          39990,
          11999,
          3990,
          113990,
          239999,
          15999,
          6899,
          69990,
          92980,
          12999,
          60990,
          33749,
          89999,
          27999,
          15990,
          30990,
          14990,
          36000,
          69999,
          14489,
          16490,
          23990,
          49959,
          23269,
          13999,
          14990,
          61990,
          51880,
          16990,
          19990,
          57999,
          46990,
          17990,
          49990,
          14999,
          19980,
          35990,
          27990,
          29999,
          39999,
          27999,
          60999,
          110999,
          54999,
          16490,
          24990,
          25000,
          1999,
          32999,
          28498,
          59990,
          16990,
          27999,
          13990,
          22990,
          59990,
          21999,
          19999,
          19990,
          28990,
          27999,
          17999,
          69999,
          57999,
          14999,
          26499,
          47990,
          22999,
          99990,
          39999,
          38999,
          39990,
          71999,
          22990,
          17999,
          94990,
          25990,
          16499,
          19999,
          23500,
          54999,
          19499,
          79990,
          32990,
          9999,
          82199,
          49990,
          29990,
          92249,
          15988,
          134999,
          25595,
          19990,
          29999,
          31990,
          31990,
          162990,
          24999,
          82990,
          29990,
          60999,
          14999,
          44990,
          22490,
          50990,
          11499,
          27000,
          29999,
          27990,
          9990,
          19990,
          13279,
          12999,
          54990,
          54990,
          16999,
          34999,
          82990,
          46999,
          16999,
          88999,
          15990,
          79990,
          12499,
          11990,
          75999,
          109990,
          11499,
          12799,
          14490,
          9490,
          25000,
          15000,
          29999,
          124990,
          28499,
          17990,
          39999,
          19999,
          29990,
          15499,
          12499,
          32990,
          42990,
          18699,
          30990,
          59999,
          29990,
          27999,
          11990,
          11490,
          19990,
          32990,
          41990,
          29990,
          22990,
          29999,
          39990,
          22990,
          149999,
          31999,
          30990,
          14499,
          44999,
          19999,
          16990,
          14439,
          24999,
          480000,
          3890,
          19999,
          29999,
          163980,
          24990,
          59990,
          47990,
          40990,
          14999,
          22990,
          118990,
          29990,
          17999,
          44999,
          39990,
          9999,
          22990,
          32990,
          39990,
          30994,
          32999,
          19000,
          13990,
          54999,
          9990,
          24999,
          59990,
          39990,
          13490,
          42990,
          54999,
          49990,
          69990,
          119990,
          34990,
          14990,
          19990
         ],
         "y0": " ",
         "yaxis": "y"
        },
        {
         "alignmentgroup": "True",
         "hovertemplate": "processor=%{x}<br>price=%{y}<extra></extra>",
         "legendgroup": "Exynos",
         "marker": {
          "color": "fuchsia"
         },
         "name": "Exynos",
         "notched": false,
         "offsetgroup": "Exynos",
         "orientation": "v",
         "showlegend": true,
         "type": "box",
         "x": [
          "Exynos",
          "Exynos",
          "Exynos",
          "Exynos",
          "Exynos",
          "Exynos",
          "Exynos",
          "Exynos",
          "Exynos",
          "Exynos",
          "Exynos",
          "Exynos",
          "Exynos",
          "Exynos",
          "Exynos",
          "Exynos",
          "Exynos",
          "Exynos",
          "Exynos",
          "Exynos",
          "Exynos",
          "Exynos",
          "Exynos",
          "Exynos",
          "Exynos",
          "Exynos",
          "Exynos",
          "Exynos",
          "Exynos",
          "Exynos",
          "Exynos",
          "Exynos",
          "Exynos",
          "Exynos",
          "Exynos",
          "Exynos",
          "Exynos",
          "Exynos",
          "Exynos",
          "Exynos",
          "Exynos",
          "Exynos",
          "Exynos",
          "Exynos",
          "Exynos",
          "Exynos",
          "Exynos",
          "Exynos",
          "Exynos"
         ],
         "x0": " ",
         "xaxis": "x",
         "y": [
          16499,
          39999,
          17478,
          18999,
          24999,
          20999,
          31999,
          19499,
          25999,
          16999,
          10999,
          34999,
          51999,
          36499,
          12999,
          33499,
          27499,
          105999,
          43999,
          35489,
          42999,
          48900,
          12990,
          11999,
          10630,
          41999,
          99999,
          86000,
          39999,
          92999,
          14499,
          17999,
          11725,
          15990,
          58999,
          74999,
          59450,
          83000,
          34999,
          14999,
          23999,
          78990,
          101999,
          10999,
          85990,
          10499,
          19999,
          17499,
          21490
         ],
         "y0": " ",
         "yaxis": "y"
        },
        {
         "alignmentgroup": "True",
         "hovertemplate": "processor=%{x}<br>price=%{y}<extra></extra>",
         "legendgroup": "Dimensity",
         "marker": {
          "color": "green"
         },
         "name": "Dimensity",
         "notched": false,
         "offsetgroup": "Dimensity",
         "orientation": "v",
         "showlegend": true,
         "type": "box",
         "x": [
          "Dimensity",
          "Dimensity",
          "Dimensity",
          "Dimensity",
          "Dimensity",
          "Dimensity",
          "Dimensity",
          "Dimensity",
          "Dimensity",
          "Dimensity",
          "Dimensity",
          "Dimensity",
          "Dimensity",
          "Dimensity",
          "Dimensity",
          "Dimensity",
          "Dimensity",
          "Dimensity",
          "Dimensity",
          "Dimensity",
          "Dimensity",
          "Dimensity",
          "Dimensity",
          "Dimensity",
          "Dimensity",
          "Dimensity",
          "Dimensity",
          "Dimensity",
          "Dimensity",
          "Dimensity",
          "Dimensity",
          "Dimensity",
          "Dimensity",
          "Dimensity",
          "Dimensity",
          "Dimensity",
          "Dimensity",
          "Dimensity",
          "Dimensity",
          "Dimensity",
          "Dimensity",
          "Dimensity",
          "Dimensity",
          "Dimensity",
          "Dimensity",
          "Dimensity",
          "Dimensity",
          "Dimensity",
          "Dimensity",
          "Dimensity",
          "Dimensity",
          "Dimensity",
          "Dimensity",
          "Dimensity",
          "Dimensity",
          "Dimensity",
          "Dimensity",
          "Dimensity",
          "Dimensity",
          "Dimensity",
          "Dimensity",
          "Dimensity",
          "Dimensity",
          "Dimensity",
          "Dimensity",
          "Dimensity",
          "Dimensity",
          "Dimensity",
          "Dimensity",
          "Dimensity",
          "Dimensity",
          "Dimensity",
          "Dimensity",
          "Dimensity",
          "Dimensity",
          "Dimensity",
          "Dimensity",
          "Dimensity",
          "Dimensity",
          "Dimensity",
          "Dimensity",
          "Dimensity",
          "Dimensity",
          "Dimensity",
          "Dimensity",
          "Dimensity",
          "Dimensity",
          "Dimensity",
          "Dimensity",
          "Dimensity",
          "Dimensity",
          "Dimensity",
          "Dimensity",
          "Dimensity",
          "Dimensity",
          "Dimensity",
          "Dimensity",
          "Dimensity",
          "Dimensity",
          "Dimensity",
          "Dimensity",
          "Dimensity",
          "Dimensity",
          "Dimensity",
          "Dimensity",
          "Dimensity",
          "Dimensity",
          "Dimensity",
          "Dimensity",
          "Dimensity",
          "Dimensity",
          "Dimensity",
          "Dimensity",
          "Dimensity",
          "Dimensity",
          "Dimensity",
          "Dimensity",
          "Dimensity",
          "Dimensity",
          "Dimensity",
          "Dimensity",
          "Dimensity",
          "Dimensity",
          "Dimensity",
          "Dimensity",
          "Dimensity",
          "Dimensity",
          "Dimensity",
          "Dimensity",
          "Dimensity",
          "Dimensity",
          "Dimensity",
          "Dimensity",
          "Dimensity",
          "Dimensity",
          "Dimensity",
          "Dimensity",
          "Dimensity",
          "Dimensity",
          "Dimensity",
          "Dimensity",
          "Dimensity",
          "Dimensity",
          "Dimensity",
          "Dimensity",
          "Dimensity",
          "Dimensity",
          "Dimensity",
          "Dimensity",
          "Dimensity",
          "Dimensity",
          "Dimensity",
          "Dimensity",
          "Dimensity",
          "Dimensity",
          "Dimensity",
          "Dimensity",
          "Dimensity",
          "Dimensity",
          "Dimensity",
          "Dimensity",
          "Dimensity",
          "Dimensity",
          "Dimensity",
          "Dimensity",
          "Dimensity",
          "Dimensity",
          "Dimensity",
          "Dimensity",
          "Dimensity",
          "Dimensity",
          "Dimensity",
          "Dimensity",
          "Dimensity",
          "Dimensity",
          "Dimensity",
          "Dimensity"
         ],
         "x0": " ",
         "xaxis": "x",
         "y": [
          24999,
          29999,
          28999,
          18999,
          24762,
          32999,
          35999,
          42990,
          27999,
          27990,
          23790,
          18999,
          27999,
          29999,
          14965,
          17990,
          14999,
          35499,
          32999,
          27994,
          13999,
          13999,
          13999,
          16999,
          22990,
          12999,
          19990,
          43999,
          36999,
          39999,
          22999,
          29340,
          25289,
          33900,
          18999,
          24994,
          13466,
          39999,
          12999,
          19499,
          41990,
          17999,
          20490,
          21990,
          31999,
          36999,
          14499,
          27999,
          45999,
          11499,
          27994,
          39999,
          15499,
          10999,
          31994,
          25900,
          16999,
          17999,
          45999,
          18990,
          24999,
          16999,
          25999,
          49999,
          13499,
          15499,
          15999,
          31994,
          15990,
          21994,
          12999,
          24990,
          26999,
          19999,
          15999,
          25999,
          25994,
          29990,
          12944,
          29990,
          21999,
          56999,
          89990,
          18499,
          24999,
          22994,
          18499,
          70990,
          17990,
          14990,
          16999,
          36760,
          23499,
          26380,
          36994,
          14990,
          72999,
          26999,
          54999,
          42990,
          21999,
          24990,
          14999,
          17990,
          24990,
          15490,
          15999,
          26990,
          42990,
          24990,
          24494,
          35389,
          20990,
          17499,
          17999,
          25999,
          29990,
          24499,
          12999,
          31994,
          24820,
          12490,
          17990,
          24999,
          19990,
          22999,
          17990,
          14799,
          23994,
          26999,
          16499,
          17990,
          34999,
          16990,
          13499,
          13990,
          16999,
          13999,
          12990,
          19990,
          23990,
          29999,
          107990,
          48990,
          17990,
          27990,
          49990,
          15499,
          18990,
          24990,
          10990,
          16999,
          11999,
          28999,
          18990,
          59999,
          13990,
          19990,
          10990,
          9999,
          45999,
          47990,
          28990,
          15999,
          14990,
          19999,
          38700,
          21999,
          20999,
          32990,
          42999,
          26999,
          22999,
          32999,
          13990,
          32990,
          28990
         ],
         "y0": " ",
         "yaxis": "y"
        },
        {
         "alignmentgroup": "True",
         "hovertemplate": "processor=%{x}<br>price=%{y}<extra></extra>",
         "legendgroup": "Bionic",
         "marker": {
          "color": "red"
         },
         "name": "Bionic",
         "notched": false,
         "offsetgroup": "Bionic",
         "orientation": "v",
         "showlegend": true,
         "type": "box",
         "x": [
          "Bionic",
          "Bionic",
          "Bionic",
          "Bionic",
          "Bionic",
          "Bionic",
          "Bionic",
          "Bionic",
          "Bionic",
          "Bionic",
          "Bionic",
          "Bionic",
          "Bionic",
          "Bionic",
          "Bionic",
          "Bionic",
          "Bionic",
          "Bionic",
          "Bionic",
          "Bionic",
          "Bionic",
          "Bionic",
          "Bionic",
          "Bionic",
          "Bionic",
          "Bionic",
          "Bionic",
          "Bionic",
          "Bionic",
          "Bionic",
          "Bionic",
          "Bionic",
          "Bionic",
          "Bionic",
          "Bionic",
          "Bionic",
          "Bionic",
          "Bionic",
          "Bionic"
         ],
         "x0": " ",
         "xaxis": "x",
         "y": [
          65999,
          62999,
          129990,
          74999,
          119900,
          119990,
          51999,
          40999,
          142990,
          129900,
          139990,
          75999,
          64900,
          69990,
          182999,
          55999,
          84999,
          72999,
          45999,
          149900,
          129990,
          43900,
          130990,
          129900,
          139900,
          95999,
          139900,
          82990,
          49990,
          169900,
          179900,
          104999,
          172999,
          91999,
          119900,
          55999,
          67999,
          84990,
          147900
         ],
         "y0": " ",
         "yaxis": "y"
        },
        {
         "alignmentgroup": "True",
         "hovertemplate": "processor=%{x}<br>price=%{y}<extra></extra>",
         "legendgroup": "Helio",
         "marker": {
          "color": "lightblue"
         },
         "name": "Helio",
         "notched": false,
         "offsetgroup": "Helio",
         "orientation": "v",
         "showlegend": true,
         "type": "box",
         "x": [
          "Helio",
          "Helio",
          "Helio",
          "Helio",
          "Helio",
          "Helio",
          "Helio",
          "Helio",
          "Helio",
          "Helio",
          "Helio",
          "Helio",
          "Helio",
          "Helio",
          "Helio",
          "Helio",
          "Helio",
          "Helio",
          "Helio",
          "Helio",
          "Helio",
          "Helio",
          "Helio",
          "Helio",
          "Helio",
          "Helio",
          "Helio",
          "Helio",
          "Helio",
          "Helio",
          "Helio",
          "Helio",
          "Helio",
          "Helio",
          "Helio",
          "Helio",
          "Helio",
          "Helio",
          "Helio",
          "Helio",
          "Helio",
          "Helio",
          "Helio",
          "Helio",
          "Helio",
          "Helio",
          "Helio",
          "Helio",
          "Helio",
          "Helio",
          "Helio",
          "Helio",
          "Helio",
          "Helio",
          "Helio",
          "Helio",
          "Helio",
          "Helio",
          "Helio",
          "Helio",
          "Helio",
          "Helio",
          "Helio",
          "Helio",
          "Helio",
          "Helio",
          "Helio",
          "Helio",
          "Helio",
          "Helio",
          "Helio",
          "Helio",
          "Helio",
          "Helio",
          "Helio",
          "Helio",
          "Helio",
          "Helio",
          "Helio",
          "Helio",
          "Helio",
          "Helio",
          "Helio",
          "Helio",
          "Helio",
          "Helio",
          "Helio",
          "Helio",
          "Helio",
          "Helio",
          "Helio",
          "Helio",
          "Helio",
          "Helio",
          "Helio",
          "Helio",
          "Helio",
          "Helio",
          "Helio",
          "Helio",
          "Helio",
          "Helio",
          "Helio",
          "Helio",
          "Helio",
          "Helio",
          "Helio",
          "Helio",
          "Helio",
          "Helio",
          "Helio",
          "Helio",
          "Helio",
          "Helio",
          "Helio",
          "Helio",
          "Helio",
          "Helio",
          "Helio",
          "Helio",
          "Helio",
          "Helio",
          "Helio",
          "Helio",
          "Helio",
          "Helio",
          "Helio",
          "Helio",
          "Helio",
          "Helio",
          "Helio",
          "Helio",
          "Helio",
          "Helio",
          "Helio",
          "Helio",
          "Helio",
          "Helio",
          "Helio",
          "Helio",
          "Helio",
          "Helio",
          "Helio",
          "Helio",
          "Helio",
          "Helio",
          "Helio",
          "Helio",
          "Helio",
          "Helio",
          "Helio",
          "Helio",
          "Helio",
          "Helio",
          "Helio",
          "Helio",
          "Helio",
          "Helio",
          "Helio",
          "Helio",
          "Helio",
          "Helio",
          "Helio",
          "Helio",
          "Helio",
          "Helio",
          "Helio",
          "Helio",
          "Helio",
          "Helio",
          "Helio",
          "Helio",
          "Helio",
          "Helio",
          "Helio",
          "Helio",
          "Helio",
          "Helio",
          "Helio",
          "Helio",
          "Helio",
          "Helio",
          "Helio",
          "Helio",
          "Helio",
          "Helio",
          "Helio",
          "Helio",
          "Helio",
          "Helio",
          "Helio",
          "Helio",
          "Helio",
          "Helio",
          "Helio",
          "Helio",
          "Helio",
          "Helio",
          "Helio",
          "Helio"
         ],
         "x0": " ",
         "xaxis": "x",
         "y": [
          9999,
          14499,
          12489,
          13999,
          10999,
          16499,
          9499,
          8388,
          15999,
          13489,
          12499,
          6171,
          8499,
          14999,
          11999,
          16999,
          11999,
          10999,
          11999,
          6999,
          3499,
          9990,
          8499,
          11999,
          9999,
          9299,
          7499,
          10499,
          19990,
          13969,
          9999,
          17999,
          19999,
          6499,
          16499,
          9999,
          13799,
          16900,
          13999,
          7499,
          7790,
          8999,
          8999,
          11700,
          14590,
          7499,
          11999,
          12999,
          9499,
          7499,
          18000,
          15499,
          9999,
          7999,
          8990,
          12120,
          29990,
          6499,
          10850,
          14700,
          14859,
          17999,
          8999,
          8999,
          15824,
          6999,
          16499,
          15999,
          6999,
          9999,
          15490,
          25999,
          9499,
          7999,
          15990,
          8799,
          12390,
          11499,
          21990,
          12364,
          7499,
          6299,
          12990,
          15999,
          8859,
          11600,
          11999,
          7289,
          15499,
          8499,
          14490,
          7999,
          19990,
          10799,
          15999,
          7990,
          8999,
          13999,
          11499,
          9950,
          19999,
          15998,
          10999,
          9999,
          10499,
          9990,
          13990,
          11499,
          13999,
          22990,
          15499,
          13999,
          13499,
          11999,
          11999,
          17990,
          12490,
          16685,
          8999,
          19990,
          8968,
          7320,
          13999,
          14746,
          1799,
          16999,
          8299,
          14990,
          17994,
          7499,
          10890,
          18990,
          12500,
          15999,
          8999,
          12999,
          11000,
          7299,
          8499,
          6499,
          26990,
          13499,
          8499,
          11990,
          12199,
          11490,
          20990,
          12999,
          12999,
          13774,
          14999,
          11990,
          12999,
          16999,
          17999,
          9690,
          9299,
          12989,
          12490,
          8199,
          20000,
          11989,
          11490,
          14499,
          13990,
          10490,
          19999,
          11499,
          22999,
          7999,
          7999,
          10999,
          17999,
          9999,
          9990,
          16999,
          8999,
          15990,
          8999,
          9022,
          8399,
          9999,
          8390,
          13999,
          8990,
          14999,
          12799,
          14999,
          12499,
          18499,
          10990,
          10499,
          6490,
          6999,
          7999,
          8990,
          13999,
          14999,
          6999,
          25899
         ],
         "y0": " ",
         "yaxis": "y"
        },
        {
         "alignmentgroup": "True",
         "hovertemplate": "processor=%{x}<br>price=%{y}<extra></extra>",
         "legendgroup": "A13",
         "marker": {
          "color": "darkorchid"
         },
         "name": "A13",
         "notched": false,
         "offsetgroup": "A13",
         "orientation": "v",
         "showlegend": true,
         "type": "box",
         "x": [
          "A13",
          "A13",
          "A13",
          "A13",
          "A13"
         ],
         "x0": " ",
         "xaxis": "x",
         "y": [
          38999,
          46999,
          29990,
          109900,
          39900
         ],
         "y0": " ",
         "yaxis": "y"
        },
        {
         "alignmentgroup": "True",
         "hovertemplate": "processor=%{x}<br>price=%{y}<extra></extra>",
         "legendgroup": "Unisoc",
         "marker": {
          "color": "gold"
         },
         "name": "Unisoc",
         "notched": false,
         "offsetgroup": "Unisoc",
         "orientation": "v",
         "showlegend": true,
         "type": "box",
         "x": [
          "Unisoc",
          "Unisoc",
          "Unisoc",
          "Unisoc",
          "Unisoc",
          "Unisoc",
          "Unisoc",
          "Unisoc",
          "Unisoc",
          "Unisoc",
          "Unisoc",
          "Unisoc",
          "Unisoc",
          "Unisoc",
          "Unisoc",
          "Unisoc",
          "Unisoc",
          "Unisoc",
          "Unisoc",
          "Unisoc",
          "Unisoc",
          "Unisoc",
          "Unisoc",
          "Unisoc",
          "Unisoc",
          "Unisoc",
          "Unisoc"
         ],
         "x0": " ",
         "xaxis": "x",
         "y": [
          8950,
          9999,
          6499,
          7145,
          8890,
          7249,
          10499,
          6490,
          5990,
          9499,
          13499,
          8999,
          6999,
          3589,
          8990,
          6999,
          6699,
          5785,
          11999,
          5249,
          5990,
          11499,
          8999,
          3099,
          7399,
          7790,
          5890
         ],
         "y0": " ",
         "yaxis": "y"
        },
        {
         "alignmentgroup": "True",
         "hovertemplate": "processor=%{x}<br>price=%{y}<extra></extra>",
         "legendgroup": "Tiger",
         "marker": {
          "color": "palegreen"
         },
         "name": "Tiger",
         "notched": false,
         "offsetgroup": "Tiger",
         "orientation": "v",
         "showlegend": true,
         "type": "box",
         "x": [
          "Tiger",
          "Tiger",
          "Tiger",
          "Tiger",
          "Tiger",
          "Tiger",
          "Tiger",
          "Tiger",
          "Tiger",
          "Tiger",
          "Tiger",
          "Tiger",
          "Tiger",
          "Tiger",
          "Tiger",
          "Tiger",
          "Tiger",
          "Tiger",
          "Tiger",
          "Tiger",
          "Tiger",
          "Tiger",
          "Tiger",
          "Tiger"
         ],
         "x0": " ",
         "xaxis": "x",
         "y": [
          6190,
          7999,
          13999,
          5299,
          5499,
          10999,
          11828,
          8999,
          6299,
          12787,
          8910,
          10499,
          8299,
          12340,
          5999,
          10850,
          8999,
          9499,
          5999,
          7999,
          11399,
          6999,
          11879,
          8720
         ],
         "y0": " ",
         "yaxis": "y"
        },
        {
         "alignmentgroup": "True",
         "hovertemplate": "processor=%{x}<br>price=%{y}<extra></extra>",
         "legendgroup": "Octa",
         "marker": {
          "color": "darkred"
         },
         "name": "Octa",
         "notched": false,
         "offsetgroup": "Octa",
         "orientation": "v",
         "showlegend": true,
         "type": "box",
         "x": [
          "Octa",
          "Octa",
          "Octa",
          "Octa",
          "Octa",
          "Octa",
          "Octa",
          "Octa",
          "Octa",
          "Octa",
          "Octa",
          "Octa",
          "Octa",
          "Octa"
         ],
         "x0": " ",
         "xaxis": "x",
         "y": [
          69999,
          14450,
          14999,
          15990,
          14990,
          16499,
          6249,
          54999,
          24990,
          21990,
          22999,
          12990,
          9990,
          24990
         ],
         "y0": " ",
         "yaxis": "y"
        },
        {
         "alignmentgroup": "True",
         "hovertemplate": "processor=%{x}<br>price=%{y}<extra></extra>",
         "legendgroup": "Google",
         "marker": {
          "color": "fuchsia"
         },
         "name": "Google",
         "notched": false,
         "offsetgroup": "Google",
         "orientation": "v",
         "showlegend": true,
         "type": "box",
         "x": [
          "Google",
          "Google",
          "Google",
          "Google",
          "Google",
          "Google",
          "Google",
          "Google",
          "Google"
         ],
         "x0": " ",
         "xaxis": "x",
         "y": [
          29999,
          34990,
          81999,
          53100,
          54300,
          40480,
          79700,
          53990,
          70990
         ],
         "y0": " ",
         "yaxis": "y"
        },
        {
         "alignmentgroup": "True",
         "hovertemplate": "processor=%{x}<br>price=%{y}<extra></extra>",
         "legendgroup": "Quad",
         "marker": {
          "color": "green"
         },
         "name": "Quad",
         "notched": false,
         "offsetgroup": "Quad",
         "orientation": "v",
         "showlegend": true,
         "type": "box",
         "x": [
          "Quad",
          "Quad",
          "Quad",
          "Quad",
          "Quad",
          "Quad"
         ],
         "x0": " ",
         "xaxis": "x",
         "y": [
          4499,
          8099,
          6990,
          7999,
          5490,
          6799
         ],
         "y0": " ",
         "yaxis": "y"
        },
        {
         "alignmentgroup": "True",
         "hovertemplate": "processor=%{x}<br>price=%{y}<extra></extra>",
         "legendgroup": "Helio,",
         "marker": {
          "color": "red"
         },
         "name": "Helio,",
         "notched": false,
         "offsetgroup": "Helio,",
         "orientation": "v",
         "showlegend": true,
         "type": "box",
         "x": [
          "Helio,",
          "Helio,"
         ],
         "x0": " ",
         "xaxis": "x",
         "y": [
          8999,
          7999
         ],
         "y0": " ",
         "yaxis": "y"
        },
        {
         "alignmentgroup": "True",
         "hovertemplate": "processor=%{x}<br>price=%{y}<extra></extra>",
         "legendgroup": "Apple",
         "marker": {
          "color": "lightblue"
         },
         "name": "Apple",
         "notched": false,
         "offsetgroup": "Apple",
         "orientation": "v",
         "showlegend": true,
         "type": "box",
         "x": [
          "Apple"
         ],
         "x0": " ",
         "xaxis": "x",
         "y": [
          71999
         ],
         "y0": " ",
         "yaxis": "y"
        },
        {
         "alignmentgroup": "True",
         "hovertemplate": "processor=%{x}<br>price=%{y}<extra></extra>",
         "legendgroup": "SC9863A,",
         "marker": {
          "color": "darkorchid"
         },
         "name": "SC9863A,",
         "notched": false,
         "offsetgroup": "SC9863A,",
         "orientation": "v",
         "showlegend": true,
         "type": "box",
         "x": [
          "SC9863A,",
          "SC9863A,"
         ],
         "x0": " ",
         "xaxis": "x",
         "y": [
          7749,
          6499
         ],
         "y0": " ",
         "yaxis": "y"
        },
        {
         "alignmentgroup": "True",
         "hovertemplate": "processor=%{x}<br>price=%{y}<extra></extra>",
         "legendgroup": "Qualcomm",
         "marker": {
          "color": "gold"
         },
         "name": "Qualcomm",
         "notched": false,
         "offsetgroup": "Qualcomm",
         "orientation": "v",
         "showlegend": true,
         "type": "box",
         "x": [
          "Qualcomm",
          "Qualcomm",
          "Qualcomm",
          "Qualcomm",
          "Qualcomm"
         ],
         "x0": " ",
         "xaxis": "x",
         "y": [
          4649,
          7499,
          14999,
          15999,
          10300
         ],
         "y0": " ",
         "yaxis": "y"
        },
        {
         "alignmentgroup": "True",
         "hovertemplate": "processor=%{x}<br>price=%{y}<extra></extra>",
         "legendgroup": "No",
         "marker": {
          "color": "palegreen"
         },
         "name": "No",
         "notched": false,
         "offsetgroup": "No",
         "orientation": "v",
         "showlegend": true,
         "type": "box",
         "x": [
          "No",
          "No",
          "No",
          "No",
          "No",
          "No",
          "No",
          "No",
          "No",
          "No",
          "No",
          "No",
          "No"
         ],
         "x0": " ",
         "xaxis": "x",
         "y": [
          4649,
          1762,
          1949,
          2399,
          1299,
          3749,
          699,
          2239,
          1599,
          4799,
          2499,
          1685,
          1999
         ],
         "y0": " ",
         "yaxis": "y"
        },
        {
         "alignmentgroup": "True",
         "hovertemplate": "processor=%{x}<br>price=%{y}<extra></extra>",
         "legendgroup": "Unisoc,",
         "marker": {
          "color": "darkred"
         },
         "name": "Unisoc,",
         "notched": false,
         "offsetgroup": "Unisoc,",
         "orientation": "v",
         "showlegend": true,
         "type": "box",
         "x": [
          "Unisoc,"
         ],
         "x0": " ",
         "xaxis": "x",
         "y": [
          6999
         ],
         "y0": " ",
         "yaxis": "y"
        },
        {
         "alignmentgroup": "True",
         "hovertemplate": "processor=%{x}<br>price=%{y}<extra></extra>",
         "legendgroup": "Spreadtrum",
         "marker": {
          "color": "fuchsia"
         },
         "name": "Spreadtrum",
         "notched": false,
         "offsetgroup": "Spreadtrum",
         "orientation": "v",
         "showlegend": true,
         "type": "box",
         "x": [
          "Spreadtrum",
          "Spreadtrum",
          "Spreadtrum",
          "Spreadtrum"
         ],
         "x0": " ",
         "xaxis": "x",
         "y": [
          6490,
          6999,
          3999,
          4787
         ],
         "y0": " ",
         "yaxis": "y"
        },
        {
         "alignmentgroup": "True",
         "hovertemplate": "processor=%{x}<br>price=%{y}<extra></extra>",
         "legendgroup": "Dual",
         "marker": {
          "color": "green"
         },
         "name": "Dual",
         "notched": false,
         "offsetgroup": "Dual",
         "orientation": "v",
         "showlegend": true,
         "type": "box",
         "x": [
          "Dual"
         ],
         "x0": " ",
         "xaxis": "x",
         "y": [
          2999
         ],
         "y0": " ",
         "yaxis": "y"
        },
        {
         "alignmentgroup": "True",
         "hovertemplate": "processor=%{x}<br>price=%{y}<extra></extra>",
         "legendgroup": "Sanpdragon",
         "marker": {
          "color": "red"
         },
         "name": "Sanpdragon",
         "notched": false,
         "offsetgroup": "Sanpdragon",
         "orientation": "v",
         "showlegend": true,
         "type": "box",
         "x": [
          "Sanpdragon"
         ],
         "x0": " ",
         "xaxis": "x",
         "y": [
          23999
         ],
         "y0": " ",
         "yaxis": "y"
        },
        {
         "alignmentgroup": "True",
         "hovertemplate": "processor=%{x}<br>price=%{y}<extra></extra>",
         "legendgroup": "1",
         "marker": {
          "color": "lightblue"
         },
         "name": "1",
         "notched": false,
         "offsetgroup": "1",
         "orientation": "v",
         "showlegend": true,
         "type": "box",
         "x": [
          "1",
          "1",
          "1"
         ],
         "x0": " ",
         "xaxis": "x",
         "y": [
          2799,
          99,
          11999
         ],
         "y0": " ",
         "yaxis": "y"
        },
        {
         "alignmentgroup": "True",
         "hovertemplate": "processor=%{x}<br>price=%{y}<extra></extra>",
         "legendgroup": "Fusion",
         "marker": {
          "color": "darkorchid"
         },
         "name": "Fusion",
         "notched": false,
         "offsetgroup": "Fusion",
         "orientation": "v",
         "showlegend": true,
         "type": "box",
         "x": [
          "Fusion"
         ],
         "x0": " ",
         "xaxis": "x",
         "y": [
          52990
         ],
         "y0": " ",
         "yaxis": "y"
        },
        {
         "alignmentgroup": "True",
         "hovertemplate": "processor=%{x}<br>price=%{y}<extra></extra>",
         "legendgroup": "4",
         "marker": {
          "color": "gold"
         },
         "name": "4",
         "notched": false,
         "offsetgroup": "4",
         "orientation": "v",
         "showlegend": true,
         "type": "box",
         "x": [
          "4",
          "4",
          "4"
         ],
         "x0": " ",
         "xaxis": "x",
         "y": [
          1299,
          1339,
          958
         ],
         "y0": " ",
         "yaxis": "y"
        },
        {
         "alignmentgroup": "True",
         "hovertemplate": "processor=%{x}<br>price=%{y}<extra></extra>",
         "legendgroup": "1450",
         "marker": {
          "color": "palegreen"
         },
         "name": "1450",
         "notched": false,
         "offsetgroup": "1450",
         "orientation": "v",
         "showlegend": true,
         "type": "box",
         "x": [
          "1450"
         ],
         "x0": " ",
         "xaxis": "x",
         "y": [
          5490
         ],
         "y0": " ",
         "yaxis": "y"
        },
        {
         "alignmentgroup": "True",
         "hovertemplate": "processor=%{x}<br>price=%{y}<extra></extra>",
         "legendgroup": "Kirin",
         "marker": {
          "color": "darkred"
         },
         "name": "Kirin",
         "notched": false,
         "offsetgroup": "Kirin",
         "orientation": "v",
         "showlegend": true,
         "type": "box",
         "x": [
          "Kirin",
          "Kirin",
          "Kirin",
          "Kirin",
          "Kirin",
          "Kirin",
          "Kirin"
         ],
         "x0": " ",
         "xaxis": "x",
         "y": [
          69990,
          99990,
          82990,
          21990,
          10949,
          214990,
          169000
         ],
         "y0": " ",
         "yaxis": "y"
        },
        {
         "alignmentgroup": "True",
         "hovertemplate": "processor=%{x}<br>price=%{y}<extra></extra>",
         "legendgroup": "32",
         "marker": {
          "color": "fuchsia"
         },
         "name": "32",
         "notched": false,
         "offsetgroup": "32",
         "orientation": "v",
         "showlegend": true,
         "type": "box",
         "x": [
          "32",
          "32"
         ],
         "x0": " ",
         "xaxis": "x",
         "y": [
          2799,
          18900
         ],
         "y0": " ",
         "yaxis": "y"
        },
        {
         "alignmentgroup": "True",
         "hovertemplate": "processor=%{x}<br>price=%{y}<extra></extra>",
         "legendgroup": "800",
         "marker": {
          "color": "green"
         },
         "name": "800",
         "notched": false,
         "offsetgroup": "800",
         "orientation": "v",
         "showlegend": true,
         "type": "box",
         "x": [
          "800"
         ],
         "x0": " ",
         "xaxis": "x",
         "y": [
          1850
         ],
         "y0": " ",
         "yaxis": "y"
        },
        {
         "alignmentgroup": "True",
         "hovertemplate": "processor=%{x}<br>price=%{y}<extra></extra>",
         "legendgroup": "2000",
         "marker": {
          "color": "red"
         },
         "name": "2000",
         "notched": false,
         "offsetgroup": "2000",
         "orientation": "v",
         "showlegend": true,
         "type": "box",
         "x": [
          "2000"
         ],
         "x0": " ",
         "xaxis": "x",
         "y": [
          3290
         ],
         "y0": " ",
         "yaxis": "y"
        },
        {
         "alignmentgroup": "True",
         "hovertemplate": "processor=%{x}<br>price=%{y}<extra></extra>",
         "legendgroup": "52",
         "marker": {
          "color": "lightblue"
         },
         "name": "52",
         "notched": false,
         "offsetgroup": "52",
         "orientation": "v",
         "showlegend": true,
         "type": "box",
         "x": [
          "52"
         ],
         "x0": " ",
         "xaxis": "x",
         "y": [
          995
         ],
         "y0": " ",
         "yaxis": "y"
        },
        {
         "alignmentgroup": "True",
         "hovertemplate": "processor=%{x}<br>price=%{y}<extra></extra>",
         "legendgroup": "1.77",
         "marker": {
          "color": "darkorchid"
         },
         "name": "1.77",
         "notched": false,
         "offsetgroup": "1.77",
         "orientation": "v",
         "showlegend": true,
         "type": "box",
         "x": [
          "1.77",
          "1.77"
         ],
         "x0": " ",
         "xaxis": "x",
         "y": [
          599,
          649
         ],
         "y0": " ",
         "yaxis": "y"
        },
        {
         "alignmentgroup": "True",
         "hovertemplate": "processor=%{x}<br>price=%{y}<extra></extra>",
         "legendgroup": "SC6531E,",
         "marker": {
          "color": "gold"
         },
         "name": "SC6531E,",
         "notched": false,
         "offsetgroup": "SC6531E,",
         "orientation": "v",
         "showlegend": true,
         "type": "box",
         "x": [
          "SC6531E,"
         ],
         "x0": " ",
         "xaxis": "x",
         "y": [
          1749
         ],
         "y0": " ",
         "yaxis": "y"
        },
        {
         "alignmentgroup": "True",
         "hovertemplate": "processor=%{x}<br>price=%{y}<extra></extra>",
         "legendgroup": "(28",
         "marker": {
          "color": "palegreen"
         },
         "name": "(28",
         "notched": false,
         "offsetgroup": "(28",
         "orientation": "v",
         "showlegend": true,
         "type": "box",
         "x": [
          "(28"
         ],
         "x0": " ",
         "xaxis": "x",
         "y": [
          4999
         ],
         "y0": " ",
         "yaxis": "y"
        },
        {
         "alignmentgroup": "True",
         "hovertemplate": "processor=%{x}<br>price=%{y}<extra></extra>",
         "legendgroup": "Samsung",
         "marker": {
          "color": "darkred"
         },
         "name": "Samsung",
         "notched": false,
         "offsetgroup": "Samsung",
         "orientation": "v",
         "showlegend": true,
         "type": "box",
         "x": [
          "Samsung"
         ],
         "x0": " ",
         "xaxis": "x",
         "y": [
          17990
         ],
         "y0": " ",
         "yaxis": "y"
        },
        {
         "alignmentgroup": "True",
         "hovertemplate": "processor=%{x}<br>price=%{y}<extra></extra>",
         "legendgroup": "Single",
         "marker": {
          "color": "fuchsia"
         },
         "name": "Single",
         "notched": false,
         "offsetgroup": "Single",
         "orientation": "v",
         "showlegend": true,
         "type": "box",
         "x": [
          "Single"
         ],
         "x0": " ",
         "xaxis": "x",
         "y": [
          1899
         ],
         "y0": " ",
         "yaxis": "y"
        },
        {
         "alignmentgroup": "True",
         "hovertemplate": "processor=%{x}<br>price=%{y}<extra></extra>",
         "legendgroup": "256",
         "marker": {
          "color": "green"
         },
         "name": "256",
         "notched": false,
         "offsetgroup": "256",
         "orientation": "v",
         "showlegend": true,
         "type": "box",
         "x": [
          "256"
         ],
         "x0": " ",
         "xaxis": "x",
         "y": [
          3999
         ],
         "y0": " ",
         "yaxis": "y"
        },
        {
         "alignmentgroup": "True",
         "hovertemplate": "processor=%{x}<br>price=%{y}<extra></extra>",
         "legendgroup": "48",
         "marker": {
          "color": "red"
         },
         "name": "48",
         "notched": false,
         "offsetgroup": "48",
         "orientation": "v",
         "showlegend": true,
         "type": "box",
         "x": [
          "48"
         ],
         "x0": " ",
         "xaxis": "x",
         "y": [
          2099
         ],
         "y0": " ",
         "yaxis": "y"
        },
        {
         "alignmentgroup": "True",
         "hovertemplate": "processor=%{x}<br>price=%{y}<extra></extra>",
         "legendgroup": "8",
         "marker": {
          "color": "lightblue"
         },
         "name": "8",
         "notched": false,
         "offsetgroup": "8",
         "orientation": "v",
         "showlegend": true,
         "type": "box",
         "x": [
          "8"
         ],
         "x0": " ",
         "xaxis": "x",
         "y": [
          3399
         ],
         "y0": " ",
         "yaxis": "y"
        }
       ],
       "layout": {
        "boxmode": "overlay",
        "height": 500,
        "legend": {
         "title": {
          "text": "processor"
         },
         "tracegroupgap": 0
        },
        "margin": {
         "t": 60
        },
        "template": {
         "data": {
          "bar": [
           {
            "error_x": {
             "color": "#f2f5fa"
            },
            "error_y": {
             "color": "#f2f5fa"
            },
            "marker": {
             "line": {
              "color": "rgb(17,17,17)",
              "width": 0.5
             },
             "pattern": {
              "fillmode": "overlay",
              "size": 10,
              "solidity": 0.2
             }
            },
            "type": "bar"
           }
          ],
          "barpolar": [
           {
            "marker": {
             "line": {
              "color": "rgb(17,17,17)",
              "width": 0.5
             },
             "pattern": {
              "fillmode": "overlay",
              "size": 10,
              "solidity": 0.2
             }
            },
            "type": "barpolar"
           }
          ],
          "carpet": [
           {
            "aaxis": {
             "endlinecolor": "#A2B1C6",
             "gridcolor": "#506784",
             "linecolor": "#506784",
             "minorgridcolor": "#506784",
             "startlinecolor": "#A2B1C6"
            },
            "baxis": {
             "endlinecolor": "#A2B1C6",
             "gridcolor": "#506784",
             "linecolor": "#506784",
             "minorgridcolor": "#506784",
             "startlinecolor": "#A2B1C6"
            },
            "type": "carpet"
           }
          ],
          "choropleth": [
           {
            "colorbar": {
             "outlinewidth": 0,
             "ticks": ""
            },
            "type": "choropleth"
           }
          ],
          "contour": [
           {
            "colorbar": {
             "outlinewidth": 0,
             "ticks": ""
            },
            "colorscale": [
             [
              0,
              "#0d0887"
             ],
             [
              0.1111111111111111,
              "#46039f"
             ],
             [
              0.2222222222222222,
              "#7201a8"
             ],
             [
              0.3333333333333333,
              "#9c179e"
             ],
             [
              0.4444444444444444,
              "#bd3786"
             ],
             [
              0.5555555555555556,
              "#d8576b"
             ],
             [
              0.6666666666666666,
              "#ed7953"
             ],
             [
              0.7777777777777778,
              "#fb9f3a"
             ],
             [
              0.8888888888888888,
              "#fdca26"
             ],
             [
              1,
              "#f0f921"
             ]
            ],
            "type": "contour"
           }
          ],
          "contourcarpet": [
           {
            "colorbar": {
             "outlinewidth": 0,
             "ticks": ""
            },
            "type": "contourcarpet"
           }
          ],
          "heatmap": [
           {
            "colorbar": {
             "outlinewidth": 0,
             "ticks": ""
            },
            "colorscale": [
             [
              0,
              "#0d0887"
             ],
             [
              0.1111111111111111,
              "#46039f"
             ],
             [
              0.2222222222222222,
              "#7201a8"
             ],
             [
              0.3333333333333333,
              "#9c179e"
             ],
             [
              0.4444444444444444,
              "#bd3786"
             ],
             [
              0.5555555555555556,
              "#d8576b"
             ],
             [
              0.6666666666666666,
              "#ed7953"
             ],
             [
              0.7777777777777778,
              "#fb9f3a"
             ],
             [
              0.8888888888888888,
              "#fdca26"
             ],
             [
              1,
              "#f0f921"
             ]
            ],
            "type": "heatmap"
           }
          ],
          "heatmapgl": [
           {
            "colorbar": {
             "outlinewidth": 0,
             "ticks": ""
            },
            "colorscale": [
             [
              0,
              "#0d0887"
             ],
             [
              0.1111111111111111,
              "#46039f"
             ],
             [
              0.2222222222222222,
              "#7201a8"
             ],
             [
              0.3333333333333333,
              "#9c179e"
             ],
             [
              0.4444444444444444,
              "#bd3786"
             ],
             [
              0.5555555555555556,
              "#d8576b"
             ],
             [
              0.6666666666666666,
              "#ed7953"
             ],
             [
              0.7777777777777778,
              "#fb9f3a"
             ],
             [
              0.8888888888888888,
              "#fdca26"
             ],
             [
              1,
              "#f0f921"
             ]
            ],
            "type": "heatmapgl"
           }
          ],
          "histogram": [
           {
            "marker": {
             "pattern": {
              "fillmode": "overlay",
              "size": 10,
              "solidity": 0.2
             }
            },
            "type": "histogram"
           }
          ],
          "histogram2d": [
           {
            "colorbar": {
             "outlinewidth": 0,
             "ticks": ""
            },
            "colorscale": [
             [
              0,
              "#0d0887"
             ],
             [
              0.1111111111111111,
              "#46039f"
             ],
             [
              0.2222222222222222,
              "#7201a8"
             ],
             [
              0.3333333333333333,
              "#9c179e"
             ],
             [
              0.4444444444444444,
              "#bd3786"
             ],
             [
              0.5555555555555556,
              "#d8576b"
             ],
             [
              0.6666666666666666,
              "#ed7953"
             ],
             [
              0.7777777777777778,
              "#fb9f3a"
             ],
             [
              0.8888888888888888,
              "#fdca26"
             ],
             [
              1,
              "#f0f921"
             ]
            ],
            "type": "histogram2d"
           }
          ],
          "histogram2dcontour": [
           {
            "colorbar": {
             "outlinewidth": 0,
             "ticks": ""
            },
            "colorscale": [
             [
              0,
              "#0d0887"
             ],
             [
              0.1111111111111111,
              "#46039f"
             ],
             [
              0.2222222222222222,
              "#7201a8"
             ],
             [
              0.3333333333333333,
              "#9c179e"
             ],
             [
              0.4444444444444444,
              "#bd3786"
             ],
             [
              0.5555555555555556,
              "#d8576b"
             ],
             [
              0.6666666666666666,
              "#ed7953"
             ],
             [
              0.7777777777777778,
              "#fb9f3a"
             ],
             [
              0.8888888888888888,
              "#fdca26"
             ],
             [
              1,
              "#f0f921"
             ]
            ],
            "type": "histogram2dcontour"
           }
          ],
          "mesh3d": [
           {
            "colorbar": {
             "outlinewidth": 0,
             "ticks": ""
            },
            "type": "mesh3d"
           }
          ],
          "parcoords": [
           {
            "line": {
             "colorbar": {
              "outlinewidth": 0,
              "ticks": ""
             }
            },
            "type": "parcoords"
           }
          ],
          "pie": [
           {
            "automargin": true,
            "type": "pie"
           }
          ],
          "scatter": [
           {
            "marker": {
             "line": {
              "color": "#283442"
             }
            },
            "type": "scatter"
           }
          ],
          "scatter3d": [
           {
            "line": {
             "colorbar": {
              "outlinewidth": 0,
              "ticks": ""
             }
            },
            "marker": {
             "colorbar": {
              "outlinewidth": 0,
              "ticks": ""
             }
            },
            "type": "scatter3d"
           }
          ],
          "scattercarpet": [
           {
            "marker": {
             "colorbar": {
              "outlinewidth": 0,
              "ticks": ""
             }
            },
            "type": "scattercarpet"
           }
          ],
          "scattergeo": [
           {
            "marker": {
             "colorbar": {
              "outlinewidth": 0,
              "ticks": ""
             }
            },
            "type": "scattergeo"
           }
          ],
          "scattergl": [
           {
            "marker": {
             "line": {
              "color": "#283442"
             }
            },
            "type": "scattergl"
           }
          ],
          "scattermapbox": [
           {
            "marker": {
             "colorbar": {
              "outlinewidth": 0,
              "ticks": ""
             }
            },
            "type": "scattermapbox"
           }
          ],
          "scatterpolar": [
           {
            "marker": {
             "colorbar": {
              "outlinewidth": 0,
              "ticks": ""
             }
            },
            "type": "scatterpolar"
           }
          ],
          "scatterpolargl": [
           {
            "marker": {
             "colorbar": {
              "outlinewidth": 0,
              "ticks": ""
             }
            },
            "type": "scatterpolargl"
           }
          ],
          "scatterternary": [
           {
            "marker": {
             "colorbar": {
              "outlinewidth": 0,
              "ticks": ""
             }
            },
            "type": "scatterternary"
           }
          ],
          "surface": [
           {
            "colorbar": {
             "outlinewidth": 0,
             "ticks": ""
            },
            "colorscale": [
             [
              0,
              "#0d0887"
             ],
             [
              0.1111111111111111,
              "#46039f"
             ],
             [
              0.2222222222222222,
              "#7201a8"
             ],
             [
              0.3333333333333333,
              "#9c179e"
             ],
             [
              0.4444444444444444,
              "#bd3786"
             ],
             [
              0.5555555555555556,
              "#d8576b"
             ],
             [
              0.6666666666666666,
              "#ed7953"
             ],
             [
              0.7777777777777778,
              "#fb9f3a"
             ],
             [
              0.8888888888888888,
              "#fdca26"
             ],
             [
              1,
              "#f0f921"
             ]
            ],
            "type": "surface"
           }
          ],
          "table": [
           {
            "cells": {
             "fill": {
              "color": "#506784"
             },
             "line": {
              "color": "rgb(17,17,17)"
             }
            },
            "header": {
             "fill": {
              "color": "#2a3f5f"
             },
             "line": {
              "color": "rgb(17,17,17)"
             }
            },
            "type": "table"
           }
          ]
         },
         "layout": {
          "annotationdefaults": {
           "arrowcolor": "#f2f5fa",
           "arrowhead": 0,
           "arrowwidth": 1
          },
          "autotypenumbers": "strict",
          "coloraxis": {
           "colorbar": {
            "outlinewidth": 0,
            "ticks": ""
           }
          },
          "colorscale": {
           "diverging": [
            [
             0,
             "#8e0152"
            ],
            [
             0.1,
             "#c51b7d"
            ],
            [
             0.2,
             "#de77ae"
            ],
            [
             0.3,
             "#f1b6da"
            ],
            [
             0.4,
             "#fde0ef"
            ],
            [
             0.5,
             "#f7f7f7"
            ],
            [
             0.6,
             "#e6f5d0"
            ],
            [
             0.7,
             "#b8e186"
            ],
            [
             0.8,
             "#7fbc41"
            ],
            [
             0.9,
             "#4d9221"
            ],
            [
             1,
             "#276419"
            ]
           ],
           "sequential": [
            [
             0,
             "#0d0887"
            ],
            [
             0.1111111111111111,
             "#46039f"
            ],
            [
             0.2222222222222222,
             "#7201a8"
            ],
            [
             0.3333333333333333,
             "#9c179e"
            ],
            [
             0.4444444444444444,
             "#bd3786"
            ],
            [
             0.5555555555555556,
             "#d8576b"
            ],
            [
             0.6666666666666666,
             "#ed7953"
            ],
            [
             0.7777777777777778,
             "#fb9f3a"
            ],
            [
             0.8888888888888888,
             "#fdca26"
            ],
            [
             1,
             "#f0f921"
            ]
           ],
           "sequentialminus": [
            [
             0,
             "#0d0887"
            ],
            [
             0.1111111111111111,
             "#46039f"
            ],
            [
             0.2222222222222222,
             "#7201a8"
            ],
            [
             0.3333333333333333,
             "#9c179e"
            ],
            [
             0.4444444444444444,
             "#bd3786"
            ],
            [
             0.5555555555555556,
             "#d8576b"
            ],
            [
             0.6666666666666666,
             "#ed7953"
            ],
            [
             0.7777777777777778,
             "#fb9f3a"
            ],
            [
             0.8888888888888888,
             "#fdca26"
            ],
            [
             1,
             "#f0f921"
            ]
           ]
          },
          "colorway": [
           "#636efa",
           "#EF553B",
           "#00cc96",
           "#ab63fa",
           "#FFA15A",
           "#19d3f3",
           "#FF6692",
           "#B6E880",
           "#FF97FF",
           "#FECB52"
          ],
          "font": {
           "color": "#f2f5fa"
          },
          "geo": {
           "bgcolor": "rgb(17,17,17)",
           "lakecolor": "rgb(17,17,17)",
           "landcolor": "rgb(17,17,17)",
           "showlakes": true,
           "showland": true,
           "subunitcolor": "#506784"
          },
          "hoverlabel": {
           "align": "left"
          },
          "hovermode": "closest",
          "mapbox": {
           "style": "dark"
          },
          "paper_bgcolor": "rgb(17,17,17)",
          "plot_bgcolor": "rgb(17,17,17)",
          "polar": {
           "angularaxis": {
            "gridcolor": "#506784",
            "linecolor": "#506784",
            "ticks": ""
           },
           "bgcolor": "rgb(17,17,17)",
           "radialaxis": {
            "gridcolor": "#506784",
            "linecolor": "#506784",
            "ticks": ""
           }
          },
          "scene": {
           "xaxis": {
            "backgroundcolor": "rgb(17,17,17)",
            "gridcolor": "#506784",
            "gridwidth": 2,
            "linecolor": "#506784",
            "showbackground": true,
            "ticks": "",
            "zerolinecolor": "#C8D4E3"
           },
           "yaxis": {
            "backgroundcolor": "rgb(17,17,17)",
            "gridcolor": "#506784",
            "gridwidth": 2,
            "linecolor": "#506784",
            "showbackground": true,
            "ticks": "",
            "zerolinecolor": "#C8D4E3"
           },
           "zaxis": {
            "backgroundcolor": "rgb(17,17,17)",
            "gridcolor": "#506784",
            "gridwidth": 2,
            "linecolor": "#506784",
            "showbackground": true,
            "ticks": "",
            "zerolinecolor": "#C8D4E3"
           }
          },
          "shapedefaults": {
           "line": {
            "color": "#f2f5fa"
           }
          },
          "sliderdefaults": {
           "bgcolor": "#C8D4E3",
           "bordercolor": "rgb(17,17,17)",
           "borderwidth": 1,
           "tickwidth": 0
          },
          "ternary": {
           "aaxis": {
            "gridcolor": "#506784",
            "linecolor": "#506784",
            "ticks": ""
           },
           "baxis": {
            "gridcolor": "#506784",
            "linecolor": "#506784",
            "ticks": ""
           },
           "bgcolor": "rgb(17,17,17)",
           "caxis": {
            "gridcolor": "#506784",
            "linecolor": "#506784",
            "ticks": ""
           }
          },
          "title": {
           "x": 0.05
          },
          "updatemenudefaults": {
           "bgcolor": "#506784",
           "borderwidth": 0
          },
          "xaxis": {
           "automargin": true,
           "gridcolor": "#283442",
           "linecolor": "#506784",
           "ticks": "",
           "title": {
            "standoff": 15
           },
           "zerolinecolor": "#283442",
           "zerolinewidth": 2
          },
          "yaxis": {
           "automargin": true,
           "gridcolor": "#283442",
           "linecolor": "#506784",
           "ticks": "",
           "title": {
            "standoff": 15
           },
           "zerolinecolor": "#283442",
           "zerolinewidth": 2
          }
         }
        },
        "width": 1500,
        "xaxis": {
         "anchor": "y",
         "categoryarray": [
          "Snapdragon",
          "Exynos",
          "Dimensity",
          "Bionic",
          "Helio",
          "A13",
          "Unisoc",
          "Tiger",
          "Octa",
          "Google",
          "Quad",
          "Helio,",
          "Apple",
          "SC9863A,",
          "Qualcomm",
          "No",
          "Unisoc,",
          "Spreadtrum",
          "Dual",
          "Sanpdragon",
          "1",
          "Fusion",
          "4",
          "1450",
          "Kirin",
          "32",
          "800",
          "2000",
          "52",
          "1.77",
          "SC6531E,",
          "(28",
          "Samsung",
          "Single",
          "256",
          "48",
          "8"
         ],
         "categoryorder": "array",
         "domain": [
          0,
          1
         ],
         "title": {
          "text": "processor"
         }
        },
        "yaxis": {
         "anchor": "x",
         "domain": [
          0,
          1
         ],
         "title": {
          "text": "price"
         }
        }
       }
      }
     },
     "metadata": {},
     "output_type": "display_data"
    }
   ],
   "source": [
    "fig=px.box(data_frame=df,y=\"price\",x=\"processor\",color=\"processor\",color_discrete_sequence=[\"darkred\",\"fuchsia\",\"green\",\"red\",\"lightblue\",\"darkorchid\",\"gold\",\"palegreen\"],\n",
    "          width=1500, height=500)\n",
    "fig.update_layout(template=\"plotly_dark\")                        \n",
    "fig.show()"
   ]
  },
  {
   "cell_type": "code",
   "execution_count": 15,
   "id": "d63cea7b",
   "metadata": {
    "execution": {
     "iopub.execute_input": "2023-04-13T22:17:11.114154Z",
     "iopub.status.busy": "2023-04-13T22:17:11.113691Z",
     "iopub.status.idle": "2023-04-13T22:17:11.232598Z",
     "shell.execute_reply": "2023-04-13T22:17:11.231236Z"
    },
    "papermill": {
     "duration": 0.136189,
     "end_time": "2023-04-13T22:17:11.235336",
     "exception": false,
     "start_time": "2023-04-13T22:17:11.099147",
     "status": "completed"
    },
    "tags": []
   },
   "outputs": [
    {
     "data": {
      "application/vnd.plotly.v1+json": {
       "config": {
        "plotlyServerURL": "https://plot.ly"
       },
       "data": [
        {
         "hovertemplate": "price=%{x}<br>rating=%{y}<extra></extra>",
         "legendgroup": "",
         "marker": {
          "color": "#B0E471",
          "symbol": "circle"
         },
         "mode": "markers",
         "name": "",
         "showlegend": false,
         "type": "scattergl",
         "x": [
          54999,
          19989,
          16499,
          14999,
          24999,
          16999,
          65999,
          29999,
          26749,
          28999,
          18999,
          18999,
          24762,
          16990,
          114990,
          62999,
          9999,
          45999,
          32999,
          14499,
          39999,
          35999,
          14999,
          17859,
          42990,
          31239,
          21995,
          129990,
          27999,
          69999,
          19999,
          20999,
          27990,
          38999,
          23790,
          39999,
          29990,
          91999,
          32999,
          28499,
          21999,
          19999,
          18999,
          27999,
          18499,
          17478,
          11936,
          8950,
          12489,
          42999,
          18999,
          29999,
          11990,
          18999,
          13999,
          14965,
          74999,
          10999,
          84990,
          10499,
          17990,
          29990,
          18499,
          16499,
          14999,
          35499,
          60999,
          32999,
          15999,
          99990,
          9499,
          27994,
          13989,
          44999,
          13999,
          6190,
          119900,
          27660,
          24999,
          8388,
          15999,
          20999,
          13999,
          19990,
          13999,
          22999,
          22999,
          16999,
          14290,
          41999,
          13489,
          22990,
          16499,
          73999,
          9999,
          12499,
          12499,
          59999,
          106990,
          15990,
          119990,
          19999,
          23990,
          12999,
          19990,
          58990,
          43999,
          49999,
          15999,
          36999,
          39999,
          51999,
          22999,
          31999,
          6171,
          29340,
          25289,
          21788,
          69999,
          70990,
          34999,
          33900,
          29999,
          18999,
          19499,
          24994,
          10999,
          24999,
          25999,
          34990,
          13466,
          9999,
          7999,
          28249,
          16499,
          22999,
          46999,
          13999,
          13490,
          28999,
          15499,
          39999,
          12999,
          4499,
          14999,
          8499,
          24990,
          16999,
          9589,
          40999,
          19988,
          11999,
          142990,
          30990,
          19499,
          4990,
          5299,
          25969,
          28999,
          94990,
          14999,
          14999,
          129900,
          58990,
          41990,
          10999,
          11999,
          16999,
          30990,
          17999,
          5499,
          20499,
          20490,
          15490,
          29990,
          15499,
          11999,
          10999,
          21990,
          31999,
          11999,
          36999,
          6999,
          39999,
          14999,
          14499,
          27999,
          20499,
          8099,
          10999,
          3499,
          9990,
          34999,
          46999,
          39999,
          11828,
          45999,
          18999,
          17999,
          8499,
          17999,
          14450,
          54999,
          71999,
          12999,
          11499,
          35999,
          34999,
          11999,
          27994,
          139990,
          39999,
          15499,
          18999,
          10999,
          27999,
          81999,
          9999,
          31994,
          9299,
          29990,
          25900,
          16999,
          24999,
          12188,
          8999,
          7499,
          17999,
          24999,
          45999,
          65499,
          58990,
          11999,
          11999,
          18990,
          14499,
          106990,
          10499,
          26990,
          19990,
          24999,
          13969,
          44999,
          24999,
          53100,
          16999,
          21899,
          75999,
          25999,
          46990,
          9999,
          49999,
          17999,
          16940,
          17990,
          20990,
          51999,
          64449,
          8990,
          19999,
          13499,
          15499,
          6499,
          71999,
          36499,
          15999,
          31994,
          34999,
          18999,
          39990,
          16499,
          6199,
          54300,
          9999,
          15990,
          22700,
          50990,
          64900,
          13799,
          8999,
          89999,
          21994,
          69990,
          12999,
          24990,
          19990,
          26999,
          19999,
          16900,
          19999,
          182999,
          12999,
          15999,
          13999,
          7749,
          24999,
          59999,
          25895,
          46990,
          7499,
          7790,
          25999,
          6299,
          12999,
          11999,
          21890,
          69999,
          55999,
          55999,
          14999,
          25994,
          42999,
          33499,
          118999,
          16999,
          6990,
          29990,
          12944,
          29990,
          16999,
          64999,
          154998,
          109999,
          84999,
          27499,
          8999,
          40480,
          17999,
          105999,
          8999,
          14999,
          19990,
          23399,
          41990,
          22998,
          25999,
          11700,
          6499,
          15999,
          64800,
          14590,
          7499,
          21999,
          11999,
          12999,
          20990,
          72999,
          77990,
          56999,
          21999,
          9499,
          7499,
          4649,
          18000,
          38999,
          7145,
          14990,
          15499,
          9999,
          29999,
          15999,
          59990,
          34990,
          45999,
          119990,
          89990,
          50999,
          7999,
          43999,
          18499,
          134999,
          32999,
          13499,
          35489,
          20120,
          42999,
          4649,
          24999,
          20999,
          28994,
          48900,
          22494,
          8990,
          6999,
          8890,
          18498,
          23999,
          22994,
          12990,
          14999,
          18499,
          14990,
          70990,
          12120,
          29990,
          20999,
          11999,
          17990,
          14990,
          6490,
          2999,
          34999,
          149900,
          6499,
          104999,
          13999,
          16999,
          79999,
          36760,
          23499,
          75990,
          21990,
          18999,
          7249,
          16990,
          23890,
          26380,
          27999,
          10850,
          19999,
          129990,
          19990,
          41990,
          69990,
          39990,
          74999,
          36994,
          14700,
          34990,
          34999,
          13990,
          650000,
          14859,
          17999,
          34990,
          14990,
          8999,
          8999,
          15824,
          43900,
          22494,
          19650,
          6999,
          16499,
          15999,
          72999,
          26999,
          6999,
          130990,
          12787,
          9999,
          54999,
          15490,
          25999,
          9499,
          7999,
          63990,
          15990,
          34949,
          8799,
          12390,
          11499,
          199990,
          42990,
          34999,
          11999,
          10499,
          8910,
          24990,
          17999,
          22999,
          6490,
          21990,
          1762,
          12364,
          39990,
          11999,
          7499,
          3990,
          10499,
          6299,
          5990,
          113990,
          239999,
          21999,
          15999,
          6899,
          69990,
          12990,
          92980,
          15999,
          23999,
          12999,
          60990,
          8859,
          33749,
          15990,
          24990,
          14999,
          17990,
          24990,
          11600,
          8299,
          11999,
          89999,
          27999,
          15990,
          7289,
          30990,
          15499,
          8499,
          14490,
          15490,
          14990,
          15999,
          36000,
          69999,
          26990,
          10630,
          42990,
          24990,
          14489,
          16490,
          24494,
          7999,
          23990,
          49959,
          129900,
          19990,
          14990,
          23269,
          13999,
          1949,
          2799,
          35389,
          79700,
          9499,
          12340,
          10799,
          14990,
          61990,
          51880,
          16990,
          19990,
          57999,
          46990,
          20990,
          17990,
          17499,
          17999,
          49990,
          2399,
          14999,
          19980,
          35990,
          15999,
          41999,
          25999,
          7990,
          29990,
          27990,
          29999,
          8999,
          13999,
          11499,
          39999,
          27999,
          24499,
          60999,
          110999,
          54999,
          16490,
          24990,
          1299,
          25000,
          1999,
          9950,
          12999,
          19999,
          32999,
          28498,
          15998,
          3749,
          59990,
          16990,
          27999,
          13499,
          16499,
          10999,
          13990,
          9999,
          31994,
          24820,
          22990,
          59990,
          8999,
          10499,
          7499,
          9990,
          12490,
          13990,
          17990,
          24999,
          21999,
          19999,
          99999,
          109900,
          52990,
          99,
          19990,
          11499,
          699,
          13999,
          22990,
          28990,
          27999,
          19990,
          22999,
          17999,
          15499,
          17990,
          13999,
          13499,
          14799,
          6999,
          11999,
          23994,
          3589,
          139900,
          69999,
          57999,
          86000,
          11999,
          14999,
          26499,
          8990,
          95999,
          47990,
          17990,
          22999,
          1299,
          99990,
          39999,
          38999,
          12490,
          5490,
          39990,
          1339,
          16685,
          69990,
          6999,
          71999,
          26999,
          16499,
          17990,
          8999,
          39900,
          2799,
          5999,
          34999,
          16990,
          22990,
          19990,
          10850,
          13499,
          958,
          6699,
          17999,
          13990,
          94990,
          8968,
          7320,
          8999,
          13999,
          14746,
          16999,
          25990,
          16499,
          19999,
          23500,
          54999,
          19499,
          79990,
          39999,
          92999,
          1799,
          32990,
          14499,
          13999,
          7999,
          5785,
          12990,
          19990,
          23990,
          17999,
          16999,
          9999,
          8299,
          82199,
          1850,
          49990,
          11999,
          29990,
          92249,
          139900,
          14990,
          15988,
          11725,
          17994,
          134999,
          25595,
          7499,
          10890,
          18990,
          19990,
          15990,
          58999,
          12500,
          29999,
          31990,
          29999,
          107990,
          31990,
          48990,
          99990,
          9499,
          162990,
          24999,
          82990,
          15999,
          8999,
          17990,
          82990,
          12999,
          29990,
          6999,
          60999,
          27990,
          5249,
          14999,
          44990,
          22490,
          50990,
          11499,
          5990,
          27000,
          29999,
          27990,
          3290,
          74999,
          9990,
          19990,
          13279,
          11000,
          18900,
          12999,
          7299,
          995,
          7999,
          54990,
          49990,
          54990,
          49990,
          15499,
          169900,
          53990,
          18990,
          16999,
          34999,
          82990,
          46999,
          8499,
          16999,
          11499,
          88999,
          15990,
          24990,
          79990,
          6249,
          12499,
          6499,
          179900,
          11990,
          26990,
          13499,
          75999,
          5999,
          8499,
          11990,
          10990,
          109990,
          16999,
          12199,
          11490,
          5490,
          11499,
          59450,
          12799,
          83000,
          14490,
          82990,
          9490,
          25000,
          15000,
          20990,
          34999,
          29999,
          11999,
          12999,
          124990,
          28999,
          12999,
          28499,
          104999,
          172999,
          17990,
          13774,
          2239,
          8999,
          18990,
          14999,
          7999,
          39999,
          11990,
          12999,
          54999,
          24990,
          59999,
          19999,
          16999,
          14999,
          29990,
          13990,
          17999,
          11399,
          599,
          19990,
          15499,
          6999,
          12499,
          91999,
          9690,
          32990,
          42990,
          14999,
          18699,
          1749,
          10990,
          30990,
          59999,
          23999,
          9999,
          3099,
          119900,
          9299,
          12989,
          4999,
          11999,
          29990,
          12490,
          27999,
          8199,
          21990,
          20000,
          11990,
          11989,
          11490,
          11490,
          15999,
          17990,
          78990,
          10949,
          10300,
          1899,
          45999,
          21990,
          19990,
          32990,
          14499,
          41990,
          13990,
          1599,
          4799,
          10490,
          29990,
          22990,
          47990,
          19999,
          29999,
          11879,
          28990,
          39990,
          15999,
          22990,
          149999,
          11499,
          22999,
          7999,
          31999,
          30990,
          7999,
          10999,
          14990,
          14499,
          44999,
          17999,
          19999,
          3999,
          101999,
          38700,
          19999,
          10999,
          16990,
          55999,
          67999,
          9999,
          14439,
          2499,
          9990,
          24999,
          85990,
          480000,
          16999,
          8999,
          15990,
          3999,
          3890,
          1685,
          84990,
          21999,
          2099,
          8999,
          649,
          20999,
          32990,
          9022,
          8399,
          9999,
          8390,
          19999,
          13999,
          29999,
          8990,
          163980,
          24990,
          59990,
          47990,
          40990,
          22999,
          12990,
          14999,
          42999,
          14999,
          22990,
          118990,
          29990,
          7399,
          17999,
          12799,
          26999,
          22999,
          147900,
          44999,
          7790,
          39990,
          9999,
          22990,
          32999,
          32990,
          14999,
          12499,
          39990,
          6499,
          18499,
          30994,
          32999,
          10499,
          19999,
          17499,
          10990,
          19000,
          13990,
          10499,
          5890,
          6490,
          54999,
          9990,
          24999,
          3399,
          59990,
          214990,
          9990,
          6999,
          169000,
          39990,
          21490,
          13490,
          7999,
          8990,
          13999,
          1999,
          13990,
          14999,
          6999,
          42990,
          6799,
          25899,
          54999,
          49990,
          32990,
          8720,
          69990,
          4787,
          70990,
          119990,
          34990,
          14990,
          28990,
          19990,
          24990
         ],
         "xaxis": "x",
         "y": [
          89,
          81,
          75,
          81,
          82,
          80,
          81,
          86,
          85,
          84,
          82,
          79,
          79,
          80,
          null,
          79,
          65,
          86,
          86,
          72,
          85,
          85,
          80,
          76,
          87,
          88,
          84,
          76,
          83,
          null,
          84,
          81,
          83,
          73,
          85,
          87,
          87,
          null,
          83,
          83,
          83,
          83,
          87,
          85,
          80,
          81,
          76,
          64,
          68,
          null,
          79,
          82,
          64,
          83,
          74,
          75,
          82,
          78,
          89,
          75,
          78,
          85,
          79,
          75,
          81,
          86,
          89,
          87,
          78,
          null,
          62,
          86,
          75,
          85,
          79,
          null,
          83,
          83,
          75,
          66,
          83,
          82,
          75,
          83,
          75,
          83,
          79,
          79,
          80,
          null,
          69,
          83,
          84,
          null,
          67,
          75,
          72,
          88,
          null,
          78,
          75,
          83,
          83,
          80,
          82,
          null,
          87,
          86,
          79,
          87,
          85,
          74,
          82,
          87,
          null,
          83,
          87,
          78,
          83,
          88,
          89,
          85,
          71,
          84,
          84,
          83,
          78,
          85,
          82,
          69,
          74,
          76,
          71,
          86,
          82,
          87,
          75,
          74,
          78,
          82,
          78,
          86,
          76,
          null,
          69,
          68,
          83,
          84,
          71,
          74,
          79,
          75,
          79,
          87,
          85,
          null,
          null,
          82,
          82,
          null,
          81,
          74,
          84,
          88,
          88,
          74,
          79,
          79,
          83,
          75,
          null,
          83,
          81,
          77,
          61,
          79,
          80,
          74,
          82,
          85,
          77,
          89,
          62,
          89,
          78,
          79,
          84,
          86,
          60,
          65,
          63,
          null,
          85,
          null,
          88,
          70,
          86,
          81,
          84,
          66,
          76,
          75,
          null,
          null,
          79,
          75,
          87,
          76,
          73,
          82,
          77,
          86,
          79,
          80,
          73,
          81,
          null,
          74,
          85,
          65,
          84,
          78,
          78,
          85,
          79,
          null,
          68,
          79,
          79,
          86,
          null,
          89,
          74,
          77,
          76,
          77,
          null,
          66,
          86,
          82,
          89,
          69,
          83,
          84,
          86,
          81,
          82,
          82,
          85,
          84,
          75,
          89,
          87,
          80,
          81,
          84,
          79,
          87,
          71,
          77,
          79,
          78,
          65,
          60,
          89,
          78,
          87,
          84,
          81,
          88,
          82,
          null,
          89,
          73,
          77,
          86,
          89,
          79,
          77,
          65,
          88,
          84,
          70,
          75,
          83,
          82,
          82,
          81,
          83,
          78,
          78,
          75,
          82,
          82,
          61,
          81,
          null,
          82,
          89,
          64,
          60,
          85,
          60,
          77,
          75,
          83,
          84,
          75,
          87,
          75,
          85,
          85,
          89,
          null,
          80,
          null,
          82,
          71,
          84,
          80,
          89,
          null,
          87,
          83,
          85,
          69,
          84,
          81,
          null,
          67,
          77,
          82,
          80,
          null,
          82,
          82,
          74,
          null,
          84,
          89,
          80,
          68,
          82,
          71,
          79,
          81,
          79,
          null,
          null,
          79,
          75,
          66,
          null,
          62,
          85,
          null,
          77,
          70,
          69,
          86,
          84,
          89,
          84,
          75,
          85,
          88,
          87,
          65,
          88,
          83,
          null,
          85,
          80,
          86,
          78,
          81,
          null,
          78,
          82,
          84,
          88,
          86,
          61,
          null,
          63,
          82,
          81,
          81,
          71,
          78,
          80,
          78,
          88,
          75,
          84,
          82,
          80,
          73,
          77,
          null,
          null,
          83,
          79,
          null,
          null,
          75,
          79,
          null,
          87,
          81,
          87,
          76,
          80,
          66,
          75,
          80,
          83,
          87,
          70,
          81,
          76,
          81,
          null,
          null,
          88,
          null,
          87,
          76,
          86,
          76,
          75,
          62,
          79,
          84,
          85,
          85,
          65,
          71,
          84,
          null,
          86,
          82,
          61,
          80,
          75,
          88,
          84,
          null,
          75,
          71,
          72,
          86,
          79,
          84,
          68,
          70,
          86,
          73,
          85,
          72,
          74,
          73,
          null,
          86,
          82,
          75,
          70,
          66,
          85,
          84,
          86,
          null,
          85,
          null,
          76,
          86,
          77,
          null,
          60,
          65,
          null,
          null,
          null,
          81,
          84,
          80,
          null,
          86,
          71,
          null,
          74,
          84,
          75,
          86,
          67,
          84,
          63,
          84,
          76,
          76,
          75,
          74,
          62,
          78,
          88,
          77,
          69,
          60,
          86,
          77,
          66,
          80,
          80,
          78,
          75,
          82,
          null,
          86,
          71,
          85,
          77,
          77,
          73,
          82,
          61,
          85,
          89,
          83,
          80,
          67,
          85,
          75,
          null,
          null,
          85,
          null,
          62,
          76,
          74,
          73,
          89,
          null,
          80,
          84,
          87,
          87,
          77,
          82,
          82,
          80,
          null,
          null,
          74,
          82,
          85,
          78,
          88,
          83,
          65,
          84,
          83,
          84,
          68,
          81,
          71,
          87,
          84,
          79,
          86,
          89,
          89,
          80,
          83,
          null,
          null,
          null,
          66,
          75,
          83,
          84,
          81,
          71,
          null,
          89,
          78,
          82,
          75,
          78,
          66,
          71,
          74,
          83,
          83,
          83,
          88,
          62,
          72,
          null,
          75,
          76,
          69,
          79,
          83,
          85,
          77,
          null,
          77,
          null,
          null,
          80,
          69,
          null,
          75,
          82,
          84,
          85,
          82,
          83,
          82,
          81,
          84,
          77,
          73,
          79,
          62,
          69,
          85,
          null,
          80,
          89,
          89,
          87,
          71,
          77,
          81,
          62,
          82,
          85,
          81,
          83,
          null,
          null,
          86,
          88,
          63,
          null,
          86,
          null,
          80,
          null,
          66,
          86,
          84,
          75,
          74,
          68,
          63,
          null,
          60,
          76,
          77,
          84,
          84,
          74,
          75,
          null,
          61,
          80,
          69,
          null,
          72,
          60,
          69,
          75,
          79,
          83,
          83,
          78,
          81,
          80,
          85,
          80,
          null,
          83,
          89,
          null,
          84,
          72,
          70,
          null,
          null,
          73,
          84,
          79,
          77,
          80,
          68,
          63,
          89,
          null,
          84,
          71,
          82,
          null,
          84,
          74,
          79,
          76,
          80,
          86,
          81,
          67,
          74,
          83,
          82,
          80,
          89,
          71,
          82,
          86,
          86,
          null,
          84,
          87,
          85,
          65,
          89,
          80,
          72,
          79,
          64,
          73,
          null,
          77,
          83,
          null,
          null,
          83,
          null,
          80,
          87,
          87,
          null,
          75,
          null,
          84,
          86,
          84,
          null,
          89,
          72,
          82,
          75,
          68,
          null,
          78,
          61,
          null,
          61,
          86,
          77,
          null,
          60,
          71,
          78,
          75,
          80,
          76,
          86,
          null,
          89,
          66,
          76,
          69,
          88,
          81,
          83,
          null,
          61,
          69,
          61,
          86,
          68,
          82,
          76,
          null,
          60,
          67,
          71,
          77,
          null,
          80,
          70,
          72,
          null,
          74,
          88,
          76,
          88,
          80,
          null,
          64,
          78,
          65,
          70,
          78,
          80,
          67,
          72,
          89,
          85,
          77,
          82,
          83,
          77,
          79,
          76,
          null,
          64,
          75,
          77,
          61,
          85,
          67,
          77,
          77,
          72,
          88,
          72,
          79,
          60,
          76,
          69,
          81,
          73,
          null,
          79,
          74,
          null,
          77,
          80,
          71,
          85,
          87,
          null,
          82,
          null,
          76,
          85,
          89,
          83,
          69,
          null,
          80,
          67,
          77,
          null,
          null,
          83,
          72,
          75,
          null,
          81,
          73,
          74,
          75,
          66,
          68,
          67,
          69,
          86,
          66,
          65,
          null,
          88,
          63,
          76,
          84,
          77,
          85,
          67,
          null,
          null,
          67,
          82,
          82,
          80,
          84,
          83,
          74,
          84,
          85,
          78,
          82,
          87,
          75,
          84,
          70,
          82,
          78,
          64,
          74,
          79,
          77,
          86,
          83,
          83,
          null,
          null,
          84,
          73,
          72,
          68,
          75,
          76,
          66,
          77,
          null,
          64,
          85,
          null,
          88,
          78,
          null,
          62,
          null,
          null,
          null,
          75,
          78,
          null,
          66,
          null,
          79,
          84,
          70,
          61,
          64,
          63,
          82,
          71,
          85,
          60,
          null,
          80,
          null,
          86,
          86,
          74,
          63,
          79,
          86,
          78,
          83,
          null,
          81,
          62,
          80,
          77,
          86,
          82,
          84,
          84,
          68,
          87,
          65,
          80,
          79,
          85,
          74,
          74,
          84,
          61,
          76,
          85,
          78,
          73,
          82,
          75,
          69,
          82,
          70,
          72,
          null,
          61,
          88,
          65,
          79,
          null,
          88,
          null,
          63,
          null,
          null,
          78,
          70,
          null,
          70,
          67,
          75,
          null,
          72,
          84,
          null,
          87,
          61,
          72,
          89,
          89,
          86,
          64,
          89,
          null,
          80,
          null,
          83,
          75,
          85,
          80,
          74
         ],
         "yaxis": "y"
        }
       ],
       "layout": {
        "height": 500,
        "legend": {
         "tracegroupgap": 0
        },
        "template": {
         "data": {
          "bar": [
           {
            "error_x": {
             "color": "#f2f5fa"
            },
            "error_y": {
             "color": "#f2f5fa"
            },
            "marker": {
             "line": {
              "color": "rgb(17,17,17)",
              "width": 0.5
             },
             "pattern": {
              "fillmode": "overlay",
              "size": 10,
              "solidity": 0.2
             }
            },
            "type": "bar"
           }
          ],
          "barpolar": [
           {
            "marker": {
             "line": {
              "color": "rgb(17,17,17)",
              "width": 0.5
             },
             "pattern": {
              "fillmode": "overlay",
              "size": 10,
              "solidity": 0.2
             }
            },
            "type": "barpolar"
           }
          ],
          "carpet": [
           {
            "aaxis": {
             "endlinecolor": "#A2B1C6",
             "gridcolor": "#506784",
             "linecolor": "#506784",
             "minorgridcolor": "#506784",
             "startlinecolor": "#A2B1C6"
            },
            "baxis": {
             "endlinecolor": "#A2B1C6",
             "gridcolor": "#506784",
             "linecolor": "#506784",
             "minorgridcolor": "#506784",
             "startlinecolor": "#A2B1C6"
            },
            "type": "carpet"
           }
          ],
          "choropleth": [
           {
            "colorbar": {
             "outlinewidth": 0,
             "ticks": ""
            },
            "type": "choropleth"
           }
          ],
          "contour": [
           {
            "colorbar": {
             "outlinewidth": 0,
             "ticks": ""
            },
            "colorscale": [
             [
              0,
              "#0d0887"
             ],
             [
              0.1111111111111111,
              "#46039f"
             ],
             [
              0.2222222222222222,
              "#7201a8"
             ],
             [
              0.3333333333333333,
              "#9c179e"
             ],
             [
              0.4444444444444444,
              "#bd3786"
             ],
             [
              0.5555555555555556,
              "#d8576b"
             ],
             [
              0.6666666666666666,
              "#ed7953"
             ],
             [
              0.7777777777777778,
              "#fb9f3a"
             ],
             [
              0.8888888888888888,
              "#fdca26"
             ],
             [
              1,
              "#f0f921"
             ]
            ],
            "type": "contour"
           }
          ],
          "contourcarpet": [
           {
            "colorbar": {
             "outlinewidth": 0,
             "ticks": ""
            },
            "type": "contourcarpet"
           }
          ],
          "heatmap": [
           {
            "colorbar": {
             "outlinewidth": 0,
             "ticks": ""
            },
            "colorscale": [
             [
              0,
              "#0d0887"
             ],
             [
              0.1111111111111111,
              "#46039f"
             ],
             [
              0.2222222222222222,
              "#7201a8"
             ],
             [
              0.3333333333333333,
              "#9c179e"
             ],
             [
              0.4444444444444444,
              "#bd3786"
             ],
             [
              0.5555555555555556,
              "#d8576b"
             ],
             [
              0.6666666666666666,
              "#ed7953"
             ],
             [
              0.7777777777777778,
              "#fb9f3a"
             ],
             [
              0.8888888888888888,
              "#fdca26"
             ],
             [
              1,
              "#f0f921"
             ]
            ],
            "type": "heatmap"
           }
          ],
          "heatmapgl": [
           {
            "colorbar": {
             "outlinewidth": 0,
             "ticks": ""
            },
            "colorscale": [
             [
              0,
              "#0d0887"
             ],
             [
              0.1111111111111111,
              "#46039f"
             ],
             [
              0.2222222222222222,
              "#7201a8"
             ],
             [
              0.3333333333333333,
              "#9c179e"
             ],
             [
              0.4444444444444444,
              "#bd3786"
             ],
             [
              0.5555555555555556,
              "#d8576b"
             ],
             [
              0.6666666666666666,
              "#ed7953"
             ],
             [
              0.7777777777777778,
              "#fb9f3a"
             ],
             [
              0.8888888888888888,
              "#fdca26"
             ],
             [
              1,
              "#f0f921"
             ]
            ],
            "type": "heatmapgl"
           }
          ],
          "histogram": [
           {
            "marker": {
             "pattern": {
              "fillmode": "overlay",
              "size": 10,
              "solidity": 0.2
             }
            },
            "type": "histogram"
           }
          ],
          "histogram2d": [
           {
            "colorbar": {
             "outlinewidth": 0,
             "ticks": ""
            },
            "colorscale": [
             [
              0,
              "#0d0887"
             ],
             [
              0.1111111111111111,
              "#46039f"
             ],
             [
              0.2222222222222222,
              "#7201a8"
             ],
             [
              0.3333333333333333,
              "#9c179e"
             ],
             [
              0.4444444444444444,
              "#bd3786"
             ],
             [
              0.5555555555555556,
              "#d8576b"
             ],
             [
              0.6666666666666666,
              "#ed7953"
             ],
             [
              0.7777777777777778,
              "#fb9f3a"
             ],
             [
              0.8888888888888888,
              "#fdca26"
             ],
             [
              1,
              "#f0f921"
             ]
            ],
            "type": "histogram2d"
           }
          ],
          "histogram2dcontour": [
           {
            "colorbar": {
             "outlinewidth": 0,
             "ticks": ""
            },
            "colorscale": [
             [
              0,
              "#0d0887"
             ],
             [
              0.1111111111111111,
              "#46039f"
             ],
             [
              0.2222222222222222,
              "#7201a8"
             ],
             [
              0.3333333333333333,
              "#9c179e"
             ],
             [
              0.4444444444444444,
              "#bd3786"
             ],
             [
              0.5555555555555556,
              "#d8576b"
             ],
             [
              0.6666666666666666,
              "#ed7953"
             ],
             [
              0.7777777777777778,
              "#fb9f3a"
             ],
             [
              0.8888888888888888,
              "#fdca26"
             ],
             [
              1,
              "#f0f921"
             ]
            ],
            "type": "histogram2dcontour"
           }
          ],
          "mesh3d": [
           {
            "colorbar": {
             "outlinewidth": 0,
             "ticks": ""
            },
            "type": "mesh3d"
           }
          ],
          "parcoords": [
           {
            "line": {
             "colorbar": {
              "outlinewidth": 0,
              "ticks": ""
             }
            },
            "type": "parcoords"
           }
          ],
          "pie": [
           {
            "automargin": true,
            "type": "pie"
           }
          ],
          "scatter": [
           {
            "marker": {
             "line": {
              "color": "#283442"
             }
            },
            "type": "scatter"
           }
          ],
          "scatter3d": [
           {
            "line": {
             "colorbar": {
              "outlinewidth": 0,
              "ticks": ""
             }
            },
            "marker": {
             "colorbar": {
              "outlinewidth": 0,
              "ticks": ""
             }
            },
            "type": "scatter3d"
           }
          ],
          "scattercarpet": [
           {
            "marker": {
             "colorbar": {
              "outlinewidth": 0,
              "ticks": ""
             }
            },
            "type": "scattercarpet"
           }
          ],
          "scattergeo": [
           {
            "marker": {
             "colorbar": {
              "outlinewidth": 0,
              "ticks": ""
             }
            },
            "type": "scattergeo"
           }
          ],
          "scattergl": [
           {
            "marker": {
             "line": {
              "color": "#283442"
             }
            },
            "type": "scattergl"
           }
          ],
          "scattermapbox": [
           {
            "marker": {
             "colorbar": {
              "outlinewidth": 0,
              "ticks": ""
             }
            },
            "type": "scattermapbox"
           }
          ],
          "scatterpolar": [
           {
            "marker": {
             "colorbar": {
              "outlinewidth": 0,
              "ticks": ""
             }
            },
            "type": "scatterpolar"
           }
          ],
          "scatterpolargl": [
           {
            "marker": {
             "colorbar": {
              "outlinewidth": 0,
              "ticks": ""
             }
            },
            "type": "scatterpolargl"
           }
          ],
          "scatterternary": [
           {
            "marker": {
             "colorbar": {
              "outlinewidth": 0,
              "ticks": ""
             }
            },
            "type": "scatterternary"
           }
          ],
          "surface": [
           {
            "colorbar": {
             "outlinewidth": 0,
             "ticks": ""
            },
            "colorscale": [
             [
              0,
              "#0d0887"
             ],
             [
              0.1111111111111111,
              "#46039f"
             ],
             [
              0.2222222222222222,
              "#7201a8"
             ],
             [
              0.3333333333333333,
              "#9c179e"
             ],
             [
              0.4444444444444444,
              "#bd3786"
             ],
             [
              0.5555555555555556,
              "#d8576b"
             ],
             [
              0.6666666666666666,
              "#ed7953"
             ],
             [
              0.7777777777777778,
              "#fb9f3a"
             ],
             [
              0.8888888888888888,
              "#fdca26"
             ],
             [
              1,
              "#f0f921"
             ]
            ],
            "type": "surface"
           }
          ],
          "table": [
           {
            "cells": {
             "fill": {
              "color": "#506784"
             },
             "line": {
              "color": "rgb(17,17,17)"
             }
            },
            "header": {
             "fill": {
              "color": "#2a3f5f"
             },
             "line": {
              "color": "rgb(17,17,17)"
             }
            },
            "type": "table"
           }
          ]
         },
         "layout": {
          "annotationdefaults": {
           "arrowcolor": "#f2f5fa",
           "arrowhead": 0,
           "arrowwidth": 1
          },
          "autotypenumbers": "strict",
          "coloraxis": {
           "colorbar": {
            "outlinewidth": 0,
            "ticks": ""
           }
          },
          "colorscale": {
           "diverging": [
            [
             0,
             "#8e0152"
            ],
            [
             0.1,
             "#c51b7d"
            ],
            [
             0.2,
             "#de77ae"
            ],
            [
             0.3,
             "#f1b6da"
            ],
            [
             0.4,
             "#fde0ef"
            ],
            [
             0.5,
             "#f7f7f7"
            ],
            [
             0.6,
             "#e6f5d0"
            ],
            [
             0.7,
             "#b8e186"
            ],
            [
             0.8,
             "#7fbc41"
            ],
            [
             0.9,
             "#4d9221"
            ],
            [
             1,
             "#276419"
            ]
           ],
           "sequential": [
            [
             0,
             "#0d0887"
            ],
            [
             0.1111111111111111,
             "#46039f"
            ],
            [
             0.2222222222222222,
             "#7201a8"
            ],
            [
             0.3333333333333333,
             "#9c179e"
            ],
            [
             0.4444444444444444,
             "#bd3786"
            ],
            [
             0.5555555555555556,
             "#d8576b"
            ],
            [
             0.6666666666666666,
             "#ed7953"
            ],
            [
             0.7777777777777778,
             "#fb9f3a"
            ],
            [
             0.8888888888888888,
             "#fdca26"
            ],
            [
             1,
             "#f0f921"
            ]
           ],
           "sequentialminus": [
            [
             0,
             "#0d0887"
            ],
            [
             0.1111111111111111,
             "#46039f"
            ],
            [
             0.2222222222222222,
             "#7201a8"
            ],
            [
             0.3333333333333333,
             "#9c179e"
            ],
            [
             0.4444444444444444,
             "#bd3786"
            ],
            [
             0.5555555555555556,
             "#d8576b"
            ],
            [
             0.6666666666666666,
             "#ed7953"
            ],
            [
             0.7777777777777778,
             "#fb9f3a"
            ],
            [
             0.8888888888888888,
             "#fdca26"
            ],
            [
             1,
             "#f0f921"
            ]
           ]
          },
          "colorway": [
           "#636efa",
           "#EF553B",
           "#00cc96",
           "#ab63fa",
           "#FFA15A",
           "#19d3f3",
           "#FF6692",
           "#B6E880",
           "#FF97FF",
           "#FECB52"
          ],
          "font": {
           "color": "#f2f5fa"
          },
          "geo": {
           "bgcolor": "rgb(17,17,17)",
           "lakecolor": "rgb(17,17,17)",
           "landcolor": "rgb(17,17,17)",
           "showlakes": true,
           "showland": true,
           "subunitcolor": "#506784"
          },
          "hoverlabel": {
           "align": "left"
          },
          "hovermode": "closest",
          "mapbox": {
           "style": "dark"
          },
          "paper_bgcolor": "rgb(17,17,17)",
          "plot_bgcolor": "rgb(17,17,17)",
          "polar": {
           "angularaxis": {
            "gridcolor": "#506784",
            "linecolor": "#506784",
            "ticks": ""
           },
           "bgcolor": "rgb(17,17,17)",
           "radialaxis": {
            "gridcolor": "#506784",
            "linecolor": "#506784",
            "ticks": ""
           }
          },
          "scene": {
           "xaxis": {
            "backgroundcolor": "rgb(17,17,17)",
            "gridcolor": "#506784",
            "gridwidth": 2,
            "linecolor": "#506784",
            "showbackground": true,
            "ticks": "",
            "zerolinecolor": "#C8D4E3"
           },
           "yaxis": {
            "backgroundcolor": "rgb(17,17,17)",
            "gridcolor": "#506784",
            "gridwidth": 2,
            "linecolor": "#506784",
            "showbackground": true,
            "ticks": "",
            "zerolinecolor": "#C8D4E3"
           },
           "zaxis": {
            "backgroundcolor": "rgb(17,17,17)",
            "gridcolor": "#506784",
            "gridwidth": 2,
            "linecolor": "#506784",
            "showbackground": true,
            "ticks": "",
            "zerolinecolor": "#C8D4E3"
           }
          },
          "shapedefaults": {
           "line": {
            "color": "#f2f5fa"
           }
          },
          "sliderdefaults": {
           "bgcolor": "#C8D4E3",
           "bordercolor": "rgb(17,17,17)",
           "borderwidth": 1,
           "tickwidth": 0
          },
          "ternary": {
           "aaxis": {
            "gridcolor": "#506784",
            "linecolor": "#506784",
            "ticks": ""
           },
           "baxis": {
            "gridcolor": "#506784",
            "linecolor": "#506784",
            "ticks": ""
           },
           "bgcolor": "rgb(17,17,17)",
           "caxis": {
            "gridcolor": "#506784",
            "linecolor": "#506784",
            "ticks": ""
           }
          },
          "title": {
           "x": 0.05
          },
          "updatemenudefaults": {
           "bgcolor": "#506784",
           "borderwidth": 0
          },
          "xaxis": {
           "automargin": true,
           "gridcolor": "#283442",
           "linecolor": "#506784",
           "ticks": "",
           "title": {
            "standoff": 15
           },
           "zerolinecolor": "#283442",
           "zerolinewidth": 2
          },
          "yaxis": {
           "automargin": true,
           "gridcolor": "#283442",
           "linecolor": "#506784",
           "ticks": "",
           "title": {
            "standoff": 15
           },
           "zerolinecolor": "#283442",
           "zerolinewidth": 2
          }
         }
        },
        "title": {
         "font": {
          "size": 20
         },
         "text": "<b>Relationship between Rating and Price"
        },
        "width": 750,
        "xaxis": {
         "anchor": "y",
         "domain": [
          0,
          1
         ],
         "title": {
          "text": "price"
         }
        },
        "yaxis": {
         "anchor": "x",
         "domain": [
          0,
          1
         ],
         "title": {
          "text": "rating"
         }
        }
       }
      }
     },
     "metadata": {},
     "output_type": "display_data"
    }
   ],
   "source": [
    "fig=px.scatter(df, y=\"rating\",x=\"price\",color_discrete_sequence=[\"#B0E471\"],\n",
    "               title=\"<b>Relationship between Rating and Price\",\n",
    "               width=750, height=500)\n",
    "fig.update_layout(template=\"plotly_dark\")\n",
    "fig.update_layout(title_font_size=20)\n",
    "fig.show()"
   ]
  },
  {
   "cell_type": "code",
   "execution_count": 16,
   "id": "f9ff984a",
   "metadata": {
    "execution": {
     "iopub.execute_input": "2023-04-13T22:17:11.265036Z",
     "iopub.status.busy": "2023-04-13T22:17:11.263673Z",
     "iopub.status.idle": "2023-04-13T22:17:11.499113Z",
     "shell.execute_reply": "2023-04-13T22:17:11.497838Z"
    },
    "papermill": {
     "duration": 0.253931,
     "end_time": "2023-04-13T22:17:11.502680",
     "exception": false,
     "start_time": "2023-04-13T22:17:11.248749",
     "status": "completed"
    },
    "tags": []
   },
   "outputs": [
    {
     "data": {
      "application/vnd.plotly.v1+json": {
       "config": {
        "plotlyServerURL": "https://plot.ly"
       },
       "data": [
        {
         "alignmentgroup": "True",
         "bingroup": "x",
         "hovertemplate": "ram=12.0<br>company=%{x}<br>count=%{y}<extra></extra>",
         "legendgroup": "12.0",
         "marker": {
          "color": "rgb(229, 134, 6)",
          "pattern": {
           "shape": ""
          }
         },
         "name": "12.0",
         "offsetgroup": "12.0",
         "orientation": "v",
         "showlegend": true,
         "type": "histogram",
         "x": [
          "OnePlus",
          "Vivo",
          "Samsung",
          "Xiaomi",
          "Vivo",
          "Vivo",
          "Vivo",
          "Vivo",
          "OnePlus",
          "OnePlus",
          "Oppo",
          "Oppo",
          "Vivo",
          "Nokia",
          "OPPO",
          "Xiaomi",
          "Nothing",
          "Vivo",
          "Google",
          "OPPO",
          "OnePlus",
          "Xiaomi",
          "Tecno",
          "OPPO",
          "Google",
          "Motorola",
          "Samsung",
          "Samsung",
          "Samsung",
          "Oppo",
          "Poco",
          "Samsung",
          "OnePlus",
          "Sony",
          "Samsung",
          "Vivo",
          "OPPO",
          "Realme",
          "Honor",
          "OnePlus",
          "Vivo",
          "iQOO",
          "Xiaomi",
          "Vivo",
          "Sony",
          "Nubia",
          "iQOO",
          "OnePlus",
          "Google",
          "Xiaomi",
          "Lenovo",
          "iQOO",
          "Nubia",
          "Samsung",
          "iQOO",
          "Samsung",
          "Oukitel",
          "Motorola",
          "Xiaomi",
          "Asus",
          "Honor",
          "Samsung",
          "OPPO",
          "Samsung",
          "Vivo",
          "Oppo",
          "Vivo",
          "Honor",
          "Vivo",
          "Realme",
          "Xiaomi",
          "Xiaomi",
          "Leitz",
          "Vivo",
          "Doogee",
          "iQOO",
          "Samsung",
          "Samsung",
          "OnePlus",
          "Vivo",
          "Sharp",
          "Huawei",
          "Xiaomi",
          "Google",
          "Vivo"
         ],
         "xaxis": "x",
         "yaxis": "y"
        },
        {
         "alignmentgroup": "True",
         "bingroup": "x",
         "hovertemplate": "ram=6.0<br>company=%{x}<br>count=%{y}<extra></extra>",
         "legendgroup": "6.0",
         "marker": {
          "color": "rgb(93, 105, 177)",
          "pattern": {
           "shape": ""
          }
         },
         "name": "6.0",
         "offsetgroup": "6.0",
         "orientation": "v",
         "showlegend": true,
         "type": "histogram",
         "x": [
          "OnePlus",
          "Motorola",
          "Realme",
          "Samsung",
          "Apple",
          "Realme",
          "Xiaomi",
          "Vivo",
          "Poco",
          "Apple",
          "Poco",
          "Samsung",
          "Xiaomi",
          "OnePlus",
          "Xiaomi",
          "Motorola",
          "Samsung",
          "Samsung",
          "Motorola",
          "Apple",
          "Xiaomi",
          "Xiaomi",
          "Samsung",
          "Vivo",
          "Poco",
          "Xiaomi",
          "Apple",
          "Samsung",
          "Motorola",
          "Samsung",
          "Motorola",
          "Samsung",
          "Xiaomi",
          "Apple",
          "Xiaomi",
          "Vivo",
          "Xiaomi",
          "Samsung",
          "iQOO",
          "Google",
          "Samsung",
          "Google",
          "Poco",
          "Realme",
          "OPPO",
          "Samsung",
          "Xiaomi",
          "Realme",
          "Realme",
          "Apple",
          "Xiaomi",
          "Xiaomi",
          "Realme",
          "OPPO",
          "iQOO",
          "Xiaomi",
          "POCO",
          "Samsung",
          "OnePlus",
          "Motorola",
          "Samsung",
          "Apple",
          "Realme",
          "Realme",
          "Realme",
          "Realme",
          "Xiaomi",
          "Realme",
          "Realme",
          "OPPO",
          "Xiaomi",
          "Apple",
          "iQOO",
          "Xiaomi",
          "Vivo",
          "Poco",
          "Infinix",
          "Redmi",
          "Xiaomi",
          "Tecno",
          "Apple",
          "Infinix",
          "Apple",
          "Samsung",
          "Xiaomi",
          "Xiaomi",
          "Motorola",
          "Apple",
          "Tecno",
          "Xiaomi",
          "Vivo",
          "Poco",
          "Motorola",
          "Xiaomi",
          "POCO",
          "OnePlus",
          "Xiaomi",
          "Poco",
          "Google",
          "Realme",
          "Vivo",
          "Realme",
          "OPPO",
          "Xiaomi",
          "Xiaomi",
          "Xiaomi",
          "Oppo",
          "Realme",
          "Xiaomi",
          "Xiaomi",
          "Redmi",
          "Apple",
          "Motorola",
          "OPPO",
          "Nokia",
          "Samsung",
          "Poco",
          "Samsung",
          "Xiaomi",
          "Samsung",
          "Xiaomi",
          "Samsung",
          "iQOO",
          "Samsung",
          "Vivo",
          "Motorola",
          "Realme",
          "Samsung",
          "Samsung",
          "Realme",
          "OPPO",
          "Motorola",
          "Apple",
          "Nokia",
          "Realme",
          "Xiaomi",
          "Samsung",
          "Xiaomi",
          "Samsung",
          "Nokia",
          "Oppo",
          "Nokia",
          "Samsung",
          "Xiaomi",
          "Xiaomi",
          "Samsung",
          "Xiaomi",
          "Xiaomi",
          "Realme",
          "POCO",
          "Apple",
          "Xiaomi",
          "Apple",
          "Samsung",
          "OPPO",
          "Letv",
          "Infinix",
          "Samsung",
          "Tecno",
          "Xiaomi",
          "Xiaomi",
          "Xiaomi",
          "Xiaomi",
          "LG",
          "Motorola",
          "Samsung",
          "Samsung",
          "Infinix",
          "Xiaomi",
          "Apple",
          "OPPO",
          "OnePlus",
          "Gionee",
          "Poco",
          "Motorola",
          "iQOO",
          "Apple",
          "Oppo",
          "Xiaomi",
          "Realme",
          "Motorola",
          "Poco",
          "Xiaomi",
          "Apple",
          "Honor",
          "Apple",
          "Samsung",
          "Realme",
          "Realme",
          "Samsung",
          "Apple",
          "Apple",
          "Xiaomi",
          "Xiaomi",
          "Tecno",
          "Infinix",
          "Samsung",
          "Poco",
          "Xiaomi",
          "Samsung",
          "Apple",
          "Realme",
          "Oppo",
          "Vivo",
          "Poco",
          "Nokia",
          "Tecno",
          "Xiaomi",
          "Sony",
          "Poco",
          "Xiaomi",
          "Tecno",
          "ZTE",
          "Nothing",
          "Infinix",
          "Apple",
          "Micromax",
          "Nokia",
          "Oppo",
          "Poco",
          "Honor",
          "OPPO",
          "Samsung",
          "Google",
          "Samsung",
          "Samsung",
          "Xiaomi",
          "OPPO",
          "Samsung",
          "Honor",
          "OPPO",
          "Oukitel",
          "Honor",
          "Motorola"
         ],
         "xaxis": "x",
         "yaxis": "y"
        },
        {
         "alignmentgroup": "True",
         "bingroup": "x",
         "hovertemplate": "ram=4.0<br>company=%{x}<br>count=%{y}<extra></extra>",
         "legendgroup": "4.0",
         "marker": {
          "color": "rgb(82, 188, 163)",
          "pattern": {
           "shape": ""
          }
         },
         "name": "4.0",
         "offsetgroup": "4.0",
         "orientation": "v",
         "showlegend": true,
         "type": "histogram",
         "x": [
          "Samsung",
          "Apple",
          "Vivo",
          "Xiaomi",
          "Apple",
          "Xiaomi",
          "Vivo",
          "Jio",
          "Realme",
          "Realme",
          "Motorola",
          "Samsung",
          "iQOO",
          "Gionee",
          "Xiaomi",
          "Realme",
          "Vivo",
          "Realme",
          "Realme",
          "OPPO",
          "Vivo",
          "Apple",
          "Motorola",
          "Xiaomi",
          "Xiaomi",
          "Motorola",
          "Apple",
          "iQOO",
          "Poco",
          "OnePlus",
          "Samsung",
          "Xiaomi",
          "Apple",
          "Motorola",
          "Nokia",
          "Cola",
          "Samsung",
          "Infinix",
          "Letv",
          "Realme",
          "Samsung",
          "iKall",
          "Duoqin",
          "Realme",
          "Samsung",
          "Samsung",
          "Poco",
          "Lava",
          "Tecno",
          "POCO",
          "Vivo",
          "Vivo",
          "OPPO",
          "Motorola",
          "Motorola",
          "Apple",
          "Infinix",
          "Apple",
          "Realme",
          "Xiaomi",
          "Realme",
          "Motorola",
          "Apple",
          "Samsung",
          "Samsung",
          "Infinix",
          "Infinix",
          "Xiaomi",
          "Samsung",
          "Apple",
          "Motorola",
          "Motorola",
          "Xiaomi",
          "Vivo",
          "OPPO",
          "Apple",
          "Tecno",
          "Letv",
          "Tecno",
          "Samsung",
          "Samsung",
          "Samsung",
          "Xiaomi",
          "Realme",
          "OnePlus",
          "Xiaomi",
          "Motorola",
          "Motorola",
          "Realme",
          "Infinix",
          "Samsung",
          "Redmi",
          "Sony",
          "Tecno",
          "Xiaomi",
          "Samsung",
          "Samsung",
          "Nokia",
          "Infinix",
          "Samsung",
          "Vivo",
          "Vivo",
          "Motorola",
          "Realme",
          "Xiaomi",
          "Google",
          "POCO",
          "Samsung",
          "iQOO",
          "Samsung",
          "Xiaomi",
          "Poco",
          "Xiaomi",
          "Vivo",
          "Poco",
          "Realme",
          "OPPO",
          "Realme",
          "Nokia",
          "OPPO",
          "OPPO",
          "Xiaomi",
          "Tecno",
          "Realme",
          "Xiaomi",
          "Xiaomi",
          "Vivo",
          "Apple",
          "Samsung",
          "Xiaomi",
          "OPPO",
          "OPPO",
          "Samsung",
          "Realme",
          "Vivo",
          "Micromax",
          "Realme",
          "Xiaomi",
          "Realme",
          "Xiaomi",
          "Tecno",
          "Realme",
          "Samsung",
          "Vivo",
          "Xiaomi",
          "Honor",
          "Nokia",
          "Vivo",
          "Samsung",
          "Samsung",
          "Vivo",
          "Realme",
          "Tecno",
          "Vivo",
          "Realme",
          "Apple",
          "iKall",
          "Tecno",
          "Motorola",
          "Samsung",
          "OPPO",
          "Xiaomi",
          "OPPO",
          "Oppo",
          "Xiaomi",
          "POCO",
          "Vivo",
          "Vivo",
          "Vivo",
          "Samsung",
          "Nokia",
          "OnePlus",
          "Samsung",
          "Xiaomi",
          "Realme",
          "Vivo",
          "Xiaomi",
          "Apple",
          "Infinix",
          "Realme",
          "Realme",
          "Xiaomi",
          "Sony",
          "Vivo",
          "Xiaomi",
          "Xiaomi",
          "Motorola",
          "Google",
          "Samsung",
          "Huawei",
          "Xiaomi",
          "Huawei",
          "Nokia",
          "Realme",
          "Tecno",
          "Tecno",
          "Tecno",
          "Motorola",
          "OnePlus",
          "Samsung",
          "OnePlus",
          "Apple",
          "Apple",
          "Xiaomi",
          "Nokia",
          "Vivo",
          "Lava",
          "Motorola",
          "Honor",
          "Samsung",
          "iQOO",
          "Realme",
          "Samsung",
          "Realme",
          "Vivo",
          "Samsung",
          "Poco",
          "Blackview",
          "iKall",
          "Realme"
         ],
         "xaxis": "x",
         "yaxis": "y"
        },
        {
         "alignmentgroup": "True",
         "bingroup": "x",
         "hovertemplate": "ram=8.0<br>company=%{x}<br>count=%{y}<extra></extra>",
         "legendgroup": "8.0",
         "marker": {
          "color": "rgb(153, 201, 69)",
          "pattern": {
           "shape": ""
          }
         },
         "name": "8.0",
         "offsetgroup": "8.0",
         "orientation": "v",
         "showlegend": true,
         "type": "histogram",
         "x": [
          "Xiaomi",
          "Nothing",
          "OnePlus",
          "Oppo",
          "Samsung",
          "OnePlus",
          "OnePlus",
          "Vivo",
          "Samsung",
          "OnePlus",
          "Vivo",
          "OnePlus",
          "Realme",
          "Vivo",
          "Samsung",
          "Oppo",
          "OPPO",
          "Realme",
          "Vivo",
          "Samsung",
          "iQOO",
          "Samsung",
          "Vivo",
          "Vivo",
          "OnePlus",
          "Oppo",
          "OnePlus",
          "OPPO",
          "Samsung",
          "Vivo",
          "OPPO",
          "Samsung",
          "OnePlus",
          "Motorola",
          "iQOO",
          "Motorola",
          "Realme",
          "OPPO",
          "Xiaomi",
          "Samsung",
          "Tecno",
          "OPPO",
          "Samsung",
          "Samsung",
          "Motorola",
          "Infinix",
          "Samsung",
          "Vivo",
          "OnePlus",
          "Nothing",
          "Xiaomi",
          "iQOO",
          "iQOO",
          "Apple",
          "Oppo",
          "Infinix",
          "OPPO",
          "Vivo",
          "Realme",
          "iQOO",
          "Vivo",
          "Infinix",
          "Motorola",
          "Realme",
          "OnePlus",
          "Motorola",
          "LeEco",
          "Motorola",
          "Poco",
          "OPPO",
          "Motorola",
          "Tecno",
          "Xiaomi",
          "Honor",
          "Vivo",
          "Xiaomi",
          "Motorola",
          "iQOO",
          "Xiaomi",
          "OPPO",
          "Vivo",
          "Xiaomi",
          "Samsung",
          "Vivo",
          "Google",
          "OPPO",
          "Motorola",
          "Nubia",
          "Infinix",
          "OPPO",
          "Samsung",
          "Samsung",
          "Tecno",
          "Samsung",
          "OnePlus",
          "Nothing",
          "Samsung",
          "Xiaomi",
          "Xiaomi",
          "Vivo",
          "iQOO",
          "Samsung",
          "Xiaomi",
          "Xiaomi",
          "Infinix",
          "Poco",
          "Xiaomi",
          "Samsung",
          "OPPO",
          "Xiaomi",
          "Xiaomi",
          "Samsung",
          "OPPO",
          "OnePlus",
          "Samsung",
          "Vivo",
          "POCO",
          "Honor",
          "Royole",
          "Samsung",
          "Google",
          "OPPO",
          "iQOO",
          "Samsung",
          "Realme",
          "OnePlus",
          "Tecno",
          "Vivo",
          "Xiaomi",
          "Vivo",
          "Realme",
          "Xiaomi",
          "iQOO",
          "OPPO",
          "Samsung",
          "Xiaomi",
          "Vivo",
          "Samsung",
          "Samsung",
          "OPPO",
          "Realme",
          "Samsung",
          "Samsung",
          "iQOO",
          "Realme",
          "Realme",
          "OPPO",
          "Oukitel",
          "Realme",
          "Realme",
          "Apple",
          "OPPO",
          "Motorola",
          "Xiaomi",
          "Xiaomi",
          "Tecno",
          "Poco",
          "BLU",
          "Xiaomi",
          "Samsung",
          "Apple",
          "Vivo",
          "Vivo",
          "Tecno",
          "Asus",
          "Nubia",
          "Vivo",
          "OPPO",
          "Xiaomi",
          "Infinix",
          "Sony",
          "Tecno",
          "Huawei",
          "POCO",
          "Honor",
          "Samsung",
          "OnePlus",
          "Honor",
          "Google",
          "Xiaomi",
          "Oppo",
          "Vivo",
          "Realme",
          "Realme",
          "Vivo",
          "Vivo",
          "OnePlus",
          "Infinix",
          "ZTE",
          "OPPO",
          "Huawei",
          "Samsung",
          "Realme",
          "Nokia",
          "Samsung",
          "Xiaomi",
          "OnePlus",
          "OPPO",
          "Poco",
          "POCO",
          "Asus",
          "Realme",
          "LG",
          "Oppo",
          "Oppo",
          "OPPO",
          "Motorola",
          "Realme",
          "iQOO",
          "iQOO",
          "Vivo",
          "Realme",
          "OnePlus",
          "Sony",
          "Vivo",
          "Poco",
          "Realme",
          "Vivo",
          "Lava",
          "Vivo",
          "Sony",
          "Samsung",
          "Realme",
          "iQOO",
          "Tecno",
          "OnePlus",
          "Samsung",
          "POCO",
          "Vivo",
          "Huawei",
          "Realme",
          "OnePlus",
          "Vivo",
          "OPPO",
          "Vivo",
          "OPPO",
          "Xiaomi",
          "LG",
          "Xiaomi",
          "iQOO",
          "Poco",
          "Sony",
          "Nubia",
          "Oppo",
          "OPPO",
          "OPPO",
          "OPPO",
          "Vivo",
          "Vivo",
          "Vivo",
          "Motorola",
          "Xiaomi",
          "Huawei",
          "Huawei",
          "Infinix",
          "Huawei",
          "Huawei",
          "Xiaomi",
          "OPPO",
          "Vivo",
          "Xiaomi",
          "Vivo",
          "Samsung",
          "Oppo",
          "Xiaomi",
          "Google",
          "Vivo",
          "Motorola",
          "Samsung",
          "Vivo",
          "Xiaomi",
          "Oppo",
          "Vivo",
          "Samsung",
          "Samsung",
          "Huawei",
          "Vivo",
          "Realme",
          "Xiaomi",
          "Infinix",
          "Realme",
          "Xiaomi",
          "Samsung",
          "Infinix",
          "Vivo",
          "Vivo",
          "Realme",
          "Xiaomi",
          "Xiaomi",
          "Xiaomi",
          "Oppo",
          "Huawei",
          "Samsung",
          "iQOO",
          "Vivo",
          "Huawei",
          "Huawei",
          "Samsung",
          "Infinix",
          "OnePlus",
          "OnePlus",
          "Oppo",
          "Royole",
          "Tecno",
          "Realme",
          "OnePlus",
          "Realme",
          "Realme",
          "Oppo",
          "Realme",
          "Samsung",
          "Xiaomi",
          "Apple",
          "OPPO",
          "Xiaomi",
          "Motorola",
          "Realme",
          "Samsung",
          "Infinix",
          "POCO",
          "Vivo",
          "Oppo",
          "iQOO",
          "Xiaomi",
          "Samsung",
          "Nubia",
          "iQOO",
          "Realme",
          "Vivo",
          "Xiaomi",
          "OnePlus",
          "Huawei",
          "Doogee",
          "Motorola",
          "Motorola",
          "Xiaomi",
          "Oppo",
          "Motorola",
          "POCO",
          "Samsung"
         ],
         "xaxis": "x",
         "yaxis": "y"
        },
        {
         "alignmentgroup": "True",
         "bingroup": "x",
         "hovertemplate": "ram=3.0<br>company=%{x}<br>count=%{y}<extra></extra>",
         "legendgroup": "3.0",
         "marker": {
          "color": "rgb(204, 97, 176)",
          "pattern": {
           "shape": ""
          }
         },
         "name": "3.0",
         "offsetgroup": "3.0",
         "orientation": "v",
         "showlegend": true,
         "type": "histogram",
         "x": [
          "Vivo",
          "Realme",
          "OPPO",
          "Apple",
          "Tecno",
          "Realme",
          "Samsung",
          "Vivo",
          "Vivo",
          "POCO",
          "Xiaomi",
          "Realme",
          "Vivo",
          "Samsung",
          "OPPO",
          "Lyf",
          "Realme",
          "Vivo",
          "Nokia",
          "Motorola",
          "Vivo",
          "Samsung",
          "Jio",
          "Apple",
          "Realme",
          "Nokia",
          "Apple",
          "itel",
          "Infinix",
          "Vivo",
          "Poco",
          "Vivo",
          "Vivo",
          "Vivo",
          "Micromax",
          "Samsung",
          "Vivo",
          "Realme",
          "OPPO",
          "Gionee",
          "Vivo",
          "Realme",
          "OPPO",
          "Oppo",
          "OPPO",
          "Lyf",
          "Xiaomi",
          "Infinix",
          "Tecno",
          "TCL",
          "Tecno",
          "Vivo",
          "itel",
          "Vivo",
          "Lava"
         ],
         "xaxis": "x",
         "yaxis": "y"
        },
        {
         "alignmentgroup": "True",
         "bingroup": "x",
         "hovertemplate": "ram=16.0<br>company=%{x}<br>count=%{y}<extra></extra>",
         "legendgroup": "16.0",
         "marker": {
          "color": "rgb(36, 121, 108)",
          "pattern": {
           "shape": ""
          }
         },
         "name": "16.0",
         "offsetgroup": "16.0",
         "orientation": "v",
         "showlegend": true,
         "type": "histogram",
         "x": [
          "OPPO",
          "Tesla",
          "OPPO",
          "OnePlus",
          "iQOO",
          "Asus",
          "OPPO",
          "Asus",
          "Lenovo",
          "Eunity"
         ],
         "xaxis": "x",
         "yaxis": "y"
        },
        {
         "alignmentgroup": "True",
         "bingroup": "x",
         "hovertemplate": "ram=2.0<br>company=%{x}<br>count=%{y}<extra></extra>",
         "legendgroup": "2.0",
         "marker": {
          "color": "rgb(218, 165, 27)",
          "pattern": {
           "shape": ""
          }
         },
         "name": "2.0",
         "offsetgroup": "2.0",
         "orientation": "v",
         "showlegend": true,
         "type": "histogram",
         "x": [
          "Xiaomi",
          "Jio",
          "Realme",
          "Vivo",
          "itel",
          "Samsung",
          "Jio",
          "Realme",
          "Poco",
          "Vertu",
          "Xiaomi",
          "Infinix",
          "Realme",
          "Motorola",
          "Tecno",
          "Itel",
          "Xiaomi",
          "Vivo",
          "Infinix",
          "Vivo",
          "itel",
          "Nokia",
          "Nokia",
          "Tecno",
          "Xiaomi",
          "CAT",
          "Vivo",
          "Realme",
          "Realme",
          "Realme",
          "Samsung",
          "Realme",
          "itel"
         ],
         "xaxis": "x",
         "yaxis": "y"
        },
        {
         "alignmentgroup": "True",
         "bingroup": "x",
         "hovertemplate": "ram=512.0<br>company=%{x}<br>count=%{y}<extra></extra>",
         "legendgroup": "512.0",
         "marker": {
          "color": "rgb(47, 138, 196)",
          "pattern": {
           "shape": ""
          }
         },
         "name": "512.0",
         "offsetgroup": "512.0",
         "orientation": "v",
         "showlegend": true,
         "type": "histogram",
         "x": [
          "Nokia",
          "Jio",
          "Huawei",
          "Nokia"
         ],
         "xaxis": "x",
         "yaxis": "y"
        },
        {
         "alignmentgroup": "True",
         "bingroup": "x",
         "hovertemplate": "ram=18.0<br>company=%{x}<br>count=%{y}<extra></extra>",
         "legendgroup": "18.0",
         "marker": {
          "color": "rgb(118, 78, 159)",
          "pattern": {
           "shape": ""
          }
         },
         "name": "18.0",
         "offsetgroup": "18.0",
         "orientation": "v",
         "showlegend": true,
         "type": "histogram",
         "x": [
          "Asus",
          "Asus"
         ],
         "xaxis": "x",
         "yaxis": "y"
        },
        {
         "alignmentgroup": "True",
         "bingroup": "x",
         "hovertemplate": "ram=107.0<br>company=%{x}<br>count=%{y}<extra></extra>",
         "legendgroup": "107.0",
         "marker": {
          "color": "rgb(237, 100, 90)",
          "pattern": {
           "shape": ""
          }
         },
         "name": "107.0",
         "offsetgroup": "107.0",
         "orientation": "v",
         "showlegend": true,
         "type": "histogram",
         "x": [
          "Nokia",
          "Nokia",
          "Nokia"
         ],
         "xaxis": "x",
         "yaxis": "y"
        },
        {
         "alignmentgroup": "True",
         "bingroup": "x",
         "hovertemplate": "ram=1.0<br>company=%{x}<br>count=%{y}<extra></extra>",
         "legendgroup": "1.0",
         "marker": {
          "color": "rgb(165, 170, 153)",
          "pattern": {
           "shape": ""
          }
         },
         "name": "1.0",
         "offsetgroup": "1.0",
         "orientation": "v",
         "showlegend": true,
         "type": "histogram",
         "x": [
          "itel",
          "Vivo",
          "Lyf",
          "Samsung",
          "Tecno",
          "itel",
          "itel",
          "Samsung",
          "Itel"
         ],
         "xaxis": "x",
         "yaxis": "y"
        },
        {
         "alignmentgroup": "True",
         "bingroup": "x",
         "hovertemplate": "ram=64.0<br>company=%{x}<br>count=%{y}<extra></extra>",
         "legendgroup": "64.0",
         "marker": {
          "color": "rgb(229, 134, 6)",
          "pattern": {
           "shape": ""
          }
         },
         "name": "64.0",
         "offsetgroup": "64.0",
         "orientation": "v",
         "showlegend": true,
         "type": "histogram",
         "x": [
          "Apple",
          "Itel",
          "Nokia",
          "Apple",
          "Nokia"
         ],
         "xaxis": "x",
         "yaxis": "y"
        },
        {
         "alignmentgroup": "True",
         "bingroup": "x",
         "hovertemplate": "ram=128.0<br>company=%{x}<br>count=%{y}<extra></extra>",
         "legendgroup": "128.0",
         "marker": {
          "color": "rgb(93, 105, 177)",
          "pattern": {
           "shape": ""
          }
         },
         "name": "128.0",
         "offsetgroup": "128.0",
         "orientation": "v",
         "showlegend": true,
         "type": "histogram",
         "x": [
          "Nokia"
         ],
         "xaxis": "x",
         "yaxis": "y"
        },
        {
         "alignmentgroup": "True",
         "bingroup": "x",
         "hovertemplate": "ram=208.0<br>company=%{x}<br>count=%{y}<extra></extra>",
         "legendgroup": "208.0",
         "marker": {
          "color": "rgb(82, 188, 163)",
          "pattern": {
           "shape": ""
          }
         },
         "name": "208.0",
         "offsetgroup": "208.0",
         "orientation": "v",
         "showlegend": true,
         "type": "histogram",
         "x": [
          "Samsung"
         ],
         "xaxis": "x",
         "yaxis": "y"
        },
        {
         "alignmentgroup": "True",
         "bingroup": "x",
         "hovertemplate": "ram=117.0<br>company=%{x}<br>count=%{y}<extra></extra>",
         "legendgroup": "117.0",
         "marker": {
          "color": "rgb(153, 201, 69)",
          "pattern": {
           "shape": ""
          }
         },
         "name": "117.0",
         "offsetgroup": "117.0",
         "orientation": "v",
         "showlegend": true,
         "type": "histogram",
         "x": [
          "itel",
          "itel"
         ],
         "xaxis": "x",
         "yaxis": "y"
        },
        {
         "alignmentgroup": "True",
         "bingroup": "x",
         "hovertemplate": "ram=1325.0<br>company=%{x}<br>count=%{y}<extra></extra>",
         "legendgroup": "1325.0",
         "marker": {
          "color": "rgb(204, 97, 176)",
          "pattern": {
           "shape": ""
          }
         },
         "name": "1325.0",
         "offsetgroup": "1325.0",
         "orientation": "v",
         "showlegend": true,
         "type": "histogram",
         "x": [
          "Namotel"
         ],
         "xaxis": "x",
         "yaxis": "y"
        },
        {
         "alignmentgroup": "True",
         "bingroup": "x",
         "hovertemplate": "ram=500.0<br>company=%{x}<br>count=%{y}<extra></extra>",
         "legendgroup": "500.0",
         "marker": {
          "color": "rgb(36, 121, 108)",
          "pattern": {
           "shape": ""
          }
         },
         "name": "500.0",
         "offsetgroup": "500.0",
         "orientation": "v",
         "showlegend": true,
         "type": "histogram",
         "x": [
          "Eunity"
         ],
         "xaxis": "x",
         "yaxis": "y"
        },
        {
         "alignmentgroup": "True",
         "bingroup": "x",
         "hovertemplate": "ram=800.0<br>company=%{x}<br>count=%{y}<extra></extra>",
         "legendgroup": "800.0",
         "marker": {
          "color": "rgb(218, 165, 27)",
          "pattern": {
           "shape": ""
          }
         },
         "name": "800.0",
         "offsetgroup": "800.0",
         "orientation": "v",
         "showlegend": true,
         "type": "histogram",
         "x": [
          "Nokia",
          "Samsung"
         ],
         "xaxis": "x",
         "yaxis": "y"
        },
        {
         "alignmentgroup": "True",
         "bingroup": "x",
         "hovertemplate": "ram=1750.0<br>company=%{x}<br>count=%{y}<extra></extra>",
         "legendgroup": "1750.0",
         "marker": {
          "color": "rgb(47, 138, 196)",
          "pattern": {
           "shape": ""
          }
         },
         "name": "1750.0",
         "offsetgroup": "1750.0",
         "orientation": "v",
         "showlegend": true,
         "type": "histogram",
         "x": [
          "Motorola"
         ],
         "xaxis": "x",
         "yaxis": "y"
        },
        {
         "alignmentgroup": "True",
         "bingroup": "x",
         "hovertemplate": "ram=200.0<br>company=%{x}<br>count=%{y}<extra></extra>",
         "legendgroup": "200.0",
         "marker": {
          "color": "rgb(118, 78, 159)",
          "pattern": {
           "shape": ""
          }
         },
         "name": "200.0",
         "offsetgroup": "200.0",
         "orientation": "v",
         "showlegend": true,
         "type": "histogram",
         "x": [
          "Zanco"
         ],
         "xaxis": "x",
         "yaxis": "y"
        },
        {
         "alignmentgroup": "True",
         "bingroup": "x",
         "hovertemplate": "ram=1200.0<br>company=%{x}<br>count=%{y}<extra></extra>",
         "legendgroup": "1200.0",
         "marker": {
          "color": "rgb(237, 100, 90)",
          "pattern": {
           "shape": ""
          }
         },
         "name": "1200.0",
         "offsetgroup": "1200.0",
         "orientation": "v",
         "showlegend": true,
         "type": "histogram",
         "x": [
          "itel",
          "Nokia",
          "Nokia"
         ],
         "xaxis": "x",
         "yaxis": "y"
        },
        {
         "alignmentgroup": "True",
         "bingroup": "x",
         "hovertemplate": "ram=1000.0<br>company=%{x}<br>count=%{y}<extra></extra>",
         "legendgroup": "1000.0",
         "marker": {
          "color": "rgb(165, 170, 153)",
          "pattern": {
           "shape": ""
          }
         },
         "name": "1000.0",
         "offsetgroup": "1000.0",
         "orientation": "v",
         "showlegend": true,
         "type": "histogram",
         "x": [
          "Karbonn"
         ],
         "xaxis": "x",
         "yaxis": "y"
        },
        {
         "alignmentgroup": "True",
         "bingroup": "x",
         "hovertemplate": "ram=32.0<br>company=%{x}<br>count=%{y}<extra></extra>",
         "legendgroup": "32.0",
         "marker": {
          "color": "rgb(229, 134, 6)",
          "pattern": {
           "shape": ""
          }
         },
         "name": "32.0",
         "offsetgroup": "32.0",
         "orientation": "v",
         "showlegend": true,
         "type": "histogram",
         "x": [
          "Eunity",
          "DIZO"
         ],
         "xaxis": "x",
         "yaxis": "y"
        },
        {
         "alignmentgroup": "True",
         "bingroup": "x",
         "hovertemplate": "ram=1470.0<br>company=%{x}<br>count=%{y}<extra></extra>",
         "legendgroup": "1470.0",
         "marker": {
          "color": "rgb(93, 105, 177)",
          "pattern": {
           "shape": ""
          }
         },
         "name": "1470.0",
         "offsetgroup": "1470.0",
         "orientation": "v",
         "showlegend": true,
         "type": "histogram",
         "x": [
          "LG"
         ],
         "xaxis": "x",
         "yaxis": "y"
        },
        {
         "alignmentgroup": "True",
         "bingroup": "x",
         "hovertemplate": "ram=48.0<br>company=%{x}<br>count=%{y}<extra></extra>",
         "legendgroup": "48.0",
         "marker": {
          "color": "rgb(82, 188, 163)",
          "pattern": {
           "shape": ""
          }
         },
         "name": "48.0",
         "offsetgroup": "48.0",
         "orientation": "v",
         "showlegend": true,
         "type": "histogram",
         "x": [
          "BlackZone"
         ],
         "xaxis": "x",
         "yaxis": "y"
        },
        {
         "alignmentgroup": "True",
         "bingroup": "x",
         "hovertemplate": "ram=1800.0<br>company=%{x}<br>count=%{y}<extra></extra>",
         "legendgroup": "1800.0",
         "marker": {
          "color": "rgb(153, 201, 69)",
          "pattern": {
           "shape": ""
          }
         },
         "name": "1800.0",
         "offsetgroup": "1800.0",
         "orientation": "v",
         "showlegend": true,
         "type": "histogram",
         "x": [
          "iKall"
         ],
         "xaxis": "x",
         "yaxis": "y"
        }
       ],
       "layout": {
        "barmode": "relative",
        "height": 500,
        "legend": {
         "title": {
          "text": "ram"
         },
         "tracegroupgap": 0
        },
        "template": {
         "data": {
          "bar": [
           {
            "error_x": {
             "color": "#f2f5fa"
            },
            "error_y": {
             "color": "#f2f5fa"
            },
            "marker": {
             "line": {
              "color": "rgb(17,17,17)",
              "width": 0.5
             },
             "pattern": {
              "fillmode": "overlay",
              "size": 10,
              "solidity": 0.2
             }
            },
            "type": "bar"
           }
          ],
          "barpolar": [
           {
            "marker": {
             "line": {
              "color": "rgb(17,17,17)",
              "width": 0.5
             },
             "pattern": {
              "fillmode": "overlay",
              "size": 10,
              "solidity": 0.2
             }
            },
            "type": "barpolar"
           }
          ],
          "carpet": [
           {
            "aaxis": {
             "endlinecolor": "#A2B1C6",
             "gridcolor": "#506784",
             "linecolor": "#506784",
             "minorgridcolor": "#506784",
             "startlinecolor": "#A2B1C6"
            },
            "baxis": {
             "endlinecolor": "#A2B1C6",
             "gridcolor": "#506784",
             "linecolor": "#506784",
             "minorgridcolor": "#506784",
             "startlinecolor": "#A2B1C6"
            },
            "type": "carpet"
           }
          ],
          "choropleth": [
           {
            "colorbar": {
             "outlinewidth": 0,
             "ticks": ""
            },
            "type": "choropleth"
           }
          ],
          "contour": [
           {
            "colorbar": {
             "outlinewidth": 0,
             "ticks": ""
            },
            "colorscale": [
             [
              0,
              "#0d0887"
             ],
             [
              0.1111111111111111,
              "#46039f"
             ],
             [
              0.2222222222222222,
              "#7201a8"
             ],
             [
              0.3333333333333333,
              "#9c179e"
             ],
             [
              0.4444444444444444,
              "#bd3786"
             ],
             [
              0.5555555555555556,
              "#d8576b"
             ],
             [
              0.6666666666666666,
              "#ed7953"
             ],
             [
              0.7777777777777778,
              "#fb9f3a"
             ],
             [
              0.8888888888888888,
              "#fdca26"
             ],
             [
              1,
              "#f0f921"
             ]
            ],
            "type": "contour"
           }
          ],
          "contourcarpet": [
           {
            "colorbar": {
             "outlinewidth": 0,
             "ticks": ""
            },
            "type": "contourcarpet"
           }
          ],
          "heatmap": [
           {
            "colorbar": {
             "outlinewidth": 0,
             "ticks": ""
            },
            "colorscale": [
             [
              0,
              "#0d0887"
             ],
             [
              0.1111111111111111,
              "#46039f"
             ],
             [
              0.2222222222222222,
              "#7201a8"
             ],
             [
              0.3333333333333333,
              "#9c179e"
             ],
             [
              0.4444444444444444,
              "#bd3786"
             ],
             [
              0.5555555555555556,
              "#d8576b"
             ],
             [
              0.6666666666666666,
              "#ed7953"
             ],
             [
              0.7777777777777778,
              "#fb9f3a"
             ],
             [
              0.8888888888888888,
              "#fdca26"
             ],
             [
              1,
              "#f0f921"
             ]
            ],
            "type": "heatmap"
           }
          ],
          "heatmapgl": [
           {
            "colorbar": {
             "outlinewidth": 0,
             "ticks": ""
            },
            "colorscale": [
             [
              0,
              "#0d0887"
             ],
             [
              0.1111111111111111,
              "#46039f"
             ],
             [
              0.2222222222222222,
              "#7201a8"
             ],
             [
              0.3333333333333333,
              "#9c179e"
             ],
             [
              0.4444444444444444,
              "#bd3786"
             ],
             [
              0.5555555555555556,
              "#d8576b"
             ],
             [
              0.6666666666666666,
              "#ed7953"
             ],
             [
              0.7777777777777778,
              "#fb9f3a"
             ],
             [
              0.8888888888888888,
              "#fdca26"
             ],
             [
              1,
              "#f0f921"
             ]
            ],
            "type": "heatmapgl"
           }
          ],
          "histogram": [
           {
            "marker": {
             "pattern": {
              "fillmode": "overlay",
              "size": 10,
              "solidity": 0.2
             }
            },
            "type": "histogram"
           }
          ],
          "histogram2d": [
           {
            "colorbar": {
             "outlinewidth": 0,
             "ticks": ""
            },
            "colorscale": [
             [
              0,
              "#0d0887"
             ],
             [
              0.1111111111111111,
              "#46039f"
             ],
             [
              0.2222222222222222,
              "#7201a8"
             ],
             [
              0.3333333333333333,
              "#9c179e"
             ],
             [
              0.4444444444444444,
              "#bd3786"
             ],
             [
              0.5555555555555556,
              "#d8576b"
             ],
             [
              0.6666666666666666,
              "#ed7953"
             ],
             [
              0.7777777777777778,
              "#fb9f3a"
             ],
             [
              0.8888888888888888,
              "#fdca26"
             ],
             [
              1,
              "#f0f921"
             ]
            ],
            "type": "histogram2d"
           }
          ],
          "histogram2dcontour": [
           {
            "colorbar": {
             "outlinewidth": 0,
             "ticks": ""
            },
            "colorscale": [
             [
              0,
              "#0d0887"
             ],
             [
              0.1111111111111111,
              "#46039f"
             ],
             [
              0.2222222222222222,
              "#7201a8"
             ],
             [
              0.3333333333333333,
              "#9c179e"
             ],
             [
              0.4444444444444444,
              "#bd3786"
             ],
             [
              0.5555555555555556,
              "#d8576b"
             ],
             [
              0.6666666666666666,
              "#ed7953"
             ],
             [
              0.7777777777777778,
              "#fb9f3a"
             ],
             [
              0.8888888888888888,
              "#fdca26"
             ],
             [
              1,
              "#f0f921"
             ]
            ],
            "type": "histogram2dcontour"
           }
          ],
          "mesh3d": [
           {
            "colorbar": {
             "outlinewidth": 0,
             "ticks": ""
            },
            "type": "mesh3d"
           }
          ],
          "parcoords": [
           {
            "line": {
             "colorbar": {
              "outlinewidth": 0,
              "ticks": ""
             }
            },
            "type": "parcoords"
           }
          ],
          "pie": [
           {
            "automargin": true,
            "type": "pie"
           }
          ],
          "scatter": [
           {
            "marker": {
             "line": {
              "color": "#283442"
             }
            },
            "type": "scatter"
           }
          ],
          "scatter3d": [
           {
            "line": {
             "colorbar": {
              "outlinewidth": 0,
              "ticks": ""
             }
            },
            "marker": {
             "colorbar": {
              "outlinewidth": 0,
              "ticks": ""
             }
            },
            "type": "scatter3d"
           }
          ],
          "scattercarpet": [
           {
            "marker": {
             "colorbar": {
              "outlinewidth": 0,
              "ticks": ""
             }
            },
            "type": "scattercarpet"
           }
          ],
          "scattergeo": [
           {
            "marker": {
             "colorbar": {
              "outlinewidth": 0,
              "ticks": ""
             }
            },
            "type": "scattergeo"
           }
          ],
          "scattergl": [
           {
            "marker": {
             "line": {
              "color": "#283442"
             }
            },
            "type": "scattergl"
           }
          ],
          "scattermapbox": [
           {
            "marker": {
             "colorbar": {
              "outlinewidth": 0,
              "ticks": ""
             }
            },
            "type": "scattermapbox"
           }
          ],
          "scatterpolar": [
           {
            "marker": {
             "colorbar": {
              "outlinewidth": 0,
              "ticks": ""
             }
            },
            "type": "scatterpolar"
           }
          ],
          "scatterpolargl": [
           {
            "marker": {
             "colorbar": {
              "outlinewidth": 0,
              "ticks": ""
             }
            },
            "type": "scatterpolargl"
           }
          ],
          "scatterternary": [
           {
            "marker": {
             "colorbar": {
              "outlinewidth": 0,
              "ticks": ""
             }
            },
            "type": "scatterternary"
           }
          ],
          "surface": [
           {
            "colorbar": {
             "outlinewidth": 0,
             "ticks": ""
            },
            "colorscale": [
             [
              0,
              "#0d0887"
             ],
             [
              0.1111111111111111,
              "#46039f"
             ],
             [
              0.2222222222222222,
              "#7201a8"
             ],
             [
              0.3333333333333333,
              "#9c179e"
             ],
             [
              0.4444444444444444,
              "#bd3786"
             ],
             [
              0.5555555555555556,
              "#d8576b"
             ],
             [
              0.6666666666666666,
              "#ed7953"
             ],
             [
              0.7777777777777778,
              "#fb9f3a"
             ],
             [
              0.8888888888888888,
              "#fdca26"
             ],
             [
              1,
              "#f0f921"
             ]
            ],
            "type": "surface"
           }
          ],
          "table": [
           {
            "cells": {
             "fill": {
              "color": "#506784"
             },
             "line": {
              "color": "rgb(17,17,17)"
             }
            },
            "header": {
             "fill": {
              "color": "#2a3f5f"
             },
             "line": {
              "color": "rgb(17,17,17)"
             }
            },
            "type": "table"
           }
          ]
         },
         "layout": {
          "annotationdefaults": {
           "arrowcolor": "#f2f5fa",
           "arrowhead": 0,
           "arrowwidth": 1
          },
          "autotypenumbers": "strict",
          "coloraxis": {
           "colorbar": {
            "outlinewidth": 0,
            "ticks": ""
           }
          },
          "colorscale": {
           "diverging": [
            [
             0,
             "#8e0152"
            ],
            [
             0.1,
             "#c51b7d"
            ],
            [
             0.2,
             "#de77ae"
            ],
            [
             0.3,
             "#f1b6da"
            ],
            [
             0.4,
             "#fde0ef"
            ],
            [
             0.5,
             "#f7f7f7"
            ],
            [
             0.6,
             "#e6f5d0"
            ],
            [
             0.7,
             "#b8e186"
            ],
            [
             0.8,
             "#7fbc41"
            ],
            [
             0.9,
             "#4d9221"
            ],
            [
             1,
             "#276419"
            ]
           ],
           "sequential": [
            [
             0,
             "#0d0887"
            ],
            [
             0.1111111111111111,
             "#46039f"
            ],
            [
             0.2222222222222222,
             "#7201a8"
            ],
            [
             0.3333333333333333,
             "#9c179e"
            ],
            [
             0.4444444444444444,
             "#bd3786"
            ],
            [
             0.5555555555555556,
             "#d8576b"
            ],
            [
             0.6666666666666666,
             "#ed7953"
            ],
            [
             0.7777777777777778,
             "#fb9f3a"
            ],
            [
             0.8888888888888888,
             "#fdca26"
            ],
            [
             1,
             "#f0f921"
            ]
           ],
           "sequentialminus": [
            [
             0,
             "#0d0887"
            ],
            [
             0.1111111111111111,
             "#46039f"
            ],
            [
             0.2222222222222222,
             "#7201a8"
            ],
            [
             0.3333333333333333,
             "#9c179e"
            ],
            [
             0.4444444444444444,
             "#bd3786"
            ],
            [
             0.5555555555555556,
             "#d8576b"
            ],
            [
             0.6666666666666666,
             "#ed7953"
            ],
            [
             0.7777777777777778,
             "#fb9f3a"
            ],
            [
             0.8888888888888888,
             "#fdca26"
            ],
            [
             1,
             "#f0f921"
            ]
           ]
          },
          "colorway": [
           "#636efa",
           "#EF553B",
           "#00cc96",
           "#ab63fa",
           "#FFA15A",
           "#19d3f3",
           "#FF6692",
           "#B6E880",
           "#FF97FF",
           "#FECB52"
          ],
          "font": {
           "color": "#f2f5fa"
          },
          "geo": {
           "bgcolor": "rgb(17,17,17)",
           "lakecolor": "rgb(17,17,17)",
           "landcolor": "rgb(17,17,17)",
           "showlakes": true,
           "showland": true,
           "subunitcolor": "#506784"
          },
          "hoverlabel": {
           "align": "left"
          },
          "hovermode": "closest",
          "mapbox": {
           "style": "dark"
          },
          "paper_bgcolor": "rgb(17,17,17)",
          "plot_bgcolor": "rgb(17,17,17)",
          "polar": {
           "angularaxis": {
            "gridcolor": "#506784",
            "linecolor": "#506784",
            "ticks": ""
           },
           "bgcolor": "rgb(17,17,17)",
           "radialaxis": {
            "gridcolor": "#506784",
            "linecolor": "#506784",
            "ticks": ""
           }
          },
          "scene": {
           "xaxis": {
            "backgroundcolor": "rgb(17,17,17)",
            "gridcolor": "#506784",
            "gridwidth": 2,
            "linecolor": "#506784",
            "showbackground": true,
            "ticks": "",
            "zerolinecolor": "#C8D4E3"
           },
           "yaxis": {
            "backgroundcolor": "rgb(17,17,17)",
            "gridcolor": "#506784",
            "gridwidth": 2,
            "linecolor": "#506784",
            "showbackground": true,
            "ticks": "",
            "zerolinecolor": "#C8D4E3"
           },
           "zaxis": {
            "backgroundcolor": "rgb(17,17,17)",
            "gridcolor": "#506784",
            "gridwidth": 2,
            "linecolor": "#506784",
            "showbackground": true,
            "ticks": "",
            "zerolinecolor": "#C8D4E3"
           }
          },
          "shapedefaults": {
           "line": {
            "color": "#f2f5fa"
           }
          },
          "sliderdefaults": {
           "bgcolor": "#C8D4E3",
           "bordercolor": "rgb(17,17,17)",
           "borderwidth": 1,
           "tickwidth": 0
          },
          "ternary": {
           "aaxis": {
            "gridcolor": "#506784",
            "linecolor": "#506784",
            "ticks": ""
           },
           "baxis": {
            "gridcolor": "#506784",
            "linecolor": "#506784",
            "ticks": ""
           },
           "bgcolor": "rgb(17,17,17)",
           "caxis": {
            "gridcolor": "#506784",
            "linecolor": "#506784",
            "ticks": ""
           }
          },
          "title": {
           "x": 0.05
          },
          "updatemenudefaults": {
           "bgcolor": "#506784",
           "borderwidth": 0
          },
          "xaxis": {
           "automargin": true,
           "gridcolor": "#283442",
           "linecolor": "#506784",
           "ticks": "",
           "title": {
            "standoff": 15
           },
           "zerolinecolor": "#283442",
           "zerolinewidth": 2
          },
          "yaxis": {
           "automargin": true,
           "gridcolor": "#283442",
           "linecolor": "#506784",
           "ticks": "",
           "title": {
            "standoff": 15
           },
           "zerolinecolor": "#283442",
           "zerolinewidth": 2
          }
         }
        },
        "title": {
         "font": {
          "size": 20
         },
         "text": "<b>Count of Ram for every mobile company"
        },
        "width": 1500,
        "xaxis": {
         "anchor": "y",
         "domain": [
          0,
          1
         ],
         "title": {
          "text": "company"
         }
        },
        "yaxis": {
         "anchor": "x",
         "domain": [
          0,
          1
         ],
         "title": {
          "text": "count"
         }
        }
       }
      }
     },
     "metadata": {},
     "output_type": "display_data"
    }
   ],
   "source": [
    "fig=px.histogram(df,x=\"company\",color=\"ram\",title=\"<b>Count of Ram for every mobile company\",\n",
    "                color_discrete_sequence=px.colors.qualitative.Vivid,\n",
    "                width=1500, height=500)\n",
    "fig.update_layout(template=\"plotly_dark\")\n",
    "fig.update_layout(title_font_size=20)\n",
    "fig.show()"
   ]
  },
  {
   "cell_type": "code",
   "execution_count": 17,
   "id": "81ca53af",
   "metadata": {
    "execution": {
     "iopub.execute_input": "2023-04-13T22:17:11.532111Z",
     "iopub.status.busy": "2023-04-13T22:17:11.531594Z",
     "iopub.status.idle": "2023-04-13T22:17:11.676552Z",
     "shell.execute_reply": "2023-04-13T22:17:11.674909Z"
    },
    "papermill": {
     "duration": 0.163232,
     "end_time": "2023-04-13T22:17:11.679606",
     "exception": false,
     "start_time": "2023-04-13T22:17:11.516374",
     "status": "completed"
    },
    "tags": []
   },
   "outputs": [
    {
     "data": {
      "application/vnd.plotly.v1+json": {
       "config": {
        "plotlyServerURL": "https://plot.ly"
       },
       "data": [
        {
         "alignmentgroup": "True",
         "bingroup": "x",
         "hovertemplate": "rom=256.0<br>company=%{x}<br>count=%{y}<extra></extra>",
         "legendgroup": "256.0",
         "marker": {
          "color": "rgb(229, 134, 6)",
          "pattern": {
           "shape": ""
          }
         },
         "name": "256.0",
         "offsetgroup": "256.0",
         "orientation": "v",
         "showlegend": true,
         "type": "histogram",
         "x": [
          "OnePlus",
          "Xiaomi",
          "Samsung",
          "OPPO",
          "Vivo",
          "Vivo",
          "Oppo",
          "Samsung",
          "OPPO",
          "Realme",
          "Samsung",
          "Vivo",
          "Xiaomi",
          "Oppo",
          "Vivo",
          "Vivo",
          "iQOO",
          "Vivo",
          "Vivo",
          "OnePlus",
          "Tecno",
          "OnePlus",
          "OnePlus",
          "Nothing",
          "Xiaomi",
          "OPPO",
          "Apple",
          "Infinix",
          "Oppo",
          "Oppo",
          "Vivo",
          "Infinix",
          "Nokia",
          "OPPO",
          "Xiaomi",
          "Nothing",
          "Xiaomi",
          "Apple",
          "Vivo",
          "Honor",
          "OPPO",
          "OnePlus",
          "iQOO",
          "Xiaomi",
          "OPPO",
          "Xiaomi",
          "Apple",
          "Motorola",
          "Tecno",
          "Samsung",
          "OPPO",
          "Xiaomi",
          "Infinix",
          "Motorola",
          "Xiaomi",
          "OnePlus",
          "OPPO",
          "iQOO",
          "Samsung",
          "Apple",
          "Samsung",
          "Samsung",
          "Apple",
          "Oppo",
          "Vivo",
          "Poco",
          "Samsung",
          "OnePlus",
          "Samsung",
          "OPPO",
          "Oukitel",
          "Samsung",
          "Vivo",
          "OPPO",
          "Asus",
          "Realme",
          "Apple",
          "Xiaomi",
          "Vivo",
          "Asus",
          "Tecno",
          "iQOO",
          "OPPO",
          "Vivo",
          "Tecno",
          "Huawei",
          "Nubia",
          "iQOO",
          "Honor",
          "OnePlus",
          "Xiaomi",
          "Oppo",
          "Realme",
          "Apple",
          "Google",
          "Xiaomi",
          "Samsung",
          "Lenovo",
          "iQOO",
          "Nubia",
          "Samsung",
          "Oppo",
          "OPPO",
          "iQOO",
          "iQOO",
          "Oukitel",
          "Vivo",
          "Sony",
          "Motorola",
          "Samsung",
          "Xiaomi",
          "Asus",
          "Vivo",
          "Samsung",
          "iQOO",
          "OPPO",
          "Sony",
          "Oppo",
          "Apple",
          "OPPO",
          "Samsung",
          "Vivo",
          "Huawei",
          "Vivo",
          "Huawei",
          "Oppo",
          "Vivo",
          "Vivo",
          "Honor",
          "Realme",
          "Samsung",
          "Oppo",
          "Xiaomi",
          "Xiaomi",
          "Huawei",
          "Leitz",
          "Realme",
          "Vivo",
          "Apple",
          "Samsung",
          "Doogee",
          "Vivo",
          "iQOO",
          "Oppo",
          "Tecno",
          "Apple",
          "Apple",
          "Xiaomi",
          "OnePlus",
          "Xiaomi",
          "Sharp",
          "Xiaomi",
          "Xiaomi",
          "Oppo",
          "Google",
          "Vivo",
          "POCO"
         ],
         "xaxis": "x",
         "yaxis": "y"
        },
        {
         "alignmentgroup": "True",
         "bingroup": "x",
         "hovertemplate": "rom=128.0<br>company=%{x}<br>count=%{y}<extra></extra>",
         "legendgroup": "128.0",
         "marker": {
          "color": "rgb(93, 105, 177)",
          "pattern": {
           "shape": ""
          }
         },
         "name": "128.0",
         "offsetgroup": "128.0",
         "orientation": "v",
         "showlegend": true,
         "type": "histogram",
         "x": [
          "OnePlus",
          "Motorola",
          "Realme",
          "Samsung",
          "Apple",
          "Nothing",
          "OnePlus",
          "Realme",
          "Oppo",
          "Xiaomi",
          "Vivo",
          "Apple",
          "OnePlus",
          "OnePlus",
          "Vivo",
          "Xiaomi",
          "Samsung",
          "OnePlus",
          "Apple",
          "Vivo",
          "OnePlus",
          "Realme",
          "Poco",
          "Samsung",
          "Samsung",
          "Xiaomi",
          "OnePlus",
          "Xiaomi",
          "Motorola",
          "Vivo",
          "Samsung",
          "Samsung",
          "Samsung",
          "iQOO",
          "Motorola",
          "Apple",
          "Xiaomi",
          "Vivo",
          "Samsung",
          "Vivo",
          "Poco",
          "OnePlus",
          "Samsung",
          "OnePlus",
          "Xiaomi",
          "Apple",
          "OPPO",
          "Samsung",
          "Motorola",
          "Samsung",
          "Vivo",
          "Samsung",
          "Motorola",
          "Samsung",
          "OPPO",
          "Xiaomi",
          "Samsung",
          "OnePlus",
          "Motorola",
          "Vivo",
          "Apple",
          "Xiaomi",
          "Motorola",
          "Realme",
          "OPPO",
          "Xiaomi",
          "Samsung",
          "Vivo",
          "Xiaomi",
          "Samsung",
          "OPPO",
          "Samsung",
          "iQOO",
          "Samsung",
          "Motorola",
          "Google",
          "Infinix",
          "Samsung",
          "Vivo",
          "Samsung",
          "Google",
          "Poco",
          "Apple",
          "Realme",
          "OPPO",
          "iQOO",
          "iQOO",
          "iQOO",
          "Samsung",
          "Xiaomi",
          "Oppo",
          "OPPO",
          "Realme",
          "Realme",
          "Apple",
          "Vivo",
          "Xiaomi",
          "Realme",
          "iQOO",
          "Xiaomi",
          "Realme",
          "OPPO",
          "iQOO",
          "Vivo",
          "Motorola",
          "Samsung",
          "Realme",
          "OnePlus",
          "Motorola",
          "LeEco",
          "Samsung",
          "Motorola",
          "OnePlus",
          "Poco",
          "OPPO",
          "Motorola",
          "Motorola",
          "Samsung",
          "Tecno",
          "Realme",
          "Realme",
          "Lava",
          "Google",
          "Vivo",
          "Xiaomi",
          "Realme",
          "Realme",
          "Motorola",
          "Realme",
          "Realme",
          "Xiaomi",
          "OPPO",
          "Vivo",
          "Vivo",
          "Samsung",
          "Vivo",
          "Google",
          "Xiaomi",
          "OPPO",
          "Nubia",
          "Infinix",
          "iQOO",
          "OPPO",
          "Samsung",
          "Samsung",
          "Motorola",
          "Poco",
          "Tecno",
          "OnePlus",
          "Redmi",
          "Nothing",
          "Samsung",
          "Google",
          "Xiaomi",
          "Xiaomi",
          "Apple",
          "Tecno",
          "Vivo",
          "Apple",
          "iQOO",
          "Samsung",
          "Xiaomi",
          "Xiaomi",
          "Infinix",
          "Samsung",
          "Poco",
          "Xiaomi",
          "Samsung",
          "OPPO",
          "Xiaomi",
          "Xiaomi",
          "Xiaomi",
          "Samsung",
          "Apple",
          "Samsung",
          "OnePlus",
          "Samsung",
          "Motorola",
          "Vivo",
          "POCO",
          "Honor",
          "Royole",
          "Samsung",
          "Tecno",
          "Google",
          "Xiaomi",
          "Vivo",
          "OPPO",
          "iQOO",
          "Realme",
          "Poco",
          "Motorola",
          "OnePlus",
          "Tecno",
          "POCO",
          "OnePlus",
          "Motorola",
          "Xiaomi",
          "Vivo",
          "Xiaomi",
          "Realme",
          "Xiaomi",
          "iQOO",
          "Apple",
          "OPPO",
          "Xiaomi",
          "Vivo",
          "Samsung",
          "Samsung",
          "Realme",
          "OPPO",
          "Realme",
          "Samsung",
          "Samsung",
          "iQOO",
          "Vivo",
          "Realme",
          "Realme",
          "Realme",
          "OPPO",
          "Realme",
          "Xiaomi",
          "Xiaomi",
          "Realme",
          "Apple",
          "Realme",
          "Xiaomi",
          "Oppo",
          "Realme",
          "Xiaomi",
          "OPPO",
          "Xiaomi",
          "Redmi",
          "Motorola",
          "Motorola",
          "OPPO",
          "Xiaomi",
          "Samsung",
          "Tecno",
          "Poco",
          "BLU",
          "Xiaomi",
          "Samsung",
          "Poco",
          "Samsung",
          "Motorola",
          "Xiaomi",
          "Apple",
          "Realme",
          "Vivo",
          "Vivo",
          "Samsung",
          "Asus",
          "Nubia",
          "Samsung",
          "Vivo",
          "OPPO",
          "Xiaomi",
          "Infinix",
          "Samsung",
          "Samsung",
          "iQOO",
          "Sony",
          "Vivo",
          "Vivo",
          "POCO",
          "Realme",
          "Vivo",
          "Honor",
          "Motorola",
          "Samsung",
          "OnePlus",
          "Google",
          "Realme",
          "Samsung",
          "Samsung",
          "Realme",
          "Google",
          "Vivo",
          "iQOO",
          "OPPO",
          "Motorola",
          "Realme",
          "Vivo",
          "Vivo",
          "Itel",
          "OnePlus",
          "Infinix",
          "Xiaomi",
          "ZTE",
          "OPPO",
          "Huawei",
          "Vivo",
          "Nokia",
          "Realme",
          "Realme",
          "Nokia",
          "Poco",
          "Xiaomi",
          "Realme",
          "Samsung",
          "Xiaomi",
          "OnePlus",
          "OPPO",
          "Poco",
          "POCO",
          "Asus",
          "Realme",
          "Samsung",
          "LG",
          "Samsung",
          "Oppo",
          "Nokia",
          "OPPO",
          "Motorola",
          "Oppo",
          "Nokia",
          "Samsung",
          "Realme",
          "Xiaomi",
          "iQOO",
          "Xiaomi",
          "Xiaomi",
          "Samsung",
          "Vivo",
          "Realme",
          "OnePlus",
          "Samsung",
          "Sony",
          "Samsung",
          "Poco",
          "Xiaomi",
          "Realme",
          "Vivo",
          "Xiaomi",
          "Lava",
          "Realme",
          "POCO",
          "Vivo",
          "Nokia",
          "Xiaomi",
          "Realme",
          "iQOO",
          "Tecno",
          "OnePlus",
          "Samsung",
          "POCO",
          "Vivo",
          "Samsung",
          "Vivo",
          "Huawei",
          "Realme",
          "Realme",
          "OPPO",
          "OnePlus",
          "Vivo",
          "OPPO",
          "OPPO",
          "Xiaomi",
          "Samsung",
          "Tecno",
          "Xiaomi",
          "Xiaomi",
          "Xiaomi",
          "Xiaomi",
          "LG",
          "Motorola",
          "LG",
          "Samsung",
          "Samsung",
          "Vivo",
          "Xiaomi",
          "Poco",
          "Infinix",
          "Honor",
          "Nubia",
          "Xiaomi",
          "Vivo",
          "OPPO",
          "OPPO",
          "OnePlus",
          "Gionee",
          "OPPO",
          "Motorola",
          "Samsung",
          "Vivo",
          "Vivo",
          "Motorola",
          "Xiaomi",
          "iQOO",
          "Apple",
          "Infinix",
          "Oppo",
          "Xiaomi",
          "Huawei",
          "Xiaomi",
          "Realme",
          "OPPO",
          "Motorola",
          "Vivo",
          "Xiaomi",
          "Samsung",
          "Oppo",
          "Xiaomi",
          "Xiaomi",
          "Tecno",
          "Google",
          "Vivo",
          "Motorola",
          "Honor",
          "Vivo",
          "Xiaomi",
          "Vivo",
          "Samsung",
          "OPPO",
          "Xiaomi",
          "Realme",
          "Oppo",
          "Samsung",
          "Samsung",
          "Vivo",
          "Vivo",
          "Samsung",
          "Realme",
          "Vivo",
          "Samsung",
          "Xiaomi",
          "Infinix",
          "Xiaomi",
          "Xiaomi",
          "Tecno",
          "Xiaomi",
          "Infinix",
          "Samsung",
          "Samsung",
          "Poco",
          "Infinix",
          "Vivo",
          "Xiaomi",
          "Xiaomi",
          "Vivo",
          "Vivo",
          "Xiaomi",
          "Realme",
          "Xiaomi",
          "Xiaomi",
          "Realme",
          "Xiaomi",
          "Samsung",
          "Realme",
          "Nokia",
          "Xiaomi",
          "Oppo",
          "Oppo",
          "Sony",
          "Huawei",
          "Vivo",
          "iQOO",
          "Poco",
          "Nokia",
          "Tecno",
          "Huawei",
          "Huawei",
          "Samsung",
          "Infinix",
          "OnePlus",
          "Realme",
          "OnePlus",
          "Royole",
          "Tecno",
          "Realme",
          "Poco",
          "OnePlus",
          "Realme",
          "Realme",
          "Samsung",
          "Oppo",
          "Xiaomi",
          "Realme",
          "Samsung",
          "Apple",
          "Vivo",
          "Tecno",
          "OPPO",
          "ZTE",
          "Xiaomi",
          "Nothing",
          "Motorola",
          "Realme",
          "Samsung",
          "Infinix",
          "POCO",
          "iQOO",
          "Vivo",
          "Oppo",
          "iQOO",
          "Infinix",
          "Xiaomi",
          "Samsung",
          "Nubia",
          "Nokia",
          "Oppo",
          "Poco",
          "Honor",
          "OPPO",
          "iQOO",
          "Samsung",
          "Realme",
          "Google",
          "Samsung",
          "Samsung",
          "Xiaomi",
          "Vivo",
          "OPPO",
          "OnePlus",
          "Samsung",
          "Honor",
          "OPPO",
          "Doogee",
          "Motorola",
          "Oukitel",
          "Motorola",
          "Motorola",
          "Honor",
          "Motorola",
          "Samsung"
         ],
         "xaxis": "x",
         "yaxis": "y"
        },
        {
         "alignmentgroup": "True",
         "bingroup": "x",
         "hovertemplate": "rom=64.0<br>company=%{x}<br>count=%{y}<extra></extra>",
         "legendgroup": "64.0",
         "marker": {
          "color": "rgb(82, 188, 163)",
          "pattern": {
           "shape": ""
          }
         },
         "name": "64.0",
         "offsetgroup": "64.0",
         "orientation": "v",
         "showlegend": true,
         "type": "histogram",
         "x": [
          "Samsung",
          "Vivo",
          "Poco",
          "Apple",
          "Xiaomi",
          "Vivo",
          "Realme",
          "Realme",
          "Xiaomi",
          "Motorola",
          "OPPO",
          "iQOO",
          "Xiaomi",
          "Realme",
          "Vivo",
          "Realme",
          "Realme",
          "OPPO",
          "Apple",
          "Motorola",
          "Xiaomi",
          "Xiaomi",
          "Motorola",
          "Poco",
          "Jio",
          "OnePlus",
          "Samsung",
          "Xiaomi",
          "Apple",
          "Motorola",
          "Cola",
          "Samsung",
          "Infinix",
          "Apple",
          "Xiaomi",
          "Realme",
          "POCO",
          "iKall",
          "Duoqin",
          "Realme",
          "Samsung",
          "Samsung",
          "Poco",
          "Tecno",
          "Xiaomi",
          "POCO",
          "Vivo",
          "Vivo",
          "OPPO",
          "Motorola",
          "Xiaomi",
          "Vivo",
          "Apple",
          "Infinix",
          "Infinix",
          "Realme",
          "Xiaomi",
          "Realme",
          "Motorola",
          "Samsung",
          "Infinix",
          "Infinix",
          "Xiaomi",
          "Xiaomi",
          "Samsung",
          "Motorola",
          "Xiaomi",
          "OPPO",
          "Tecno",
          "Poco",
          "Google",
          "Tecno",
          "Samsung",
          "Samsung",
          "Samsung",
          "Xiaomi",
          "OnePlus",
          "Nokia",
          "Xiaomi",
          "Vertu",
          "Motorola",
          "Infinix",
          "Redmi",
          "Sony",
          "Tecno",
          "Xiaomi",
          "Samsung",
          "Nokia",
          "Infinix",
          "Samsung",
          "Xiaomi",
          "Motorola",
          "Motorola",
          "Samsung",
          "Xiaomi",
          "POCO",
          "Samsung",
          "Samsung",
          "Xiaomi",
          "Poco",
          "OPPO",
          "Realme",
          "Xiaomi",
          "Samsung",
          "OPPO",
          "Xiaomi",
          "Tecno",
          "Realme",
          "Xiaomi",
          "Vivo",
          "Apple",
          "Xiaomi",
          "OPPO",
          "OPPO",
          "Samsung",
          "Realme",
          "Micromax",
          "Xiaomi",
          "Apple",
          "Letv",
          "Infinix",
          "Realme",
          "itel",
          "Tecno",
          "Infinix",
          "Realme",
          "Xiaomi",
          "Samsung",
          "Infinix",
          "Nokia",
          "Samsung",
          "Poco",
          "Vivo",
          "Realme",
          "Tecno",
          "Poco",
          "Vivo",
          "Realme",
          "Vivo",
          "Motorola",
          "Samsung",
          "Vivo",
          "Vivo",
          "OPPO",
          "Xiaomi",
          "POCO",
          "Realme",
          "Vivo",
          "Nokia",
          "OnePlus",
          "OPPO",
          "Samsung",
          "Realme",
          "Infinix",
          "Realme",
          "Vivo",
          "Xiaomi",
          "Xiaomi",
          "Motorola",
          "Google",
          "Samsung",
          "Huawei",
          "Xiaomi",
          "Huawei",
          "Vivo",
          "Xiaomi",
          "Tecno",
          "Sony",
          "Tecno",
          "Motorola",
          "OnePlus",
          "Samsung",
          "OnePlus",
          "Xiaomi",
          "Lava",
          "Motorola",
          "Infinix",
          "Tecno",
          "Honor",
          "Samsung",
          "Tecno",
          "Micromax",
          "Realme",
          "Samsung",
          "Realme",
          "Vivo",
          "Samsung",
          "Poco",
          "Blackview",
          "iKall",
          "Realme"
         ],
         "xaxis": "x",
         "yaxis": "y"
        },
        {
         "alignmentgroup": "True",
         "bingroup": "x",
         "hovertemplate": "rom=32.0<br>company=%{x}<br>count=%{y}<extra></extra>",
         "legendgroup": "32.0",
         "marker": {
          "color": "rgb(153, 201, 69)",
          "pattern": {
           "shape": ""
          }
         },
         "name": "32.0",
         "offsetgroup": "32.0",
         "orientation": "v",
         "showlegend": true,
         "type": "histogram",
         "x": [
          "Vivo",
          "Realme",
          "Jio",
          "Gionee",
          "Xiaomi",
          "Realme",
          "Letv",
          "Tecno",
          "Realme",
          "Samsung",
          "Vivo",
          "POCO",
          "Xiaomi",
          "Vivo",
          "Realme",
          "itel",
          "Samsung",
          "Jio",
          "Vivo",
          "Realme",
          "Vivo",
          "Letv",
          "Poco",
          "Samsung",
          "OPPO",
          "Xiaomi",
          "Infinix",
          "Realme",
          "Lyf",
          "Tecno",
          "Itel",
          "Realme",
          "Xiaomi",
          "Vivo",
          "Vivo",
          "Nokia",
          "Motorola",
          "Jio",
          "Apple",
          "Realme",
          "Vivo",
          "itel",
          "Poco",
          "iKall",
          "Vivo",
          "Tecno",
          "Xiaomi",
          "Micromax",
          "Samsung",
          "Vivo",
          "Realme",
          "Eunity",
          "Gionee",
          "DIZO",
          "Vivo",
          "Realme",
          "OPPO",
          "Oppo",
          "OPPO",
          "Lyf",
          "Xiaomi",
          "TCL",
          "Vivo",
          "Realme",
          "itel",
          "Realme",
          "Samsung",
          "Lava",
          "itel"
         ],
         "xaxis": "x",
         "yaxis": "y"
        },
        {
         "alignmentgroup": "True",
         "bingroup": "x",
         "hovertemplate": "rom=512.0<br>company=%{x}<br>count=%{y}<extra></extra>",
         "legendgroup": "512.0",
         "marker": {
          "color": "rgb(204, 97, 176)",
          "pattern": {
           "shape": ""
          }
         },
         "name": "512.0",
         "offsetgroup": "512.0",
         "orientation": "v",
         "showlegend": true,
         "type": "histogram",
         "x": [
          "Tesla",
          "Nokia",
          "Asus",
          "Samsung",
          "Sony",
          "Honor",
          "OnePlus",
          "Xiaomi",
          "Sony",
          "Apple",
          "Apple",
          "Honor",
          "Asus",
          "Huawei",
          "Apple",
          "Vivo",
          "Apple",
          "Apple",
          "Lenovo",
          "Vivo",
          "Huawei",
          "Huawei"
         ],
         "xaxis": "x",
         "yaxis": "y"
        },
        {
         "alignmentgroup": "True",
         "bingroup": "x",
         "hovertemplate": "rom=4.0<br>company=%{x}<br>count=%{y}<extra></extra>",
         "legendgroup": "4.0",
         "marker": {
          "color": "rgb(36, 121, 108)",
          "pattern": {
           "shape": ""
          }
         },
         "name": "4.0",
         "offsetgroup": "4.0",
         "orientation": "v",
         "showlegend": true,
         "type": "histogram",
         "x": [
          "Nokia",
          "Jio",
          "Nokia",
          "Nokia",
          "Nokia",
          "Nokia"
         ],
         "xaxis": "x",
         "yaxis": "y"
        },
        {
         "alignmentgroup": "True",
         "bingroup": "x",
         "hovertemplate": "rom=1.0<br>company=%{x}<br>count=%{y}<extra></extra>",
         "legendgroup": "1.0",
         "marker": {
          "color": "rgb(218, 165, 27)",
          "pattern": {
           "shape": ""
          }
         },
         "name": "1.0",
         "offsetgroup": "1.0",
         "orientation": "v",
         "showlegend": true,
         "type": "histogram",
         "x": [
          "Apple",
          "Apple",
          "Apple",
          "Samsung",
          "Apple"
         ],
         "xaxis": "x",
         "yaxis": "y"
        },
        {
         "alignmentgroup": "True",
         "bingroup": "x",
         "hovertemplate": "rom=16.0<br>company=%{x}<br>count=%{y}<extra></extra>",
         "legendgroup": "16.0",
         "marker": {
          "color": "rgb(118, 78, 159)",
          "pattern": {
           "shape": ""
          }
         },
         "name": "16.0",
         "offsetgroup": "16.0",
         "orientation": "v",
         "showlegend": true,
         "type": "histogram",
         "x": [
          "itel",
          "Vivo",
          "Vivo",
          "Xiaomi",
          "Tecno",
          "Nokia",
          "itel",
          "itel",
          "CAT",
          "Samsung",
          "Realme",
          "Eunity",
          "Realme",
          "Vivo"
         ],
         "xaxis": "x",
         "yaxis": "y"
        },
        {
         "alignmentgroup": "True",
         "bingroup": "x",
         "hovertemplate": "rom=48.0<br>company=%{x}<br>count=%{y}<extra></extra>",
         "legendgroup": "48.0",
         "marker": {
          "color": "rgb(237, 100, 90)",
          "pattern": {
           "shape": ""
          }
         },
         "name": "48.0",
         "offsetgroup": "48.0",
         "orientation": "v",
         "showlegend": true,
         "type": "histogram",
         "x": [
          "Nokia",
          "BlackZone"
         ],
         "xaxis": "x",
         "yaxis": "y"
        },
        {
         "alignmentgroup": "True",
         "bingroup": "x",
         "hovertemplate": "rom=8.0<br>company=%{x}<br>count=%{y}<extra></extra>",
         "legendgroup": "8.0",
         "marker": {
          "color": "rgb(165, 170, 153)",
          "pattern": {
           "shape": ""
          }
         },
         "name": "8.0",
         "offsetgroup": "8.0",
         "orientation": "v",
         "showlegend": true,
         "type": "histogram",
         "x": [
          "Lyf",
          "Itel"
         ],
         "xaxis": "x",
         "yaxis": "y"
        },
        {
         "alignmentgroup": "True",
         "bingroup": "x",
         "hovertemplate": "rom=6.0<br>company=%{x}<br>count=%{y}<extra></extra>",
         "legendgroup": "6.0",
         "marker": {
          "color": "rgb(229, 134, 6)",
          "pattern": {
           "shape": ""
          }
         },
         "name": "6.0",
         "offsetgroup": "6.0",
         "orientation": "v",
         "showlegend": true,
         "type": "histogram",
         "x": [
          "Nokia"
         ],
         "xaxis": "x",
         "yaxis": "y"
        },
        {
         "alignmentgroup": "True",
         "bingroup": "x",
         "hovertemplate": "rom=5.0<br>company=%{x}<br>count=%{y}<extra></extra>",
         "legendgroup": "5.0",
         "marker": {
          "color": "rgb(93, 105, 177)",
          "pattern": {
           "shape": ""
          }
         },
         "name": "5.0",
         "offsetgroup": "5.0",
         "orientation": "v",
         "showlegend": true,
         "type": "histogram",
         "x": [
          "Samsung"
         ],
         "xaxis": "x",
         "yaxis": "y"
        },
        {
         "alignmentgroup": "True",
         "bingroup": "x",
         "hovertemplate": "rom=640.0<br>company=%{x}<br>count=%{y}<extra></extra>",
         "legendgroup": "640.0",
         "marker": {
          "color": "rgb(82, 188, 163)",
          "pattern": {
           "shape": ""
          }
         },
         "name": "640.0",
         "offsetgroup": "640.0",
         "orientation": "v",
         "showlegend": true,
         "type": "histogram",
         "x": [
          "Apple"
         ],
         "xaxis": "x",
         "yaxis": "y"
        }
       ],
       "layout": {
        "barmode": "relative",
        "height": 500,
        "legend": {
         "title": {
          "text": "rom"
         },
         "tracegroupgap": 0
        },
        "template": {
         "data": {
          "bar": [
           {
            "error_x": {
             "color": "#f2f5fa"
            },
            "error_y": {
             "color": "#f2f5fa"
            },
            "marker": {
             "line": {
              "color": "rgb(17,17,17)",
              "width": 0.5
             },
             "pattern": {
              "fillmode": "overlay",
              "size": 10,
              "solidity": 0.2
             }
            },
            "type": "bar"
           }
          ],
          "barpolar": [
           {
            "marker": {
             "line": {
              "color": "rgb(17,17,17)",
              "width": 0.5
             },
             "pattern": {
              "fillmode": "overlay",
              "size": 10,
              "solidity": 0.2
             }
            },
            "type": "barpolar"
           }
          ],
          "carpet": [
           {
            "aaxis": {
             "endlinecolor": "#A2B1C6",
             "gridcolor": "#506784",
             "linecolor": "#506784",
             "minorgridcolor": "#506784",
             "startlinecolor": "#A2B1C6"
            },
            "baxis": {
             "endlinecolor": "#A2B1C6",
             "gridcolor": "#506784",
             "linecolor": "#506784",
             "minorgridcolor": "#506784",
             "startlinecolor": "#A2B1C6"
            },
            "type": "carpet"
           }
          ],
          "choropleth": [
           {
            "colorbar": {
             "outlinewidth": 0,
             "ticks": ""
            },
            "type": "choropleth"
           }
          ],
          "contour": [
           {
            "colorbar": {
             "outlinewidth": 0,
             "ticks": ""
            },
            "colorscale": [
             [
              0,
              "#0d0887"
             ],
             [
              0.1111111111111111,
              "#46039f"
             ],
             [
              0.2222222222222222,
              "#7201a8"
             ],
             [
              0.3333333333333333,
              "#9c179e"
             ],
             [
              0.4444444444444444,
              "#bd3786"
             ],
             [
              0.5555555555555556,
              "#d8576b"
             ],
             [
              0.6666666666666666,
              "#ed7953"
             ],
             [
              0.7777777777777778,
              "#fb9f3a"
             ],
             [
              0.8888888888888888,
              "#fdca26"
             ],
             [
              1,
              "#f0f921"
             ]
            ],
            "type": "contour"
           }
          ],
          "contourcarpet": [
           {
            "colorbar": {
             "outlinewidth": 0,
             "ticks": ""
            },
            "type": "contourcarpet"
           }
          ],
          "heatmap": [
           {
            "colorbar": {
             "outlinewidth": 0,
             "ticks": ""
            },
            "colorscale": [
             [
              0,
              "#0d0887"
             ],
             [
              0.1111111111111111,
              "#46039f"
             ],
             [
              0.2222222222222222,
              "#7201a8"
             ],
             [
              0.3333333333333333,
              "#9c179e"
             ],
             [
              0.4444444444444444,
              "#bd3786"
             ],
             [
              0.5555555555555556,
              "#d8576b"
             ],
             [
              0.6666666666666666,
              "#ed7953"
             ],
             [
              0.7777777777777778,
              "#fb9f3a"
             ],
             [
              0.8888888888888888,
              "#fdca26"
             ],
             [
              1,
              "#f0f921"
             ]
            ],
            "type": "heatmap"
           }
          ],
          "heatmapgl": [
           {
            "colorbar": {
             "outlinewidth": 0,
             "ticks": ""
            },
            "colorscale": [
             [
              0,
              "#0d0887"
             ],
             [
              0.1111111111111111,
              "#46039f"
             ],
             [
              0.2222222222222222,
              "#7201a8"
             ],
             [
              0.3333333333333333,
              "#9c179e"
             ],
             [
              0.4444444444444444,
              "#bd3786"
             ],
             [
              0.5555555555555556,
              "#d8576b"
             ],
             [
              0.6666666666666666,
              "#ed7953"
             ],
             [
              0.7777777777777778,
              "#fb9f3a"
             ],
             [
              0.8888888888888888,
              "#fdca26"
             ],
             [
              1,
              "#f0f921"
             ]
            ],
            "type": "heatmapgl"
           }
          ],
          "histogram": [
           {
            "marker": {
             "pattern": {
              "fillmode": "overlay",
              "size": 10,
              "solidity": 0.2
             }
            },
            "type": "histogram"
           }
          ],
          "histogram2d": [
           {
            "colorbar": {
             "outlinewidth": 0,
             "ticks": ""
            },
            "colorscale": [
             [
              0,
              "#0d0887"
             ],
             [
              0.1111111111111111,
              "#46039f"
             ],
             [
              0.2222222222222222,
              "#7201a8"
             ],
             [
              0.3333333333333333,
              "#9c179e"
             ],
             [
              0.4444444444444444,
              "#bd3786"
             ],
             [
              0.5555555555555556,
              "#d8576b"
             ],
             [
              0.6666666666666666,
              "#ed7953"
             ],
             [
              0.7777777777777778,
              "#fb9f3a"
             ],
             [
              0.8888888888888888,
              "#fdca26"
             ],
             [
              1,
              "#f0f921"
             ]
            ],
            "type": "histogram2d"
           }
          ],
          "histogram2dcontour": [
           {
            "colorbar": {
             "outlinewidth": 0,
             "ticks": ""
            },
            "colorscale": [
             [
              0,
              "#0d0887"
             ],
             [
              0.1111111111111111,
              "#46039f"
             ],
             [
              0.2222222222222222,
              "#7201a8"
             ],
             [
              0.3333333333333333,
              "#9c179e"
             ],
             [
              0.4444444444444444,
              "#bd3786"
             ],
             [
              0.5555555555555556,
              "#d8576b"
             ],
             [
              0.6666666666666666,
              "#ed7953"
             ],
             [
              0.7777777777777778,
              "#fb9f3a"
             ],
             [
              0.8888888888888888,
              "#fdca26"
             ],
             [
              1,
              "#f0f921"
             ]
            ],
            "type": "histogram2dcontour"
           }
          ],
          "mesh3d": [
           {
            "colorbar": {
             "outlinewidth": 0,
             "ticks": ""
            },
            "type": "mesh3d"
           }
          ],
          "parcoords": [
           {
            "line": {
             "colorbar": {
              "outlinewidth": 0,
              "ticks": ""
             }
            },
            "type": "parcoords"
           }
          ],
          "pie": [
           {
            "automargin": true,
            "type": "pie"
           }
          ],
          "scatter": [
           {
            "marker": {
             "line": {
              "color": "#283442"
             }
            },
            "type": "scatter"
           }
          ],
          "scatter3d": [
           {
            "line": {
             "colorbar": {
              "outlinewidth": 0,
              "ticks": ""
             }
            },
            "marker": {
             "colorbar": {
              "outlinewidth": 0,
              "ticks": ""
             }
            },
            "type": "scatter3d"
           }
          ],
          "scattercarpet": [
           {
            "marker": {
             "colorbar": {
              "outlinewidth": 0,
              "ticks": ""
             }
            },
            "type": "scattercarpet"
           }
          ],
          "scattergeo": [
           {
            "marker": {
             "colorbar": {
              "outlinewidth": 0,
              "ticks": ""
             }
            },
            "type": "scattergeo"
           }
          ],
          "scattergl": [
           {
            "marker": {
             "line": {
              "color": "#283442"
             }
            },
            "type": "scattergl"
           }
          ],
          "scattermapbox": [
           {
            "marker": {
             "colorbar": {
              "outlinewidth": 0,
              "ticks": ""
             }
            },
            "type": "scattermapbox"
           }
          ],
          "scatterpolar": [
           {
            "marker": {
             "colorbar": {
              "outlinewidth": 0,
              "ticks": ""
             }
            },
            "type": "scatterpolar"
           }
          ],
          "scatterpolargl": [
           {
            "marker": {
             "colorbar": {
              "outlinewidth": 0,
              "ticks": ""
             }
            },
            "type": "scatterpolargl"
           }
          ],
          "scatterternary": [
           {
            "marker": {
             "colorbar": {
              "outlinewidth": 0,
              "ticks": ""
             }
            },
            "type": "scatterternary"
           }
          ],
          "surface": [
           {
            "colorbar": {
             "outlinewidth": 0,
             "ticks": ""
            },
            "colorscale": [
             [
              0,
              "#0d0887"
             ],
             [
              0.1111111111111111,
              "#46039f"
             ],
             [
              0.2222222222222222,
              "#7201a8"
             ],
             [
              0.3333333333333333,
              "#9c179e"
             ],
             [
              0.4444444444444444,
              "#bd3786"
             ],
             [
              0.5555555555555556,
              "#d8576b"
             ],
             [
              0.6666666666666666,
              "#ed7953"
             ],
             [
              0.7777777777777778,
              "#fb9f3a"
             ],
             [
              0.8888888888888888,
              "#fdca26"
             ],
             [
              1,
              "#f0f921"
             ]
            ],
            "type": "surface"
           }
          ],
          "table": [
           {
            "cells": {
             "fill": {
              "color": "#506784"
             },
             "line": {
              "color": "rgb(17,17,17)"
             }
            },
            "header": {
             "fill": {
              "color": "#2a3f5f"
             },
             "line": {
              "color": "rgb(17,17,17)"
             }
            },
            "type": "table"
           }
          ]
         },
         "layout": {
          "annotationdefaults": {
           "arrowcolor": "#f2f5fa",
           "arrowhead": 0,
           "arrowwidth": 1
          },
          "autotypenumbers": "strict",
          "coloraxis": {
           "colorbar": {
            "outlinewidth": 0,
            "ticks": ""
           }
          },
          "colorscale": {
           "diverging": [
            [
             0,
             "#8e0152"
            ],
            [
             0.1,
             "#c51b7d"
            ],
            [
             0.2,
             "#de77ae"
            ],
            [
             0.3,
             "#f1b6da"
            ],
            [
             0.4,
             "#fde0ef"
            ],
            [
             0.5,
             "#f7f7f7"
            ],
            [
             0.6,
             "#e6f5d0"
            ],
            [
             0.7,
             "#b8e186"
            ],
            [
             0.8,
             "#7fbc41"
            ],
            [
             0.9,
             "#4d9221"
            ],
            [
             1,
             "#276419"
            ]
           ],
           "sequential": [
            [
             0,
             "#0d0887"
            ],
            [
             0.1111111111111111,
             "#46039f"
            ],
            [
             0.2222222222222222,
             "#7201a8"
            ],
            [
             0.3333333333333333,
             "#9c179e"
            ],
            [
             0.4444444444444444,
             "#bd3786"
            ],
            [
             0.5555555555555556,
             "#d8576b"
            ],
            [
             0.6666666666666666,
             "#ed7953"
            ],
            [
             0.7777777777777778,
             "#fb9f3a"
            ],
            [
             0.8888888888888888,
             "#fdca26"
            ],
            [
             1,
             "#f0f921"
            ]
           ],
           "sequentialminus": [
            [
             0,
             "#0d0887"
            ],
            [
             0.1111111111111111,
             "#46039f"
            ],
            [
             0.2222222222222222,
             "#7201a8"
            ],
            [
             0.3333333333333333,
             "#9c179e"
            ],
            [
             0.4444444444444444,
             "#bd3786"
            ],
            [
             0.5555555555555556,
             "#d8576b"
            ],
            [
             0.6666666666666666,
             "#ed7953"
            ],
            [
             0.7777777777777778,
             "#fb9f3a"
            ],
            [
             0.8888888888888888,
             "#fdca26"
            ],
            [
             1,
             "#f0f921"
            ]
           ]
          },
          "colorway": [
           "#636efa",
           "#EF553B",
           "#00cc96",
           "#ab63fa",
           "#FFA15A",
           "#19d3f3",
           "#FF6692",
           "#B6E880",
           "#FF97FF",
           "#FECB52"
          ],
          "font": {
           "color": "#f2f5fa"
          },
          "geo": {
           "bgcolor": "rgb(17,17,17)",
           "lakecolor": "rgb(17,17,17)",
           "landcolor": "rgb(17,17,17)",
           "showlakes": true,
           "showland": true,
           "subunitcolor": "#506784"
          },
          "hoverlabel": {
           "align": "left"
          },
          "hovermode": "closest",
          "mapbox": {
           "style": "dark"
          },
          "paper_bgcolor": "rgb(17,17,17)",
          "plot_bgcolor": "rgb(17,17,17)",
          "polar": {
           "angularaxis": {
            "gridcolor": "#506784",
            "linecolor": "#506784",
            "ticks": ""
           },
           "bgcolor": "rgb(17,17,17)",
           "radialaxis": {
            "gridcolor": "#506784",
            "linecolor": "#506784",
            "ticks": ""
           }
          },
          "scene": {
           "xaxis": {
            "backgroundcolor": "rgb(17,17,17)",
            "gridcolor": "#506784",
            "gridwidth": 2,
            "linecolor": "#506784",
            "showbackground": true,
            "ticks": "",
            "zerolinecolor": "#C8D4E3"
           },
           "yaxis": {
            "backgroundcolor": "rgb(17,17,17)",
            "gridcolor": "#506784",
            "gridwidth": 2,
            "linecolor": "#506784",
            "showbackground": true,
            "ticks": "",
            "zerolinecolor": "#C8D4E3"
           },
           "zaxis": {
            "backgroundcolor": "rgb(17,17,17)",
            "gridcolor": "#506784",
            "gridwidth": 2,
            "linecolor": "#506784",
            "showbackground": true,
            "ticks": "",
            "zerolinecolor": "#C8D4E3"
           }
          },
          "shapedefaults": {
           "line": {
            "color": "#f2f5fa"
           }
          },
          "sliderdefaults": {
           "bgcolor": "#C8D4E3",
           "bordercolor": "rgb(17,17,17)",
           "borderwidth": 1,
           "tickwidth": 0
          },
          "ternary": {
           "aaxis": {
            "gridcolor": "#506784",
            "linecolor": "#506784",
            "ticks": ""
           },
           "baxis": {
            "gridcolor": "#506784",
            "linecolor": "#506784",
            "ticks": ""
           },
           "bgcolor": "rgb(17,17,17)",
           "caxis": {
            "gridcolor": "#506784",
            "linecolor": "#506784",
            "ticks": ""
           }
          },
          "title": {
           "x": 0.05
          },
          "updatemenudefaults": {
           "bgcolor": "#506784",
           "borderwidth": 0
          },
          "xaxis": {
           "automargin": true,
           "gridcolor": "#283442",
           "linecolor": "#506784",
           "ticks": "",
           "title": {
            "standoff": 15
           },
           "zerolinecolor": "#283442",
           "zerolinewidth": 2
          },
          "yaxis": {
           "automargin": true,
           "gridcolor": "#283442",
           "linecolor": "#506784",
           "ticks": "",
           "title": {
            "standoff": 15
           },
           "zerolinecolor": "#283442",
           "zerolinewidth": 2
          }
         }
        },
        "title": {
         "font": {
          "size": 20
         },
         "text": "<b>Count of ROM for every mobile company"
        },
        "width": 1500,
        "xaxis": {
         "anchor": "y",
         "domain": [
          0,
          1
         ],
         "title": {
          "text": "company"
         }
        },
        "yaxis": {
         "anchor": "x",
         "domain": [
          0,
          1
         ],
         "title": {
          "text": "count"
         }
        }
       }
      }
     },
     "metadata": {},
     "output_type": "display_data"
    }
   ],
   "source": [
    "fig=px.histogram(df,x=\"company\",color=\"rom\",title=\"<b>Count of ROM for every mobile company\",\n",
    "                color_discrete_sequence=px.colors.qualitative.Vivid,\n",
    "                width=1500, height=500)\n",
    "fig.update_layout(template=\"plotly_dark\")\n",
    "fig.update_layout(title_font_size=20)\n",
    "fig.show()"
   ]
  },
  {
   "cell_type": "code",
   "execution_count": 18,
   "id": "5c18fe71",
   "metadata": {
    "execution": {
     "iopub.execute_input": "2023-04-13T22:17:11.711007Z",
     "iopub.status.busy": "2023-04-13T22:17:11.710415Z",
     "iopub.status.idle": "2023-04-13T22:17:11.958299Z",
     "shell.execute_reply": "2023-04-13T22:17:11.956620Z"
    },
    "papermill": {
     "duration": 0.267426,
     "end_time": "2023-04-13T22:17:11.961408",
     "exception": false,
     "start_time": "2023-04-13T22:17:11.693982",
     "status": "completed"
    },
    "tags": []
   },
   "outputs": [
    {
     "data": {
      "application/vnd.plotly.v1+json": {
       "config": {
        "plotlyServerURL": "https://plot.ly"
       },
       "data": [
        {
         "alignmentgroup": "True",
         "bingroup": "x",
         "hovertemplate": "processor=Snapdragon<br>company=%{x}<br>count=%{y}<extra></extra>",
         "legendgroup": "Snapdragon",
         "marker": {
          "color": "rgb(229, 134, 6)",
          "pattern": {
           "shape": ""
          }
         },
         "name": "Snapdragon",
         "offsetgroup": "Snapdragon",
         "orientation": "v",
         "showlegend": true,
         "type": "histogram",
         "x": [
          "OnePlus",
          "OnePlus",
          "Motorola",
          "Samsung",
          "Nothing",
          "Realme",
          "Vivo",
          "Samsung",
          "OPPO",
          "OnePlus",
          "Poco",
          "Xiaomi",
          "Samsung",
          "OnePlus",
          "OnePlus",
          "Realme",
          "Poco",
          "Oppo",
          "Samsung",
          "Xiaomi",
          "OPPO",
          "OnePlus",
          "Xiaomi",
          "Vivo",
          "Xiaomi",
          "Samsung",
          "Jio",
          "Motorola",
          "Samsung",
          "Motorola",
          "Vivo",
          "Samsung",
          "OnePlus",
          "Samsung",
          "Oppo",
          "iQOO",
          "OnePlus",
          "OPPO",
          "Vivo",
          "Motorola",
          "Samsung",
          "Xiaomi",
          "Samsung",
          "Motorola",
          "Vivo",
          "Realme",
          "iQOO",
          "Vivo",
          "Vivo",
          "Xiaomi",
          "Motorola",
          "Xiaomi",
          "Samsung",
          "Vivo",
          "iQOO",
          "Samsung",
          "Motorola",
          "Motorola",
          "OnePlus",
          "Xiaomi",
          "Nothing",
          "Poco",
          "Xiaomi",
          "OPPO",
          "iQOO",
          "iQOO",
          "OnePlus",
          "iQOO",
          "Xiaomi",
          "Xiaomi",
          "Motorola",
          "Oppo",
          "Nokia",
          "OPPO",
          "Realme",
          "Oppo",
          "Realme",
          "Oppo",
          "iQOO",
          "Xiaomi",
          "OPPO",
          "iQOO",
          "Motorola",
          "Samsung",
          "Motorola",
          "Samsung",
          "Nokia",
          "Motorola",
          "OnePlus",
          "Poco",
          "OPPO",
          "Motorola",
          "Xiaomi",
          "Motorola",
          "Nothing",
          "Realme",
          "Honor",
          "Xiaomi",
          "Motorola",
          "Xiaomi",
          "Realme",
          "OnePlus",
          "iQOO",
          "Vivo",
          "Xiaomi",
          "Vivo",
          "Xiaomi",
          "OPPO",
          "Samsung",
          "Vivo",
          "OPPO",
          "Nubia",
          "iQOO",
          "Xiaomi",
          "OPPO",
          "Samsung",
          "Vivo",
          "OnePlus",
          "Redmi",
          "Nothing",
          "Nokia",
          "Xiaomi",
          "Xiaomi",
          "Asus",
          "Samsung",
          "Xiaomi",
          "Samsung",
          "Motorola",
          "OPPO",
          "Xiaomi",
          "Motorola",
          "Xiaomi",
          "Xiaomi",
          "Samsung",
          "OnePlus",
          "OnePlus",
          "Samsung",
          "Motorola",
          "Honor",
          "iQOO",
          "Samsung",
          "Royole",
          "Xiaomi",
          "Vivo",
          "OPPO",
          "iQOO",
          "Samsung",
          "Realme",
          "Poco",
          "Motorola",
          "OnePlus",
          "OnePlus",
          "Oppo",
          "Motorola",
          "Xiaomi",
          "Vivo",
          "Poco",
          "Realme",
          "Xiaomi",
          "iQOO",
          "Samsung",
          "OnePlus",
          "Sony",
          "Vivo",
          "Poco",
          "Google",
          "OPPO",
          "Realme",
          "Samsung",
          "iQOO",
          "Vivo",
          "Realme",
          "OPPO",
          "Realme",
          "Xiaomi",
          "Realme",
          "Samsung",
          "Realme",
          "Vivo",
          "Asus",
          "Oppo",
          "Realme",
          "OnePlus",
          "Xiaomi",
          "Realme",
          "Redmi",
          "Motorola",
          "Motorola",
          "Xiaomi",
          "Honor",
          "OnePlus",
          "Xiaomi",
          "Nokia",
          "Xiaomi",
          "Vertu",
          "Poco",
          "Samsung",
          "Poco",
          "Asus",
          "iQOO",
          "Xiaomi",
          "Nubia",
          "Vivo",
          "OPPO",
          "Xiaomi",
          "Samsung",
          "Xiaomi",
          "Lyf",
          "Vivo",
          "Huawei",
          "iQOO",
          "Nokia",
          "Sony",
          "Sony",
          "Vivo",
          "Nubia",
          "iQOO",
          "Samsung",
          "OnePlus",
          "Google",
          "Honor",
          "Realme",
          "Google",
          "OnePlus",
          "iQOO",
          "OPPO",
          "Motorola",
          "Realme",
          "Vivo",
          "Xiaomi",
          "Xiaomi",
          "ZTE",
          "Xiaomi",
          "OPPO",
          "Huawei",
          "Samsung",
          "Lenovo",
          "Nokia",
          "Nokia",
          "Poco",
          "Xiaomi",
          "iQOO",
          "OPPO",
          "Poco",
          "Asus",
          "Realme",
          "Nubia",
          "Samsung",
          "LG",
          "Xiaomi",
          "Samsung",
          "Vivo",
          "Lyf",
          "OPPO",
          "Nokia",
          "Motorola",
          "Oppo",
          "iQOO",
          "Xiaomi",
          "iQOO",
          "iQOO",
          "Realme",
          "OnePlus",
          "Sony",
          "Vivo",
          "Poco",
          "Vivo",
          "Sony",
          "Motorola",
          "Xiaomi",
          "Realme",
          "iQOO",
          "OnePlus",
          "Samsung",
          "POCO",
          "Xiaomi",
          "Samsung",
          "Asus",
          "OPPO",
          "OPPO",
          "Honor",
          "Xiaomi",
          "Xiaomi",
          "Xiaomi",
          "Xiaomi",
          "LG",
          "Motorola",
          "LG",
          "iQOO",
          "Honor",
          "Sony",
          "Nubia",
          "Xiaomi",
          "Oppo",
          "OPPO",
          "OPPO",
          "OnePlus",
          "Motorola",
          "Vivo",
          "Vivo",
          "Motorola",
          "Huawei",
          "iQOO",
          "Vivo",
          "Huawei",
          "Huawei",
          "Realme",
          "OPPO",
          "Motorola",
          "Oppo",
          "Poco",
          "Vivo",
          "Xiaomi",
          "Vivo",
          "Vivo",
          "Oppo",
          "Realme",
          "Xiaomi",
          "Xiaomi",
          "Honor",
          "Motorola",
          "Motorola",
          "Vivo",
          "Realme",
          "Honor",
          "Samsung",
          "Vivo",
          "Oppo",
          "Vivo",
          "Vivo",
          "Xiaomi",
          "Xiaomi",
          "Xiaomi",
          "POCO",
          "Realme",
          "Vivo",
          "Vivo",
          "Vivo",
          "Realme",
          "Leitz",
          "Realme",
          "Xiaomi",
          "Xiaomi",
          "Poco",
          "Vivo",
          "Vivo",
          "Xiaomi",
          "Realme",
          "Xiaomi",
          "Xiaomi",
          "Xiaomi",
          "Lenovo",
          "Oppo",
          "Sony",
          "Vivo",
          "Xiaomi",
          "iQOO",
          "Vivo",
          "Nokia",
          "Huawei",
          "Huawei",
          "OnePlus",
          "iQOO",
          "Oppo",
          "Royole",
          "Realme",
          "Sony",
          "Motorola",
          "OnePlus",
          "OnePlus",
          "OnePlus",
          "Xiaomi",
          "Realme",
          "Xiaomi",
          "Lyf",
          "ZTE",
          "Xiaomi",
          "Samsung",
          "Nothing",
          "Motorola",
          "OnePlus",
          "Realme",
          "iQOO",
          "Vivo",
          "Vivo",
          "Oppo",
          "iQOO",
          "Nubia",
          "Nokia",
          "Vivo",
          "Oppo",
          "Honor",
          "iQOO",
          "Realme",
          "Google",
          "Vivo",
          "OPPO",
          "Xiaomi",
          "Vivo",
          "OnePlus",
          "Sharp",
          "Samsung",
          "Vivo",
          "Motorola",
          "Xiaomi",
          "Motorola",
          "Oppo",
          "Vivo",
          "Motorola",
          "Honor",
          "Motorola"
         ],
         "xaxis": "x",
         "yaxis": "y"
        },
        {
         "alignmentgroup": "True",
         "bingroup": "x",
         "hovertemplate": "processor=Exynos<br>company=%{x}<br>count=%{y}<extra></extra>",
         "legendgroup": "Exynos",
         "marker": {
          "color": "rgb(93, 105, 177)",
          "pattern": {
           "shape": ""
          }
         },
         "name": "Exynos",
         "offsetgroup": "Exynos",
         "orientation": "v",
         "showlegend": true,
         "type": "histogram",
         "x": [
          "Samsung",
          "Samsung",
          "Samsung",
          "Samsung",
          "Samsung",
          "Samsung",
          "Samsung",
          "Samsung",
          "Samsung",
          "Samsung",
          "Samsung",
          "Samsung",
          "Samsung",
          "Samsung",
          "Samsung",
          "Samsung",
          "Samsung",
          "Samsung",
          "Samsung",
          "Samsung",
          "Samsung",
          "Samsung",
          "Samsung",
          "Samsung",
          "Samsung",
          "Samsung",
          "Samsung",
          "Samsung",
          "Samsung",
          "Samsung",
          "Samsung",
          "Samsung",
          "Samsung",
          "Samsung",
          "Samsung",
          "Samsung",
          "Samsung",
          "Samsung",
          "Samsung",
          "Samsung",
          "Samsung",
          "Samsung",
          "Samsung",
          "Samsung",
          "Samsung",
          "Samsung",
          "Samsung",
          "Samsung",
          "Samsung"
         ],
         "xaxis": "x",
         "yaxis": "y"
        },
        {
         "alignmentgroup": "True",
         "bingroup": "x",
         "hovertemplate": "processor=Dimensity<br>company=%{x}<br>count=%{y}<extra></extra>",
         "legendgroup": "Dimensity",
         "marker": {
          "color": "rgb(82, 188, 163)",
          "pattern": {
           "shape": ""
          }
         },
         "name": "Dimensity",
         "offsetgroup": "Dimensity",
         "orientation": "v",
         "showlegend": true,
         "type": "histogram",
         "x": [
          "Realme",
          "Xiaomi",
          "OnePlus",
          "Oppo",
          "Xiaomi",
          "OnePlus",
          "Vivo",
          "Vivo",
          "Vivo",
          "Vivo",
          "Samsung",
          "Motorola",
          "Realme",
          "iQOO",
          "Realme",
          "Xiaomi",
          "Poco",
          "Vivo",
          "Xiaomi",
          "Vivo",
          "Xiaomi",
          "Realme",
          "Samsung",
          "OPPO",
          "OnePlus",
          "Realme",
          "OPPO",
          "Vivo",
          "OnePlus",
          "Tecno",
          "Xiaomi",
          "OPPO",
          "Samsung",
          "OnePlus",
          "Infinix",
          "Vivo",
          "Xiaomi",
          "OPPO",
          "Poco",
          "Infinix",
          "Vivo",
          "Infinix",
          "Realme",
          "Vivo",
          "Vivo",
          "Infinix",
          "Realme",
          "OnePlus",
          "OPPO",
          "Poco",
          "Xiaomi",
          "Vivo",
          "Realme",
          "Lava",
          "Vivo",
          "Realme",
          "Realme",
          "Realme",
          "OPPO",
          "OPPO",
          "Xiaomi",
          "Xiaomi",
          "Motorola",
          "Tecno",
          "Poco",
          "Tecno",
          "Infinix",
          "OPPO",
          "Xiaomi",
          "Vivo",
          "Xiaomi",
          "iQOO",
          "Xiaomi",
          "Infinix",
          "Poco",
          "Xiaomi",
          "OPPO",
          "Vivo",
          "Samsung",
          "POCO",
          "Tecno",
          "Vivo",
          "OPPO",
          "Xiaomi",
          "Realme",
          "Realme",
          "Realme",
          "OPPO",
          "Samsung",
          "Xiaomi",
          "Xiaomi",
          "OPPO",
          "Xiaomi",
          "OPPO",
          "Vivo",
          "BLU",
          "Asus",
          "Xiaomi",
          "Vivo",
          "OPPO",
          "Samsung",
          "POCO",
          "Realme",
          "Vivo",
          "Honor",
          "Samsung",
          "POCO",
          "Xiaomi",
          "Oppo",
          "Vivo",
          "Realme",
          "OnePlus",
          "Vivo",
          "Realme",
          "Realme",
          "Xiaomi",
          "OnePlus",
          "Samsung",
          "Oppo",
          "Realme",
          "Xiaomi",
          "Xiaomi",
          "Samsung",
          "Vivo",
          "Xiaomi",
          "Realme",
          "Lava",
          "POCO",
          "Vivo",
          "Realme",
          "Realme",
          "OPPO",
          "OnePlus",
          "Vivo",
          "Realme",
          "Xiaomi",
          "Xiaomi",
          "Vivo",
          "Xiaomi",
          "Poco",
          "OPPO",
          "Vivo",
          "Asus",
          "Xiaomi",
          "Oppo",
          "Xiaomi",
          "Vivo",
          "Tecno",
          "Vivo",
          "Xiaomi",
          "Xiaomi",
          "Realme",
          "Vivo",
          "Xiaomi",
          "OnePlus",
          "Vivo",
          "Xiaomi",
          "Vivo",
          "Realme",
          "Realme",
          "Doogee",
          "Samsung",
          "OnePlus",
          "Xiaomi",
          "Poco",
          "Realme",
          "Oppo",
          "Vivo",
          "Tecno",
          "OPPO",
          "POCO",
          "Xiaomi",
          "Samsung",
          "Poco",
          "OPPO",
          "Xiaomi",
          "POCO"
         ],
         "xaxis": "x",
         "yaxis": "y"
        },
        {
         "alignmentgroup": "True",
         "bingroup": "x",
         "hovertemplate": "processor=Bionic<br>company=%{x}<br>count=%{y}<extra></extra>",
         "legendgroup": "Bionic",
         "marker": {
          "color": "rgb(153, 201, 69)",
          "pattern": {
           "shape": ""
          }
         },
         "name": "Bionic",
         "offsetgroup": "Bionic",
         "orientation": "v",
         "showlegend": true,
         "type": "histogram",
         "x": [
          "Apple",
          "Apple",
          "Apple",
          "Apple",
          "Apple",
          "Apple",
          "Apple",
          "Apple",
          "Apple",
          "Apple",
          "Apple",
          "Apple",
          "Apple",
          "Apple",
          "Apple",
          "Apple",
          "Apple",
          "Apple",
          "Apple",
          "Apple",
          "Apple",
          "Apple",
          "Apple",
          "Apple",
          "Apple",
          "Apple",
          "Apple",
          "Apple",
          "Apple",
          "Apple",
          "Apple",
          "Apple",
          "Apple",
          "Apple",
          "Apple",
          "Apple",
          "Apple",
          "Apple",
          "Apple"
         ],
         "xaxis": "x",
         "yaxis": "y"
        },
        {
         "alignmentgroup": "True",
         "bingroup": "x",
         "hovertemplate": "processor=Helio<br>company=%{x}<br>count=%{y}<extra></extra>",
         "legendgroup": "Helio",
         "marker": {
          "color": "rgb(204, 97, 176)",
          "pattern": {
           "shape": ""
          }
         },
         "name": "Helio",
         "offsetgroup": "Helio",
         "orientation": "v",
         "showlegend": true,
         "type": "histogram",
         "x": [
          "Vivo",
          "Vivo",
          "Vivo",
          "Realme",
          "Xiaomi",
          "Vivo",
          "OPPO",
          "Xiaomi",
          "Motorola",
          "Vivo",
          "OPPO",
          "Xiaomi",
          "Samsung",
          "Cola",
          "Xiaomi",
          "Realme",
          "Xiaomi",
          "Realme",
          "POCO",
          "Tecno",
          "Realme",
          "Duoqin",
          "Samsung",
          "Tecno",
          "Tecno",
          "Samsung",
          "POCO",
          "Vivo",
          "Vivo",
          "OPPO",
          "Motorola",
          "Infinix",
          "Motorola",
          "POCO",
          "Samsung",
          "Infinix",
          "Tecno",
          "Infinix",
          "Xiaomi",
          "Xiaomi",
          "Vivo",
          "Tecno",
          "Infinix",
          "Infinix",
          "Xiaomi",
          "Xiaomi",
          "Samsung",
          "POCO",
          "Motorola",
          "Xiaomi",
          "Vivo",
          "OPPO",
          "Xiaomi",
          "Tecno",
          "Vivo",
          "Samsung",
          "Oukitel",
          "Poco",
          "Xiaomi",
          "OPPO",
          "Samsung",
          "Tecno",
          "OPPO",
          "Motorola",
          "Xiaomi",
          "Xiaomi",
          "Samsung",
          "Motorola",
          "Infinix",
          "Infinix",
          "Vivo",
          "Tecno",
          "Samsung",
          "Redmi",
          "Sony",
          "Tecno",
          "Xiaomi",
          "Samsung",
          "Infinix",
          "Samsung",
          "Vivo",
          "Tecno",
          "Vivo",
          "Tecno",
          "Motorola",
          "Xiaomi",
          "Motorola",
          "Xiaomi",
          "Realme",
          "Vivo",
          "Samsung",
          "Vivo",
          "Vivo",
          "Poco",
          "Realme",
          "Motorola",
          "OPPO",
          "POCO",
          "Realme",
          "Samsung",
          "Oppo",
          "OPPO",
          "OPPO",
          "Tecno",
          "Xiaomi",
          "Xiaomi",
          "Vivo",
          "Samsung",
          "Xiaomi",
          "Oukitel",
          "Xiaomi",
          "Realme",
          "OPPO",
          "OPPO",
          "Samsung",
          "Tecno",
          "Vivo",
          "Vivo",
          "Xiaomi",
          "Vivo",
          "Tecno",
          "Infinix",
          "Samsung",
          "Tecno",
          "Xiaomi",
          "Infinix",
          "Infinix",
          "Vivo",
          "OPPO",
          "Gionee",
          "Poco",
          "OPPO",
          "Vivo",
          "Infinix",
          "Tecno",
          "Xiaomi",
          "Vivo",
          "Poco",
          "Vivo",
          "Xiaomi",
          "Vivo",
          "Samsung",
          "Samsung",
          "OPPO",
          "OPPO",
          "Oppo",
          "Vivo",
          "Samsung",
          "Infinix",
          "Xiaomi",
          "Tecno",
          "OPPO",
          "Infinix",
          "Infinix",
          "Xiaomi",
          "Infinix",
          "Xiaomi",
          "Realme",
          "Oppo",
          "Vivo",
          "Vivo",
          "Xiaomi",
          "Motorola",
          "Poco",
          "Tecno",
          "Vivo",
          "Infinix",
          "Tecno",
          "Tecno",
          "Tecno",
          "Realme",
          "Tecno",
          "Realme",
          "OPPO",
          "Oppo",
          "Xiaomi",
          "Realme",
          "OPPO",
          "Lava",
          "Motorola",
          "Xiaomi",
          "Infinix",
          "Tecno",
          "Honor",
          "TCL",
          "Infinix",
          "Infinix",
          "OPPO",
          "Realme",
          "Samsung",
          "Xiaomi",
          "Realme",
          "Realme",
          "Realme",
          "Poco",
          "Blackview",
          "Honor",
          "Doogee",
          "Lava",
          "Oukitel"
         ],
         "xaxis": "x",
         "yaxis": "y"
        },
        {
         "alignmentgroup": "True",
         "bingroup": "x",
         "hovertemplate": "processor=A13<br>company=%{x}<br>count=%{y}<extra></extra>",
         "legendgroup": "A13",
         "marker": {
          "color": "rgb(36, 121, 108)",
          "pattern": {
           "shape": ""
          }
         },
         "name": "A13",
         "offsetgroup": "A13",
         "orientation": "v",
         "showlegend": true,
         "type": "histogram",
         "x": [
          "Apple",
          "Apple",
          "Apple",
          "Apple",
          "Apple"
         ],
         "xaxis": "x",
         "yaxis": "y"
        },
        {
         "alignmentgroup": "True",
         "bingroup": "x",
         "hovertemplate": "processor=Unisoc<br>company=%{x}<br>count=%{y}<extra></extra>",
         "legendgroup": "Unisoc",
         "marker": {
          "color": "rgb(218, 165, 27)",
          "pattern": {
           "shape": ""
          }
         },
         "name": "Unisoc",
         "offsetgroup": "Unisoc",
         "orientation": "v",
         "showlegend": true,
         "type": "histogram",
         "x": [
          "Realme",
          "Realme",
          "Samsung",
          "Realme",
          "Tecno",
          "Samsung",
          "Nokia",
          "Realme",
          "Itel",
          "Nokia",
          "Nokia",
          "Realme",
          "Realme",
          "Nokia",
          "Realme",
          "Micromax",
          "itel",
          "itel",
          "Nokia",
          "Nokia",
          "itel",
          "Samsung",
          "Nokia",
          "Nokia",
          "Tecno",
          "Micromax",
          "itel"
         ],
         "xaxis": "x",
         "yaxis": "y"
        },
        {
         "alignmentgroup": "True",
         "bingroup": "x",
         "hovertemplate": "processor=Tiger<br>company=%{x}<br>count=%{y}<extra></extra>",
         "legendgroup": "Tiger",
         "marker": {
          "color": "rgb(47, 138, 196)",
          "pattern": {
           "shape": ""
          }
         },
         "name": "Tiger",
         "offsetgroup": "Tiger",
         "orientation": "v",
         "showlegend": true,
         "type": "histogram",
         "x": [
          "Gionee",
          "Motorola",
          "Realme",
          "Realme",
          "Letv",
          "LeEco",
          "Realme",
          "Realme",
          "Realme",
          "Realme",
          "Infinix",
          "Motorola",
          "Realme",
          "Infinix",
          "Letv",
          "Infinix",
          "Realme",
          "Realme",
          "Micromax",
          "Realme",
          "Realme",
          "Gionee",
          "Realme",
          "Realme"
         ],
         "xaxis": "x",
         "yaxis": "y"
        },
        {
         "alignmentgroup": "True",
         "bingroup": "x",
         "hovertemplate": "processor=Octa<br>company=%{x}<br>count=%{y}<extra></extra>",
         "legendgroup": "Octa",
         "marker": {
          "color": "rgb(118, 78, 159)",
          "pattern": {
           "shape": ""
          }
         },
         "name": "Octa",
         "offsetgroup": "Octa",
         "orientation": "v",
         "showlegend": true,
         "type": "histogram",
         "x": [
          "Tesla",
          "Samsung",
          "Samsung",
          "Samsung",
          "Samsung",
          "Samsung",
          "Tecno",
          "Samsung",
          "Samsung",
          "Huawei",
          "Samsung",
          "Samsung",
          "Samsung",
          "Samsung"
         ],
         "xaxis": "x",
         "yaxis": "y"
        },
        {
         "alignmentgroup": "True",
         "bingroup": "x",
         "hovertemplate": "processor=Google<br>company=%{x}<br>count=%{y}<extra></extra>",
         "legendgroup": "Google",
         "marker": {
          "color": "rgb(237, 100, 90)",
          "pattern": {
           "shape": ""
          }
         },
         "name": "Google",
         "offsetgroup": "Google",
         "orientation": "v",
         "showlegend": true,
         "type": "histogram",
         "x": [
          "Google",
          "Google",
          "Google",
          "Google",
          "Google",
          "Google",
          "Google",
          "Google",
          "Google"
         ],
         "xaxis": "x",
         "yaxis": "y"
        },
        {
         "alignmentgroup": "True",
         "bingroup": "x",
         "hovertemplate": "processor=Quad<br>company=%{x}<br>count=%{y}<extra></extra>",
         "legendgroup": "Quad",
         "marker": {
          "color": "rgb(165, 170, 153)",
          "pattern": {
           "shape": ""
          }
         },
         "name": "Quad",
         "offsetgroup": "Quad",
         "orientation": "v",
         "showlegend": true,
         "type": "histogram",
         "x": [
          "Jio",
          "iKall",
          "itel",
          "iKall",
          "itel",
          "iKall"
         ],
         "xaxis": "x",
         "yaxis": "y"
        },
        {
         "alignmentgroup": "True",
         "bingroup": "x",
         "hovertemplate": "processor=Helio,<br>company=%{x}<br>count=%{y}<extra></extra>",
         "legendgroup": "Helio,",
         "marker": {
          "color": "rgb(229, 134, 6)",
          "pattern": {
           "shape": ""
          }
         },
         "name": "Helio,",
         "offsetgroup": "Helio,",
         "orientation": "v",
         "showlegend": true,
         "type": "histogram",
         "x": [
          "Vivo",
          "Vivo"
         ],
         "xaxis": "x",
         "yaxis": "y"
        },
        {
         "alignmentgroup": "True",
         "bingroup": "x",
         "hovertemplate": "processor=Apple<br>company=%{x}<br>count=%{y}<extra></extra>",
         "legendgroup": "Apple",
         "marker": {
          "color": "rgb(93, 105, 177)",
          "pattern": {
           "shape": ""
          }
         },
         "name": "Apple",
         "offsetgroup": "Apple",
         "orientation": "v",
         "showlegend": true,
         "type": "histogram",
         "x": [
          "Apple"
         ],
         "xaxis": "x",
         "yaxis": "y"
        },
        {
         "alignmentgroup": "True",
         "bingroup": "x",
         "hovertemplate": "processor=SC9863A,<br>company=%{x}<br>count=%{y}<extra></extra>",
         "legendgroup": "SC9863A,",
         "marker": {
          "color": "rgb(82, 188, 163)",
          "pattern": {
           "shape": ""
          }
         },
         "name": "SC9863A,",
         "offsetgroup": "SC9863A,",
         "orientation": "v",
         "showlegend": true,
         "type": "histogram",
         "x": [
          "Realme",
          "Realme"
         ],
         "xaxis": "x",
         "yaxis": "y"
        },
        {
         "alignmentgroup": "True",
         "bingroup": "x",
         "hovertemplate": "processor=Qualcomm<br>company=%{x}<br>count=%{y}<extra></extra>",
         "legendgroup": "Qualcomm",
         "marker": {
          "color": "rgb(153, 201, 69)",
          "pattern": {
           "shape": ""
          }
         },
         "name": "Qualcomm",
         "offsetgroup": "Qualcomm",
         "orientation": "v",
         "showlegend": true,
         "type": "histogram",
         "x": [
          "Jio",
          "Jio",
          "CAT",
          "Google",
          "Xiaomi"
         ],
         "xaxis": "x",
         "yaxis": "y"
        },
        {
         "alignmentgroup": "True",
         "bingroup": "x",
         "hovertemplate": "processor=No<br>company=%{x}<br>count=%{y}<extra></extra>",
         "legendgroup": "No",
         "marker": {
          "color": "rgb(204, 97, 176)",
          "pattern": {
           "shape": ""
          }
         },
         "name": "No",
         "offsetgroup": "No",
         "orientation": "v",
         "showlegend": true,
         "type": "histogram",
         "x": [
          "Nokia",
          "Nokia",
          "Samsung",
          "itel",
          "Nokia",
          "Nokia",
          "Eunity",
          "itel",
          "Nokia",
          "Nokia",
          "Nokia",
          "Samsung",
          "XTouch"
         ],
         "xaxis": "x",
         "yaxis": "y"
        },
        {
         "alignmentgroup": "True",
         "bingroup": "x",
         "hovertemplate": "processor=Unisoc,<br>company=%{x}<br>count=%{y}<extra></extra>",
         "legendgroup": "Unisoc,",
         "marker": {
          "color": "rgb(36, 121, 108)",
          "pattern": {
           "shape": ""
          }
         },
         "name": "Unisoc,",
         "offsetgroup": "Unisoc,",
         "orientation": "v",
         "showlegend": true,
         "type": "histogram",
         "x": [
          "Letv"
         ],
         "xaxis": "x",
         "yaxis": "y"
        },
        {
         "alignmentgroup": "True",
         "bingroup": "x",
         "hovertemplate": "processor=Spreadtrum<br>company=%{x}<br>count=%{y}<extra></extra>",
         "legendgroup": "Spreadtrum",
         "marker": {
          "color": "rgb(218, 165, 27)",
          "pattern": {
           "shape": ""
          }
         },
         "name": "Spreadtrum",
         "offsetgroup": "Spreadtrum",
         "orientation": "v",
         "showlegend": true,
         "type": "histogram",
         "x": [
          "itel",
          "Tecno",
          "Itel",
          "itel"
         ],
         "xaxis": "x",
         "yaxis": "y"
        },
        {
         "alignmentgroup": "True",
         "bingroup": "x",
         "hovertemplate": "processor=Dual<br>company=%{x}<br>count=%{y}<extra></extra>",
         "legendgroup": "Dual",
         "marker": {
          "color": "rgb(47, 138, 196)",
          "pattern": {
           "shape": ""
          }
         },
         "name": "Dual",
         "offsetgroup": "Dual",
         "orientation": "v",
         "showlegend": true,
         "type": "histogram",
         "x": [
          "Jio"
         ],
         "xaxis": "x",
         "yaxis": "y"
        },
        {
         "alignmentgroup": "True",
         "bingroup": "x",
         "hovertemplate": "processor=Sanpdragon<br>company=%{x}<br>count=%{y}<extra></extra>",
         "legendgroup": "Sanpdragon",
         "marker": {
          "color": "rgb(118, 78, 159)",
          "pattern": {
           "shape": ""
          }
         },
         "name": "Sanpdragon",
         "offsetgroup": "Sanpdragon",
         "orientation": "v",
         "showlegend": true,
         "type": "histogram",
         "x": [
          "Huawei"
         ],
         "xaxis": "x",
         "yaxis": "y"
        },
        {
         "alignmentgroup": "True",
         "bingroup": "x",
         "hovertemplate": "processor=1<br>company=%{x}<br>count=%{y}<extra></extra>",
         "legendgroup": "1",
         "marker": {
          "color": "rgb(237, 100, 90)",
          "pattern": {
           "shape": ""
          }
         },
         "name": "1",
         "offsetgroup": "1",
         "orientation": "v",
         "showlegend": true,
         "type": "histogram",
         "x": [
          "Itel",
          "Namotel",
          "LG"
         ],
         "xaxis": "x",
         "yaxis": "y"
        },
        {
         "alignmentgroup": "True",
         "bingroup": "x",
         "hovertemplate": "processor=Fusion<br>company=%{x}<br>count=%{y}<extra></extra>",
         "legendgroup": "Fusion",
         "marker": {
          "color": "rgb(165, 170, 153)",
          "pattern": {
           "shape": ""
          }
         },
         "name": "Fusion",
         "offsetgroup": "Fusion",
         "orientation": "v",
         "showlegend": true,
         "type": "histogram",
         "x": [
          "Apple"
         ],
         "xaxis": "x",
         "yaxis": "y"
        },
        {
         "alignmentgroup": "True",
         "bingroup": "x",
         "hovertemplate": "processor=4<br>company=%{x}<br>count=%{y}<extra></extra>",
         "legendgroup": "4",
         "marker": {
          "color": "rgb(229, 134, 6)",
          "pattern": {
           "shape": ""
          }
         },
         "name": "4",
         "offsetgroup": "4",
         "orientation": "v",
         "showlegend": true,
         "type": "histogram",
         "x": [
          "Nokia",
          "Motorola",
          "itel"
         ],
         "xaxis": "x",
         "yaxis": "y"
        },
        {
         "alignmentgroup": "True",
         "bingroup": "x",
         "hovertemplate": "processor=1450<br>company=%{x}<br>count=%{y}<extra></extra>",
         "legendgroup": "1450",
         "marker": {
          "color": "rgb(93, 105, 177)",
          "pattern": {
           "shape": ""
          }
         },
         "name": "1450",
         "offsetgroup": "1450",
         "orientation": "v",
         "showlegend": true,
         "type": "histogram",
         "x": [
          "Nokia"
         ],
         "xaxis": "x",
         "yaxis": "y"
        },
        {
         "alignmentgroup": "True",
         "bingroup": "x",
         "hovertemplate": "processor=Kirin<br>company=%{x}<br>count=%{y}<extra></extra>",
         "legendgroup": "Kirin",
         "marker": {
          "color": "rgb(82, 188, 163)",
          "pattern": {
           "shape": ""
          }
         },
         "name": "Kirin",
         "offsetgroup": "Kirin",
         "orientation": "v",
         "showlegend": true,
         "type": "histogram",
         "x": [
          "Huawei",
          "Huawei",
          "Huawei",
          "Huawei",
          "Huawei",
          "Huawei",
          "Huawei"
         ],
         "xaxis": "x",
         "yaxis": "y"
        },
        {
         "alignmentgroup": "True",
         "bingroup": "x",
         "hovertemplate": "processor=32<br>company=%{x}<br>count=%{y}<extra></extra>",
         "legendgroup": "32",
         "marker": {
          "color": "rgb(153, 201, 69)",
          "pattern": {
           "shape": ""
          }
         },
         "name": "32",
         "offsetgroup": "32",
         "orientation": "v",
         "showlegend": true,
         "type": "histogram",
         "x": [
          "Zanco",
          "Apple"
         ],
         "xaxis": "x",
         "yaxis": "y"
        },
        {
         "alignmentgroup": "True",
         "bingroup": "x",
         "hovertemplate": "processor=800<br>company=%{x}<br>count=%{y}<extra></extra>",
         "legendgroup": "800",
         "marker": {
          "color": "rgb(204, 97, 176)",
          "pattern": {
           "shape": ""
          }
         },
         "name": "800",
         "offsetgroup": "800",
         "orientation": "v",
         "showlegend": true,
         "type": "histogram",
         "x": [
          "Samsung"
         ],
         "xaxis": "x",
         "yaxis": "y"
        },
        {
         "alignmentgroup": "True",
         "bingroup": "x",
         "hovertemplate": "processor=2000<br>company=%{x}<br>count=%{y}<extra></extra>",
         "legendgroup": "2000",
         "marker": {
          "color": "rgb(36, 121, 108)",
          "pattern": {
           "shape": ""
          }
         },
         "name": "2000",
         "offsetgroup": "2000",
         "orientation": "v",
         "showlegend": true,
         "type": "histogram",
         "x": [
          "Nokia"
         ],
         "xaxis": "x",
         "yaxis": "y"
        },
        {
         "alignmentgroup": "True",
         "bingroup": "x",
         "hovertemplate": "processor=52<br>company=%{x}<br>count=%{y}<extra></extra>",
         "legendgroup": "52",
         "marker": {
          "color": "rgb(218, 165, 27)",
          "pattern": {
           "shape": ""
          }
         },
         "name": "52",
         "offsetgroup": "52",
         "orientation": "v",
         "showlegend": true,
         "type": "histogram",
         "x": [
          "Karbonn"
         ],
         "xaxis": "x",
         "yaxis": "y"
        },
        {
         "alignmentgroup": "True",
         "bingroup": "x",
         "hovertemplate": "processor=1.77<br>company=%{x}<br>count=%{y}<extra></extra>",
         "legendgroup": "1.77",
         "marker": {
          "color": "rgb(47, 138, 196)",
          "pattern": {
           "shape": ""
          }
         },
         "name": "1.77",
         "offsetgroup": "1.77",
         "orientation": "v",
         "showlegend": true,
         "type": "histogram",
         "x": [
          "Eunity",
          "Eunity"
         ],
         "xaxis": "x",
         "yaxis": "y"
        },
        {
         "alignmentgroup": "True",
         "bingroup": "x",
         "hovertemplate": "processor=SC6531E,<br>company=%{x}<br>count=%{y}<extra></extra>",
         "legendgroup": "SC6531E,",
         "marker": {
          "color": "rgb(118, 78, 159)",
          "pattern": {
           "shape": ""
          }
         },
         "name": "SC6531E,",
         "offsetgroup": "SC6531E,",
         "orientation": "v",
         "showlegend": true,
         "type": "histogram",
         "x": [
          "DIZO"
         ],
         "xaxis": "x",
         "yaxis": "y"
        },
        {
         "alignmentgroup": "True",
         "bingroup": "x",
         "hovertemplate": "processor=(28<br>company=%{x}<br>count=%{y}<extra></extra>",
         "legendgroup": "(28",
         "marker": {
          "color": "rgb(237, 100, 90)",
          "pattern": {
           "shape": ""
          }
         },
         "name": "(28",
         "offsetgroup": "(28",
         "orientation": "v",
         "showlegend": true,
         "type": "histogram",
         "x": [
          "Samsung"
         ],
         "xaxis": "x",
         "yaxis": "y"
        },
        {
         "alignmentgroup": "True",
         "bingroup": "x",
         "hovertemplate": "processor=Samsung<br>company=%{x}<br>count=%{y}<extra></extra>",
         "legendgroup": "Samsung",
         "marker": {
          "color": "rgb(165, 170, 153)",
          "pattern": {
           "shape": ""
          }
         },
         "name": "Samsung",
         "offsetgroup": "Samsung",
         "orientation": "v",
         "showlegend": true,
         "type": "histogram",
         "x": [
          "Samsung"
         ],
         "xaxis": "x",
         "yaxis": "y"
        },
        {
         "alignmentgroup": "True",
         "bingroup": "x",
         "hovertemplate": "processor=Single<br>company=%{x}<br>count=%{y}<extra></extra>",
         "legendgroup": "Single",
         "marker": {
          "color": "rgb(229, 134, 6)",
          "pattern": {
           "shape": ""
          }
         },
         "name": "Single",
         "offsetgroup": "Single",
         "orientation": "v",
         "showlegend": true,
         "type": "histogram",
         "x": [
          "BlackZone"
         ],
         "xaxis": "x",
         "yaxis": "y"
        },
        {
         "alignmentgroup": "True",
         "bingroup": "x",
         "hovertemplate": "processor=256<br>company=%{x}<br>count=%{y}<extra></extra>",
         "legendgroup": "256",
         "marker": {
          "color": "rgb(93, 105, 177)",
          "pattern": {
           "shape": ""
          }
         },
         "name": "256",
         "offsetgroup": "256",
         "orientation": "v",
         "showlegend": true,
         "type": "histogram",
         "x": [
          "Nokia"
         ],
         "xaxis": "x",
         "yaxis": "y"
        },
        {
         "alignmentgroup": "True",
         "bingroup": "x",
         "hovertemplate": "processor=48<br>company=%{x}<br>count=%{y}<extra></extra>",
         "legendgroup": "48",
         "marker": {
          "color": "rgb(82, 188, 163)",
          "pattern": {
           "shape": ""
          }
         },
         "name": "48",
         "offsetgroup": "48",
         "orientation": "v",
         "showlegend": true,
         "type": "histogram",
         "x": [
          "iKall"
         ],
         "xaxis": "x",
         "yaxis": "y"
        },
        {
         "alignmentgroup": "True",
         "bingroup": "x",
         "hovertemplate": "processor=8<br>company=%{x}<br>count=%{y}<extra></extra>",
         "legendgroup": "8",
         "marker": {
          "color": "rgb(153, 201, 69)",
          "pattern": {
           "shape": ""
          }
         },
         "name": "8",
         "offsetgroup": "8",
         "orientation": "v",
         "showlegend": true,
         "type": "histogram",
         "x": [
          "Nokia"
         ],
         "xaxis": "x",
         "yaxis": "y"
        }
       ],
       "layout": {
        "barmode": "relative",
        "height": 500,
        "legend": {
         "title": {
          "text": "processor"
         },
         "tracegroupgap": 0
        },
        "template": {
         "data": {
          "bar": [
           {
            "error_x": {
             "color": "#f2f5fa"
            },
            "error_y": {
             "color": "#f2f5fa"
            },
            "marker": {
             "line": {
              "color": "rgb(17,17,17)",
              "width": 0.5
             },
             "pattern": {
              "fillmode": "overlay",
              "size": 10,
              "solidity": 0.2
             }
            },
            "type": "bar"
           }
          ],
          "barpolar": [
           {
            "marker": {
             "line": {
              "color": "rgb(17,17,17)",
              "width": 0.5
             },
             "pattern": {
              "fillmode": "overlay",
              "size": 10,
              "solidity": 0.2
             }
            },
            "type": "barpolar"
           }
          ],
          "carpet": [
           {
            "aaxis": {
             "endlinecolor": "#A2B1C6",
             "gridcolor": "#506784",
             "linecolor": "#506784",
             "minorgridcolor": "#506784",
             "startlinecolor": "#A2B1C6"
            },
            "baxis": {
             "endlinecolor": "#A2B1C6",
             "gridcolor": "#506784",
             "linecolor": "#506784",
             "minorgridcolor": "#506784",
             "startlinecolor": "#A2B1C6"
            },
            "type": "carpet"
           }
          ],
          "choropleth": [
           {
            "colorbar": {
             "outlinewidth": 0,
             "ticks": ""
            },
            "type": "choropleth"
           }
          ],
          "contour": [
           {
            "colorbar": {
             "outlinewidth": 0,
             "ticks": ""
            },
            "colorscale": [
             [
              0,
              "#0d0887"
             ],
             [
              0.1111111111111111,
              "#46039f"
             ],
             [
              0.2222222222222222,
              "#7201a8"
             ],
             [
              0.3333333333333333,
              "#9c179e"
             ],
             [
              0.4444444444444444,
              "#bd3786"
             ],
             [
              0.5555555555555556,
              "#d8576b"
             ],
             [
              0.6666666666666666,
              "#ed7953"
             ],
             [
              0.7777777777777778,
              "#fb9f3a"
             ],
             [
              0.8888888888888888,
              "#fdca26"
             ],
             [
              1,
              "#f0f921"
             ]
            ],
            "type": "contour"
           }
          ],
          "contourcarpet": [
           {
            "colorbar": {
             "outlinewidth": 0,
             "ticks": ""
            },
            "type": "contourcarpet"
           }
          ],
          "heatmap": [
           {
            "colorbar": {
             "outlinewidth": 0,
             "ticks": ""
            },
            "colorscale": [
             [
              0,
              "#0d0887"
             ],
             [
              0.1111111111111111,
              "#46039f"
             ],
             [
              0.2222222222222222,
              "#7201a8"
             ],
             [
              0.3333333333333333,
              "#9c179e"
             ],
             [
              0.4444444444444444,
              "#bd3786"
             ],
             [
              0.5555555555555556,
              "#d8576b"
             ],
             [
              0.6666666666666666,
              "#ed7953"
             ],
             [
              0.7777777777777778,
              "#fb9f3a"
             ],
             [
              0.8888888888888888,
              "#fdca26"
             ],
             [
              1,
              "#f0f921"
             ]
            ],
            "type": "heatmap"
           }
          ],
          "heatmapgl": [
           {
            "colorbar": {
             "outlinewidth": 0,
             "ticks": ""
            },
            "colorscale": [
             [
              0,
              "#0d0887"
             ],
             [
              0.1111111111111111,
              "#46039f"
             ],
             [
              0.2222222222222222,
              "#7201a8"
             ],
             [
              0.3333333333333333,
              "#9c179e"
             ],
             [
              0.4444444444444444,
              "#bd3786"
             ],
             [
              0.5555555555555556,
              "#d8576b"
             ],
             [
              0.6666666666666666,
              "#ed7953"
             ],
             [
              0.7777777777777778,
              "#fb9f3a"
             ],
             [
              0.8888888888888888,
              "#fdca26"
             ],
             [
              1,
              "#f0f921"
             ]
            ],
            "type": "heatmapgl"
           }
          ],
          "histogram": [
           {
            "marker": {
             "pattern": {
              "fillmode": "overlay",
              "size": 10,
              "solidity": 0.2
             }
            },
            "type": "histogram"
           }
          ],
          "histogram2d": [
           {
            "colorbar": {
             "outlinewidth": 0,
             "ticks": ""
            },
            "colorscale": [
             [
              0,
              "#0d0887"
             ],
             [
              0.1111111111111111,
              "#46039f"
             ],
             [
              0.2222222222222222,
              "#7201a8"
             ],
             [
              0.3333333333333333,
              "#9c179e"
             ],
             [
              0.4444444444444444,
              "#bd3786"
             ],
             [
              0.5555555555555556,
              "#d8576b"
             ],
             [
              0.6666666666666666,
              "#ed7953"
             ],
             [
              0.7777777777777778,
              "#fb9f3a"
             ],
             [
              0.8888888888888888,
              "#fdca26"
             ],
             [
              1,
              "#f0f921"
             ]
            ],
            "type": "histogram2d"
           }
          ],
          "histogram2dcontour": [
           {
            "colorbar": {
             "outlinewidth": 0,
             "ticks": ""
            },
            "colorscale": [
             [
              0,
              "#0d0887"
             ],
             [
              0.1111111111111111,
              "#46039f"
             ],
             [
              0.2222222222222222,
              "#7201a8"
             ],
             [
              0.3333333333333333,
              "#9c179e"
             ],
             [
              0.4444444444444444,
              "#bd3786"
             ],
             [
              0.5555555555555556,
              "#d8576b"
             ],
             [
              0.6666666666666666,
              "#ed7953"
             ],
             [
              0.7777777777777778,
              "#fb9f3a"
             ],
             [
              0.8888888888888888,
              "#fdca26"
             ],
             [
              1,
              "#f0f921"
             ]
            ],
            "type": "histogram2dcontour"
           }
          ],
          "mesh3d": [
           {
            "colorbar": {
             "outlinewidth": 0,
             "ticks": ""
            },
            "type": "mesh3d"
           }
          ],
          "parcoords": [
           {
            "line": {
             "colorbar": {
              "outlinewidth": 0,
              "ticks": ""
             }
            },
            "type": "parcoords"
           }
          ],
          "pie": [
           {
            "automargin": true,
            "type": "pie"
           }
          ],
          "scatter": [
           {
            "marker": {
             "line": {
              "color": "#283442"
             }
            },
            "type": "scatter"
           }
          ],
          "scatter3d": [
           {
            "line": {
             "colorbar": {
              "outlinewidth": 0,
              "ticks": ""
             }
            },
            "marker": {
             "colorbar": {
              "outlinewidth": 0,
              "ticks": ""
             }
            },
            "type": "scatter3d"
           }
          ],
          "scattercarpet": [
           {
            "marker": {
             "colorbar": {
              "outlinewidth": 0,
              "ticks": ""
             }
            },
            "type": "scattercarpet"
           }
          ],
          "scattergeo": [
           {
            "marker": {
             "colorbar": {
              "outlinewidth": 0,
              "ticks": ""
             }
            },
            "type": "scattergeo"
           }
          ],
          "scattergl": [
           {
            "marker": {
             "line": {
              "color": "#283442"
             }
            },
            "type": "scattergl"
           }
          ],
          "scattermapbox": [
           {
            "marker": {
             "colorbar": {
              "outlinewidth": 0,
              "ticks": ""
             }
            },
            "type": "scattermapbox"
           }
          ],
          "scatterpolar": [
           {
            "marker": {
             "colorbar": {
              "outlinewidth": 0,
              "ticks": ""
             }
            },
            "type": "scatterpolar"
           }
          ],
          "scatterpolargl": [
           {
            "marker": {
             "colorbar": {
              "outlinewidth": 0,
              "ticks": ""
             }
            },
            "type": "scatterpolargl"
           }
          ],
          "scatterternary": [
           {
            "marker": {
             "colorbar": {
              "outlinewidth": 0,
              "ticks": ""
             }
            },
            "type": "scatterternary"
           }
          ],
          "surface": [
           {
            "colorbar": {
             "outlinewidth": 0,
             "ticks": ""
            },
            "colorscale": [
             [
              0,
              "#0d0887"
             ],
             [
              0.1111111111111111,
              "#46039f"
             ],
             [
              0.2222222222222222,
              "#7201a8"
             ],
             [
              0.3333333333333333,
              "#9c179e"
             ],
             [
              0.4444444444444444,
              "#bd3786"
             ],
             [
              0.5555555555555556,
              "#d8576b"
             ],
             [
              0.6666666666666666,
              "#ed7953"
             ],
             [
              0.7777777777777778,
              "#fb9f3a"
             ],
             [
              0.8888888888888888,
              "#fdca26"
             ],
             [
              1,
              "#f0f921"
             ]
            ],
            "type": "surface"
           }
          ],
          "table": [
           {
            "cells": {
             "fill": {
              "color": "#506784"
             },
             "line": {
              "color": "rgb(17,17,17)"
             }
            },
            "header": {
             "fill": {
              "color": "#2a3f5f"
             },
             "line": {
              "color": "rgb(17,17,17)"
             }
            },
            "type": "table"
           }
          ]
         },
         "layout": {
          "annotationdefaults": {
           "arrowcolor": "#f2f5fa",
           "arrowhead": 0,
           "arrowwidth": 1
          },
          "autotypenumbers": "strict",
          "coloraxis": {
           "colorbar": {
            "outlinewidth": 0,
            "ticks": ""
           }
          },
          "colorscale": {
           "diverging": [
            [
             0,
             "#8e0152"
            ],
            [
             0.1,
             "#c51b7d"
            ],
            [
             0.2,
             "#de77ae"
            ],
            [
             0.3,
             "#f1b6da"
            ],
            [
             0.4,
             "#fde0ef"
            ],
            [
             0.5,
             "#f7f7f7"
            ],
            [
             0.6,
             "#e6f5d0"
            ],
            [
             0.7,
             "#b8e186"
            ],
            [
             0.8,
             "#7fbc41"
            ],
            [
             0.9,
             "#4d9221"
            ],
            [
             1,
             "#276419"
            ]
           ],
           "sequential": [
            [
             0,
             "#0d0887"
            ],
            [
             0.1111111111111111,
             "#46039f"
            ],
            [
             0.2222222222222222,
             "#7201a8"
            ],
            [
             0.3333333333333333,
             "#9c179e"
            ],
            [
             0.4444444444444444,
             "#bd3786"
            ],
            [
             0.5555555555555556,
             "#d8576b"
            ],
            [
             0.6666666666666666,
             "#ed7953"
            ],
            [
             0.7777777777777778,
             "#fb9f3a"
            ],
            [
             0.8888888888888888,
             "#fdca26"
            ],
            [
             1,
             "#f0f921"
            ]
           ],
           "sequentialminus": [
            [
             0,
             "#0d0887"
            ],
            [
             0.1111111111111111,
             "#46039f"
            ],
            [
             0.2222222222222222,
             "#7201a8"
            ],
            [
             0.3333333333333333,
             "#9c179e"
            ],
            [
             0.4444444444444444,
             "#bd3786"
            ],
            [
             0.5555555555555556,
             "#d8576b"
            ],
            [
             0.6666666666666666,
             "#ed7953"
            ],
            [
             0.7777777777777778,
             "#fb9f3a"
            ],
            [
             0.8888888888888888,
             "#fdca26"
            ],
            [
             1,
             "#f0f921"
            ]
           ]
          },
          "colorway": [
           "#636efa",
           "#EF553B",
           "#00cc96",
           "#ab63fa",
           "#FFA15A",
           "#19d3f3",
           "#FF6692",
           "#B6E880",
           "#FF97FF",
           "#FECB52"
          ],
          "font": {
           "color": "#f2f5fa"
          },
          "geo": {
           "bgcolor": "rgb(17,17,17)",
           "lakecolor": "rgb(17,17,17)",
           "landcolor": "rgb(17,17,17)",
           "showlakes": true,
           "showland": true,
           "subunitcolor": "#506784"
          },
          "hoverlabel": {
           "align": "left"
          },
          "hovermode": "closest",
          "mapbox": {
           "style": "dark"
          },
          "paper_bgcolor": "rgb(17,17,17)",
          "plot_bgcolor": "rgb(17,17,17)",
          "polar": {
           "angularaxis": {
            "gridcolor": "#506784",
            "linecolor": "#506784",
            "ticks": ""
           },
           "bgcolor": "rgb(17,17,17)",
           "radialaxis": {
            "gridcolor": "#506784",
            "linecolor": "#506784",
            "ticks": ""
           }
          },
          "scene": {
           "xaxis": {
            "backgroundcolor": "rgb(17,17,17)",
            "gridcolor": "#506784",
            "gridwidth": 2,
            "linecolor": "#506784",
            "showbackground": true,
            "ticks": "",
            "zerolinecolor": "#C8D4E3"
           },
           "yaxis": {
            "backgroundcolor": "rgb(17,17,17)",
            "gridcolor": "#506784",
            "gridwidth": 2,
            "linecolor": "#506784",
            "showbackground": true,
            "ticks": "",
            "zerolinecolor": "#C8D4E3"
           },
           "zaxis": {
            "backgroundcolor": "rgb(17,17,17)",
            "gridcolor": "#506784",
            "gridwidth": 2,
            "linecolor": "#506784",
            "showbackground": true,
            "ticks": "",
            "zerolinecolor": "#C8D4E3"
           }
          },
          "shapedefaults": {
           "line": {
            "color": "#f2f5fa"
           }
          },
          "sliderdefaults": {
           "bgcolor": "#C8D4E3",
           "bordercolor": "rgb(17,17,17)",
           "borderwidth": 1,
           "tickwidth": 0
          },
          "ternary": {
           "aaxis": {
            "gridcolor": "#506784",
            "linecolor": "#506784",
            "ticks": ""
           },
           "baxis": {
            "gridcolor": "#506784",
            "linecolor": "#506784",
            "ticks": ""
           },
           "bgcolor": "rgb(17,17,17)",
           "caxis": {
            "gridcolor": "#506784",
            "linecolor": "#506784",
            "ticks": ""
           }
          },
          "title": {
           "x": 0.05
          },
          "updatemenudefaults": {
           "bgcolor": "#506784",
           "borderwidth": 0
          },
          "xaxis": {
           "automargin": true,
           "gridcolor": "#283442",
           "linecolor": "#506784",
           "ticks": "",
           "title": {
            "standoff": 15
           },
           "zerolinecolor": "#283442",
           "zerolinewidth": 2
          },
          "yaxis": {
           "automargin": true,
           "gridcolor": "#283442",
           "linecolor": "#506784",
           "ticks": "",
           "title": {
            "standoff": 15
           },
           "zerolinecolor": "#283442",
           "zerolinewidth": 2
          }
         }
        },
        "title": {
         "font": {
          "size": 20
         },
         "text": "<b>Count of Processor for every mobile company"
        },
        "width": 1500,
        "xaxis": {
         "anchor": "y",
         "domain": [
          0,
          1
         ],
         "title": {
          "text": "company"
         }
        },
        "yaxis": {
         "anchor": "x",
         "domain": [
          0,
          1
         ],
         "title": {
          "text": "count"
         }
        }
       }
      }
     },
     "metadata": {},
     "output_type": "display_data"
    }
   ],
   "source": [
    "fig=px.histogram(df,x=\"company\",color=\"processor\",title=\"<b>Count of Processor for every mobile company\",\n",
    "                color_discrete_sequence=px.colors.qualitative.Vivid,\n",
    "                width=1500, height=500)\n",
    "fig.update_layout(template=\"plotly_dark\")\n",
    "fig.update_layout(title_font_size=20)\n",
    "fig.show()"
   ]
  },
  {
   "cell_type": "code",
   "execution_count": 19,
   "id": "4ac3418d",
   "metadata": {},
   "outputs": [
    {
     "data": {
      "text/html": [
       "<div>\n",
       "<style scoped>\n",
       "    .dataframe tbody tr th:only-of-type {\n",
       "        vertical-align: middle;\n",
       "    }\n",
       "\n",
       "    .dataframe tbody tr th {\n",
       "        vertical-align: top;\n",
       "    }\n",
       "\n",
       "    .dataframe thead th {\n",
       "        text-align: right;\n",
       "    }\n",
       "</style>\n",
       "<table border=\"1\" class=\"dataframe\">\n",
       "  <thead>\n",
       "    <tr style=\"text-align: right;\">\n",
       "      <th></th>\n",
       "      <th>company</th>\n",
       "      <th>price</th>\n",
       "      <th>rating</th>\n",
       "      <th>processor</th>\n",
       "      <th>ram</th>\n",
       "      <th>battery</th>\n",
       "      <th>screen_size</th>\n",
       "      <th>width</th>\n",
       "      <th>height</th>\n",
       "      <th>frequency</th>\n",
       "      <th>rom</th>\n",
       "    </tr>\n",
       "  </thead>\n",
       "  <tbody>\n",
       "    <tr>\n",
       "      <th>0</th>\n",
       "      <td>OnePlus</td>\n",
       "      <td>54999</td>\n",
       "      <td>89.0</td>\n",
       "      <td>Snapdragon</td>\n",
       "      <td>12.0</td>\n",
       "      <td>100.0</td>\n",
       "      <td>6.0</td>\n",
       "      <td>1440.0</td>\n",
       "      <td>3216.0</td>\n",
       "      <td>120.0</td>\n",
       "      <td>256.0</td>\n",
       "    </tr>\n",
       "    <tr>\n",
       "      <th>1</th>\n",
       "      <td>OnePlus</td>\n",
       "      <td>19989</td>\n",
       "      <td>81.0</td>\n",
       "      <td>Snapdragon</td>\n",
       "      <td>6.0</td>\n",
       "      <td>33.0</td>\n",
       "      <td>6.0</td>\n",
       "      <td>1080.0</td>\n",
       "      <td>2412.0</td>\n",
       "      <td>120.0</td>\n",
       "      <td>128.0</td>\n",
       "    </tr>\n",
       "    <tr>\n",
       "      <th>2</th>\n",
       "      <td>Samsung</td>\n",
       "      <td>16499</td>\n",
       "      <td>75.0</td>\n",
       "      <td>Exynos</td>\n",
       "      <td>4.0</td>\n",
       "      <td>15.0</td>\n",
       "      <td>6.0</td>\n",
       "      <td>1080.0</td>\n",
       "      <td>2408.0</td>\n",
       "      <td>90.0</td>\n",
       "      <td>64.0</td>\n",
       "    </tr>\n",
       "    <tr>\n",
       "      <th>3</th>\n",
       "      <td>Motorola</td>\n",
       "      <td>14999</td>\n",
       "      <td>81.0</td>\n",
       "      <td>Snapdragon</td>\n",
       "      <td>6.0</td>\n",
       "      <td>NaN</td>\n",
       "      <td>6.0</td>\n",
       "      <td>1080.0</td>\n",
       "      <td>2400.0</td>\n",
       "      <td>120.0</td>\n",
       "      <td>128.0</td>\n",
       "    </tr>\n",
       "    <tr>\n",
       "      <th>4</th>\n",
       "      <td>Realme</td>\n",
       "      <td>24999</td>\n",
       "      <td>82.0</td>\n",
       "      <td>Dimensity</td>\n",
       "      <td>6.0</td>\n",
       "      <td>67.0</td>\n",
       "      <td>6.0</td>\n",
       "      <td>1080.0</td>\n",
       "      <td>2412.0</td>\n",
       "      <td>120.0</td>\n",
       "      <td>128.0</td>\n",
       "    </tr>\n",
       "  </tbody>\n",
       "</table>\n",
       "</div>"
      ],
      "text/plain": [
       "    company  price  rating   processor   ram  battery  screen_size   width  \\\n",
       "0   OnePlus  54999    89.0  Snapdragon  12.0    100.0          6.0  1440.0   \n",
       "1   OnePlus  19989    81.0  Snapdragon   6.0     33.0          6.0  1080.0   \n",
       "2   Samsung  16499    75.0      Exynos   4.0     15.0          6.0  1080.0   \n",
       "3  Motorola  14999    81.0  Snapdragon   6.0      NaN          6.0  1080.0   \n",
       "4    Realme  24999    82.0   Dimensity   6.0     67.0          6.0  1080.0   \n",
       "\n",
       "   height  frequency    rom  \n",
       "0  3216.0      120.0  256.0  \n",
       "1  2412.0      120.0  128.0  \n",
       "2  2408.0       90.0   64.0  \n",
       "3  2400.0      120.0  128.0  \n",
       "4  2412.0      120.0  128.0  "
      ]
     },
     "execution_count": 19,
     "metadata": {},
     "output_type": "execute_result"
    }
   ],
   "source": [
    "df.head(5) "
   ]
  },
  {
   "cell_type": "code",
   "execution_count": 20,
   "id": "0f8b1640",
   "metadata": {},
   "outputs": [
    {
     "data": {
      "text/plain": [
       "company          0\n",
       "price            0\n",
       "rating         141\n",
       "processor        0\n",
       "ram              1\n",
       "battery        219\n",
       "screen_size     53\n",
       "width           33\n",
       "height          33\n",
       "frequency      409\n",
       "rom             23\n",
       "dtype: int64"
      ]
     },
     "execution_count": 20,
     "metadata": {},
     "output_type": "execute_result"
    }
   ],
   "source": [
    "df.isna().sum() "
   ]
  },
  {
   "attachments": {},
   "cell_type": "markdown",
   "id": "32bcd66d",
   "metadata": {},
   "source": [
    "# Filling Missing Value "
   ]
  },
  {
   "cell_type": "code",
   "execution_count": null,
   "id": "16d6733d",
   "metadata": {},
   "outputs": [],
   "source": []
  },
  {
   "cell_type": "code",
   "execution_count": 21,
   "id": "fa42406e",
   "metadata": {},
   "outputs": [],
   "source": [
    "df[\"rating\"].fillna(df[\"rating\"].mean(), inplace=True)  \n",
    "df[\"battery\"].fillna(df[\"battery\"].mean() , inplace=True)\n",
    "df[\"frequency\"].fillna(df[\"frequency\"].mean() , inplace=True)\n",
    "df[\"height\"].fillna(df[\"height\"].mean() , inplace=True)\n",
    "df[\"rom\"].fillna(df[\"rom\"].mean() , inplace=True)\n",
    "df[\"width\"].fillna(df[\"width\"].mean() , inplace=True)\n",
    "df[\"screen_size\"].fillna(df[\"screen_size\"].mean() , inplace=True)\n",
    "df[\"ram\"].fillna(df[\"ram\"].mean() , inplace=True)\n",
    "\n"
   ]
  },
  {
   "cell_type": "code",
   "execution_count": 22,
   "id": "267f9e01",
   "metadata": {},
   "outputs": [
    {
     "data": {
      "text/plain": [
       "company        0\n",
       "price          0\n",
       "rating         0\n",
       "processor      0\n",
       "ram            0\n",
       "battery        0\n",
       "screen_size    0\n",
       "width          0\n",
       "height         0\n",
       "frequency      0\n",
       "rom            0\n",
       "dtype: int64"
      ]
     },
     "execution_count": 22,
     "metadata": {},
     "output_type": "execute_result"
    }
   ],
   "source": [
    "df.isna().sum() "
   ]
  },
  {
   "attachments": {},
   "cell_type": "markdown",
   "id": "08206862",
   "metadata": {},
   "source": [
    "# spliting data into X and y "
   ]
  },
  {
   "cell_type": "code",
   "execution_count": 23,
   "id": "0d2cafde",
   "metadata": {},
   "outputs": [
    {
     "data": {
      "text/html": [
       "<div>\n",
       "<style scoped>\n",
       "    .dataframe tbody tr th:only-of-type {\n",
       "        vertical-align: middle;\n",
       "    }\n",
       "\n",
       "    .dataframe tbody tr th {\n",
       "        vertical-align: top;\n",
       "    }\n",
       "\n",
       "    .dataframe thead th {\n",
       "        text-align: right;\n",
       "    }\n",
       "</style>\n",
       "<table border=\"1\" class=\"dataframe\">\n",
       "  <thead>\n",
       "    <tr style=\"text-align: right;\">\n",
       "      <th></th>\n",
       "      <th>company</th>\n",
       "      <th>rating</th>\n",
       "      <th>processor</th>\n",
       "      <th>ram</th>\n",
       "      <th>battery</th>\n",
       "      <th>screen_size</th>\n",
       "      <th>width</th>\n",
       "      <th>height</th>\n",
       "      <th>frequency</th>\n",
       "      <th>rom</th>\n",
       "    </tr>\n",
       "  </thead>\n",
       "  <tbody>\n",
       "    <tr>\n",
       "      <th>0</th>\n",
       "      <td>OnePlus</td>\n",
       "      <td>89.0</td>\n",
       "      <td>Snapdragon</td>\n",
       "      <td>12.0</td>\n",
       "      <td>100.000000</td>\n",
       "      <td>6.0</td>\n",
       "      <td>1440.0</td>\n",
       "      <td>3216.0</td>\n",
       "      <td>120.0</td>\n",
       "      <td>256.0</td>\n",
       "    </tr>\n",
       "    <tr>\n",
       "      <th>1</th>\n",
       "      <td>OnePlus</td>\n",
       "      <td>81.0</td>\n",
       "      <td>Snapdragon</td>\n",
       "      <td>6.0</td>\n",
       "      <td>33.000000</td>\n",
       "      <td>6.0</td>\n",
       "      <td>1080.0</td>\n",
       "      <td>2412.0</td>\n",
       "      <td>120.0</td>\n",
       "      <td>128.0</td>\n",
       "    </tr>\n",
       "    <tr>\n",
       "      <th>2</th>\n",
       "      <td>Samsung</td>\n",
       "      <td>75.0</td>\n",
       "      <td>Exynos</td>\n",
       "      <td>4.0</td>\n",
       "      <td>15.000000</td>\n",
       "      <td>6.0</td>\n",
       "      <td>1080.0</td>\n",
       "      <td>2408.0</td>\n",
       "      <td>90.0</td>\n",
       "      <td>64.0</td>\n",
       "    </tr>\n",
       "    <tr>\n",
       "      <th>3</th>\n",
       "      <td>Motorola</td>\n",
       "      <td>81.0</td>\n",
       "      <td>Snapdragon</td>\n",
       "      <td>6.0</td>\n",
       "      <td>46.329588</td>\n",
       "      <td>6.0</td>\n",
       "      <td>1080.0</td>\n",
       "      <td>2400.0</td>\n",
       "      <td>120.0</td>\n",
       "      <td>128.0</td>\n",
       "    </tr>\n",
       "    <tr>\n",
       "      <th>4</th>\n",
       "      <td>Realme</td>\n",
       "      <td>82.0</td>\n",
       "      <td>Dimensity</td>\n",
       "      <td>6.0</td>\n",
       "      <td>67.000000</td>\n",
       "      <td>6.0</td>\n",
       "      <td>1080.0</td>\n",
       "      <td>2412.0</td>\n",
       "      <td>120.0</td>\n",
       "      <td>128.0</td>\n",
       "    </tr>\n",
       "  </tbody>\n",
       "</table>\n",
       "</div>"
      ],
      "text/plain": [
       "    company  rating   processor   ram     battery  screen_size   width  \\\n",
       "0   OnePlus    89.0  Snapdragon  12.0  100.000000          6.0  1440.0   \n",
       "1   OnePlus    81.0  Snapdragon   6.0   33.000000          6.0  1080.0   \n",
       "2   Samsung    75.0      Exynos   4.0   15.000000          6.0  1080.0   \n",
       "3  Motorola    81.0  Snapdragon   6.0   46.329588          6.0  1080.0   \n",
       "4    Realme    82.0   Dimensity   6.0   67.000000          6.0  1080.0   \n",
       "\n",
       "   height  frequency    rom  \n",
       "0  3216.0      120.0  256.0  \n",
       "1  2412.0      120.0  128.0  \n",
       "2  2408.0       90.0   64.0  \n",
       "3  2400.0      120.0  128.0  \n",
       "4  2412.0      120.0  128.0  "
      ]
     },
     "execution_count": 23,
     "metadata": {},
     "output_type": "execute_result"
    }
   ],
   "source": [
    "X = df.drop(\"price\" , axis=1) \n",
    "X.head(5)  "
   ]
  },
  {
   "cell_type": "code",
   "execution_count": 24,
   "id": "a70e3abb",
   "metadata": {},
   "outputs": [
    {
     "data": {
      "text/plain": [
       "0    54999\n",
       "1    19989\n",
       "2    16499\n",
       "Name: price, dtype: int64"
      ]
     },
     "execution_count": 24,
     "metadata": {},
     "output_type": "execute_result"
    }
   ],
   "source": [
    "y = df[\"price\"]\n",
    "y.head(3) "
   ]
  },
  {
   "attachments": {},
   "cell_type": "markdown",
   "id": "dd73e48b",
   "metadata": {},
   "source": [
    "# converting data non numberic data into numberic   "
   ]
  },
  {
   "cell_type": "code",
   "execution_count": 25,
   "id": "bc350b05",
   "metadata": {},
   "outputs": [
    {
     "data": {
      "text/plain": [
       "<1020x135 sparse matrix of type '<class 'numpy.float64'>'\n",
       "\twith 10200 stored elements in Compressed Sparse Row format>"
      ]
     },
     "execution_count": 25,
     "metadata": {},
     "output_type": "execute_result"
    }
   ],
   "source": [
    "from sklearn.preprocessing import OneHotEncoder \n",
    "from sklearn.compose import ColumnTransformer \n",
    "categorical_features = [\"company\" , \"processor\" ,\"ram\" , \"screen_size\" ]\n",
    "one_hot = OneHotEncoder() \n",
    "transformer = ColumnTransformer([(\"one_hot\" , one_hot , categorical_features)], remainder=\"passthrough\")\n",
    "transformed_X = transformer.fit_transform(X)  \n",
    "transformed_X   "
   ]
  },
  {
   "cell_type": "code",
   "execution_count": 26,
   "id": "09497c87",
   "metadata": {},
   "outputs": [
    {
     "data": {
      "text/html": [
       "<div>\n",
       "<style scoped>\n",
       "    .dataframe tbody tr th:only-of-type {\n",
       "        vertical-align: middle;\n",
       "    }\n",
       "\n",
       "    .dataframe tbody tr th {\n",
       "        vertical-align: top;\n",
       "    }\n",
       "\n",
       "    .dataframe thead th {\n",
       "        text-align: right;\n",
       "    }\n",
       "</style>\n",
       "<table border=\"1\" class=\"dataframe\">\n",
       "  <thead>\n",
       "    <tr style=\"text-align: right;\">\n",
       "      <th></th>\n",
       "      <th>0</th>\n",
       "      <th>1</th>\n",
       "      <th>2</th>\n",
       "      <th>3</th>\n",
       "      <th>4</th>\n",
       "      <th>5</th>\n",
       "      <th>6</th>\n",
       "      <th>7</th>\n",
       "      <th>8</th>\n",
       "      <th>9</th>\n",
       "      <th>...</th>\n",
       "      <th>125</th>\n",
       "      <th>126</th>\n",
       "      <th>127</th>\n",
       "      <th>128</th>\n",
       "      <th>129</th>\n",
       "      <th>130</th>\n",
       "      <th>131</th>\n",
       "      <th>132</th>\n",
       "      <th>133</th>\n",
       "      <th>134</th>\n",
       "    </tr>\n",
       "  </thead>\n",
       "  <tbody>\n",
       "    <tr>\n",
       "      <th>0</th>\n",
       "      <td>0.0</td>\n",
       "      <td>0.0</td>\n",
       "      <td>0.0</td>\n",
       "      <td>0.0</td>\n",
       "      <td>0.0</td>\n",
       "      <td>0.0</td>\n",
       "      <td>0.0</td>\n",
       "      <td>0.0</td>\n",
       "      <td>0.0</td>\n",
       "      <td>0.0</td>\n",
       "      <td>...</td>\n",
       "      <td>0.0</td>\n",
       "      <td>1.0</td>\n",
       "      <td>0.0</td>\n",
       "      <td>0.0</td>\n",
       "      <td>89.0</td>\n",
       "      <td>100.000000</td>\n",
       "      <td>1440.0</td>\n",
       "      <td>3216.0</td>\n",
       "      <td>120.000000</td>\n",
       "      <td>256.0</td>\n",
       "    </tr>\n",
       "    <tr>\n",
       "      <th>1</th>\n",
       "      <td>0.0</td>\n",
       "      <td>0.0</td>\n",
       "      <td>0.0</td>\n",
       "      <td>0.0</td>\n",
       "      <td>0.0</td>\n",
       "      <td>0.0</td>\n",
       "      <td>0.0</td>\n",
       "      <td>0.0</td>\n",
       "      <td>0.0</td>\n",
       "      <td>0.0</td>\n",
       "      <td>...</td>\n",
       "      <td>0.0</td>\n",
       "      <td>1.0</td>\n",
       "      <td>0.0</td>\n",
       "      <td>0.0</td>\n",
       "      <td>81.0</td>\n",
       "      <td>33.000000</td>\n",
       "      <td>1080.0</td>\n",
       "      <td>2412.0</td>\n",
       "      <td>120.000000</td>\n",
       "      <td>128.0</td>\n",
       "    </tr>\n",
       "    <tr>\n",
       "      <th>2</th>\n",
       "      <td>0.0</td>\n",
       "      <td>0.0</td>\n",
       "      <td>0.0</td>\n",
       "      <td>0.0</td>\n",
       "      <td>0.0</td>\n",
       "      <td>0.0</td>\n",
       "      <td>0.0</td>\n",
       "      <td>0.0</td>\n",
       "      <td>0.0</td>\n",
       "      <td>0.0</td>\n",
       "      <td>...</td>\n",
       "      <td>0.0</td>\n",
       "      <td>1.0</td>\n",
       "      <td>0.0</td>\n",
       "      <td>0.0</td>\n",
       "      <td>75.0</td>\n",
       "      <td>15.000000</td>\n",
       "      <td>1080.0</td>\n",
       "      <td>2408.0</td>\n",
       "      <td>90.000000</td>\n",
       "      <td>64.0</td>\n",
       "    </tr>\n",
       "    <tr>\n",
       "      <th>3</th>\n",
       "      <td>0.0</td>\n",
       "      <td>0.0</td>\n",
       "      <td>0.0</td>\n",
       "      <td>0.0</td>\n",
       "      <td>0.0</td>\n",
       "      <td>0.0</td>\n",
       "      <td>0.0</td>\n",
       "      <td>0.0</td>\n",
       "      <td>0.0</td>\n",
       "      <td>0.0</td>\n",
       "      <td>...</td>\n",
       "      <td>0.0</td>\n",
       "      <td>1.0</td>\n",
       "      <td>0.0</td>\n",
       "      <td>0.0</td>\n",
       "      <td>81.0</td>\n",
       "      <td>46.329588</td>\n",
       "      <td>1080.0</td>\n",
       "      <td>2400.0</td>\n",
       "      <td>120.000000</td>\n",
       "      <td>128.0</td>\n",
       "    </tr>\n",
       "    <tr>\n",
       "      <th>4</th>\n",
       "      <td>0.0</td>\n",
       "      <td>0.0</td>\n",
       "      <td>0.0</td>\n",
       "      <td>0.0</td>\n",
       "      <td>0.0</td>\n",
       "      <td>0.0</td>\n",
       "      <td>0.0</td>\n",
       "      <td>0.0</td>\n",
       "      <td>0.0</td>\n",
       "      <td>0.0</td>\n",
       "      <td>...</td>\n",
       "      <td>0.0</td>\n",
       "      <td>1.0</td>\n",
       "      <td>0.0</td>\n",
       "      <td>0.0</td>\n",
       "      <td>82.0</td>\n",
       "      <td>67.000000</td>\n",
       "      <td>1080.0</td>\n",
       "      <td>2412.0</td>\n",
       "      <td>120.000000</td>\n",
       "      <td>128.0</td>\n",
       "    </tr>\n",
       "    <tr>\n",
       "      <th>...</th>\n",
       "      <td>...</td>\n",
       "      <td>...</td>\n",
       "      <td>...</td>\n",
       "      <td>...</td>\n",
       "      <td>...</td>\n",
       "      <td>...</td>\n",
       "      <td>...</td>\n",
       "      <td>...</td>\n",
       "      <td>...</td>\n",
       "      <td>...</td>\n",
       "      <td>...</td>\n",
       "      <td>...</td>\n",
       "      <td>...</td>\n",
       "      <td>...</td>\n",
       "      <td>...</td>\n",
       "      <td>...</td>\n",
       "      <td>...</td>\n",
       "      <td>...</td>\n",
       "      <td>...</td>\n",
       "      <td>...</td>\n",
       "      <td>...</td>\n",
       "    </tr>\n",
       "    <tr>\n",
       "      <th>1015</th>\n",
       "      <td>0.0</td>\n",
       "      <td>0.0</td>\n",
       "      <td>0.0</td>\n",
       "      <td>0.0</td>\n",
       "      <td>0.0</td>\n",
       "      <td>0.0</td>\n",
       "      <td>0.0</td>\n",
       "      <td>0.0</td>\n",
       "      <td>0.0</td>\n",
       "      <td>0.0</td>\n",
       "      <td>...</td>\n",
       "      <td>0.0</td>\n",
       "      <td>1.0</td>\n",
       "      <td>0.0</td>\n",
       "      <td>0.0</td>\n",
       "      <td>83.0</td>\n",
       "      <td>68.000000</td>\n",
       "      <td>1080.0</td>\n",
       "      <td>2460.0</td>\n",
       "      <td>120.000000</td>\n",
       "      <td>128.0</td>\n",
       "    </tr>\n",
       "    <tr>\n",
       "      <th>1016</th>\n",
       "      <td>0.0</td>\n",
       "      <td>0.0</td>\n",
       "      <td>0.0</td>\n",
       "      <td>0.0</td>\n",
       "      <td>0.0</td>\n",
       "      <td>0.0</td>\n",
       "      <td>0.0</td>\n",
       "      <td>0.0</td>\n",
       "      <td>0.0</td>\n",
       "      <td>0.0</td>\n",
       "      <td>...</td>\n",
       "      <td>0.0</td>\n",
       "      <td>1.0</td>\n",
       "      <td>0.0</td>\n",
       "      <td>0.0</td>\n",
       "      <td>75.0</td>\n",
       "      <td>22.000000</td>\n",
       "      <td>720.0</td>\n",
       "      <td>1600.0</td>\n",
       "      <td>111.638298</td>\n",
       "      <td>128.0</td>\n",
       "    </tr>\n",
       "    <tr>\n",
       "      <th>1017</th>\n",
       "      <td>0.0</td>\n",
       "      <td>0.0</td>\n",
       "      <td>0.0</td>\n",
       "      <td>0.0</td>\n",
       "      <td>0.0</td>\n",
       "      <td>0.0</td>\n",
       "      <td>0.0</td>\n",
       "      <td>0.0</td>\n",
       "      <td>0.0</td>\n",
       "      <td>0.0</td>\n",
       "      <td>...</td>\n",
       "      <td>0.0</td>\n",
       "      <td>1.0</td>\n",
       "      <td>0.0</td>\n",
       "      <td>0.0</td>\n",
       "      <td>85.0</td>\n",
       "      <td>67.000000</td>\n",
       "      <td>1080.0</td>\n",
       "      <td>2460.0</td>\n",
       "      <td>144.000000</td>\n",
       "      <td>256.0</td>\n",
       "    </tr>\n",
       "    <tr>\n",
       "      <th>1018</th>\n",
       "      <td>0.0</td>\n",
       "      <td>0.0</td>\n",
       "      <td>0.0</td>\n",
       "      <td>0.0</td>\n",
       "      <td>0.0</td>\n",
       "      <td>0.0</td>\n",
       "      <td>0.0</td>\n",
       "      <td>0.0</td>\n",
       "      <td>0.0</td>\n",
       "      <td>0.0</td>\n",
       "      <td>...</td>\n",
       "      <td>0.0</td>\n",
       "      <td>1.0</td>\n",
       "      <td>0.0</td>\n",
       "      <td>0.0</td>\n",
       "      <td>80.0</td>\n",
       "      <td>46.329588</td>\n",
       "      <td>1080.0</td>\n",
       "      <td>2400.0</td>\n",
       "      <td>111.638298</td>\n",
       "      <td>128.0</td>\n",
       "    </tr>\n",
       "    <tr>\n",
       "      <th>1019</th>\n",
       "      <td>0.0</td>\n",
       "      <td>0.0</td>\n",
       "      <td>0.0</td>\n",
       "      <td>0.0</td>\n",
       "      <td>0.0</td>\n",
       "      <td>0.0</td>\n",
       "      <td>0.0</td>\n",
       "      <td>0.0</td>\n",
       "      <td>0.0</td>\n",
       "      <td>0.0</td>\n",
       "      <td>...</td>\n",
       "      <td>0.0</td>\n",
       "      <td>1.0</td>\n",
       "      <td>0.0</td>\n",
       "      <td>0.0</td>\n",
       "      <td>74.0</td>\n",
       "      <td>46.329588</td>\n",
       "      <td>1080.0</td>\n",
       "      <td>2400.0</td>\n",
       "      <td>111.638298</td>\n",
       "      <td>128.0</td>\n",
       "    </tr>\n",
       "  </tbody>\n",
       "</table>\n",
       "<p>1020 rows × 135 columns</p>\n",
       "</div>"
      ],
      "text/plain": [
       "      0    1    2    3    4    5    6    7    8    9    ...  125  126  127  \\\n",
       "0     0.0  0.0  0.0  0.0  0.0  0.0  0.0  0.0  0.0  0.0  ...  0.0  1.0  0.0   \n",
       "1     0.0  0.0  0.0  0.0  0.0  0.0  0.0  0.0  0.0  0.0  ...  0.0  1.0  0.0   \n",
       "2     0.0  0.0  0.0  0.0  0.0  0.0  0.0  0.0  0.0  0.0  ...  0.0  1.0  0.0   \n",
       "3     0.0  0.0  0.0  0.0  0.0  0.0  0.0  0.0  0.0  0.0  ...  0.0  1.0  0.0   \n",
       "4     0.0  0.0  0.0  0.0  0.0  0.0  0.0  0.0  0.0  0.0  ...  0.0  1.0  0.0   \n",
       "...   ...  ...  ...  ...  ...  ...  ...  ...  ...  ...  ...  ...  ...  ...   \n",
       "1015  0.0  0.0  0.0  0.0  0.0  0.0  0.0  0.0  0.0  0.0  ...  0.0  1.0  0.0   \n",
       "1016  0.0  0.0  0.0  0.0  0.0  0.0  0.0  0.0  0.0  0.0  ...  0.0  1.0  0.0   \n",
       "1017  0.0  0.0  0.0  0.0  0.0  0.0  0.0  0.0  0.0  0.0  ...  0.0  1.0  0.0   \n",
       "1018  0.0  0.0  0.0  0.0  0.0  0.0  0.0  0.0  0.0  0.0  ...  0.0  1.0  0.0   \n",
       "1019  0.0  0.0  0.0  0.0  0.0  0.0  0.0  0.0  0.0  0.0  ...  0.0  1.0  0.0   \n",
       "\n",
       "      128   129         130     131     132         133    134  \n",
       "0     0.0  89.0  100.000000  1440.0  3216.0  120.000000  256.0  \n",
       "1     0.0  81.0   33.000000  1080.0  2412.0  120.000000  128.0  \n",
       "2     0.0  75.0   15.000000  1080.0  2408.0   90.000000   64.0  \n",
       "3     0.0  81.0   46.329588  1080.0  2400.0  120.000000  128.0  \n",
       "4     0.0  82.0   67.000000  1080.0  2412.0  120.000000  128.0  \n",
       "...   ...   ...         ...     ...     ...         ...    ...  \n",
       "1015  0.0  83.0   68.000000  1080.0  2460.0  120.000000  128.0  \n",
       "1016  0.0  75.0   22.000000   720.0  1600.0  111.638298  128.0  \n",
       "1017  0.0  85.0   67.000000  1080.0  2460.0  144.000000  256.0  \n",
       "1018  0.0  80.0   46.329588  1080.0  2400.0  111.638298  128.0  \n",
       "1019  0.0  74.0   46.329588  1080.0  2400.0  111.638298  128.0  \n",
       "\n",
       "[1020 rows x 135 columns]"
      ]
     },
     "execution_count": 26,
     "metadata": {},
     "output_type": "execute_result"
    }
   ],
   "source": [
    "import pandas as pd\n",
    "dense_array = transformed_X.toarray()\n",
    "transformed_X = pd.DataFrame(dense_array)\n",
    "transformed_X   \n",
    "\n"
   ]
  },
  {
   "cell_type": "markdown",
   "id": "d92085e4",
   "metadata": {},
   "source": [
    "## spliting data into train test  "
   ]
  },
  {
   "cell_type": "code",
   "execution_count": 27,
   "id": "6292181c",
   "metadata": {},
   "outputs": [],
   "source": [
    "from sklearn.model_selection import train_test_split \n",
    "\n",
    "X_train , X_test , y_train , y_test = train_test_split(transformed_X , y , test_size=0.2,random_state=42)\n"
   ]
  },
  {
   "attachments": {},
   "cell_type": "markdown",
   "id": "a62339af",
   "metadata": {},
   "source": [
    "# Model creation  "
   ]
  },
  {
   "cell_type": "code",
   "execution_count": 28,
   "id": "3b7a1dba",
   "metadata": {},
   "outputs": [
    {
     "data": {
      "text/plain": [
       "{'bootstrap': True,\n",
       " 'ccp_alpha': 0.0,\n",
       " 'criterion': 'squared_error',\n",
       " 'max_depth': None,\n",
       " 'max_features': 1.0,\n",
       " 'max_leaf_nodes': None,\n",
       " 'max_samples': None,\n",
       " 'min_impurity_decrease': 0.0,\n",
       " 'min_samples_leaf': 1,\n",
       " 'min_samples_split': 2,\n",
       " 'min_weight_fraction_leaf': 0.0,\n",
       " 'n_estimators': 100,\n",
       " 'n_jobs': None,\n",
       " 'oob_score': False,\n",
       " 'random_state': None,\n",
       " 'verbose': 0,\n",
       " 'warm_start': False}"
      ]
     },
     "execution_count": 28,
     "metadata": {},
     "output_type": "execute_result"
    }
   ],
   "source": [
    "from sklearn.ensemble import RandomForestRegressor \n",
    "\n",
    "model = RandomForestRegressor()\n",
    "\n",
    "model.get_params() "
   ]
  },
  {
   "cell_type": "code",
   "execution_count": 29,
   "id": "add3e521",
   "metadata": {},
   "outputs": [
    {
     "data": {
      "text/html": [
       "<style>#sk-container-id-1 {color: black;background-color: white;}#sk-container-id-1 pre{padding: 0;}#sk-container-id-1 div.sk-toggleable {background-color: white;}#sk-container-id-1 label.sk-toggleable__label {cursor: pointer;display: block;width: 100%;margin-bottom: 0;padding: 0.3em;box-sizing: border-box;text-align: center;}#sk-container-id-1 label.sk-toggleable__label-arrow:before {content: \"▸\";float: left;margin-right: 0.25em;color: #696969;}#sk-container-id-1 label.sk-toggleable__label-arrow:hover:before {color: black;}#sk-container-id-1 div.sk-estimator:hover label.sk-toggleable__label-arrow:before {color: black;}#sk-container-id-1 div.sk-toggleable__content {max-height: 0;max-width: 0;overflow: hidden;text-align: left;background-color: #f0f8ff;}#sk-container-id-1 div.sk-toggleable__content pre {margin: 0.2em;color: black;border-radius: 0.25em;background-color: #f0f8ff;}#sk-container-id-1 input.sk-toggleable__control:checked~div.sk-toggleable__content {max-height: 200px;max-width: 100%;overflow: auto;}#sk-container-id-1 input.sk-toggleable__control:checked~label.sk-toggleable__label-arrow:before {content: \"▾\";}#sk-container-id-1 div.sk-estimator input.sk-toggleable__control:checked~label.sk-toggleable__label {background-color: #d4ebff;}#sk-container-id-1 div.sk-label input.sk-toggleable__control:checked~label.sk-toggleable__label {background-color: #d4ebff;}#sk-container-id-1 input.sk-hidden--visually {border: 0;clip: rect(1px 1px 1px 1px);clip: rect(1px, 1px, 1px, 1px);height: 1px;margin: -1px;overflow: hidden;padding: 0;position: absolute;width: 1px;}#sk-container-id-1 div.sk-estimator {font-family: monospace;background-color: #f0f8ff;border: 1px dotted black;border-radius: 0.25em;box-sizing: border-box;margin-bottom: 0.5em;}#sk-container-id-1 div.sk-estimator:hover {background-color: #d4ebff;}#sk-container-id-1 div.sk-parallel-item::after {content: \"\";width: 100%;border-bottom: 1px solid gray;flex-grow: 1;}#sk-container-id-1 div.sk-label:hover label.sk-toggleable__label {background-color: #d4ebff;}#sk-container-id-1 div.sk-serial::before {content: \"\";position: absolute;border-left: 1px solid gray;box-sizing: border-box;top: 0;bottom: 0;left: 50%;z-index: 0;}#sk-container-id-1 div.sk-serial {display: flex;flex-direction: column;align-items: center;background-color: white;padding-right: 0.2em;padding-left: 0.2em;position: relative;}#sk-container-id-1 div.sk-item {position: relative;z-index: 1;}#sk-container-id-1 div.sk-parallel {display: flex;align-items: stretch;justify-content: center;background-color: white;position: relative;}#sk-container-id-1 div.sk-item::before, #sk-container-id-1 div.sk-parallel-item::before {content: \"\";position: absolute;border-left: 1px solid gray;box-sizing: border-box;top: 0;bottom: 0;left: 50%;z-index: -1;}#sk-container-id-1 div.sk-parallel-item {display: flex;flex-direction: column;z-index: 1;position: relative;background-color: white;}#sk-container-id-1 div.sk-parallel-item:first-child::after {align-self: flex-end;width: 50%;}#sk-container-id-1 div.sk-parallel-item:last-child::after {align-self: flex-start;width: 50%;}#sk-container-id-1 div.sk-parallel-item:only-child::after {width: 0;}#sk-container-id-1 div.sk-dashed-wrapped {border: 1px dashed gray;margin: 0 0.4em 0.5em 0.4em;box-sizing: border-box;padding-bottom: 0.4em;background-color: white;}#sk-container-id-1 div.sk-label label {font-family: monospace;font-weight: bold;display: inline-block;line-height: 1.2em;}#sk-container-id-1 div.sk-label-container {text-align: center;}#sk-container-id-1 div.sk-container {/* jupyter's `normalize.less` sets `[hidden] { display: none; }` but bootstrap.min.css set `[hidden] { display: none !important; }` so we also need the `!important` here to be able to override the default hidden behavior on the sphinx rendered scikit-learn.org. See: https://github.com/scikit-learn/scikit-learn/issues/21755 */display: inline-block !important;position: relative;}#sk-container-id-1 div.sk-text-repr-fallback {display: none;}</style><div id=\"sk-container-id-1\" class=\"sk-top-container\"><div class=\"sk-text-repr-fallback\"><pre>RandomForestRegressor()</pre><b>In a Jupyter environment, please rerun this cell to show the HTML representation or trust the notebook. <br />On GitHub, the HTML representation is unable to render, please try loading this page with nbviewer.org.</b></div><div class=\"sk-container\" hidden><div class=\"sk-item\"><div class=\"sk-estimator sk-toggleable\"><input class=\"sk-toggleable__control sk-hidden--visually\" id=\"sk-estimator-id-1\" type=\"checkbox\" checked><label for=\"sk-estimator-id-1\" class=\"sk-toggleable__label sk-toggleable__label-arrow\">RandomForestRegressor</label><div class=\"sk-toggleable__content\"><pre>RandomForestRegressor()</pre></div></div></div></div></div>"
      ],
      "text/plain": [
       "RandomForestRegressor()"
      ]
     },
     "execution_count": 29,
     "metadata": {},
     "output_type": "execute_result"
    }
   ],
   "source": [
    "model.fit(X_train , y_train) "
   ]
  },
  {
   "cell_type": "code",
   "execution_count": 30,
   "id": "b7074528",
   "metadata": {},
   "outputs": [
    {
     "data": {
      "text/plain": [
       "0.9369124508553355"
      ]
     },
     "execution_count": 30,
     "metadata": {},
     "output_type": "execute_result"
    }
   ],
   "source": [
    "model.score(X_train , y_train)"
   ]
  },
  {
   "cell_type": "code",
   "execution_count": 31,
   "id": "d7d724c4",
   "metadata": {},
   "outputs": [
    {
     "data": {
      "text/plain": [
       "0.7635068320335748"
      ]
     },
     "execution_count": 31,
     "metadata": {},
     "output_type": "execute_result"
    }
   ],
   "source": [
    "model.score(X_test , y_test) "
   ]
  },
  {
   "attachments": {},
   "cell_type": "markdown",
   "id": "479c6214",
   "metadata": {},
   "source": [
    "## Improving model "
   ]
  },
  {
   "cell_type": "code",
   "execution_count": 32,
   "id": "ce0ca0c0",
   "metadata": {},
   "outputs": [
    {
     "name": "stdout",
     "output_type": "stream",
     "text": [
      "Trying model with 10 estimator ...\n",
      "model accuracy on test set : 72.29\n",
      "Trying model with 20 estimator ...\n",
      "model accuracy on test set : 70.75\n",
      "Trying model with 30 estimator ...\n",
      "model accuracy on test set : 77.30\n",
      "Trying model with 40 estimator ...\n",
      "model accuracy on test set : 79.38\n",
      "Trying model with 50 estimator ...\n",
      "model accuracy on test set : 74.21\n",
      "Trying model with 60 estimator ...\n",
      "model accuracy on test set : 77.94\n",
      "Trying model with 70 estimator ...\n",
      "model accuracy on test set : 77.24\n",
      "Trying model with 80 estimator ...\n",
      "model accuracy on test set : 76.21\n",
      "Trying model with 90 estimator ...\n",
      "model accuracy on test set : 76.23\n"
     ]
    }
   ],
   "source": [
    "#  Improve a model   \n",
    "#  try diffrent amount of n_estimator   \n",
    "np.random.seed(42) \n",
    "\n",
    "for i in range(10, 100 , 10):\n",
    "\n",
    "    print(f\"Trying model with {i} estimator ...\")\n",
    "    model = RandomForestRegressor(n_estimators=i).fit(X_train , y_train)\n",
    "    print(f\"model accuracy on test set : {model.score(X_test ,y_test)*100:.2f}\")   "
   ]
  },
  {
   "cell_type": "code",
   "execution_count": 33,
   "id": "9eea586f",
   "metadata": {},
   "outputs": [
    {
     "data": {
      "text/plain": [
       "{'bootstrap': True,\n",
       " 'ccp_alpha': 0.0,\n",
       " 'criterion': 'squared_error',\n",
       " 'max_depth': None,\n",
       " 'max_features': 1.0,\n",
       " 'max_leaf_nodes': None,\n",
       " 'max_samples': None,\n",
       " 'min_impurity_decrease': 0.0,\n",
       " 'min_samples_leaf': 1,\n",
       " 'min_samples_split': 2,\n",
       " 'min_weight_fraction_leaf': 0.0,\n",
       " 'n_estimators': 100,\n",
       " 'n_jobs': None,\n",
       " 'oob_score': False,\n",
       " 'random_state': None,\n",
       " 'verbose': 0,\n",
       " 'warm_start': False}"
      ]
     },
     "execution_count": 33,
     "metadata": {},
     "output_type": "execute_result"
    }
   ],
   "source": [
    "model = RandomForestRegressor(n_estimators=100).fit(X_train , y_train)\n",
    "model.get_params()  "
   ]
  },
  {
   "cell_type": "code",
   "execution_count": 34,
   "id": "302a489e",
   "metadata": {},
   "outputs": [
    {
     "data": {
      "text/plain": [
       "0.7672610961024657"
      ]
     },
     "execution_count": 34,
     "metadata": {},
     "output_type": "execute_result"
    }
   ],
   "source": [
    "model.score(X_test , y_test)  "
   ]
  },
  {
   "cell_type": "code",
   "execution_count": 35,
   "id": "d1085f3c",
   "metadata": {},
   "outputs": [],
   "source": [
    "y_preds = model.predict(X_test)"
   ]
  },
  {
   "cell_type": "code",
   "execution_count": 36,
   "id": "0f43fc34",
   "metadata": {},
   "outputs": [
    {
     "name": "stdout",
     "output_type": "stream",
     "text": [
      "Mean Absolute Error: 7531.9880590569555\n"
     ]
    }
   ],
   "source": [
    "from sklearn.metrics import mean_absolute_error\n",
    "\n",
    "y_pred = model.predict(X_test)  # assuming X_test and y_test are your test data\n",
    "mae = mean_absolute_error(y_test, y_pred)\n",
    "print('Mean Absolute Error:', mae)\n"
   ]
  },
  {
   "cell_type": "code",
   "execution_count": 37,
   "id": "5ae1e905",
   "metadata": {},
   "outputs": [
    {
     "name": "stdout",
     "output_type": "stream",
     "text": [
      "Mean Squared Error: 295670425.63319916\n"
     ]
    }
   ],
   "source": [
    "from sklearn.metrics import mean_squared_error\n",
    "\n",
    "y_pred = model.predict(X_test)\n",
    "mse = mean_squared_error(y_test, y_pred)\n",
    "print('Mean Squared Error:', mse) \n"
   ]
  },
  {
   "cell_type": "code",
   "execution_count": 38,
   "id": "74be8210",
   "metadata": {},
   "outputs": [
    {
     "name": "stdout",
     "output_type": "stream",
     "text": [
      "R-squared Score: 0.7672610961024657\n"
     ]
    }
   ],
   "source": [
    "from sklearn.metrics import r2_score\n",
    "\n",
    "y_pred = model.predict(X_test)\n",
    "r2 = r2_score(y_test, y_pred)\n",
    "print('R-squared Score:', r2)\n"
   ]
  },
  {
   "cell_type": "code",
   "execution_count": 39,
   "id": "fe8468a8",
   "metadata": {},
   "outputs": [
    {
     "data": {
      "image/png": "[encoded data removed]",
      "text/plain": [
       "<Figure size 432x288 with 1 Axes>"
      ]
     },
     "metadata": {
      "needs_background": "light"
     },
     "output_type": "display_data"
    }
   ],
   "source": [
    "import matplotlib.pyplot as plt\n",
    "\n",
    "y_pred = model.predict(X_test)\n",
    "plt.scatter(y_test, y_pred)\n",
    "plt.xlabel('Actual Values')\n",
    "plt.ylabel('Predicted Values')\n",
    "plt.show()\n"
   ]
  },
  {
   "attachments": {},
   "cell_type": "markdown",
   "id": "34656391",
   "metadata": {
    "papermill": {
     "duration": 0.014337,
     "end_time": "2023-04-13T22:17:12.079789",
     "exception": false,
     "start_time": "2023-04-13T22:17:12.065452",
     "status": "completed"
    },
    "tags": []
   },
   "source": [
    "\n",
    "# References\n",
    "\n",
    "1. https://www.kaggle.com/code/nguyenthicamlai/software-industry-india-analysis"
   ]
  },
  {
   "cell_type": "markdown",
   "id": "8eeab0cf",
   "metadata": {},
   "source": []
  }
 ],
 "metadata": {
  "kernelspec": {
   "display_name": "Python 3",
   "language": "python",
   "name": "python3"
  },
  "language_info": {
   "codemirror_mode": {
    "name": "ipython",
    "version": 3
   },
   "file_extension": ".py",
   "mimetype": "text/x-python",
   "name": "python",
   "nbconvert_exporter": "python",
   "pygments_lexer": "ipython3",
   "version": "3.10.4"
  },
  "papermill": {
   "default_parameters": {},
   "duration": 20.903094,
   "end_time": "2023-04-13T22:17:13.219685",
   "environment_variables": {},
   "exception": null,
   "input_path": "__notebook__.ipynb",
   "output_path": "__notebook__.ipynb",
   "parameters": {},
   "start_time": "2023-04-13T22:16:52.316591",
   "version": "2.4.0"
  }
 },
 "nbformat": 4,
 "nbformat_minor": 5
}
